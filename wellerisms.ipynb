{
 "cells": [
  {
   "cell_type": "code",
   "execution_count": 5,
   "id": "25af43fe-955d-4165-bad0-b655a37ddfdc",
   "metadata": {},
   "outputs": [],
   "source": [
    "%load_ext jupyter_black"
   ]
  },
  {
   "cell_type": "code",
   "execution_count": 6,
   "id": "d9c65826-fecb-4196-8085-d1de52d6b045",
   "metadata": {},
   "outputs": [],
   "source": [
    "%load_ext rich"
   ]
  },
  {
   "cell_type": "code",
   "execution_count": 7,
   "id": "7ab2030c-7d4e-4482-b097-3ded8c0745e0",
   "metadata": {},
   "outputs": [],
   "source": [
    "%load_ext memory_profiler"
   ]
  },
  {
   "cell_type": "code",
   "execution_count": 8,
   "id": "03b04ac0-071b-47be-8ba8-f899b9f43d6f",
   "metadata": {},
   "outputs": [],
   "source": [
    "%load_ext autoreload\n",
    "%autoreload 2"
   ]
  },
  {
   "cell_type": "code",
   "execution_count": 9,
   "id": "a0f07359-b43a-4dc5-94f8-5ce2af8e26ad",
   "metadata": {},
   "outputs": [],
   "source": [
    "# import numpy as np\n",
    "# from numpy.typing import NDArray\n",
    "from rich.jupyter import print\n",
    "from rich.pretty import pprint\n",
    "from typing import List, Set\n",
    "import spacy"
   ]
  },
  {
   "cell_type": "code",
   "execution_count": 10,
   "id": "85149416-6585-498b-9e76-0a924b7b170c",
   "metadata": {},
   "outputs": [
    {
     "name": "stdout",
     "output_type": "stream",
     "text": [
      "Selected Jupyter core packages...\n",
      "IPython          : 9.2.0\n",
      "ipykernel        : 6.29.5\n",
      "ipywidgets       : 8.1.6\n",
      "jupyter_client   : 8.6.3\n",
      "jupyter_core     : 5.7.2\n",
      "jupyter_server   : 2.15.0\n",
      "jupyterlab       : 4.4.1\n",
      "nbclient         : 0.10.2\n",
      "nbconvert        : 7.16.6\n",
      "nbformat         : 5.10.4\n",
      "notebook         : 7.4.1\n",
      "qtconsole        : not installed\n",
      "traitlets        : 5.14.3\n"
     ]
    }
   ],
   "source": [
    "!jupyter --version"
   ]
  },
  {
   "cell_type": "code",
   "execution_count": 11,
   "id": "c3a77232-e60e-43e5-aca1-88ea030c0f08",
   "metadata": {},
   "outputs": [
    {
     "data": {
      "text/html": [
       "<pre style=\"white-space:pre;overflow-x:auto;line-height:normal;font-family:Menlo,'DejaVu Sans Mono',consolas,'Courier New',monospace\">Spacy version: <span style=\"color: #008080; text-decoration-color: #008080; font-weight: bold\">3.8</span>.<span style=\"color: #008080; text-decoration-color: #008080; font-weight: bold\">5</span>\n",
       "</pre>\n"
      ],
      "text/plain": [
       "Spacy version: \u001b[1;36m3.8\u001b[0m.\u001b[1;36m5\u001b[0m\n"
      ]
     },
     "metadata": {},
     "output_type": "display_data"
    }
   ],
   "source": [
    "print(\"Spacy version:\", spacy.__version__)"
   ]
  },
  {
   "cell_type": "markdown",
   "id": "9c4fb2ae-16b5-483d-8c8a-818cdb139f76",
   "metadata": {
    "editable": true,
    "slideshow": {
     "slide_type": ""
    },
    "tags": []
   },
   "source": [
    "# Finding \"Tom Swifties\": Part of Speech Puns in Sci-Fi Novellas of the 1910s\n",
    "\n",
    "*Using computational linguistics to list pun candidates from book texts*"
   ]
  },
  {
   "cell_type": "markdown",
   "id": "ed182728-37e0-4064-aad1-69d4b584ffde",
   "metadata": {
    "editable": true,
    "raw_mimetype": "",
    "slideshow": {
     "slide_type": ""
    },
    "tags": []
   },
   "source": [
    "Starting from 1910, Howard Garis wrote a series of popular Sci-Fi Adventure novellas under the pen name of Victor Appleton. The main character was [Tom Swift](https://en.wikipedia.org/wiki/Tom_Swift), a young inventor living in upstate New York. \n",
    "\n",
    "<img src=\"TomSwiftMotorcycleSmallCropped.jpg\" width=\"200\" align=\"right\" style=\"margin-left: 1em;\">\n",
    "\n",
    "Litovkina (2014) analyzed a pun construction which Garis employed prolifically in the series. She classifed these puns as a type of \"[Wellerism](https://en.wikipedia.org/wiki/Wellerism)\", a comedic device in discourse. Garis' frequent use of his specific sub-type of Wellerism helped his puns to become known as \"Tom Swifties\". Litovkina defines a Tom Swifty as:\n",
    "\n",
    "> a wellerism conventionally based on the punning relationship between the way an adverb describes a speaker and simultaneously refers to the meaning of the speaker’s statement. The speaker is traditionally Tom, his statement is usually placed at the beginning of the Tom Swifty, and the adverb at the end of it, e.g. “I see,” said Tom icily (icily vs. I see).\n",
    "\n",
    "---\n",
    "\n",
    "T. Litovkina, A. (2014). “I see,” said Tom icily: Tom Swifties at the beginning of the 21st century. *The European Journal of Humour Research*, 2(2), 54-67. https://doi.org/10.7592/EJHR2014.2.2.tlitovkina"
   ]
  },
  {
   "cell_type": "markdown",
   "id": "7687b6a5-072f-469d-a863-c5809f81687e",
   "metadata": {
    "editable": true,
    "slideshow": {
     "slide_type": ""
    },
    "tags": []
   },
   "source": [
    "## Goal\n",
    "\n",
    "Litkovina doesn't mention that she herself compiled the data she analyzed. Instead, she consulted compilations frp, the internet which she lists on the last page of her paper. Many of the links no longer work. http://www.fun-with-words.com/tom_swifties_a-e.html is a decent but seemingly small compilation of the puns, alphabetized by adverbial phrase. But it's unclear who compiled them, how they were found or if theirs is a definitive list or a selection thereof. \n",
    "\n",
    "To answer that question, we will conduct our own search for *Tom Swifties* with tools from computational linguistics. \n",
    "\n",
    "<!-- We'll ttempt to compile a full set of  from a corpus of the novellas themselves.  -->\n",
    "\n",
    "<!-- We'll eventually produce a list of Tom Swifty candidates from a selection portion of the text after training a model to classify sentences as either containing a Tom Swifty or not containing one.  -->"
   ]
  },
  {
   "cell_type": "markdown",
   "id": "a9be7eee-6a98-4dca-a546-9ca763bee407",
   "metadata": {
    "editable": true,
    "slideshow": {
     "slide_type": ""
    },
    "tags": []
   },
   "source": [
    "## Start the Search\n",
    "\n",
    "To begin the search, we'll build a corpus of documents and preprocess the raw text to remove Gutenberg biolerplate, blank lines and table of contents since TOCs usually don't contain puns."
   ]
  },
  {
   "cell_type": "markdown",
   "id": "bb6b8057-1ee1-4520-8888-e3e8a7078f0d",
   "metadata": {
    "editable": true,
    "slideshow": {
     "slide_type": ""
    },
    "tags": []
   },
   "source": [
    "### Building the Corpus\n",
    "\n",
    "We'll download the first 5 novellas from Project Gutenburg; All were published in 1910:\n",
    "\n",
    "- Tom Swift and His Motor Cycle (Gutenbeg id = 4230)\n",
    "- Tom Swift and His Motor Boat (id = 2273)\n",
    "- Tom Swift and His Airship (id = 3005)\n",
    "- Tom Swift and His Submarine Boat (id = 949)\n",
    "- Tom Swift and His Electric Runabout (id = 950)"
   ]
  },
  {
   "cell_type": "markdown",
   "id": "4d344b44-57d5-4f9b-bdce-90b827a15045",
   "metadata": {
    "editable": true,
    "slideshow": {
     "slide_type": ""
    },
    "tags": []
   },
   "source": [
    "Let's begin with our custom class, `GutenbergTextProvider`. There are some existing packages which clean texts from Project Gutenberg, but one requires installing a database and the other uses NLTK, so let's just keep it simple for today.\n",
    "\n",
    "The `fetch()` function in the class internally preprocesses the text before storing it in a class property."
   ]
  },
  {
   "cell_type": "code",
   "execution_count": 12,
   "id": "f0df9e51-28fd-409f-94ff-ef1bf7c56bb1",
   "metadata": {
    "editable": true,
    "slideshow": {
     "slide_type": ""
    },
    "tags": []
   },
   "outputs": [],
   "source": [
    "from src.tomswiftr.text_provider import GutenbergTextProvider"
   ]
  },
  {
   "cell_type": "code",
   "execution_count": 14,
   "id": "e0c259c4-d951-4878-9899-c2012c63be96",
   "metadata": {
    "editable": true,
    "slideshow": {
     "slide_type": ""
    },
    "tags": []
   },
   "outputs": [],
   "source": [
    "text_source_ids = [\n",
    "    4230,\n",
    "    2273,\n",
    "    3005,\n",
    "    949,\n",
    "    950,\n",
    "]\n",
    "\n",
    "provider = GutenbergTextProvider()\n",
    "\n",
    "# Let's start with just the first novella to test things out.\n",
    "text = provider.fetch(4230)"
   ]
  },
  {
   "cell_type": "markdown",
   "id": "52b20f84-d126-4ae7-b758-4b5f8c5b45e8",
   "metadata": {},
   "source": [
    "### Dipping our toes into the waters\n",
    "\n",
    "Let's examine the first paragraph or so:"
   ]
  },
  {
   "cell_type": "code",
   "execution_count": 17,
   "id": "5de4d9dd-9721-4300-866b-e0b3e47a51b8",
   "metadata": {},
   "outputs": [
    {
     "data": {
      "text/html": [
       "<pre style=\"white-space:pre;overflow-x:auto;line-height:normal;font-family:Menlo,'DejaVu Sans Mono',consolas,'Courier New',monospace\"></pre>\n"
      ],
      "text/plain": []
     },
     "metadata": {},
     "output_type": "display_data"
    },
    {
     "data": {
      "text/plain": [
       "\u001b[32m' A NARROW ESCAPE   \"That\\'s the way to do it! Whoop her up, Andy! Shove the spark lever over, and turn on more gasolene! We\\'ll make a record this trip.\"  Two lads in the tonneau of a touring car, that was whirling along a country road, leaned forward to speak to the one at the steering wheel. The latter was a red-haired youth, with somewhat squinty eyes, and not a very pleasant face, but his companions seemed to regard him with much favor. Perhaps it was because they were riding in his automobile.  \"Whoop her up, Andy!\" added the lad on the seat beside the driver. \"This is immense!\"  \"I rather thought you\\'d like it,\" remarked Andy Foger, as he turned the car to avoid a stone in the road. \"I\\'ll make things hum around Shopton!\"  \"You have made them hum already, Andy,\" commented the lad beside him. \"My ears are ringing. Wow! There goes my cap!\"  As the boy spoke, the breeze, created by the speed at which the car was traveling, lifted off his cap, and sent it whirling to the rear.  Andy Fog'\u001b[0m"
      ]
     },
     "execution_count": 17,
     "metadata": {},
     "output_type": "execute_result"
    }
   ],
   "source": [
    "provider.get_text(to_char=1000)"
   ]
  },
  {
   "cell_type": "markdown",
   "id": "74f19121-0256-4e53-b5fa-55812bac995e",
   "metadata": {},
   "source": [
    "That looks fairly good; looks like we got part of the chapter title included, but I judge that this won't impede our pursuit of Tom Swifties, so let's move on. \n",
    "\n",
    "Now, let's convert this text into an array of sentences with the help of SpaCy and inspect just the first 10 for sanity's sake."
   ]
  },
  {
   "cell_type": "code",
   "execution_count": 19,
   "id": "05b9fb51-bc22-44ee-951d-7d98902c029f",
   "metadata": {},
   "outputs": [
    {
     "data": {
      "text/html": [
       "<pre style=\"white-space:pre;overflow-x:auto;line-height:normal;font-family:Menlo,'DejaVu Sans Mono',consolas,'Courier New',monospace\"><span style=\"font-weight: bold\">[</span><span style=\"color: #008080; text-decoration-color: #008080; font-weight: bold\">0</span><span style=\"font-weight: bold\">]</span>  A NARROW ESCAPE   \"That's the way to do it!\n",
       "</pre>\n"
      ],
      "text/plain": [
       "\u001b[1m[\u001b[0m\u001b[1;36m0\u001b[0m\u001b[1m]\u001b[0m  A NARROW ESCAPE   \"That's the way to do it!\n"
      ]
     },
     "metadata": {},
     "output_type": "display_data"
    },
    {
     "data": {
      "text/html": [
       "<pre style=\"white-space:pre;overflow-x:auto;line-height:normal;font-family:Menlo,'DejaVu Sans Mono',consolas,'Courier New',monospace\"><span style=\"font-weight: bold\">[</span><span style=\"color: #008080; text-decoration-color: #008080; font-weight: bold\">1</span><span style=\"font-weight: bold\">]</span> Whoop her up, Andy!\n",
       "</pre>\n"
      ],
      "text/plain": [
       "\u001b[1m[\u001b[0m\u001b[1;36m1\u001b[0m\u001b[1m]\u001b[0m Whoop her up, Andy!\n"
      ]
     },
     "metadata": {},
     "output_type": "display_data"
    },
    {
     "data": {
      "text/html": [
       "<pre style=\"white-space:pre;overflow-x:auto;line-height:normal;font-family:Menlo,'DejaVu Sans Mono',consolas,'Courier New',monospace\"><span style=\"font-weight: bold\">[</span><span style=\"color: #008080; text-decoration-color: #008080; font-weight: bold\">2</span><span style=\"font-weight: bold\">]</span> Shove the spark lever over, and turn on more gasolene!\n",
       "</pre>\n"
      ],
      "text/plain": [
       "\u001b[1m[\u001b[0m\u001b[1;36m2\u001b[0m\u001b[1m]\u001b[0m Shove the spark lever over, and turn on more gasolene!\n"
      ]
     },
     "metadata": {},
     "output_type": "display_data"
    },
    {
     "data": {
      "text/html": [
       "<pre style=\"white-space:pre;overflow-x:auto;line-height:normal;font-family:Menlo,'DejaVu Sans Mono',consolas,'Courier New',monospace\"><span style=\"font-weight: bold\">[</span><span style=\"color: #008080; text-decoration-color: #008080; font-weight: bold\">3</span><span style=\"font-weight: bold\">]</span> We'll make a record this trip.\"  \n",
       "</pre>\n"
      ],
      "text/plain": [
       "\u001b[1m[\u001b[0m\u001b[1;36m3\u001b[0m\u001b[1m]\u001b[0m We'll make a record this trip.\"  \n"
      ]
     },
     "metadata": {},
     "output_type": "display_data"
    },
    {
     "data": {
      "text/html": [
       "<pre style=\"white-space:pre;overflow-x:auto;line-height:normal;font-family:Menlo,'DejaVu Sans Mono',consolas,'Courier New',monospace\"><span style=\"font-weight: bold\">[</span><span style=\"color: #008080; text-decoration-color: #008080; font-weight: bold\">4</span><span style=\"font-weight: bold\">]</span> Two lads in the tonneau of a touring car, that was whirling along a country road, leaned forward to speak to the one at the steering wheel.\n",
       "</pre>\n"
      ],
      "text/plain": [
       "\u001b[1m[\u001b[0m\u001b[1;36m4\u001b[0m\u001b[1m]\u001b[0m Two lads in the tonneau of a touring car, that was whirling along a country road, leaned forward to speak to the one at the steering wheel.\n"
      ]
     },
     "metadata": {},
     "output_type": "display_data"
    },
    {
     "data": {
      "text/html": [
       "<pre style=\"white-space:pre;overflow-x:auto;line-height:normal;font-family:Menlo,'DejaVu Sans Mono',consolas,'Courier New',monospace\"><span style=\"font-weight: bold\">[</span><span style=\"color: #008080; text-decoration-color: #008080; font-weight: bold\">5</span><span style=\"font-weight: bold\">]</span> The latter was a red-haired youth, with somewhat squinty eyes, and not a very pleasant face, but his companions seemed to regard him with much favor.\n",
       "</pre>\n"
      ],
      "text/plain": [
       "\u001b[1m[\u001b[0m\u001b[1;36m5\u001b[0m\u001b[1m]\u001b[0m The latter was a red-haired youth, with somewhat squinty eyes, and not a very pleasant face, but his companions seemed to regard him with much favor.\n"
      ]
     },
     "metadata": {},
     "output_type": "display_data"
    },
    {
     "data": {
      "text/html": [
       "<pre style=\"white-space:pre;overflow-x:auto;line-height:normal;font-family:Menlo,'DejaVu Sans Mono',consolas,'Courier New',monospace\"><span style=\"font-weight: bold\">[</span><span style=\"color: #008080; text-decoration-color: #008080; font-weight: bold\">6</span><span style=\"font-weight: bold\">]</span> Perhaps it was because they were riding in his automobile.  \n",
       "</pre>\n"
      ],
      "text/plain": [
       "\u001b[1m[\u001b[0m\u001b[1;36m6\u001b[0m\u001b[1m]\u001b[0m Perhaps it was because they were riding in his automobile.  \n"
      ]
     },
     "metadata": {},
     "output_type": "display_data"
    },
    {
     "data": {
      "text/html": [
       "<pre style=\"white-space:pre;overflow-x:auto;line-height:normal;font-family:Menlo,'DejaVu Sans Mono',consolas,'Courier New',monospace\"><span style=\"font-weight: bold\">[</span><span style=\"color: #008080; text-decoration-color: #008080; font-weight: bold\">7</span><span style=\"font-weight: bold\">]</span> <span style=\"color: #008000; text-decoration-color: #008000\">\"Whoop her up, Andy!\"</span> added the lad on the seat beside the driver.\n",
       "</pre>\n"
      ],
      "text/plain": [
       "\u001b[1m[\u001b[0m\u001b[1;36m7\u001b[0m\u001b[1m]\u001b[0m \u001b[32m\"Whoop her up, Andy!\"\u001b[0m added the lad on the seat beside the driver.\n"
      ]
     },
     "metadata": {},
     "output_type": "display_data"
    },
    {
     "data": {
      "text/html": [
       "<pre style=\"white-space:pre;overflow-x:auto;line-height:normal;font-family:Menlo,'DejaVu Sans Mono',consolas,'Courier New',monospace\"><span style=\"font-weight: bold\">[</span><span style=\"color: #008080; text-decoration-color: #008080; font-weight: bold\">8</span><span style=\"font-weight: bold\">]</span> <span style=\"color: #008000; text-decoration-color: #008000\">\"This is immense!\"</span>  \n",
       "</pre>\n"
      ],
      "text/plain": [
       "\u001b[1m[\u001b[0m\u001b[1;36m8\u001b[0m\u001b[1m]\u001b[0m \u001b[32m\"This is immense!\"\u001b[0m  \n"
      ]
     },
     "metadata": {},
     "output_type": "display_data"
    },
    {
     "data": {
      "text/html": [
       "<pre style=\"white-space:pre;overflow-x:auto;line-height:normal;font-family:Menlo,'DejaVu Sans Mono',consolas,'Courier New',monospace\"><span style=\"font-weight: bold\">[</span><span style=\"color: #008080; text-decoration-color: #008080; font-weight: bold\">9</span><span style=\"font-weight: bold\">]</span> <span style=\"color: #008000; text-decoration-color: #008000\">\"I rather thought you'd like it,\"</span> remarked Andy Foger, as he turned the car to avoid a stone in the road.\n",
       "</pre>\n"
      ],
      "text/plain": [
       "\u001b[1m[\u001b[0m\u001b[1;36m9\u001b[0m\u001b[1m]\u001b[0m \u001b[32m\"I rather thought you'd like it,\"\u001b[0m remarked Andy Foger, as he turned the car to avoid a stone in the road.\n"
      ]
     },
     "metadata": {},
     "output_type": "display_data"
    },
    {
     "data": {
      "text/html": [
       "<pre style=\"white-space:pre;overflow-x:auto;line-height:normal;font-family:Menlo,'DejaVu Sans Mono',consolas,'Courier New',monospace\"><span style=\"font-weight: bold\">[</span><span style=\"color: #008080; text-decoration-color: #008080; font-weight: bold\">10</span><span style=\"font-weight: bold\">]</span> <span style=\"color: #008000; text-decoration-color: #008000\">\"I'll make things hum around Shopton!\"</span>  \n",
       "</pre>\n"
      ],
      "text/plain": [
       "\u001b[1m[\u001b[0m\u001b[1;36m10\u001b[0m\u001b[1m]\u001b[0m \u001b[32m\"I'll make things hum around Shopton!\"\u001b[0m  \n"
      ]
     },
     "metadata": {},
     "output_type": "display_data"
    }
   ],
   "source": [
    "from spacy.language import Doc, Language\n",
    "from spacy.tokens import Token\n",
    "\n",
    "nlp: Language = spacy.load(\"en_core_web_sm\")\n",
    "nlp.add_pipe(\n",
    "    \"sentencizer\"\n",
    ")  # key component. Performs far better after loading a statistical model, like en_core_web_sm.\n",
    "\n",
    "doc: Doc = nlp(provider.get_text(to_char=1000))\n",
    "\n",
    "# doc.sents  # it's a generator, yeah!\n",
    "for idx, s in enumerate(doc.sents):\n",
    "    print(f\"[{idx}] {s}\", soft_wrap=True)\n",
    "    if idx == 10:\n",
    "        break"
   ]
  },
  {
   "cell_type": "markdown",
   "id": "eebd6b4d-6874-40a7-b6be-c3d8efcd8e70",
   "metadata": {},
   "source": [
    "Sentence **7** has the shape we might expect for a Tom Swiftie candidate. We notice thet SpaCy wil separate sentences within quotes, but we don't expect many candidates to fit that shape, if any at all. Let's restrict our search to only sentences starting with a quote."
   ]
  },
  {
   "cell_type": "code",
   "execution_count": 21,
   "id": "10aa9eaf-443c-4954-a25c-4995bf9a5fef",
   "metadata": {},
   "outputs": [],
   "source": [
    "# Get the entire book's text\n",
    "doc: Doc = nlp(provider.get_text())"
   ]
  },
  {
   "cell_type": "code",
   "execution_count": 23,
   "id": "91a4a2db-b96f-4df4-8181-b015c5faa5ee",
   "metadata": {},
   "outputs": [
    {
     "data": {
      "text/html": [
       "<pre style=\"white-space:pre;overflow-x:auto;line-height:normal;font-family:Menlo,'DejaVu Sans Mono',consolas,'Courier New',monospace\"><span style=\"font-weight: bold\">[</span><span style=\"color: #008080; text-decoration-color: #008080; font-weight: bold\">116</span>-<span style=\"color: #008080; text-decoration-color: #008080; font-weight: bold\">134</span><span style=\"font-weight: bold\">]</span> <span style=\"color: #008000; text-decoration-color: #008000\">\"Whoop her up, Andy!\"</span> added the lad on the seat beside the driver.\n",
       "</pre>\n"
      ],
      "text/plain": [
       "\u001b[1m[\u001b[0m\u001b[1;36m116\u001b[0m-\u001b[1;36m134\u001b[0m\u001b[1m]\u001b[0m \u001b[32m\"Whoop her up, Andy!\"\u001b[0m added the lad on the seat beside the driver.\n"
      ]
     },
     "metadata": {},
     "output_type": "display_data"
    },
    {
     "data": {
      "text/html": [
       "<pre style=\"white-space:pre;overflow-x:auto;line-height:normal;font-family:Menlo,'DejaVu Sans Mono',consolas,'Courier New',monospace\"><span style=\"font-weight: bold\">[</span><span style=\"color: #008080; text-decoration-color: #008080; font-weight: bold\">134</span>-<span style=\"color: #008080; text-decoration-color: #008080; font-weight: bold\">141</span><span style=\"font-weight: bold\">]</span> <span style=\"color: #008000; text-decoration-color: #008000\">\"This is immense!\"</span>  \n",
       "</pre>\n"
      ],
      "text/plain": [
       "\u001b[1m[\u001b[0m\u001b[1;36m134\u001b[0m-\u001b[1;36m141\u001b[0m\u001b[1m]\u001b[0m \u001b[32m\"This is immense!\"\u001b[0m  \n"
      ]
     },
     "metadata": {},
     "output_type": "display_data"
    },
    {
     "data": {
      "text/html": [
       "<pre style=\"white-space:pre;overflow-x:auto;line-height:normal;font-family:Menlo,'DejaVu Sans Mono',consolas,'Courier New',monospace\"><span style=\"font-weight: bold\">[</span><span style=\"color: #008080; text-decoration-color: #008080; font-weight: bold\">141</span>-<span style=\"color: #008080; text-decoration-color: #008080; font-weight: bold\">168</span><span style=\"font-weight: bold\">]</span> <span style=\"color: #008000; text-decoration-color: #008000\">\"I rather thought you'd like it,\"</span> remarked Andy Foger, as he turned the car to avoid a stone in the road.\n",
       "</pre>\n"
      ],
      "text/plain": [
       "\u001b[1m[\u001b[0m\u001b[1;36m141\u001b[0m-\u001b[1;36m168\u001b[0m\u001b[1m]\u001b[0m \u001b[32m\"I rather thought you'd like it,\"\u001b[0m remarked Andy Foger, as he turned the car to avoid a stone in the road.\n"
      ]
     },
     "metadata": {},
     "output_type": "display_data"
    },
    {
     "data": {
      "text/html": [
       "<pre style=\"white-space:pre;overflow-x:auto;line-height:normal;font-family:Menlo,'DejaVu Sans Mono',consolas,'Courier New',monospace\"><span style=\"font-weight: bold\">[</span><span style=\"color: #008080; text-decoration-color: #008080; font-weight: bold\">168</span>-<span style=\"color: #008080; text-decoration-color: #008080; font-weight: bold\">179</span><span style=\"font-weight: bold\">]</span> <span style=\"color: #008000; text-decoration-color: #008000\">\"I'll make things hum around Shopton!\"</span>  \n",
       "</pre>\n"
      ],
      "text/plain": [
       "\u001b[1m[\u001b[0m\u001b[1;36m168\u001b[0m-\u001b[1;36m179\u001b[0m\u001b[1m]\u001b[0m \u001b[32m\"I'll make things hum around Shopton!\"\u001b[0m  \n"
      ]
     },
     "metadata": {},
     "output_type": "display_data"
    }
   ],
   "source": [
    "# doc.sents: Iterator[Span]\n",
    "# s: spacy.tokens.span.Span\n",
    "for idx, s in enumerate(doc.sents):\n",
    "    if s.text.startswith('\"'):\n",
    "        print(f\"[{s.start}-{s.end}] {s}\", soft_wrap=True)\n",
    "\n",
    "        if idx == 10:\n",
    "            break"
   ]
  },
  {
   "cell_type": "markdown",
   "id": "e37fbeb0-1f67-4e85-acef-a647e83a934c",
   "metadata": {},
   "source": [
    "OK, that's great and all, but let's see what named entities we can find in the same span. We're still treading gingerly for now."
   ]
  },
  {
   "cell_type": "code",
   "execution_count": 24,
   "id": "a9f8582e-e03d-46c2-af03-f1b4f6b9b67e",
   "metadata": {},
   "outputs": [
    {
     "data": {
      "text/html": [
       "<pre style=\"white-space:pre;overflow-x:auto;line-height:normal;font-family:Menlo,'DejaVu Sans Mono',consolas,'Courier New',monospace\"><span style=\"font-weight: bold\">[</span><span style=\"color: #008080; text-decoration-color: #008080; font-weight: bold\">116</span>-<span style=\"color: #008080; text-decoration-color: #008080; font-weight: bold\">134</span><span style=\"font-weight: bold\">]</span> <span style=\"color: #008000; text-decoration-color: #008000\">\"Whoop her up, Andy!\"</span> added the lad on the seat beside the driver.\n",
       "</pre>\n"
      ],
      "text/plain": [
       "\u001b[1m[\u001b[0m\u001b[1;36m116\u001b[0m-\u001b[1;36m134\u001b[0m\u001b[1m]\u001b[0m \u001b[32m\"Whoop her up, Andy!\"\u001b[0m added the lad on the seat beside the driver.\n"
      ]
     },
     "metadata": {},
     "output_type": "display_data"
    },
    {
     "data": {
      "text/html": [
       "<pre style=\"white-space:pre;overflow-x:auto;line-height:normal;font-family:Menlo,'DejaVu Sans Mono',consolas,'Courier New',monospace\"><span style=\"font-weight: bold\">[</span>Whoop, Andy<span style=\"font-weight: bold\">]</span>\n",
       "</pre>\n"
      ],
      "text/plain": [
       "\u001b[1m[\u001b[0mWhoop, Andy\u001b[1m]\u001b[0m\n"
      ]
     },
     "metadata": {},
     "output_type": "display_data"
    },
    {
     "data": {
      "text/html": [
       "<pre style=\"white-space:pre;overflow-x:auto;line-height:normal;font-family:Menlo,'DejaVu Sans Mono',consolas,'Courier New',monospace\"><span style=\"font-weight: bold\">[</span><span style=\"color: #008080; text-decoration-color: #008080; font-weight: bold\">134</span>-<span style=\"color: #008080; text-decoration-color: #008080; font-weight: bold\">141</span><span style=\"font-weight: bold\">]</span> <span style=\"color: #008000; text-decoration-color: #008000\">\"This is immense!\"</span>  \n",
       "</pre>\n"
      ],
      "text/plain": [
       "\u001b[1m[\u001b[0m\u001b[1;36m134\u001b[0m-\u001b[1;36m141\u001b[0m\u001b[1m]\u001b[0m \u001b[32m\"This is immense!\"\u001b[0m  \n"
      ]
     },
     "metadata": {},
     "output_type": "display_data"
    },
    {
     "data": {
      "text/html": [
       "<pre style=\"white-space:pre;overflow-x:auto;line-height:normal;font-family:Menlo,'DejaVu Sans Mono',consolas,'Courier New',monospace\"><span style=\"font-weight: bold\">[]</span>\n",
       "</pre>\n"
      ],
      "text/plain": [
       "\u001b[1m[\u001b[0m\u001b[1m]\u001b[0m\n"
      ]
     },
     "metadata": {},
     "output_type": "display_data"
    },
    {
     "data": {
      "text/html": [
       "<pre style=\"white-space:pre;overflow-x:auto;line-height:normal;font-family:Menlo,'DejaVu Sans Mono',consolas,'Courier New',monospace\"><span style=\"font-weight: bold\">[</span><span style=\"color: #008080; text-decoration-color: #008080; font-weight: bold\">141</span>-<span style=\"color: #008080; text-decoration-color: #008080; font-weight: bold\">168</span><span style=\"font-weight: bold\">]</span> <span style=\"color: #008000; text-decoration-color: #008000\">\"I rather thought you'd like it,\"</span> remarked Andy Foger, as he turned the car to avoid a stone in the road.\n",
       "</pre>\n"
      ],
      "text/plain": [
       "\u001b[1m[\u001b[0m\u001b[1;36m141\u001b[0m-\u001b[1;36m168\u001b[0m\u001b[1m]\u001b[0m \u001b[32m\"I rather thought you'd like it,\"\u001b[0m remarked Andy Foger, as he turned the car to avoid a stone in the road.\n"
      ]
     },
     "metadata": {},
     "output_type": "display_data"
    },
    {
     "data": {
      "text/html": [
       "<pre style=\"white-space:pre;overflow-x:auto;line-height:normal;font-family:Menlo,'DejaVu Sans Mono',consolas,'Courier New',monospace\"><span style=\"font-weight: bold\">[</span>Andy Foger<span style=\"font-weight: bold\">]</span>\n",
       "</pre>\n"
      ],
      "text/plain": [
       "\u001b[1m[\u001b[0mAndy Foger\u001b[1m]\u001b[0m\n"
      ]
     },
     "metadata": {},
     "output_type": "display_data"
    },
    {
     "data": {
      "text/html": [
       "<pre style=\"white-space:pre;overflow-x:auto;line-height:normal;font-family:Menlo,'DejaVu Sans Mono',consolas,'Courier New',monospace\"><span style=\"font-weight: bold\">[</span><span style=\"color: #008080; text-decoration-color: #008080; font-weight: bold\">168</span>-<span style=\"color: #008080; text-decoration-color: #008080; font-weight: bold\">179</span><span style=\"font-weight: bold\">]</span> <span style=\"color: #008000; text-decoration-color: #008000\">\"I'll make things hum around Shopton!\"</span>  \n",
       "</pre>\n"
      ],
      "text/plain": [
       "\u001b[1m[\u001b[0m\u001b[1;36m168\u001b[0m-\u001b[1;36m179\u001b[0m\u001b[1m]\u001b[0m \u001b[32m\"I'll make things hum around Shopton!\"\u001b[0m  \n"
      ]
     },
     "metadata": {},
     "output_type": "display_data"
    },
    {
     "data": {
      "text/html": [
       "<pre style=\"white-space:pre;overflow-x:auto;line-height:normal;font-family:Menlo,'DejaVu Sans Mono',consolas,'Courier New',monospace\"><span style=\"font-weight: bold\">[</span>Shopton<span style=\"font-weight: bold\">]</span>\n",
       "</pre>\n"
      ],
      "text/plain": [
       "\u001b[1m[\u001b[0mShopton\u001b[1m]\u001b[0m\n"
      ]
     },
     "metadata": {},
     "output_type": "display_data"
    }
   ],
   "source": [
    "for idx, s in enumerate(doc.sents):\n",
    "    if s.text.startswith('\"'):\n",
    "        print(f\"[{s.start}-{s.end}] {s}\", soft_wrap=True)\n",
    "\n",
    "        # Span.ents = The named entities that fall completely within the span.\n",
    "        #  Returns a tuple of Span objects.\n",
    "        print(s.ents)\n",
    "\n",
    "        if idx == 10:\n",
    "            break"
   ]
  },
  {
   "cell_type": "markdown",
   "id": "c09fdf92-a848-42a3-a2b4-328f1d54bed0",
   "metadata": {},
   "source": [
    "`Whoop` as a named entity? That's a little embarrasing. Well, we can restrict ourselves to only sentences where one of the named entities is Tom, at least this time, so let's do that."
   ]
  },
  {
   "cell_type": "markdown",
   "id": "ab6929f0-8c45-45b4-920c-409c3b7162f7",
   "metadata": {},
   "source": [
    "### Candidates where Tom is the speaker\n",
    "\n",
    "But how can we ensure we're targeting the clause outside the quote? We need to rely on dependency parsing and find only sentences where \"Tom\" is the nsubj of the clause's speech verb. Luckily, SpaCy's Sentencizer does exactly that. Let's access that parse by examining the tokens:"
   ]
  },
  {
   "cell_type": "code",
   "execution_count": 25,
   "id": "91b94f05-8598-41d2-b51c-a6e22862fc1d",
   "metadata": {},
   "outputs": [
    {
     "data": {
      "text/html": [
       "<pre style=\"white-space:pre;overflow-x:auto;line-height:normal;font-family:Menlo,'DejaVu Sans Mono',consolas,'Courier New',monospace\"><span style=\"font-weight: bold\">[</span><span style=\"color: #008080; text-decoration-color: #008080; font-weight: bold\">428</span>-<span style=\"color: #008080; text-decoration-color: #008080; font-weight: bold\">439</span><span style=\"font-weight: bold\">]</span> <span style=\"color: #008000; text-decoration-color: #008000\">\"It's Tom Swift!\"</span> cried Sam Snedecker.\n",
       "</pre>\n"
      ],
      "text/plain": [
       "\u001b[1m[\u001b[0m\u001b[1;36m428\u001b[0m-\u001b[1;36m439\u001b[0m\u001b[1m]\u001b[0m \u001b[32m\"It's Tom Swift!\"\u001b[0m cried Sam Snedecker.\n"
      ]
     },
     "metadata": {},
     "output_type": "display_data"
    },
    {
     "data": {
      "text/html": [
       "<pre style=\"white-space:pre;overflow-x:auto;line-height:normal;font-family:Menlo,'DejaVu Sans Mono',consolas,'Courier New',monospace\"><span style=\"font-weight: bold\">[</span>Tom Swift, Sam Snedecker<span style=\"font-weight: bold\">]</span>\n",
       "</pre>\n"
      ],
      "text/plain": [
       "\u001b[1m[\u001b[0mTom Swift, Sam Snedecker\u001b[1m]\u001b[0m\n"
      ]
     },
     "metadata": {},
     "output_type": "display_data"
    },
    {
     "data": {
      "text/html": [
       "<pre style=\"white-space:pre;overflow-x:auto;line-height:normal;font-family:Menlo,'DejaVu Sans Mono',consolas,'Courier New',monospace\"><span style=\"font-weight: bold\">[</span><span style=\"color: #008080; text-decoration-color: #008080; font-weight: bold\">638</span>-<span style=\"color: #008080; text-decoration-color: #008080; font-weight: bold\">653</span><span style=\"font-weight: bold\">]</span> <span style=\"color: #008000; text-decoration-color: #008000\">\"If my car's hurt it's Tom Swift's fault!\"</span>  \n",
       "</pre>\n"
      ],
      "text/plain": [
       "\u001b[1m[\u001b[0m\u001b[1;36m638\u001b[0m-\u001b[1;36m653\u001b[0m\u001b[1m]\u001b[0m \u001b[32m\"If my car's hurt it's Tom Swift's fault!\"\u001b[0m  \n"
      ]
     },
     "metadata": {},
     "output_type": "display_data"
    },
    {
     "data": {
      "text/html": [
       "<pre style=\"white-space:pre;overflow-x:auto;line-height:normal;font-family:Menlo,'DejaVu Sans Mono',consolas,'Courier New',monospace\"><span style=\"font-weight: bold\">[</span>Tom Swift's<span style=\"font-weight: bold\">]</span>\n",
       "</pre>\n"
      ],
      "text/plain": [
       "\u001b[1m[\u001b[0mTom Swift's\u001b[1m]\u001b[0m\n"
      ]
     },
     "metadata": {},
     "output_type": "display_data"
    },
    {
     "data": {
      "text/html": [
       "<pre style=\"white-space:pre;overflow-x:auto;line-height:normal;font-family:Menlo,'DejaVu Sans Mono',consolas,'Courier New',monospace\"><span style=\"font-weight: bold\">[</span><span style=\"color: #008080; text-decoration-color: #008080; font-weight: bold\">742</span>-<span style=\"color: #008080; text-decoration-color: #008080; font-weight: bold\">757</span><span style=\"font-weight: bold\">]</span> <span style=\"color: #008000; text-decoration-color: #008000\">\"Well, I like your nerve, Andy Foger!\"</span> cried Tom.\n",
       "</pre>\n"
      ],
      "text/plain": [
       "\u001b[1m[\u001b[0m\u001b[1;36m742\u001b[0m-\u001b[1;36m757\u001b[0m\u001b[1m]\u001b[0m \u001b[32m\"Well, I like your nerve, Andy Foger!\"\u001b[0m cried Tom.\n"
      ]
     },
     "metadata": {},
     "output_type": "display_data"
    },
    {
     "data": {
      "text/html": [
       "<pre style=\"white-space:pre;overflow-x:auto;line-height:normal;font-family:Menlo,'DejaVu Sans Mono',consolas,'Courier New',monospace\"><span style=\"font-weight: bold\">[</span>Andy Foger, Tom<span style=\"font-weight: bold\">]</span>\n",
       "</pre>\n"
      ],
      "text/plain": [
       "\u001b[1m[\u001b[0mAndy Foger, Tom\u001b[1m]\u001b[0m\n"
      ]
     },
     "metadata": {},
     "output_type": "display_data"
    },
    {
     "data": {
      "text/html": [
       "<pre style=\"white-space:pre;overflow-x:auto;line-height:normal;font-family:Menlo,'DejaVu Sans Mono',consolas,'Courier New',monospace\"><span style=\"font-weight: bold\">[</span><span style=\"color: #008080; text-decoration-color: #008080; font-weight: bold\">888</span>-<span style=\"color: #008080; text-decoration-color: #008080; font-weight: bold\">905</span><span style=\"font-weight: bold\">]</span> <span style=\"color: #008000; text-decoration-color: #008000\">\"It isn't so very long ago that you had one,\"</span> retorted Tom.\n",
       "</pre>\n"
      ],
      "text/plain": [
       "\u001b[1m[\u001b[0m\u001b[1;36m888\u001b[0m-\u001b[1;36m905\u001b[0m\u001b[1m]\u001b[0m \u001b[32m\"It isn't so very long ago that you had one,\"\u001b[0m retorted Tom.\n"
      ]
     },
     "metadata": {},
     "output_type": "display_data"
    },
    {
     "data": {
      "text/html": [
       "<pre style=\"white-space:pre;overflow-x:auto;line-height:normal;font-family:Menlo,'DejaVu Sans Mono',consolas,'Courier New',monospace\"><span style=\"font-weight: bold\">[</span>Tom<span style=\"font-weight: bold\">]</span>\n",
       "</pre>\n"
      ],
      "text/plain": [
       "\u001b[1m[\u001b[0mTom\u001b[1m]\u001b[0m\n"
      ]
     },
     "metadata": {},
     "output_type": "display_data"
    },
    {
     "data": {
      "text/html": [
       "<pre style=\"white-space:pre;overflow-x:auto;line-height:normal;font-family:Menlo,'DejaVu Sans Mono',consolas,'Courier New',monospace\"><span style=\"font-weight: bold\">[</span><span style=\"color: #008080; text-decoration-color: #008080; font-weight: bold\">1036</span>-<span style=\"color: #008080; text-decoration-color: #008080; font-weight: bold\">1065</span><span style=\"font-weight: bold\">]</span> <span style=\"color: #008000; text-decoration-color: #008000\">\"If you try anything like this again you'll wish you hadn't,\"</span> declared Tom, and he watched the automobile party ride off.\n",
       "</pre>\n"
      ],
      "text/plain": [
       "\u001b[1m[\u001b[0m\u001b[1;36m1036\u001b[0m-\u001b[1;36m1065\u001b[0m\u001b[1m]\u001b[0m \u001b[32m\"If you try anything like this again you'll wish you hadn't,\"\u001b[0m declared Tom, and he watched the automobile party ride off.\n"
      ]
     },
     "metadata": {},
     "output_type": "display_data"
    },
    {
     "data": {
      "text/html": [
       "<pre style=\"white-space:pre;overflow-x:auto;line-height:normal;font-family:Menlo,'DejaVu Sans Mono',consolas,'Courier New',monospace\"><span style=\"font-weight: bold\">[</span>Tom<span style=\"font-weight: bold\">]</span>\n",
       "</pre>\n"
      ],
      "text/plain": [
       "\u001b[1m[\u001b[0mTom\u001b[1m]\u001b[0m\n"
      ]
     },
     "metadata": {},
     "output_type": "display_data"
    },
    {
     "data": {
      "text/html": [
       "<pre style=\"white-space:pre;overflow-x:auto;line-height:normal;font-family:Menlo,'DejaVu Sans Mono',consolas,'Courier New',monospace\"><span style=\"font-weight: bold\">[</span><span style=\"color: #008080; text-decoration-color: #008080; font-weight: bold\">1178</span>-<span style=\"color: #008080; text-decoration-color: #008080; font-weight: bold\">1202</span><span style=\"font-weight: bold\">]</span> <span style=\"color: #008000; text-decoration-color: #008000\">\"He thinks he can run over everything since he got his new auto,\"</span> commented Tom aloud as he rode on.\n",
       "</pre>\n"
      ],
      "text/plain": [
       "\u001b[1m[\u001b[0m\u001b[1;36m1178\u001b[0m-\u001b[1;36m1202\u001b[0m\u001b[1m]\u001b[0m \u001b[32m\"He thinks he can run over everything since he got his new auto,\"\u001b[0m commented Tom aloud as he rode on.\n"
      ]
     },
     "metadata": {},
     "output_type": "display_data"
    },
    {
     "data": {
      "text/html": [
       "<pre style=\"white-space:pre;overflow-x:auto;line-height:normal;font-family:Menlo,'DejaVu Sans Mono',consolas,'Courier New',monospace\"><span style=\"font-weight: bold\">[</span>Tom<span style=\"font-weight: bold\">]</span>\n",
       "</pre>\n"
      ],
      "text/plain": [
       "\u001b[1m[\u001b[0mTom\u001b[1m]\u001b[0m\n"
      ]
     },
     "metadata": {},
     "output_type": "display_data"
    },
    {
     "data": {
      "text/html": [
       "<pre style=\"white-space:pre;overflow-x:auto;line-height:normal;font-family:Menlo,'DejaVu Sans Mono',consolas,'Courier New',monospace\"><span style=\"font-weight: bold\">[</span><span style=\"color: #008080; text-decoration-color: #008080; font-weight: bold\">1311</span>-<span style=\"color: #008080; text-decoration-color: #008080; font-weight: bold\">1324</span><span style=\"font-weight: bold\">]</span> <span style=\"color: #008000; text-decoration-color: #008000\">\"What's the matter, Tom?\"</span> asked Mr. Swift.\n",
       "</pre>\n"
      ],
      "text/plain": [
       "\u001b[1m[\u001b[0m\u001b[1;36m1311\u001b[0m-\u001b[1;36m1324\u001b[0m\u001b[1m]\u001b[0m \u001b[32m\"What's the matter, Tom?\"\u001b[0m asked Mr. Swift.\n"
      ]
     },
     "metadata": {},
     "output_type": "display_data"
    },
    {
     "data": {
      "text/html": [
       "<pre style=\"white-space:pre;overflow-x:auto;line-height:normal;font-family:Menlo,'DejaVu Sans Mono',consolas,'Courier New',monospace\"><span style=\"font-weight: bold\">[</span>Tom, Swift<span style=\"font-weight: bold\">]</span>\n",
       "</pre>\n"
      ],
      "text/plain": [
       "\u001b[1m[\u001b[0mTom, Swift\u001b[1m]\u001b[0m\n"
      ]
     },
     "metadata": {},
     "output_type": "display_data"
    },
    {
     "data": {
      "text/html": [
       "<pre style=\"white-space:pre;overflow-x:auto;line-height:normal;font-family:Menlo,'DejaVu Sans Mono',consolas,'Courier New',monospace\"><span style=\"font-weight: bold\">[</span><span style=\"color: #008080; text-decoration-color: #008080; font-weight: bold\">2522</span>-<span style=\"color: #008080; text-decoration-color: #008080; font-weight: bold\">2539</span><span style=\"font-weight: bold\">]</span> <span style=\"color: #008000; text-decoration-color: #008000\">\"Somebody must be driving a herd of cattle along the road,\"</span> thought Tom.\n",
       "</pre>\n"
      ],
      "text/plain": [
       "\u001b[1m[\u001b[0m\u001b[1;36m2522\u001b[0m-\u001b[1;36m2539\u001b[0m\u001b[1m]\u001b[0m \u001b[32m\"Somebody must be driving a herd of cattle along the road,\"\u001b[0m thought Tom.\n"
      ]
     },
     "metadata": {},
     "output_type": "display_data"
    },
    {
     "data": {
      "text/html": [
       "<pre style=\"white-space:pre;overflow-x:auto;line-height:normal;font-family:Menlo,'DejaVu Sans Mono',consolas,'Courier New',monospace\"><span style=\"font-weight: bold\">[</span>Tom<span style=\"font-weight: bold\">]</span>\n",
       "</pre>\n"
      ],
      "text/plain": [
       "\u001b[1m[\u001b[0mTom\u001b[1m]\u001b[0m\n"
      ]
     },
     "metadata": {},
     "output_type": "display_data"
    },
    {
     "data": {
      "text/html": [
       "<pre style=\"white-space:pre;overflow-x:auto;line-height:normal;font-family:Menlo,'DejaVu Sans Mono',consolas,'Courier New',monospace\"><span style=\"font-weight: bold\">[</span><span style=\"color: #008080; text-decoration-color: #008080; font-weight: bold\">2727</span>-<span style=\"color: #008080; text-decoration-color: #008080; font-weight: bold\">2739</span><span style=\"font-weight: bold\">]</span> <span style=\"color: #008000; text-decoration-color: #008000\">\"It's a motor-cycle!\"</span> exclaimed Tom.\n",
       "</pre>\n"
      ],
      "text/plain": [
       "\u001b[1m[\u001b[0m\u001b[1;36m2727\u001b[0m-\u001b[1;36m2739\u001b[0m\u001b[1m]\u001b[0m \u001b[32m\"It's a motor-cycle!\"\u001b[0m exclaimed Tom.\n"
      ]
     },
     "metadata": {},
     "output_type": "display_data"
    },
    {
     "data": {
      "text/html": [
       "<pre style=\"white-space:pre;overflow-x:auto;line-height:normal;font-family:Menlo,'DejaVu Sans Mono',consolas,'Courier New',monospace\"><span style=\"font-weight: bold\">[</span>Tom<span style=\"font-weight: bold\">]</span>\n",
       "</pre>\n"
      ],
      "text/plain": [
       "\u001b[1m[\u001b[0mTom\u001b[1m]\u001b[0m\n"
      ]
     },
     "metadata": {},
     "output_type": "display_data"
    },
    {
     "data": {
      "text/html": [
       "<pre style=\"white-space:pre;overflow-x:auto;line-height:normal;font-family:Menlo,'DejaVu Sans Mono',consolas,'Courier New',monospace\"><span style=\"font-weight: bold\">[</span><span style=\"color: #008080; text-decoration-color: #008080; font-weight: bold\">2997</span>-<span style=\"color: #008080; text-decoration-color: #008080; font-weight: bold\">3005</span><span style=\"font-weight: bold\">]</span> <span style=\"color: #008000; text-decoration-color: #008000\">\"Look out!\"</span> cried Tom.\n",
       "</pre>\n"
      ],
      "text/plain": [
       "\u001b[1m[\u001b[0m\u001b[1;36m2997\u001b[0m-\u001b[1;36m3005\u001b[0m\u001b[1m]\u001b[0m \u001b[32m\"Look out!\"\u001b[0m cried Tom.\n"
      ]
     },
     "metadata": {},
     "output_type": "display_data"
    },
    {
     "data": {
      "text/html": [
       "<pre style=\"white-space:pre;overflow-x:auto;line-height:normal;font-family:Menlo,'DejaVu Sans Mono',consolas,'Courier New',monospace\"><span style=\"font-weight: bold\">[</span>Tom<span style=\"font-weight: bold\">]</span>\n",
       "</pre>\n"
      ],
      "text/plain": [
       "\u001b[1m[\u001b[0mTom\u001b[1m]\u001b[0m\n"
      ]
     },
     "metadata": {},
     "output_type": "display_data"
    },
    {
     "data": {
      "text/html": [
       "<pre style=\"white-space:pre;overflow-x:auto;line-height:normal;font-family:Menlo,'DejaVu Sans Mono',consolas,'Courier New',monospace\"><span style=\"font-weight: bold\">[</span><span style=\"color: #008080; text-decoration-color: #008080; font-weight: bold\">3151</span>-<span style=\"color: #008080; text-decoration-color: #008080; font-weight: bold\">3174</span><span style=\"font-weight: bold\">]</span> <span style=\"color: #008000; text-decoration-color: #008000\">\"Why don't you learn to ride before you come out on the road!\"</span> cried Tom somewhat angrily.  \n",
       "</pre>\n"
      ],
      "text/plain": [
       "\u001b[1m[\u001b[0m\u001b[1;36m3151\u001b[0m-\u001b[1;36m3174\u001b[0m\u001b[1m]\u001b[0m \u001b[32m\"Why don't you learn to ride before you come out on the road!\"\u001b[0m cried Tom somewhat angrily.  \n"
      ]
     },
     "metadata": {},
     "output_type": "display_data"
    },
    {
     "data": {
      "text/html": [
       "<pre style=\"white-space:pre;overflow-x:auto;line-height:normal;font-family:Menlo,'DejaVu Sans Mono',consolas,'Courier New',monospace\"><span style=\"font-weight: bold\">[</span>Tom<span style=\"font-weight: bold\">]</span>\n",
       "</pre>\n"
      ],
      "text/plain": [
       "\u001b[1m[\u001b[0mTom\u001b[1m]\u001b[0m\n"
      ]
     },
     "metadata": {},
     "output_type": "display_data"
    },
    {
     "data": {
      "text/html": [
       "<pre style=\"white-space:pre;overflow-x:auto;line-height:normal;font-family:Menlo,'DejaVu Sans Mono',consolas,'Courier New',monospace\"><span style=\"font-weight: bold\">[</span><span style=\"color: #008080; text-decoration-color: #008080; font-weight: bold\">3444</span>-<span style=\"color: #008080; text-decoration-color: #008080; font-weight: bold\">3469</span><span style=\"font-weight: bold\">]</span> <span style=\"color: #008000; text-decoration-color: #008000\">\"Do you want the receipt for the registered letter sent to you here or at Shopton?\"</span> asked the clerk of Tom.\n",
       "</pre>\n"
      ],
      "text/plain": [
       "\u001b[1m[\u001b[0m\u001b[1;36m3444\u001b[0m-\u001b[1;36m3469\u001b[0m\u001b[1m]\u001b[0m \u001b[32m\"Do you want the receipt for the registered letter sent to you here or at Shopton?\"\u001b[0m asked the clerk of Tom.\n"
      ]
     },
     "metadata": {},
     "output_type": "display_data"
    },
    {
     "data": {
      "text/html": [
       "<pre style=\"white-space:pre;overflow-x:auto;line-height:normal;font-family:Menlo,'DejaVu Sans Mono',consolas,'Courier New',monospace\"><span style=\"font-weight: bold\">[</span>Shopton, Tom<span style=\"font-weight: bold\">]</span>\n",
       "</pre>\n"
      ],
      "text/plain": [
       "\u001b[1m[\u001b[0mShopton, Tom\u001b[1m]\u001b[0m\n"
      ]
     },
     "metadata": {},
     "output_type": "display_data"
    },
    {
     "data": {
      "text/html": [
       "<pre style=\"white-space:pre;overflow-x:auto;line-height:normal;font-family:Menlo,'DejaVu Sans Mono',consolas,'Courier New',monospace\"><span style=\"font-weight: bold\">[</span><span style=\"color: #008080; text-decoration-color: #008080; font-weight: bold\">3614</span>-<span style=\"color: #008080; text-decoration-color: #008080; font-weight: bold\">3648</span><span style=\"font-weight: bold\">]</span> <span style=\"color: #008000; text-decoration-color: #008000\">\"He seems to have considerable mail business,\"</span> thought Tom, and then the matter passed from his mind as he mounted his wheel and hurried to the machine shop.\n",
       "</pre>\n"
      ],
      "text/plain": [
       "\u001b[1m[\u001b[0m\u001b[1;36m3614\u001b[0m-\u001b[1;36m3648\u001b[0m\u001b[1m]\u001b[0m \u001b[32m\"He seems to have considerable mail business,\"\u001b[0m thought Tom, and then the matter passed from his mind as he mounted his wheel and hurried to the machine shop.\n"
      ]
     },
     "metadata": {},
     "output_type": "display_data"
    },
    {
     "data": {
      "text/html": [
       "<pre style=\"white-space:pre;overflow-x:auto;line-height:normal;font-family:Menlo,'DejaVu Sans Mono',consolas,'Courier New',monospace\"><span style=\"font-weight: bold\">[</span>Tom<span style=\"font-weight: bold\">]</span>\n",
       "</pre>\n"
      ],
      "text/plain": [
       "\u001b[1m[\u001b[0mTom\u001b[1m]\u001b[0m\n"
      ]
     },
     "metadata": {},
     "output_type": "display_data"
    },
    {
     "data": {
      "text/html": [
       "<pre style=\"white-space:pre;overflow-x:auto;line-height:normal;font-family:Menlo,'DejaVu Sans Mono',consolas,'Courier New',monospace\"><span style=\"font-weight: bold\">[</span><span style=\"color: #008080; text-decoration-color: #008080; font-weight: bold\">3648</span>-<span style=\"color: #008080; text-decoration-color: #008080; font-weight: bold\">3678</span><span style=\"font-weight: bold\">]</span> <span style=\"color: #008000; text-decoration-color: #008000\">\"Say, I'm awfully sorry,\"</span> announced Mr. Merton when Tom said he had come for the bolts, \"but they're not quite done.\n",
       "</pre>\n"
      ],
      "text/plain": [
       "\u001b[1m[\u001b[0m\u001b[1;36m3648\u001b[0m-\u001b[1;36m3678\u001b[0m\u001b[1m]\u001b[0m \u001b[32m\"Say, I'm awfully sorry,\"\u001b[0m announced Mr. Merton when Tom said he had come for the bolts, \"but they're not quite done.\n"
      ]
     },
     "metadata": {},
     "output_type": "display_data"
    },
    {
     "data": {
      "text/html": [
       "<pre style=\"white-space:pre;overflow-x:auto;line-height:normal;font-family:Menlo,'DejaVu Sans Mono',consolas,'Courier New',monospace\"><span style=\"font-weight: bold\">[</span>Merton, Tom<span style=\"font-weight: bold\">]</span>\n",
       "</pre>\n"
      ],
      "text/plain": [
       "\u001b[1m[\u001b[0mMerton, Tom\u001b[1m]\u001b[0m\n"
      ]
     },
     "metadata": {},
     "output_type": "display_data"
    },
    {
     "data": {
      "text/html": [
       "<pre style=\"white-space:pre;overflow-x:auto;line-height:normal;font-family:Menlo,'DejaVu Sans Mono',consolas,'Courier New',monospace\"><span style=\"font-weight: bold\">[</span><span style=\"color: #008080; text-decoration-color: #008080; font-weight: bold\">3728</span>-<span style=\"color: #008080; text-decoration-color: #008080; font-weight: bold\">3743</span><span style=\"font-weight: bold\">]</span> <span style=\"color: #008000; text-decoration-color: #008000\">\"How long will it take to polish them?\"</span> asked Tom.  \n",
       "</pre>\n"
      ],
      "text/plain": [
       "\u001b[1m[\u001b[0m\u001b[1;36m3728\u001b[0m-\u001b[1;36m3743\u001b[0m\u001b[1m]\u001b[0m \u001b[32m\"How long will it take to polish them?\"\u001b[0m asked Tom.  \n"
      ]
     },
     "metadata": {},
     "output_type": "display_data"
    },
    {
     "data": {
      "text/html": [
       "<pre style=\"white-space:pre;overflow-x:auto;line-height:normal;font-family:Menlo,'DejaVu Sans Mono',consolas,'Courier New',monospace\"><span style=\"font-weight: bold\">[</span>Tom<span style=\"font-weight: bold\">]</span>\n",
       "</pre>\n"
      ],
      "text/plain": [
       "\u001b[1m[\u001b[0mTom\u001b[1m]\u001b[0m\n"
      ]
     },
     "metadata": {},
     "output_type": "display_data"
    },
    {
     "data": {
      "text/html": [
       "<pre style=\"white-space:pre;overflow-x:auto;line-height:normal;font-family:Menlo,'DejaVu Sans Mono',consolas,'Courier New',monospace\"><span style=\"font-weight: bold\">[</span><span style=\"color: #008080; text-decoration-color: #008080; font-weight: bold\">3835</span>-<span style=\"color: #008080; text-decoration-color: #008080; font-weight: bold\">3852</span><span style=\"font-weight: bold\">]</span> \"Now, there's a matter I want to speak to you about, Tom.\n",
       "</pre>\n"
      ],
      "text/plain": [
       "\u001b[1m[\u001b[0m\u001b[1;36m3835\u001b[0m-\u001b[1;36m3852\u001b[0m\u001b[1m]\u001b[0m \"Now, there's a matter I want to speak to you about, Tom.\n"
      ]
     },
     "metadata": {},
     "output_type": "display_data"
    },
    {
     "data": {
      "text/html": [
       "<pre style=\"white-space:pre;overflow-x:auto;line-height:normal;font-family:Menlo,'DejaVu Sans Mono',consolas,'Courier New',monospace\"><span style=\"font-weight: bold\">[</span>Tom<span style=\"font-weight: bold\">]</span>\n",
       "</pre>\n"
      ],
      "text/plain": [
       "\u001b[1m[\u001b[0mTom\u001b[1m]\u001b[0m\n"
      ]
     },
     "metadata": {},
     "output_type": "display_data"
    },
    {
     "data": {
      "text/html": [
       "<pre style=\"white-space:pre;overflow-x:auto;line-height:normal;font-family:Menlo,'DejaVu Sans Mono',consolas,'Courier New',monospace\"><span style=\"font-weight: bold\">[</span><span style=\"color: #008080; text-decoration-color: #008080; font-weight: bold\">4038</span>-<span style=\"color: #008080; text-decoration-color: #008080; font-weight: bold\">4048</span><span style=\"font-weight: bold\">]</span> <span style=\"color: #008000; text-decoration-color: #008000\">\"He was?\"</span> exclaimed Tom excitedly.  \n",
       "</pre>\n"
      ],
      "text/plain": [
       "\u001b[1m[\u001b[0m\u001b[1;36m4038\u001b[0m-\u001b[1;36m4048\u001b[0m\u001b[1m]\u001b[0m \u001b[32m\"He was?\"\u001b[0m exclaimed Tom excitedly.  \n"
      ]
     },
     "metadata": {},
     "output_type": "display_data"
    },
    {
     "data": {
      "text/html": [
       "<pre style=\"white-space:pre;overflow-x:auto;line-height:normal;font-family:Menlo,'DejaVu Sans Mono',consolas,'Courier New',monospace\"><span style=\"font-weight: bold\">[</span>Tom<span style=\"font-weight: bold\">]</span>\n",
       "</pre>\n"
      ],
      "text/plain": [
       "\u001b[1m[\u001b[0mTom\u001b[1m]\u001b[0m\n"
      ]
     },
     "metadata": {},
     "output_type": "display_data"
    },
    {
     "data": {
      "text/html": [
       "<pre style=\"white-space:pre;overflow-x:auto;line-height:normal;font-family:Menlo,'DejaVu Sans Mono',consolas,'Courier New',monospace\"><span style=\"font-weight: bold\">[</span><span style=\"color: #008080; text-decoration-color: #008080; font-weight: bold\">4321</span>-<span style=\"color: #008080; text-decoration-color: #008080; font-weight: bold\">4333</span><span style=\"font-weight: bold\">]</span> <span style=\"color: #008000; text-decoration-color: #008000\">\"No,\"</span> replied Tom, <span style=\"color: #008000; text-decoration-color: #008000\">\"but I saw--\"</span>\n",
       "</pre>\n"
      ],
      "text/plain": [
       "\u001b[1m[\u001b[0m\u001b[1;36m4321\u001b[0m-\u001b[1;36m4333\u001b[0m\u001b[1m]\u001b[0m \u001b[32m\"No,\"\u001b[0m replied Tom, \u001b[32m\"but I saw--\"\u001b[0m\n"
      ]
     },
     "metadata": {},
     "output_type": "display_data"
    },
    {
     "data": {
      "text/html": [
       "<pre style=\"white-space:pre;overflow-x:auto;line-height:normal;font-family:Menlo,'DejaVu Sans Mono',consolas,'Courier New',monospace\"><span style=\"font-weight: bold\">[</span>Tom<span style=\"font-weight: bold\">]</span>\n",
       "</pre>\n"
      ],
      "text/plain": [
       "\u001b[1m[\u001b[0mTom\u001b[1m]\u001b[0m\n"
      ]
     },
     "metadata": {},
     "output_type": "display_data"
    },
    {
     "data": {
      "text/html": [
       "<pre style=\"white-space:pre;overflow-x:auto;line-height:normal;font-family:Menlo,'DejaVu Sans Mono',consolas,'Courier New',monospace\"><span style=\"font-weight: bold\">[</span><span style=\"color: #008080; text-decoration-color: #008080; font-weight: bold\">4365</span>-<span style=\"color: #008080; text-decoration-color: #008080; font-weight: bold\">4384</span><span style=\"font-weight: bold\">]</span> <span style=\"color: #008000; text-decoration-color: #008000\">\"Did you say you'd seen him?\"</span> asked Mr. Merton, regarding Tom curiously.  \n",
       "</pre>\n"
      ],
      "text/plain": [
       "\u001b[1m[\u001b[0m\u001b[1;36m4365\u001b[0m-\u001b[1;36m4384\u001b[0m\u001b[1m]\u001b[0m \u001b[32m\"Did you say you'd seen him?\"\u001b[0m asked Mr. Merton, regarding Tom curiously.  \n"
      ]
     },
     "metadata": {},
     "output_type": "display_data"
    },
    {
     "data": {
      "text/html": [
       "<pre style=\"white-space:pre;overflow-x:auto;line-height:normal;font-family:Menlo,'DejaVu Sans Mono',consolas,'Courier New',monospace\"><span style=\"font-weight: bold\">[</span>Merton, Tom<span style=\"font-weight: bold\">]</span>\n",
       "</pre>\n"
      ],
      "text/plain": [
       "\u001b[1m[\u001b[0mMerton, Tom\u001b[1m]\u001b[0m\n"
      ]
     },
     "metadata": {},
     "output_type": "display_data"
    },
    {
     "data": {
      "text/html": [
       "<pre style=\"white-space:pre;overflow-x:auto;line-height:normal;font-family:Menlo,'DejaVu Sans Mono',consolas,'Courier New',monospace\"><span style=\"font-weight: bold\">[</span><span style=\"color: #008080; text-decoration-color: #008080; font-weight: bold\">4384</span>-<span style=\"color: #008080; text-decoration-color: #008080; font-weight: bold\">4420</span><span style=\"font-weight: bold\">]</span> <span style=\"color: #008000; text-decoration-color: #008000\">\"No--yes--that is--well, I'll tell my father about it,\"</span> stammered Tom, who concluded that it would be best to say nothing of his suspicions.\n",
       "</pre>\n"
      ],
      "text/plain": [
       "\u001b[1m[\u001b[0m\u001b[1;36m4384\u001b[0m-\u001b[1;36m4420\u001b[0m\u001b[1m]\u001b[0m \u001b[32m\"No--yes--that is--well, I'll tell my father about it,\"\u001b[0m stammered Tom, who concluded that it would be best to say nothing of his suspicions.\n"
      ]
     },
     "metadata": {},
     "output_type": "display_data"
    },
    {
     "data": {
      "text/html": [
       "<pre style=\"white-space:pre;overflow-x:auto;line-height:normal;font-family:Menlo,'DejaVu Sans Mono',consolas,'Courier New',monospace\"><span style=\"font-weight: bold\">[</span>Tom<span style=\"font-weight: bold\">]</span>\n",
       "</pre>\n"
      ],
      "text/plain": [
       "\u001b[1m[\u001b[0mTom\u001b[1m]\u001b[0m\n"
      ]
     },
     "metadata": {},
     "output_type": "display_data"
    },
    {
     "data": {
      "text/html": [
       "<pre style=\"white-space:pre;overflow-x:auto;line-height:normal;font-family:Menlo,'DejaVu Sans Mono',consolas,'Courier New',monospace\"><span style=\"font-weight: bold\">[</span><span style=\"color: #008080; text-decoration-color: #008080; font-weight: bold\">4547</span>-<span style=\"color: #008080; text-decoration-color: #008080; font-weight: bold\">4564</span><span style=\"font-weight: bold\">]</span> <span style=\"color: #008000; text-decoration-color: #008000\">\"There is something going on, that dad should know about,\"</span> reflected Tom.\n",
       "</pre>\n"
      ],
      "text/plain": [
       "\u001b[1m[\u001b[0m\u001b[1;36m4547\u001b[0m-\u001b[1;36m4564\u001b[0m\u001b[1m]\u001b[0m \u001b[32m\"There is something going on, that dad should know about,\"\u001b[0m reflected Tom.\n"
      ]
     },
     "metadata": {},
     "output_type": "display_data"
    },
    {
     "data": {
      "text/html": [
       "<pre style=\"white-space:pre;overflow-x:auto;line-height:normal;font-family:Menlo,'DejaVu Sans Mono',consolas,'Courier New',monospace\"><span style=\"font-weight: bold\">[</span>Tom<span style=\"font-weight: bold\">]</span>\n",
       "</pre>\n"
      ],
      "text/plain": [
       "\u001b[1m[\u001b[0mTom\u001b[1m]\u001b[0m\n"
      ]
     },
     "metadata": {},
     "output_type": "display_data"
    },
    {
     "data": {
      "text/html": [
       "<pre style=\"white-space:pre;overflow-x:auto;line-height:normal;font-family:Menlo,'DejaVu Sans Mono',consolas,'Courier New',monospace\"><span style=\"font-weight: bold\">[</span><span style=\"color: #008080; text-decoration-color: #008080; font-weight: bold\">4760</span>-<span style=\"color: #008080; text-decoration-color: #008080; font-weight: bold\">4785</span><span style=\"font-weight: bold\">]</span> <span style=\"color: #008000; text-decoration-color: #008000\">\"Oh, I came over from Shopton this morning,\"</span> replied Ned Newton, taking a seat at the table with Tom.\n",
       "</pre>\n"
      ],
      "text/plain": [
       "\u001b[1m[\u001b[0m\u001b[1;36m4760\u001b[0m-\u001b[1;36m4785\u001b[0m\u001b[1m]\u001b[0m \u001b[32m\"Oh, I came over from Shopton this morning,\"\u001b[0m replied Ned Newton, taking a seat at the table with Tom.\n"
      ]
     },
     "metadata": {},
     "output_type": "display_data"
    },
    {
     "data": {
      "text/html": [
       "<pre style=\"white-space:pre;overflow-x:auto;line-height:normal;font-family:Menlo,'DejaVu Sans Mono',consolas,'Courier New',monospace\"><span style=\"font-weight: bold\">[</span>Shopton, this morning, Ned Newton, Tom<span style=\"font-weight: bold\">]</span>\n",
       "</pre>\n"
      ],
      "text/plain": [
       "\u001b[1m[\u001b[0mShopton, this morning, Ned Newton, Tom\u001b[1m]\u001b[0m\n"
      ]
     },
     "metadata": {},
     "output_type": "display_data"
    },
    {
     "data": {
      "text/html": [
       "<pre style=\"white-space:pre;overflow-x:auto;line-height:normal;font-family:Menlo,'DejaVu Sans Mono',consolas,'Courier New',monospace\"><span style=\"font-weight: bold\">[</span><span style=\"color: #008080; text-decoration-color: #008080; font-weight: bold\">4834</span>-<span style=\"color: #008080; text-decoration-color: #008080; font-weight: bold\">4853</span><span style=\"font-weight: bold\">]</span> <span style=\"color: #008000; text-decoration-color: #008000\">\"On business or pleasure?\"</span> asked Tom, putting some more sugar in his coffee.  \n",
       "</pre>\n"
      ],
      "text/plain": [
       "\u001b[1m[\u001b[0m\u001b[1;36m4834\u001b[0m-\u001b[1;36m4853\u001b[0m\u001b[1m]\u001b[0m \u001b[32m\"On business or pleasure?\"\u001b[0m asked Tom, putting some more sugar in his coffee.  \n"
      ]
     },
     "metadata": {},
     "output_type": "display_data"
    },
    {
     "data": {
      "text/html": [
       "<pre style=\"white-space:pre;overflow-x:auto;line-height:normal;font-family:Menlo,'DejaVu Sans Mono',consolas,'Courier New',monospace\"><span style=\"font-weight: bold\">[</span>Tom<span style=\"font-weight: bold\">]</span>\n",
       "</pre>\n"
      ],
      "text/plain": [
       "\u001b[1m[\u001b[0mTom\u001b[1m]\u001b[0m\n"
      ]
     },
     "metadata": {},
     "output_type": "display_data"
    },
    {
     "data": {
      "text/html": [
       "<pre style=\"white-space:pre;overflow-x:auto;line-height:normal;font-family:Menlo,'DejaVu Sans Mono',consolas,'Courier New',monospace\"><span style=\"font-weight: bold\">[</span><span style=\"color: #008080; text-decoration-color: #008080; font-weight: bold\">5047</span>-<span style=\"color: #008080; text-decoration-color: #008080; font-weight: bold\">5077</span><span style=\"font-weight: bold\">]</span> <span style=\"color: #008000; text-decoration-color: #008000\">\"Well, if he tries to run me down again he'll get into trouble,\"</span> declared Tom, calling for a second cup of coffee.\n",
       "</pre>\n"
      ],
      "text/plain": [
       "\u001b[1m[\u001b[0m\u001b[1;36m5047\u001b[0m-\u001b[1;36m5077\u001b[0m\u001b[1m]\u001b[0m \u001b[32m\"Well, if he tries to run me down again he'll get into trouble,\"\u001b[0m declared Tom, calling for a second cup of coffee.\n"
      ]
     },
     "metadata": {},
     "output_type": "display_data"
    },
    {
     "data": {
      "text/html": [
       "<pre style=\"white-space:pre;overflow-x:auto;line-height:normal;font-family:Menlo,'DejaVu Sans Mono',consolas,'Courier New',monospace\"><span style=\"font-weight: bold\">[</span>Tom, second<span style=\"font-weight: bold\">]</span>\n",
       "</pre>\n"
      ],
      "text/plain": [
       "\u001b[1m[\u001b[0mTom, second\u001b[1m]\u001b[0m\n"
      ]
     },
     "metadata": {},
     "output_type": "display_data"
    },
    {
     "data": {
      "text/html": [
       "<pre style=\"white-space:pre;overflow-x:auto;line-height:normal;font-family:Menlo,'DejaVu Sans Mono',consolas,'Courier New',monospace\"><span style=\"font-weight: bold\">[</span><span style=\"color: #008080; text-decoration-color: #008080; font-weight: bold\">5298</span>-<span style=\"color: #008080; text-decoration-color: #008080; font-weight: bold\">5341</span><span style=\"font-weight: bold\">]</span> <span style=\"color: #008000; text-decoration-color: #008000\">\"I guess so,\"</span> replied Tom, and when he stooped to pick the fork up, not waiting for the girl who was serving at his table, he stole a look at the strangers who had just entered.\n",
       "</pre>\n"
      ],
      "text/plain": [
       "\u001b[1m[\u001b[0m\u001b[1;36m5298\u001b[0m-\u001b[1;36m5341\u001b[0m\u001b[1m]\u001b[0m \u001b[32m\"I guess so,\"\u001b[0m replied Tom, and when he stooped to pick the fork up, not waiting for the girl who was serving at his table, he stole a look at the strangers who had just entered.\n"
      ]
     },
     "metadata": {},
     "output_type": "display_data"
    },
    {
     "data": {
      "text/html": [
       "<pre style=\"white-space:pre;overflow-x:auto;line-height:normal;font-family:Menlo,'DejaVu Sans Mono',consolas,'Courier New',monospace\"><span style=\"font-weight: bold\">[</span>Tom<span style=\"font-weight: bold\">]</span>\n",
       "</pre>\n"
      ],
      "text/plain": [
       "\u001b[1m[\u001b[0mTom\u001b[1m]\u001b[0m\n"
      ]
     },
     "metadata": {},
     "output_type": "display_data"
    },
    {
     "data": {
      "text/html": [
       "<pre style=\"white-space:pre;overflow-x:auto;line-height:normal;font-family:Menlo,'DejaVu Sans Mono',consolas,'Courier New',monospace\"><span style=\"font-weight: bold\">[</span><span style=\"color: #008080; text-decoration-color: #008080; font-weight: bold\">5385</span>-<span style=\"color: #008080; text-decoration-color: #008080; font-weight: bold\">5407</span><span style=\"font-weight: bold\">]</span> <span style=\"color: #008000; text-decoration-color: #008000\">\"I'm going to keep my ears open,\"</span> thought Tom as he went on eating his dinner.     \n",
       "</pre>\n"
      ],
      "text/plain": [
       "\u001b[1m[\u001b[0m\u001b[1;36m5385\u001b[0m-\u001b[1;36m5407\u001b[0m\u001b[1m]\u001b[0m \u001b[32m\"I'm going to keep my ears open,\"\u001b[0m thought Tom as he went on eating his dinner.     \n"
      ]
     },
     "metadata": {},
     "output_type": "display_data"
    },
    {
     "data": {
      "text/html": [
       "<pre style=\"white-space:pre;overflow-x:auto;line-height:normal;font-family:Menlo,'DejaVu Sans Mono',consolas,'Courier New',monospace\"><span style=\"font-weight: bold\">[</span>Tom<span style=\"font-weight: bold\">]</span>\n",
       "</pre>\n"
      ],
      "text/plain": [
       "\u001b[1m[\u001b[0mTom\u001b[1m]\u001b[0m\n"
      ]
     },
     "metadata": {},
     "output_type": "display_data"
    },
    {
     "data": {
      "text/html": [
       "<pre style=\"white-space:pre;overflow-x:auto;line-height:normal;font-family:Menlo,'DejaVu Sans Mono',consolas,'Courier New',monospace\"><span style=\"font-weight: bold\">[</span><span style=\"color: #008080; text-decoration-color: #008080; font-weight: bold\">5535</span>-<span style=\"color: #008080; text-decoration-color: #008080; font-weight: bold\">5564</span><span style=\"font-weight: bold\">]</span> <span style=\"color: #008000; text-decoration-color: #008000\">\"I think he will know me the next time he sees me,\"</span> thought Tom, and he boldly returned the glance of the stranger.\n",
       "</pre>\n"
      ],
      "text/plain": [
       "\u001b[1m[\u001b[0m\u001b[1;36m5535\u001b[0m-\u001b[1;36m5564\u001b[0m\u001b[1m]\u001b[0m \u001b[32m\"I think he will know me the next time he sees me,\"\u001b[0m thought Tom, and he boldly returned the glance of the stranger.\n"
      ]
     },
     "metadata": {},
     "output_type": "display_data"
    },
    {
     "data": {
      "text/html": [
       "<pre style=\"white-space:pre;overflow-x:auto;line-height:normal;font-family:Menlo,'DejaVu Sans Mono',consolas,'Courier New',monospace\"><span style=\"font-weight: bold\">[</span>Tom<span style=\"font-weight: bold\">]</span>\n",
       "</pre>\n"
      ],
      "text/plain": [
       "\u001b[1m[\u001b[0mTom\u001b[1m]\u001b[0m\n"
      ]
     },
     "metadata": {},
     "output_type": "display_data"
    },
    {
     "data": {
      "text/html": [
       "<pre style=\"white-space:pre;overflow-x:auto;line-height:normal;font-family:Menlo,'DejaVu Sans Mono',consolas,'Courier New',monospace\"><span style=\"font-weight: bold\">[</span><span style=\"color: #008080; text-decoration-color: #008080; font-weight: bold\">5672</span>-<span style=\"color: #008080; text-decoration-color: #008080; font-weight: bold\">5690</span><span style=\"font-weight: bold\">]</span> <span style=\"color: #008000; text-decoration-color: #008000\">\"A runaway!\"</span> cried Tom; <span style=\"color: #008000; text-decoration-color: #008000\">\"and partly my fault, too!\"</span>  \n",
       "</pre>\n"
      ],
      "text/plain": [
       "\u001b[1m[\u001b[0m\u001b[1;36m5672\u001b[0m-\u001b[1;36m5690\u001b[0m\u001b[1m]\u001b[0m \u001b[32m\"A runaway!\"\u001b[0m cried Tom; \u001b[32m\"and partly my fault, too!\"\u001b[0m  \n"
      ]
     },
     "metadata": {},
     "output_type": "display_data"
    },
    {
     "data": {
      "text/html": [
       "<pre style=\"white-space:pre;overflow-x:auto;line-height:normal;font-family:Menlo,'DejaVu Sans Mono',consolas,'Courier New',monospace\"><span style=\"font-weight: bold\">[</span>Tom<span style=\"font-weight: bold\">]</span>\n",
       "</pre>\n"
      ],
      "text/plain": [
       "\u001b[1m[\u001b[0mTom\u001b[1m]\u001b[0m\n"
      ]
     },
     "metadata": {},
     "output_type": "display_data"
    },
    {
     "data": {
      "text/html": [
       "<pre style=\"white-space:pre;overflow-x:auto;line-height:normal;font-family:Menlo,'DejaVu Sans Mono',consolas,'Courier New',monospace\"><span style=\"font-weight: bold\">[</span><span style=\"color: #008080; text-decoration-color: #008080; font-weight: bold\">5775</span>-<span style=\"color: #008080; text-decoration-color: #008080; font-weight: bold\">5786</span><span style=\"font-weight: bold\">]</span> <span style=\"color: #008000; text-decoration-color: #008000\">\"She's lost her head,\"</span> thought Tom.\n",
       "</pre>\n"
      ],
      "text/plain": [
       "\u001b[1m[\u001b[0m\u001b[1;36m5775\u001b[0m-\u001b[1;36m5786\u001b[0m\u001b[1m]\u001b[0m \u001b[32m\"She's lost her head,\"\u001b[0m thought Tom.\n"
      ]
     },
     "metadata": {},
     "output_type": "display_data"
    },
    {
     "data": {
      "text/html": [
       "<pre style=\"white-space:pre;overflow-x:auto;line-height:normal;font-family:Menlo,'DejaVu Sans Mono',consolas,'Courier New',monospace\"><span style=\"font-weight: bold\">[</span>Tom<span style=\"font-weight: bold\">]</span>\n",
       "</pre>\n"
      ],
      "text/plain": [
       "\u001b[1m[\u001b[0mTom\u001b[1m]\u001b[0m\n"
      ]
     },
     "metadata": {},
     "output_type": "display_data"
    },
    {
     "data": {
      "text/html": [
       "<pre style=\"white-space:pre;overflow-x:auto;line-height:normal;font-family:Menlo,'DejaVu Sans Mono',consolas,'Courier New',monospace\"><span style=\"font-weight: bold\">[</span><span style=\"color: #008080; text-decoration-color: #008080; font-weight: bold\">5864</span>-<span style=\"color: #008080; text-decoration-color: #008080; font-weight: bold\">5899</span><span style=\"font-weight: bold\">]</span> <span style=\"color: #008000; text-decoration-color: #008000\">\"That's better!\"</span> shouted Tom, but it is doubtful if she heard him, for the rattling of the wagon and the hoofbeats of the horse drowned all other sounds.\n",
       "</pre>\n"
      ],
      "text/plain": [
       "\u001b[1m[\u001b[0m\u001b[1;36m5864\u001b[0m-\u001b[1;36m5899\u001b[0m\u001b[1m]\u001b[0m \u001b[32m\"That's better!\"\u001b[0m shouted Tom, but it is doubtful if she heard him, for the rattling of the wagon and the hoofbeats of the horse drowned all other sounds.\n"
      ]
     },
     "metadata": {},
     "output_type": "display_data"
    },
    {
     "data": {
      "text/html": [
       "<pre style=\"white-space:pre;overflow-x:auto;line-height:normal;font-family:Menlo,'DejaVu Sans Mono',consolas,'Courier New',monospace\"><span style=\"font-weight: bold\">[</span>Tom<span style=\"font-weight: bold\">]</span>\n",
       "</pre>\n"
      ],
      "text/plain": [
       "\u001b[1m[\u001b[0mTom\u001b[1m]\u001b[0m\n"
      ]
     },
     "metadata": {},
     "output_type": "display_data"
    },
    {
     "data": {
      "text/html": [
       "<pre style=\"white-space:pre;overflow-x:auto;line-height:normal;font-family:Menlo,'DejaVu Sans Mono',consolas,'Courier New',monospace\"><span style=\"font-weight: bold\">[</span><span style=\"color: #008080; text-decoration-color: #008080; font-weight: bold\">6337</span>-<span style=\"color: #008080; text-decoration-color: #008080; font-weight: bold\">6349</span><span style=\"font-weight: bold\">]</span> <span style=\"color: #008000; text-decoration-color: #008000\">\"There, there, now!\"</span> spoke Tom soothingly.\n",
       "</pre>\n"
      ],
      "text/plain": [
       "\u001b[1m[\u001b[0m\u001b[1;36m6337\u001b[0m-\u001b[1;36m6349\u001b[0m\u001b[1m]\u001b[0m \u001b[32m\"There, there, now!\"\u001b[0m spoke Tom soothingly.\n"
      ]
     },
     "metadata": {},
     "output_type": "display_data"
    },
    {
     "data": {
      "text/html": [
       "<pre style=\"white-space:pre;overflow-x:auto;line-height:normal;font-family:Menlo,'DejaVu Sans Mono',consolas,'Courier New',monospace\"><span style=\"font-weight: bold\">[</span>Tom<span style=\"font-weight: bold\">]</span>\n",
       "</pre>\n"
      ],
      "text/plain": [
       "\u001b[1m[\u001b[0mTom\u001b[1m]\u001b[0m\n"
      ]
     },
     "metadata": {},
     "output_type": "display_data"
    },
    {
     "data": {
      "text/html": [
       "<pre style=\"white-space:pre;overflow-x:auto;line-height:normal;font-family:Menlo,'DejaVu Sans Mono',consolas,'Courier New',monospace\"><span style=\"font-weight: bold\">[</span><span style=\"color: #008080; text-decoration-color: #008080; font-weight: bold\">6499</span>-<span style=\"color: #008080; text-decoration-color: #008080; font-weight: bold\">6528</span><span style=\"font-weight: bold\">]</span> <span style=\"color: #008000; text-decoration-color: #008000\">\"I think Dobbin, as you call him, has had enough of running,\"</span> went on Tom, for the horse was now quiet.\n",
       "</pre>\n"
      ],
      "text/plain": [
       "\u001b[1m[\u001b[0m\u001b[1;36m6499\u001b[0m-\u001b[1;36m6528\u001b[0m\u001b[1m]\u001b[0m \u001b[32m\"I think Dobbin, as you call him, has had enough of running,\"\u001b[0m went on Tom, for the horse was now quiet.\n"
      ]
     },
     "metadata": {},
     "output_type": "display_data"
    },
    {
     "data": {
      "text/html": [
       "<pre style=\"white-space:pre;overflow-x:auto;line-height:normal;font-family:Menlo,'DejaVu Sans Mono',consolas,'Courier New',monospace\"><span style=\"font-weight: bold\">[</span>Dobbin, Tom<span style=\"font-weight: bold\">]</span>\n",
       "</pre>\n"
      ],
      "text/plain": [
       "\u001b[1m[\u001b[0mDobbin, Tom\u001b[1m]\u001b[0m\n"
      ]
     },
     "metadata": {},
     "output_type": "display_data"
    },
    {
     "data": {
      "text/html": [
       "<pre style=\"white-space:pre;overflow-x:auto;line-height:normal;font-family:Menlo,'DejaVu Sans Mono',consolas,'Courier New',monospace\"><span style=\"font-weight: bold\">[</span><span style=\"color: #008080; text-decoration-color: #008080; font-weight: bold\">6678</span>-<span style=\"color: #008080; text-decoration-color: #008080; font-weight: bold\">6699</span><span style=\"font-weight: bold\">]</span> <span style=\"color: #008000; text-decoration-color: #008000\">\"Well, things are certainly happening to me to-day,\"</span> mused Tom as he pedaled on.\n",
       "</pre>\n"
      ],
      "text/plain": [
       "\u001b[1m[\u001b[0m\u001b[1;36m6678\u001b[0m-\u001b[1;36m6699\u001b[0m\u001b[1m]\u001b[0m \u001b[32m\"Well, things are certainly happening to me to-day,\"\u001b[0m mused Tom as he pedaled on.\n"
      ]
     },
     "metadata": {},
     "output_type": "display_data"
    },
    {
     "data": {
      "text/html": [
       "<pre style=\"white-space:pre;overflow-x:auto;line-height:normal;font-family:Menlo,'DejaVu Sans Mono',consolas,'Courier New',monospace\"><span style=\"font-weight: bold\">[</span>Tom<span style=\"font-weight: bold\">]</span>\n",
       "</pre>\n"
      ],
      "text/plain": [
       "\u001b[1m[\u001b[0mTom\u001b[1m]\u001b[0m\n"
      ]
     },
     "metadata": {},
     "output_type": "display_data"
    },
    {
     "data": {
      "text/html": [
       "<pre style=\"white-space:pre;overflow-x:auto;line-height:normal;font-family:Menlo,'DejaVu Sans Mono',consolas,'Courier New',monospace\"><span style=\"font-weight: bold\">[</span><span style=\"color: #008080; text-decoration-color: #008080; font-weight: bold\">6838</span>-<span style=\"color: #008080; text-decoration-color: #008080; font-weight: bold\">6851</span><span style=\"font-weight: bold\">]</span> <span style=\"color: #008000; text-decoration-color: #008000\">\"I wonder if that's him again?\"</span> thought Tom.\n",
       "</pre>\n"
      ],
      "text/plain": [
       "\u001b[1m[\u001b[0m\u001b[1;36m6838\u001b[0m-\u001b[1;36m6851\u001b[0m\u001b[1m]\u001b[0m \u001b[32m\"I wonder if that's him again?\"\u001b[0m thought Tom.\n"
      ]
     },
     "metadata": {},
     "output_type": "display_data"
    },
    {
     "data": {
      "text/html": [
       "<pre style=\"white-space:pre;overflow-x:auto;line-height:normal;font-family:Menlo,'DejaVu Sans Mono',consolas,'Courier New',monospace\"><span style=\"font-weight: bold\">[</span>Tom<span style=\"font-weight: bold\">]</span>\n",
       "</pre>\n"
      ],
      "text/plain": [
       "\u001b[1m[\u001b[0mTom\u001b[1m]\u001b[0m\n"
      ]
     },
     "metadata": {},
     "output_type": "display_data"
    },
    {
     "data": {
      "text/html": [
       "<pre style=\"white-space:pre;overflow-x:auto;line-height:normal;font-family:Menlo,'DejaVu Sans Mono',consolas,'Courier New',monospace\"><span style=\"font-weight: bold\">[</span><span style=\"color: #008080; text-decoration-color: #008080; font-weight: bold\">7061</span>-<span style=\"color: #008080; text-decoration-color: #008080; font-weight: bold\">7073</span><span style=\"font-weight: bold\">]</span> <span style=\"color: #008000; text-decoration-color: #008000\">\"What's he up to?\"</span> cried Tom excitedly.\n",
       "</pre>\n"
      ],
      "text/plain": [
       "\u001b[1m[\u001b[0m\u001b[1;36m7061\u001b[0m-\u001b[1;36m7073\u001b[0m\u001b[1m]\u001b[0m \u001b[32m\"What's he up to?\"\u001b[0m cried Tom excitedly.\n"
      ]
     },
     "metadata": {},
     "output_type": "display_data"
    },
    {
     "data": {
      "text/html": [
       "<pre style=\"white-space:pre;overflow-x:auto;line-height:normal;font-family:Menlo,'DejaVu Sans Mono',consolas,'Courier New',monospace\"><span style=\"font-weight: bold\">[</span>Tom<span style=\"font-weight: bold\">]</span>\n",
       "</pre>\n"
      ],
      "text/plain": [
       "\u001b[1m[\u001b[0mTom\u001b[1m]\u001b[0m\n"
      ]
     },
     "metadata": {},
     "output_type": "display_data"
    },
    {
     "data": {
      "text/html": [
       "<pre style=\"white-space:pre;overflow-x:auto;line-height:normal;font-family:Menlo,'DejaVu Sans Mono',consolas,'Courier New',monospace\"><span style=\"font-weight: bold\">[</span><span style=\"color: #008080; text-decoration-color: #008080; font-weight: bold\">7162</span>-<span style=\"color: #008080; text-decoration-color: #008080; font-weight: bold\">7174</span><span style=\"font-weight: bold\">]</span> <span style=\"color: #008000; text-decoration-color: #008000\">\"My, that was a smash!\"</span> cried Tom.\n",
       "</pre>\n"
      ],
      "text/plain": [
       "\u001b[1m[\u001b[0m\u001b[1;36m7162\u001b[0m-\u001b[1;36m7174\u001b[0m\u001b[1m]\u001b[0m \u001b[32m\"My, that was a smash!\"\u001b[0m cried Tom.\n"
      ]
     },
     "metadata": {},
     "output_type": "display_data"
    },
    {
     "data": {
      "text/html": [
       "<pre style=\"white-space:pre;overflow-x:auto;line-height:normal;font-family:Menlo,'DejaVu Sans Mono',consolas,'Courier New',monospace\"><span style=\"font-weight: bold\">[</span>Tom<span style=\"font-weight: bold\">]</span>\n",
       "</pre>\n"
      ],
      "text/plain": [
       "\u001b[1m[\u001b[0mTom\u001b[1m]\u001b[0m\n"
      ]
     },
     "metadata": {},
     "output_type": "display_data"
    },
    {
     "data": {
      "text/html": [
       "<pre style=\"white-space:pre;overflow-x:auto;line-height:normal;font-family:Menlo,'DejaVu Sans Mono',consolas,'Courier New',monospace\"><span style=\"font-weight: bold\">[</span><span style=\"color: #008080; text-decoration-color: #008080; font-weight: bold\">7475</span>-<span style=\"color: #008080; text-decoration-color: #008080; font-weight: bold\">7500</span><span style=\"font-weight: bold\">]</span> <span style=\"color: #008000; text-decoration-color: #008000\">\"Why, Tom,\"</span> she went on hurriedly as she saw how excited he was, <span style=\"color: #008000; text-decoration-color: #008000\">\"whatever has happened?\"</span>  \n",
       "</pre>\n"
      ],
      "text/plain": [
       "\u001b[1m[\u001b[0m\u001b[1;36m7475\u001b[0m-\u001b[1;36m7500\u001b[0m\u001b[1m]\u001b[0m \u001b[32m\"Why, Tom,\"\u001b[0m she went on hurriedly as she saw how excited he was, \u001b[32m\"whatever has happened?\"\u001b[0m  \n"
      ]
     },
     "metadata": {},
     "output_type": "display_data"
    },
    {
     "data": {
      "text/html": [
       "<pre style=\"white-space:pre;overflow-x:auto;line-height:normal;font-family:Menlo,'DejaVu Sans Mono',consolas,'Courier New',monospace\"><span style=\"font-weight: bold\">[</span>Tom<span style=\"font-weight: bold\">]</span>\n",
       "</pre>\n"
      ],
      "text/plain": [
       "\u001b[1m[\u001b[0mTom\u001b[1m]\u001b[0m\n"
      ]
     },
     "metadata": {},
     "output_type": "display_data"
    },
    {
     "data": {
      "text/html": [
       "<pre style=\"white-space:pre;overflow-x:auto;line-height:normal;font-family:Menlo,'DejaVu Sans Mono',consolas,'Courier New',monospace\"><span style=\"font-weight: bold\">[</span><span style=\"color: #008080; text-decoration-color: #008080; font-weight: bold\">7565</span>-<span style=\"color: #008080; text-decoration-color: #008080; font-weight: bold\">7582</span><span style=\"font-weight: bold\">]</span> <span style=\"color: #008000; text-decoration-color: #008000\">\"Haven't time to talk now!\"</span> answered Tom, rushing from the house.\n",
       "</pre>\n"
      ],
      "text/plain": [
       "\u001b[1m[\u001b[0m\u001b[1;36m7565\u001b[0m-\u001b[1;36m7582\u001b[0m\u001b[1m]\u001b[0m \u001b[32m\"Haven't time to talk now!\"\u001b[0m answered Tom, rushing from the house.\n"
      ]
     },
     "metadata": {},
     "output_type": "display_data"
    },
    {
     "data": {
      "text/html": [
       "<pre style=\"white-space:pre;overflow-x:auto;line-height:normal;font-family:Menlo,'DejaVu Sans Mono',consolas,'Courier New',monospace\"><span style=\"font-weight: bold\">[</span>Tom<span style=\"font-weight: bold\">]</span>\n",
       "</pre>\n"
      ],
      "text/plain": [
       "\u001b[1m[\u001b[0mTom\u001b[1m]\u001b[0m\n"
      ]
     },
     "metadata": {},
     "output_type": "display_data"
    },
    {
     "data": {
      "text/html": [
       "<pre style=\"white-space:pre;overflow-x:auto;line-height:normal;font-family:Menlo,'DejaVu Sans Mono',consolas,'Courier New',monospace\"><span style=\"font-weight: bold\">[</span><span style=\"color: #008080; text-decoration-color: #008080; font-weight: bold\">7815</span>-<span style=\"color: #008080; text-decoration-color: #008080; font-weight: bold\">7836</span><span style=\"font-weight: bold\">]</span> <span style=\"color: #008000; text-decoration-color: #008000\">\"You and your motor-cycle tried to climb a tree,\"</span> remarked Tom with grim humor.  \n",
       "</pre>\n"
      ],
      "text/plain": [
       "\u001b[1m[\u001b[0m\u001b[1;36m7815\u001b[0m-\u001b[1;36m7836\u001b[0m\u001b[1m]\u001b[0m \u001b[32m\"You and your motor-cycle tried to climb a tree,\"\u001b[0m remarked Tom with grim humor.  \n"
      ]
     },
     "metadata": {},
     "output_type": "display_data"
    },
    {
     "data": {
      "text/html": [
       "<pre style=\"white-space:pre;overflow-x:auto;line-height:normal;font-family:Menlo,'DejaVu Sans Mono',consolas,'Courier New',monospace\"><span style=\"font-weight: bold\">[</span>Tom<span style=\"font-weight: bold\">]</span>\n",
       "</pre>\n"
      ],
      "text/plain": [
       "\u001b[1m[\u001b[0mTom\u001b[1m]\u001b[0m\n"
      ]
     },
     "metadata": {},
     "output_type": "display_data"
    },
    {
     "data": {
      "text/html": [
       "<pre style=\"white-space:pre;overflow-x:auto;line-height:normal;font-family:Menlo,'DejaVu Sans Mono',consolas,'Courier New',monospace\"><span style=\"font-weight: bold\">[</span><span style=\"color: #008080; text-decoration-color: #008080; font-weight: bold\">7877</span>-<span style=\"color: #008080; text-decoration-color: #008080; font-weight: bold\">7918</span><span style=\"font-weight: bold\">]</span> <span style=\"color: #008000; text-decoration-color: #008000\">\"The front wheel is,\"</span> reported Tom, after an inspection, <span style=\"color: #008000; text-decoration-color: #008000\">\"and there are some other breaks, but I guess--\"</span>  <span style=\"color: #008000; text-decoration-color: #008000\">\"I wish it was all smashed!\"</span> exclaimed the man vigorously.\n",
       "</pre>\n"
      ],
      "text/plain": [
       "\u001b[1m[\u001b[0m\u001b[1;36m7877\u001b[0m-\u001b[1;36m7918\u001b[0m\u001b[1m]\u001b[0m \u001b[32m\"The front wheel is,\"\u001b[0m reported Tom, after an inspection, \u001b[32m\"and there are some other breaks, but I guess--\"\u001b[0m  \u001b[32m\"I wish it was all smashed!\"\u001b[0m exclaimed the man vigorously.\n"
      ]
     },
     "metadata": {},
     "output_type": "display_data"
    },
    {
     "data": {
      "text/html": [
       "<pre style=\"white-space:pre;overflow-x:auto;line-height:normal;font-family:Menlo,'DejaVu Sans Mono',consolas,'Courier New',monospace\"><span style=\"font-weight: bold\">[</span>Tom<span style=\"font-weight: bold\">]</span>\n",
       "</pre>\n"
      ],
      "text/plain": [
       "\u001b[1m[\u001b[0mTom\u001b[1m]\u001b[0m\n"
      ]
     },
     "metadata": {},
     "output_type": "display_data"
    },
    {
     "data": {
      "text/html": [
       "<pre style=\"white-space:pre;overflow-x:auto;line-height:normal;font-family:Menlo,'DejaVu Sans Mono',consolas,'Courier New',monospace\"><span style=\"font-weight: bold\">[</span><span style=\"color: #008080; text-decoration-color: #008080; font-weight: bold\">7929</span>-<span style=\"color: #008080; text-decoration-color: #008080; font-weight: bold\">7944</span><span style=\"font-weight: bold\">]</span> <span style=\"color: #008000; text-decoration-color: #008000\">\"Why, don't you like it?\"</span> asked Tom eagerly.  \n",
       "</pre>\n"
      ],
      "text/plain": [
       "\u001b[1m[\u001b[0m\u001b[1;36m7929\u001b[0m-\u001b[1;36m7944\u001b[0m\u001b[1m]\u001b[0m \u001b[32m\"Why, don't you like it?\"\u001b[0m asked Tom eagerly.  \n"
      ]
     },
     "metadata": {},
     "output_type": "display_data"
    },
    {
     "data": {
      "text/html": [
       "<pre style=\"white-space:pre;overflow-x:auto;line-height:normal;font-family:Menlo,'DejaVu Sans Mono',consolas,'Courier New',monospace\"><span style=\"font-weight: bold\">[</span>Tom<span style=\"font-weight: bold\">]</span>\n",
       "</pre>\n"
      ],
      "text/plain": [
       "\u001b[1m[\u001b[0mTom\u001b[1m]\u001b[0m\n"
      ]
     },
     "metadata": {},
     "output_type": "display_data"
    },
    {
     "data": {
      "text/html": [
       "<pre style=\"white-space:pre;overflow-x:auto;line-height:normal;font-family:Menlo,'DejaVu Sans Mono',consolas,'Courier New',monospace\"><span style=\"font-weight: bold\">[</span><span style=\"color: #008080; text-decoration-color: #008080; font-weight: bold\">7995</span>-<span style=\"color: #008080; text-decoration-color: #008080; font-weight: bold\">8016</span><span style=\"font-weight: bold\">]</span> <span style=\"color: #008000; text-decoration-color: #008000\">\"I'll bring the motor-cycle, after we've carried you in,\"</span> added Tom.  \n",
       "</pre>\n"
      ],
      "text/plain": [
       "\u001b[1m[\u001b[0m\u001b[1;36m7995\u001b[0m-\u001b[1;36m8016\u001b[0m\u001b[1m]\u001b[0m \u001b[32m\"I'll bring the motor-cycle, after we've carried you in,\"\u001b[0m added Tom.  \n"
      ]
     },
     "metadata": {},
     "output_type": "display_data"
    },
    {
     "data": {
      "text/html": [
       "<pre style=\"white-space:pre;overflow-x:auto;line-height:normal;font-family:Menlo,'DejaVu Sans Mono',consolas,'Courier New',monospace\"><span style=\"font-weight: bold\">[</span>Tom<span style=\"font-weight: bold\">]</span>\n",
       "</pre>\n"
      ],
      "text/plain": [
       "\u001b[1m[\u001b[0mTom\u001b[1m]\u001b[0m\n"
      ]
     },
     "metadata": {},
     "output_type": "display_data"
    },
    {
     "data": {
      "text/html": [
       "<pre style=\"white-space:pre;overflow-x:auto;line-height:normal;font-family:Menlo,'DejaVu Sans Mono',consolas,'Courier New',monospace\"><span style=\"font-weight: bold\">[</span><span style=\"color: #008080; text-decoration-color: #008080; font-weight: bold\">8109</span>-<span style=\"color: #008080; text-decoration-color: #008080; font-weight: bold\">8124</span><span style=\"font-weight: bold\">]</span> <span style=\"color: #008000; text-decoration-color: #008000\">\"You have a bad cut on your head,\"</span> said Tom.  \n",
       "</pre>\n"
      ],
      "text/plain": [
       "\u001b[1m[\u001b[0m\u001b[1;36m8109\u001b[0m-\u001b[1;36m8124\u001b[0m\u001b[1m]\u001b[0m \u001b[32m\"You have a bad cut on your head,\"\u001b[0m said Tom.  \n"
      ]
     },
     "metadata": {},
     "output_type": "display_data"
    },
    {
     "data": {
      "text/html": [
       "<pre style=\"white-space:pre;overflow-x:auto;line-height:normal;font-family:Menlo,'DejaVu Sans Mono',consolas,'Courier New',monospace\"><span style=\"font-weight: bold\">[</span>Tom<span style=\"font-weight: bold\">]</span>\n",
       "</pre>\n"
      ],
      "text/plain": [
       "\u001b[1m[\u001b[0mTom\u001b[1m]\u001b[0m\n"
      ]
     },
     "metadata": {},
     "output_type": "display_data"
    },
    {
     "data": {
      "text/html": [
       "<pre style=\"white-space:pre;overflow-x:auto;line-height:normal;font-family:Menlo,'DejaVu Sans Mono',consolas,'Courier New',monospace\"><span style=\"font-weight: bold\">[</span><span style=\"color: #008080; text-decoration-color: #008080; font-weight: bold\">8184</span>-<span style=\"color: #008080; text-decoration-color: #008080; font-weight: bold\">8202</span><span style=\"font-weight: bold\">]</span> <span style=\"color: #008000; text-decoration-color: #008000\">\"Can you walk, or shall we carry you?\"</span> asked Tom's father.  \n",
       "</pre>\n"
      ],
      "text/plain": [
       "\u001b[1m[\u001b[0m\u001b[1;36m8184\u001b[0m-\u001b[1;36m8202\u001b[0m\u001b[1m]\u001b[0m \u001b[32m\"Can you walk, or shall we carry you?\"\u001b[0m asked Tom's father.  \n"
      ]
     },
     "metadata": {},
     "output_type": "display_data"
    },
    {
     "data": {
      "text/html": [
       "<pre style=\"white-space:pre;overflow-x:auto;line-height:normal;font-family:Menlo,'DejaVu Sans Mono',consolas,'Courier New',monospace\"><span style=\"font-weight: bold\">[</span>Tom<span style=\"font-weight: bold\">]</span>\n",
       "</pre>\n"
      ],
      "text/plain": [
       "\u001b[1m[\u001b[0mTom\u001b[1m]\u001b[0m\n"
      ]
     },
     "metadata": {},
     "output_type": "display_data"
    },
    {
     "data": {
      "text/html": [
       "<pre style=\"white-space:pre;overflow-x:auto;line-height:normal;font-family:Menlo,'DejaVu Sans Mono',consolas,'Courier New',monospace\"><span style=\"font-weight: bold\">[</span><span style=\"color: #008080; text-decoration-color: #008080; font-weight: bold\">8305</span>-<span style=\"color: #008080; text-decoration-color: #008080; font-weight: bold\">8313</span><span style=\"font-weight: bold\">]</span> <span style=\"color: #008000; text-decoration-color: #008000\">\"You were,\"</span> explained Tom.\n",
       "</pre>\n"
      ],
      "text/plain": [
       "\u001b[1m[\u001b[0m\u001b[1;36m8305\u001b[0m-\u001b[1;36m8313\u001b[0m\u001b[1m]\u001b[0m \u001b[32m\"You were,\"\u001b[0m explained Tom.\n"
      ]
     },
     "metadata": {},
     "output_type": "display_data"
    },
    {
     "data": {
      "text/html": [
       "<pre style=\"white-space:pre;overflow-x:auto;line-height:normal;font-family:Menlo,'DejaVu Sans Mono',consolas,'Courier New',monospace\"><span style=\"font-weight: bold\">[</span>Tom<span style=\"font-weight: bold\">]</span>\n",
       "</pre>\n"
      ],
      "text/plain": [
       "\u001b[1m[\u001b[0mTom\u001b[1m]\u001b[0m\n"
      ]
     },
     "metadata": {},
     "output_type": "display_data"
    },
    {
     "data": {
      "text/html": [
       "<pre style=\"white-space:pre;overflow-x:auto;line-height:normal;font-family:Menlo,'DejaVu Sans Mono',consolas,'Courier New',monospace\"><span style=\"font-weight: bold\">[</span><span style=\"color: #008080; text-decoration-color: #008080; font-weight: bold\">8492</span>-<span style=\"color: #008080; text-decoration-color: #008080; font-weight: bold\">8505</span><span style=\"font-weight: bold\">]</span> <span style=\"color: #008000; text-decoration-color: #008000\">\"And me too,\"</span> added Tom with a laugh.  \n",
       "</pre>\n"
      ],
      "text/plain": [
       "\u001b[1m[\u001b[0m\u001b[1;36m8492\u001b[0m-\u001b[1;36m8505\u001b[0m\u001b[1m]\u001b[0m \u001b[32m\"And me too,\"\u001b[0m added Tom with a laugh.  \n"
      ]
     },
     "metadata": {},
     "output_type": "display_data"
    },
    {
     "data": {
      "text/html": [
       "<pre style=\"white-space:pre;overflow-x:auto;line-height:normal;font-family:Menlo,'DejaVu Sans Mono',consolas,'Courier New',monospace\"><span style=\"font-weight: bold\">[</span>Tom<span style=\"font-weight: bold\">]</span>\n",
       "</pre>\n"
      ],
      "text/plain": [
       "\u001b[1m[\u001b[0mTom\u001b[1m]\u001b[0m\n"
      ]
     },
     "metadata": {},
     "output_type": "display_data"
    },
    {
     "data": {
      "text/html": [
       "<pre style=\"white-space:pre;overflow-x:auto;line-height:normal;font-family:Menlo,'DejaVu Sans Mono',consolas,'Courier New',monospace\"><span style=\"font-weight: bold\">[</span><span style=\"color: #008080; text-decoration-color: #008080; font-weight: bold\">8596</span>-<span style=\"color: #008080; text-decoration-color: #008080; font-weight: bold\">8614</span><span style=\"font-weight: bold\">]</span> <span style=\"color: #008000; text-decoration-color: #008000\">\"You had your muffler open, and that made considerable dust,\"</span> explained Tom.  \n",
       "</pre>\n"
      ],
      "text/plain": [
       "\u001b[1m[\u001b[0m\u001b[1;36m8596\u001b[0m-\u001b[1;36m8614\u001b[0m\u001b[1m]\u001b[0m \u001b[32m\"You had your muffler open, and that made considerable dust,\"\u001b[0m explained Tom.  \n"
      ]
     },
     "metadata": {},
     "output_type": "display_data"
    },
    {
     "data": {
      "text/html": [
       "<pre style=\"white-space:pre;overflow-x:auto;line-height:normal;font-family:Menlo,'DejaVu Sans Mono',consolas,'Courier New',monospace\"><span style=\"font-weight: bold\">[</span>Tom<span style=\"font-weight: bold\">]</span>\n",
       "</pre>\n"
      ],
      "text/plain": [
       "\u001b[1m[\u001b[0mTom\u001b[1m]\u001b[0m\n"
      ]
     },
     "metadata": {},
     "output_type": "display_data"
    },
    {
     "data": {
      "text/html": [
       "<pre style=\"white-space:pre;overflow-x:auto;line-height:normal;font-family:Menlo,'DejaVu Sans Mono',consolas,'Courier New',monospace\"><span style=\"font-weight: bold\">[</span><span style=\"color: #008080; text-decoration-color: #008080; font-weight: bold\">8811</span>-<span style=\"color: #008080; text-decoration-color: #008080; font-weight: bold\">8829</span><span style=\"font-weight: bold\">]</span> <span style=\"color: #008000; text-decoration-color: #008000\">\"I'm afraid you'll have to leave your machine here,\"</span> said Tom.  \n",
       "</pre>\n"
      ],
      "text/plain": [
       "\u001b[1m[\u001b[0m\u001b[1;36m8811\u001b[0m-\u001b[1;36m8829\u001b[0m\u001b[1m]\u001b[0m \u001b[32m\"I'm afraid you'll have to leave your machine here,\"\u001b[0m said Tom.  \n"
      ]
     },
     "metadata": {},
     "output_type": "display_data"
    },
    {
     "data": {
      "text/html": [
       "<pre style=\"white-space:pre;overflow-x:auto;line-height:normal;font-family:Menlo,'DejaVu Sans Mono',consolas,'Courier New',monospace\"><span style=\"font-weight: bold\">[</span>Tom<span style=\"font-weight: bold\">]</span>\n",
       "</pre>\n"
      ],
      "text/plain": [
       "\u001b[1m[\u001b[0mTom\u001b[1m]\u001b[0m\n"
      ]
     },
     "metadata": {},
     "output_type": "display_data"
    },
    {
     "data": {
      "text/html": [
       "<pre style=\"white-space:pre;overflow-x:auto;line-height:normal;font-family:Menlo,'DejaVu Sans Mono',consolas,'Courier New',monospace\"><span style=\"font-weight: bold\">[</span><span style=\"color: #008080; text-decoration-color: #008080; font-weight: bold\">8975</span>-<span style=\"color: #008080; text-decoration-color: #008080; font-weight: bold\">8994</span><span style=\"font-weight: bold\">]</span> <span style=\"color: #008000; text-decoration-color: #008000\">\"Father,\"</span> said Tom earnestly, <span style=\"color: #008000; text-decoration-color: #008000\">\"may I buy that machine off him?\"</span>  \n",
       "</pre>\n"
      ],
      "text/plain": [
       "\u001b[1m[\u001b[0m\u001b[1;36m8975\u001b[0m-\u001b[1;36m8994\u001b[0m\u001b[1m]\u001b[0m \u001b[32m\"Father,\"\u001b[0m said Tom earnestly, \u001b[32m\"may I buy that machine off him?\"\u001b[0m  \n"
      ]
     },
     "metadata": {},
     "output_type": "display_data"
    },
    {
     "data": {
      "text/html": [
       "<pre style=\"white-space:pre;overflow-x:auto;line-height:normal;font-family:Menlo,'DejaVu Sans Mono',consolas,'Courier New',monospace\"><span style=\"font-weight: bold\">[</span>Tom<span style=\"font-weight: bold\">]</span>\n",
       "</pre>\n"
      ],
      "text/plain": [
       "\u001b[1m[\u001b[0mTom\u001b[1m]\u001b[0m\n"
      ]
     },
     "metadata": {},
     "output_type": "display_data"
    },
    {
     "data": {
      "text/html": [
       "<pre style=\"white-space:pre;overflow-x:auto;line-height:normal;font-family:Menlo,'DejaVu Sans Mono',consolas,'Courier New',monospace\"><span style=\"font-weight: bold\">[</span><span style=\"color: #008080; text-decoration-color: #008080; font-weight: bold\">9299</span>-<span style=\"color: #008080; text-decoration-color: #008080; font-weight: bold\">9320</span><span style=\"font-weight: bold\">]</span> <span style=\"color: #008000; text-decoration-color: #008000\">\"Mr. Damon,\"</span> said Tom quickly, <span style=\"color: #008000; text-decoration-color: #008000\">\"will you sell me that motor-cycle?\"</span>  \n",
       "</pre>\n"
      ],
      "text/plain": [
       "\u001b[1m[\u001b[0m\u001b[1;36m9299\u001b[0m-\u001b[1;36m9320\u001b[0m\u001b[1m]\u001b[0m \u001b[32m\"Mr. Damon,\"\u001b[0m said Tom quickly, \u001b[32m\"will you sell me that motor-cycle?\"\u001b[0m  \n"
      ]
     },
     "metadata": {},
     "output_type": "display_data"
    },
    {
     "data": {
      "text/html": [
       "<pre style=\"white-space:pre;overflow-x:auto;line-height:normal;font-family:Menlo,'DejaVu Sans Mono',consolas,'Courier New',monospace\"><span style=\"font-weight: bold\">[</span>Damon, Tom<span style=\"font-weight: bold\">]</span>\n",
       "</pre>\n"
      ],
      "text/plain": [
       "\u001b[1m[\u001b[0mDamon, Tom\u001b[1m]\u001b[0m\n"
      ]
     },
     "metadata": {},
     "output_type": "display_data"
    },
    {
     "data": {
      "text/html": [
       "<pre style=\"white-space:pre;overflow-x:auto;line-height:normal;font-family:Menlo,'DejaVu Sans Mono',consolas,'Courier New',monospace\"><span style=\"font-weight: bold\">[</span><span style=\"color: #008080; text-decoration-color: #008080; font-weight: bold\">9460</span>-<span style=\"color: #008080; text-decoration-color: #008080; font-weight: bold\">9479</span><span style=\"font-weight: bold\">]</span> <span style=\"color: #008000; text-decoration-color: #008000\">\"I'll give you fifty dollars,\"</span> said Tom quickly, and Mr. Damon exclaimed:  \n",
       "</pre>\n"
      ],
      "text/plain": [
       "\u001b[1m[\u001b[0m\u001b[1;36m9460\u001b[0m-\u001b[1;36m9479\u001b[0m\u001b[1m]\u001b[0m \u001b[32m\"I'll give you fifty dollars,\"\u001b[0m said Tom quickly, and Mr. Damon exclaimed:  \n"
      ]
     },
     "metadata": {},
     "output_type": "display_data"
    },
    {
     "data": {
      "text/html": [
       "<pre style=\"white-space:pre;overflow-x:auto;line-height:normal;font-family:Menlo,'DejaVu Sans Mono',consolas,'Courier New',monospace\"><span style=\"font-weight: bold\">[</span>fifty dollars, Tom, Damon<span style=\"font-weight: bold\">]</span>\n",
       "</pre>\n"
      ],
      "text/plain": [
       "\u001b[1m[\u001b[0mfifty dollars, Tom, Damon\u001b[1m]\u001b[0m\n"
      ]
     },
     "metadata": {},
     "output_type": "display_data"
    },
    {
     "data": {
      "text/html": [
       "<pre style=\"white-space:pre;overflow-x:auto;line-height:normal;font-family:Menlo,'DejaVu Sans Mono',consolas,'Courier New',monospace\"><span style=\"font-weight: bold\">[</span><span style=\"color: #008080; text-decoration-color: #008080; font-weight: bold\">9736</span>-<span style=\"color: #008080; text-decoration-color: #008080; font-weight: bold\">9746</span><span style=\"font-weight: bold\">]</span> <span style=\"color: #008000; text-decoration-color: #008000\">\"I don't know,\"</span> answered Tom.\n",
       "</pre>\n"
      ],
      "text/plain": [
       "\u001b[1m[\u001b[0m\u001b[1;36m9736\u001b[0m-\u001b[1;36m9746\u001b[0m\u001b[1m]\u001b[0m \u001b[32m\"I don't know,\"\u001b[0m answered Tom.\n"
      ]
     },
     "metadata": {},
     "output_type": "display_data"
    },
    {
     "data": {
      "text/html": [
       "<pre style=\"white-space:pre;overflow-x:auto;line-height:normal;font-family:Menlo,'DejaVu Sans Mono',consolas,'Courier New',monospace\"><span style=\"font-weight: bold\">[</span>Tom<span style=\"font-weight: bold\">]</span>\n",
       "</pre>\n"
      ],
      "text/plain": [
       "\u001b[1m[\u001b[0mTom\u001b[1m]\u001b[0m\n"
      ]
     },
     "metadata": {},
     "output_type": "display_data"
    },
    {
     "data": {
      "text/html": [
       "<pre style=\"white-space:pre;overflow-x:auto;line-height:normal;font-family:Menlo,'DejaVu Sans Mono',consolas,'Courier New',monospace\"><span style=\"font-weight: bold\">[</span><span style=\"color: #008080; text-decoration-color: #008080; font-weight: bold\">10258</span>-<span style=\"color: #008080; text-decoration-color: #008080; font-weight: bold\">10290</span><span style=\"font-weight: bold\">]</span> <span style=\"color: #008000; text-decoration-color: #008000\">\"I don't know his name,\"</span> replied Tom, <span style=\"color: #008000; text-decoration-color: #008000\">\"but I am suspicious regarding him, and I think he left because he suddenly recognized me.\"</span>\n",
       "</pre>\n"
      ],
      "text/plain": [
       "\u001b[1m[\u001b[0m\u001b[1;36m10258\u001b[0m-\u001b[1;36m10290\u001b[0m\u001b[1m]\u001b[0m \u001b[32m\"I don't know his name,\"\u001b[0m replied Tom, \u001b[32m\"but I am suspicious regarding him, and I think he left because he suddenly recognized me.\"\u001b[0m\n"
      ]
     },
     "metadata": {},
     "output_type": "display_data"
    },
    {
     "data": {
      "text/html": [
       "<pre style=\"white-space:pre;overflow-x:auto;line-height:normal;font-family:Menlo,'DejaVu Sans Mono',consolas,'Courier New',monospace\"><span style=\"font-weight: bold\">[</span>Tom<span style=\"font-weight: bold\">]</span>\n",
       "</pre>\n"
      ],
      "text/plain": [
       "\u001b[1m[\u001b[0mTom\u001b[1m]\u001b[0m\n"
      ]
     },
     "metadata": {},
     "output_type": "display_data"
    },
    {
     "data": {
      "text/html": [
       "<pre style=\"white-space:pre;overflow-x:auto;line-height:normal;font-family:Menlo,'DejaVu Sans Mono',consolas,'Courier New',monospace\"><span style=\"font-weight: bold\">[</span><span style=\"color: #008080; text-decoration-color: #008080; font-weight: bold\">10321</span>-<span style=\"color: #008080; text-decoration-color: #008080; font-weight: bold\">10346</span><span style=\"font-weight: bold\">]</span> <span style=\"color: #008000; text-decoration-color: #008000\">\"And so you think they are up to some mischief, Tom?\"</span> asked the parent when the son had finished.  \n",
       "</pre>\n"
      ],
      "text/plain": [
       "\u001b[1m[\u001b[0m\u001b[1;36m10321\u001b[0m-\u001b[1;36m10346\u001b[0m\u001b[1m]\u001b[0m \u001b[32m\"And so you think they are up to some mischief, Tom?\"\u001b[0m asked the parent when the son had finished.  \n"
      ]
     },
     "metadata": {},
     "output_type": "display_data"
    },
    {
     "data": {
      "text/html": [
       "<pre style=\"white-space:pre;overflow-x:auto;line-height:normal;font-family:Menlo,'DejaVu Sans Mono',consolas,'Courier New',monospace\"><span style=\"font-weight: bold\">[</span>Tom<span style=\"font-weight: bold\">]</span>\n",
       "</pre>\n"
      ],
      "text/plain": [
       "\u001b[1m[\u001b[0mTom\u001b[1m]\u001b[0m\n"
      ]
     },
     "metadata": {},
     "output_type": "display_data"
    },
    {
     "data": {
      "text/html": [
       "<pre style=\"white-space:pre;overflow-x:auto;line-height:normal;font-family:Menlo,'DejaVu Sans Mono',consolas,'Courier New',monospace\"><span style=\"font-weight: bold\">[</span><span style=\"color: #008080; text-decoration-color: #008080; font-weight: bold\">10640</span>-<span style=\"color: #008080; text-decoration-color: #008080; font-weight: bold\">10658</span><span style=\"font-weight: bold\">]</span> \"I think they want to get control of my invention of the turbine motor, Tom.\n",
       "</pre>\n"
      ],
      "text/plain": [
       "\u001b[1m[\u001b[0m\u001b[1;36m10640\u001b[0m-\u001b[1;36m10658\u001b[0m\u001b[1m]\u001b[0m \"I think they want to get control of my invention of the turbine motor, Tom.\n"
      ]
     },
     "metadata": {},
     "output_type": "display_data"
    },
    {
     "data": {
      "text/html": [
       "<pre style=\"white-space:pre;overflow-x:auto;line-height:normal;font-family:Menlo,'DejaVu Sans Mono',consolas,'Courier New',monospace\"><span style=\"font-weight: bold\">[</span>Tom<span style=\"font-weight: bold\">]</span>\n",
       "</pre>\n"
      ],
      "text/plain": [
       "\u001b[1m[\u001b[0mTom\u001b[1m]\u001b[0m\n"
      ]
     },
     "metadata": {},
     "output_type": "display_data"
    },
    {
     "data": {
      "text/html": [
       "<pre style=\"white-space:pre;overflow-x:auto;line-height:normal;font-family:Menlo,'DejaVu Sans Mono',consolas,'Courier New',monospace\"><span style=\"font-weight: bold\">[</span><span style=\"color: #008080; text-decoration-color: #008080; font-weight: bold\">10762</span>-<span style=\"color: #008080; text-decoration-color: #008080; font-weight: bold\">10781</span><span style=\"font-weight: bold\">]</span> <span style=\"color: #008000; text-decoration-color: #008000\">\"Do you think this man was one of the crowd of financiers?\"</span> asked Tom.  \n",
       "</pre>\n"
      ],
      "text/plain": [
       "\u001b[1m[\u001b[0m\u001b[1;36m10762\u001b[0m-\u001b[1;36m10781\u001b[0m\u001b[1m]\u001b[0m \u001b[32m\"Do you think this man was one of the crowd of financiers?\"\u001b[0m asked Tom.  \n"
      ]
     },
     "metadata": {},
     "output_type": "display_data"
    },
    {
     "data": {
      "text/html": [
       "<pre style=\"white-space:pre;overflow-x:auto;line-height:normal;font-family:Menlo,'DejaVu Sans Mono',consolas,'Courier New',monospace\"><span style=\"font-weight: bold\">[</span>Tom<span style=\"font-weight: bold\">]</span>\n",
       "</pre>\n"
      ],
      "text/plain": [
       "\u001b[1m[\u001b[0mTom\u001b[1m]\u001b[0m\n"
      ]
     },
     "metadata": {},
     "output_type": "display_data"
    },
    {
     "data": {
      "text/html": [
       "<pre style=\"white-space:pre;overflow-x:auto;line-height:normal;font-family:Menlo,'DejaVu Sans Mono',consolas,'Courier New',monospace\"><span style=\"font-weight: bold\">[</span><span style=\"color: #008080; text-decoration-color: #008080; font-weight: bold\">10827</span>-<span style=\"color: #008080; text-decoration-color: #008080; font-weight: bold\">10836</span><span style=\"font-weight: bold\">]</span> <span style=\"color: #008000; text-decoration-color: #008000\">\"It certainly does,\"</span> agreed Tom.\n",
       "</pre>\n"
      ],
      "text/plain": [
       "\u001b[1m[\u001b[0m\u001b[1;36m10827\u001b[0m-\u001b[1;36m10836\u001b[0m\u001b[1m]\u001b[0m \u001b[32m\"It certainly does,\"\u001b[0m agreed Tom.\n"
      ]
     },
     "metadata": {},
     "output_type": "display_data"
    },
    {
     "data": {
      "text/html": [
       "<pre style=\"white-space:pre;overflow-x:auto;line-height:normal;font-family:Menlo,'DejaVu Sans Mono',consolas,'Courier New',monospace\"><span style=\"font-weight: bold\">[</span>Tom<span style=\"font-weight: bold\">]</span>\n",
       "</pre>\n"
      ],
      "text/plain": [
       "\u001b[1m[\u001b[0mTom\u001b[1m]\u001b[0m\n"
      ]
     },
     "metadata": {},
     "output_type": "display_data"
    },
    {
     "data": {
      "text/html": [
       "<pre style=\"white-space:pre;overflow-x:auto;line-height:normal;font-family:Menlo,'DejaVu Sans Mono',consolas,'Courier New',monospace\"><span style=\"font-weight: bold\">[</span><span style=\"color: #008080; text-decoration-color: #008080; font-weight: bold\">10875</span>-<span style=\"color: #008080; text-decoration-color: #008080; font-weight: bold\">10891</span><span style=\"font-weight: bold\">]</span> <span style=\"color: #008000; text-decoration-color: #008000\">\"The man lost this from his pocket, dad,\"</span> said Tom eagerly.\n",
       "</pre>\n"
      ],
      "text/plain": [
       "\u001b[1m[\u001b[0m\u001b[1;36m10875\u001b[0m-\u001b[1;36m10891\u001b[0m\u001b[1m]\u001b[0m \u001b[32m\"The man lost this from his pocket, dad,\"\u001b[0m said Tom eagerly.\n"
      ]
     },
     "metadata": {},
     "output_type": "display_data"
    },
    {
     "data": {
      "text/html": [
       "<pre style=\"white-space:pre;overflow-x:auto;line-height:normal;font-family:Menlo,'DejaVu Sans Mono',consolas,'Courier New',monospace\"><span style=\"font-weight: bold\">[</span>Tom<span style=\"font-weight: bold\">]</span>\n",
       "</pre>\n"
      ],
      "text/plain": [
       "\u001b[1m[\u001b[0mTom\u001b[1m]\u001b[0m\n"
      ]
     },
     "metadata": {},
     "output_type": "display_data"
    },
    {
     "data": {
      "text/html": [
       "<pre style=\"white-space:pre;overflow-x:auto;line-height:normal;font-family:Menlo,'DejaVu Sans Mono',consolas,'Courier New',monospace\"><span style=\"font-weight: bold\">[</span><span style=\"color: #008080; text-decoration-color: #008080; font-weight: bold\">11023</span>-<span style=\"color: #008080; text-decoration-color: #008080; font-weight: bold\">11034</span><span style=\"font-weight: bold\">]</span> <span style=\"color: #008000; text-decoration-color: #008000\">\"By Smeak &amp; Katch,\"</span> answered Tom.  \n",
       "</pre>\n"
      ],
      "text/plain": [
       "\u001b[1m[\u001b[0m\u001b[1;36m11023\u001b[0m-\u001b[1;36m11034\u001b[0m\u001b[1m]\u001b[0m \u001b[32m\"By Smeak & Katch,\"\u001b[0m answered Tom.  \n"
      ]
     },
     "metadata": {},
     "output_type": "display_data"
    },
    {
     "data": {
      "text/html": [
       "<pre style=\"white-space:pre;overflow-x:auto;line-height:normal;font-family:Menlo,'DejaVu Sans Mono',consolas,'Courier New',monospace\"><span style=\"font-weight: bold\">[</span>Smeak &amp; Katch, Tom<span style=\"font-weight: bold\">]</span>\n",
       "</pre>\n"
      ],
      "text/plain": [
       "\u001b[1m[\u001b[0mSmeak & Katch, Tom\u001b[1m]\u001b[0m\n"
      ]
     },
     "metadata": {},
     "output_type": "display_data"
    },
    {
     "data": {
      "text/html": [
       "<pre style=\"white-space:pre;overflow-x:auto;line-height:normal;font-family:Menlo,'DejaVu Sans Mono',consolas,'Courier New',monospace\"><span style=\"font-weight: bold\">[</span><span style=\"color: #008080; text-decoration-color: #008080; font-weight: bold\">11113</span>-<span style=\"color: #008080; text-decoration-color: #008080; font-weight: bold\">11123</span><span style=\"font-weight: bold\">]</span> <span style=\"color: #008000; text-decoration-color: #008000\">\"We'll fight 'em!\"</span> cried Tom.\n",
       "</pre>\n"
      ],
      "text/plain": [
       "\u001b[1m[\u001b[0m\u001b[1;36m11113\u001b[0m-\u001b[1;36m11123\u001b[0m\u001b[1m]\u001b[0m \u001b[32m\"We'll fight 'em!\"\u001b[0m cried Tom.\n"
      ]
     },
     "metadata": {},
     "output_type": "display_data"
    },
    {
     "data": {
      "text/html": [
       "<pre style=\"white-space:pre;overflow-x:auto;line-height:normal;font-family:Menlo,'DejaVu Sans Mono',consolas,'Courier New',monospace\"><span style=\"font-weight: bold\">[</span>Tom<span style=\"font-weight: bold\">]</span>\n",
       "</pre>\n"
      ],
      "text/plain": [
       "\u001b[1m[\u001b[0mTom\u001b[1m]\u001b[0m\n"
      ]
     },
     "metadata": {},
     "output_type": "display_data"
    },
    {
     "data": {
      "text/html": [
       "<pre style=\"white-space:pre;overflow-x:auto;line-height:normal;font-family:Menlo,'DejaVu Sans Mono',consolas,'Courier New',monospace\"><span style=\"font-weight: bold\">[</span><span style=\"color: #008080; text-decoration-color: #008080; font-weight: bold\">11160</span>-<span style=\"color: #008080; text-decoration-color: #008080; font-weight: bold\">11173</span><span style=\"font-weight: bold\">]</span> \"I'm glad you feel that way about it, Tom.\n",
       "</pre>\n"
      ],
      "text/plain": [
       "\u001b[1m[\u001b[0m\u001b[1;36m11160\u001b[0m-\u001b[1;36m11173\u001b[0m\u001b[1m]\u001b[0m \"I'm glad you feel that way about it, Tom.\n"
      ]
     },
     "metadata": {},
     "output_type": "display_data"
    },
    {
     "data": {
      "text/html": [
       "<pre style=\"white-space:pre;overflow-x:auto;line-height:normal;font-family:Menlo,'DejaVu Sans Mono',consolas,'Courier New',monospace\"><span style=\"font-weight: bold\">[</span>Tom<span style=\"font-weight: bold\">]</span>\n",
       "</pre>\n"
      ],
      "text/plain": [
       "\u001b[1m[\u001b[0mTom\u001b[1m]\u001b[0m\n"
      ]
     },
     "metadata": {},
     "output_type": "display_data"
    },
    {
     "data": {
      "text/html": [
       "<pre style=\"white-space:pre;overflow-x:auto;line-height:normal;font-family:Menlo,'DejaVu Sans Mono',consolas,'Courier New',monospace\"><span style=\"font-weight: bold\">[</span><span style=\"color: #008080; text-decoration-color: #008080; font-weight: bold\">11405</span>-<span style=\"color: #008080; text-decoration-color: #008080; font-weight: bold\">11414</span><span style=\"font-weight: bold\">]</span> <span style=\"color: #008000; text-decoration-color: #008000\">\"That reminds me,\"</span> spoke Tom.\n",
       "</pre>\n"
      ],
      "text/plain": [
       "\u001b[1m[\u001b[0m\u001b[1;36m11405\u001b[0m-\u001b[1;36m11414\u001b[0m\u001b[1m]\u001b[0m \u001b[32m\"That reminds me,\"\u001b[0m spoke Tom.\n"
      ]
     },
     "metadata": {},
     "output_type": "display_data"
    },
    {
     "data": {
      "text/html": [
       "<pre style=\"white-space:pre;overflow-x:auto;line-height:normal;font-family:Menlo,'DejaVu Sans Mono',consolas,'Courier New',monospace\"><span style=\"font-weight: bold\">[</span>Tom<span style=\"font-weight: bold\">]</span>\n",
       "</pre>\n"
      ],
      "text/plain": [
       "\u001b[1m[\u001b[0mTom\u001b[1m]\u001b[0m\n"
      ]
     },
     "metadata": {},
     "output_type": "display_data"
    },
    {
     "data": {
      "text/html": [
       "<pre style=\"white-space:pre;overflow-x:auto;line-height:normal;font-family:Menlo,'DejaVu Sans Mono',consolas,'Courier New',monospace\"><span style=\"font-weight: bold\">[</span><span style=\"color: #008080; text-decoration-color: #008080; font-weight: bold\">11499</span>-<span style=\"color: #008080; text-decoration-color: #008080; font-weight: bold\">11520</span><span style=\"font-weight: bold\">]</span> <span style=\"color: #008000; text-decoration-color: #008000\">\"I'll try and be careful,\"</span> promised Tom with a smile as he handed over the money.\n",
       "</pre>\n"
      ],
      "text/plain": [
       "\u001b[1m[\u001b[0m\u001b[1;36m11499\u001b[0m-\u001b[1;36m11520\u001b[0m\u001b[1m]\u001b[0m \u001b[32m\"I'll try and be careful,\"\u001b[0m promised Tom with a smile as he handed over the money.\n"
      ]
     },
     "metadata": {},
     "output_type": "display_data"
    },
    {
     "data": {
      "text/html": [
       "<pre style=\"white-space:pre;overflow-x:auto;line-height:normal;font-family:Menlo,'DejaVu Sans Mono',consolas,'Courier New',monospace\"><span style=\"font-weight: bold\">[</span>Tom<span style=\"font-weight: bold\">]</span>\n",
       "</pre>\n"
      ],
      "text/plain": [
       "\u001b[1m[\u001b[0mTom\u001b[1m]\u001b[0m\n"
      ]
     },
     "metadata": {},
     "output_type": "display_data"
    },
    {
     "data": {
      "text/html": [
       "<pre style=\"white-space:pre;overflow-x:auto;line-height:normal;font-family:Menlo,'DejaVu Sans Mono',consolas,'Courier New',monospace\"><span style=\"font-weight: bold\">[</span><span style=\"color: #008080; text-decoration-color: #008080; font-weight: bold\">11652</span>-<span style=\"color: #008080; text-decoration-color: #008080; font-weight: bold\">11665</span><span style=\"font-weight: bold\">]</span> <span style=\"color: #008000; text-decoration-color: #008000\">\"A very nice man, Tom,\"</span> commented Mr. Swift.\n",
       "</pre>\n"
      ],
      "text/plain": [
       "\u001b[1m[\u001b[0m\u001b[1;36m11652\u001b[0m-\u001b[1;36m11665\u001b[0m\u001b[1m]\u001b[0m \u001b[32m\"A very nice man, Tom,\"\u001b[0m commented Mr. Swift.\n"
      ]
     },
     "metadata": {},
     "output_type": "display_data"
    },
    {
     "data": {
      "text/html": [
       "<pre style=\"white-space:pre;overflow-x:auto;line-height:normal;font-family:Menlo,'DejaVu Sans Mono',consolas,'Courier New',monospace\"><span style=\"font-weight: bold\">[</span>Tom, Swift<span style=\"font-weight: bold\">]</span>\n",
       "</pre>\n"
      ],
      "text/plain": [
       "\u001b[1m[\u001b[0mTom, Swift\u001b[1m]\u001b[0m\n"
      ]
     },
     "metadata": {},
     "output_type": "display_data"
    },
    {
     "data": {
      "text/html": [
       "<pre style=\"white-space:pre;overflow-x:auto;line-height:normal;font-family:Menlo,'DejaVu Sans Mono',consolas,'Courier New',monospace\"><span style=\"font-weight: bold\">[</span><span style=\"color: #008080; text-decoration-color: #008080; font-weight: bold\">11775</span>-<span style=\"color: #008080; text-decoration-color: #008080; font-weight: bold\">11795</span><span style=\"font-weight: bold\">]</span> \"Before you do that, Tom, I wish you would take a telegram to town for me.\n",
       "</pre>\n"
      ],
      "text/plain": [
       "\u001b[1m[\u001b[0m\u001b[1;36m11775\u001b[0m-\u001b[1;36m11795\u001b[0m\u001b[1m]\u001b[0m \"Before you do that, Tom, I wish you would take a telegram to town for me.\n"
      ]
     },
     "metadata": {},
     "output_type": "display_data"
    },
    {
     "data": {
      "text/html": [
       "<pre style=\"white-space:pre;overflow-x:auto;line-height:normal;font-family:Menlo,'DejaVu Sans Mono',consolas,'Courier New',monospace\"><span style=\"font-weight: bold\">[</span>Tom<span style=\"font-weight: bold\">]</span>\n",
       "</pre>\n"
      ],
      "text/plain": [
       "\u001b[1m[\u001b[0mTom\u001b[1m]\u001b[0m\n"
      ]
     },
     "metadata": {},
     "output_type": "display_data"
    },
    {
     "data": {
      "text/html": [
       "<pre style=\"white-space:pre;overflow-x:auto;line-height:normal;font-family:Menlo,'DejaVu Sans Mono',consolas,'Courier New',monospace\"><span style=\"font-weight: bold\">[</span><span style=\"color: #008080; text-decoration-color: #008080; font-weight: bold\">11805</span>-<span style=\"color: #008080; text-decoration-color: #008080; font-weight: bold\">11834</span><span style=\"font-weight: bold\">]</span> <span style=\"color: #008000; text-decoration-color: #008000\">\"Dad looks worried,\"</span> thought Tom as he wheeled the broken motor-cycle into a machine shop, where he did most of his work.\n",
       "</pre>\n"
      ],
      "text/plain": [
       "\u001b[1m[\u001b[0m\u001b[1;36m11805\u001b[0m-\u001b[1;36m11834\u001b[0m\u001b[1m]\u001b[0m \u001b[32m\"Dad looks worried,\"\u001b[0m thought Tom as he wheeled the broken motor-cycle into a machine shop, where he did most of his work.\n"
      ]
     },
     "metadata": {},
     "output_type": "display_data"
    },
    {
     "data": {
      "text/html": [
       "<pre style=\"white-space:pre;overflow-x:auto;line-height:normal;font-family:Menlo,'DejaVu Sans Mono',consolas,'Courier New',monospace\"><span style=\"font-weight: bold\">[</span>Tom<span style=\"font-weight: bold\">]</span>\n",
       "</pre>\n"
      ],
      "text/plain": [
       "\u001b[1m[\u001b[0mTom\u001b[1m]\u001b[0m\n"
      ]
     },
     "metadata": {},
     "output_type": "display_data"
    },
    {
     "data": {
      "text/html": [
       "<pre style=\"white-space:pre;overflow-x:auto;line-height:normal;font-family:Menlo,'DejaVu Sans Mono',consolas,'Courier New',monospace\"><span style=\"font-weight: bold\">[</span><span style=\"color: #008080; text-decoration-color: #008080; font-weight: bold\">11997</span>-<span style=\"color: #008080; text-decoration-color: #008080; font-weight: bold\">12014</span><span style=\"font-weight: bold\">]</span> <span style=\"color: #008000; text-decoration-color: #008000\">\"Think this storm will hold off until I get home?\"</span> asked Tom.  \n",
       "</pre>\n"
      ],
      "text/plain": [
       "\u001b[1m[\u001b[0m\u001b[1;36m11997\u001b[0m-\u001b[1;36m12014\u001b[0m\u001b[1m]\u001b[0m \u001b[32m\"Think this storm will hold off until I get home?\"\u001b[0m asked Tom.  \n"
      ]
     },
     "metadata": {},
     "output_type": "display_data"
    },
    {
     "data": {
      "text/html": [
       "<pre style=\"white-space:pre;overflow-x:auto;line-height:normal;font-family:Menlo,'DejaVu Sans Mono',consolas,'Courier New',monospace\"><span style=\"font-weight: bold\">[</span>Tom<span style=\"font-weight: bold\">]</span>\n",
       "</pre>\n"
      ],
      "text/plain": [
       "\u001b[1m[\u001b[0mTom\u001b[1m]\u001b[0m\n"
      ]
     },
     "metadata": {},
     "output_type": "display_data"
    },
    {
     "data": {
      "text/html": [
       "<pre style=\"white-space:pre;overflow-x:auto;line-height:normal;font-family:Menlo,'DejaVu Sans Mono',consolas,'Courier New',monospace\"><span style=\"font-weight: bold\">[</span><span style=\"color: #008080; text-decoration-color: #008080; font-weight: bold\">12455</span>-<span style=\"color: #008080; text-decoration-color: #008080; font-weight: bold\">12464</span><span style=\"font-weight: bold\">]</span> <span style=\"color: #008000; text-decoration-color: #008000\">\"An automobile,\"</span> said Tom aloud.\n",
       "</pre>\n"
      ],
      "text/plain": [
       "\u001b[1m[\u001b[0m\u001b[1;36m12455\u001b[0m-\u001b[1;36m12464\u001b[0m\u001b[1m]\u001b[0m \u001b[32m\"An automobile,\"\u001b[0m said Tom aloud.\n"
      ]
     },
     "metadata": {},
     "output_type": "display_data"
    },
    {
     "data": {
      "text/html": [
       "<pre style=\"white-space:pre;overflow-x:auto;line-height:normal;font-family:Menlo,'DejaVu Sans Mono',consolas,'Courier New',monospace\"><span style=\"font-weight: bold\">[</span>Tom<span style=\"font-weight: bold\">]</span>\n",
       "</pre>\n"
      ],
      "text/plain": [
       "\u001b[1m[\u001b[0mTom\u001b[1m]\u001b[0m\n"
      ]
     },
     "metadata": {},
     "output_type": "display_data"
    },
    {
     "data": {
      "text/html": [
       "<pre style=\"white-space:pre;overflow-x:auto;line-height:normal;font-family:Menlo,'DejaVu Sans Mono',consolas,'Courier New',monospace\"><span style=\"font-weight: bold\">[</span><span style=\"color: #008080; text-decoration-color: #008080; font-weight: bold\">12618</span>-<span style=\"color: #008080; text-decoration-color: #008080; font-weight: bold\">12631</span><span style=\"font-weight: bold\">]</span> <span style=\"color: #008000; text-decoration-color: #008000\">\"Oh, I couldn't do that,\"</span> said Tom.\n",
       "</pre>\n"
      ],
      "text/plain": [
       "\u001b[1m[\u001b[0m\u001b[1;36m12618\u001b[0m-\u001b[1;36m12631\u001b[0m\u001b[1m]\u001b[0m \u001b[32m\"Oh, I couldn't do that,\"\u001b[0m said Tom.\n"
      ]
     },
     "metadata": {},
     "output_type": "display_data"
    },
    {
     "data": {
      "text/html": [
       "<pre style=\"white-space:pre;overflow-x:auto;line-height:normal;font-family:Menlo,'DejaVu Sans Mono',consolas,'Courier New',monospace\"><span style=\"font-weight: bold\">[</span>Tom<span style=\"font-weight: bold\">]</span>\n",
       "</pre>\n"
      ],
      "text/plain": [
       "\u001b[1m[\u001b[0mTom\u001b[1m]\u001b[0m\n"
      ]
     },
     "metadata": {},
     "output_type": "display_data"
    },
    {
     "data": {
      "text/html": [
       "<pre style=\"white-space:pre;overflow-x:auto;line-height:normal;font-family:Menlo,'DejaVu Sans Mono',consolas,'Courier New',monospace\"><span style=\"font-weight: bold\">[</span><span style=\"color: #008080; text-decoration-color: #008080; font-weight: bold\">12806</span>-<span style=\"color: #008080; text-decoration-color: #008080; font-weight: bold\">12816</span><span style=\"font-weight: bold\">]</span> <span style=\"color: #008000; text-decoration-color: #008000\">\"I live here,\"</span> replied Tom.  \n",
       "</pre>\n"
      ],
      "text/plain": [
       "\u001b[1m[\u001b[0m\u001b[1;36m12806\u001b[0m-\u001b[1;36m12816\u001b[0m\u001b[1m]\u001b[0m \u001b[32m\"I live here,\"\u001b[0m replied Tom.  \n"
      ]
     },
     "metadata": {},
     "output_type": "display_data"
    },
    {
     "data": {
      "text/html": [
       "<pre style=\"white-space:pre;overflow-x:auto;line-height:normal;font-family:Menlo,'DejaVu Sans Mono',consolas,'Courier New',monospace\"><span style=\"font-weight: bold\">[</span>Tom<span style=\"font-weight: bold\">]</span>\n",
       "</pre>\n"
      ],
      "text/plain": [
       "\u001b[1m[\u001b[0mTom\u001b[1m]\u001b[0m\n"
      ]
     },
     "metadata": {},
     "output_type": "display_data"
    },
    {
     "data": {
      "text/html": [
       "<pre style=\"white-space:pre;overflow-x:auto;line-height:normal;font-family:Menlo,'DejaVu Sans Mono',consolas,'Courier New',monospace\"><span style=\"font-weight: bold\">[</span><span style=\"color: #008080; text-decoration-color: #008080; font-weight: bold\">12844</span>-<span style=\"color: #008080; text-decoration-color: #008080; font-weight: bold\">12853</span><span style=\"font-weight: bold\">]</span> <span style=\"color: #008000; text-decoration-color: #008000\">\"I heard him,\"</span> interrupted Tom.\n",
       "</pre>\n"
      ],
      "text/plain": [
       "\u001b[1m[\u001b[0m\u001b[1;36m12844\u001b[0m-\u001b[1;36m12853\u001b[0m\u001b[1m]\u001b[0m \u001b[32m\"I heard him,\"\u001b[0m interrupted Tom.\n"
      ]
     },
     "metadata": {},
     "output_type": "display_data"
    },
    {
     "data": {
      "text/html": [
       "<pre style=\"white-space:pre;overflow-x:auto;line-height:normal;font-family:Menlo,'DejaVu Sans Mono',consolas,'Courier New',monospace\"><span style=\"font-weight: bold\">[</span>Tom<span style=\"font-weight: bold\">]</span>\n",
       "</pre>\n"
      ],
      "text/plain": [
       "\u001b[1m[\u001b[0mTom\u001b[1m]\u001b[0m\n"
      ]
     },
     "metadata": {},
     "output_type": "display_data"
    },
    {
     "data": {
      "text/html": [
       "<pre style=\"white-space:pre;overflow-x:auto;line-height:normal;font-family:Menlo,'DejaVu Sans Mono',consolas,'Courier New',monospace\"><span style=\"font-weight: bold\">[</span><span style=\"color: #008080; text-decoration-color: #008080; font-weight: bold\">12853</span>-<span style=\"color: #008080; text-decoration-color: #008080; font-weight: bold\">12894</span><span style=\"font-weight: bold\">]</span> <span style=\"color: #008000; text-decoration-color: #008000\">\"Yes, I know a Mr. Swift;\"</span> but Tom, with a sudden resolve, and one he could hardly explain, decided that, for the present, he would not betray his own identity.\n",
       "</pre>\n"
      ],
      "text/plain": [
       "\u001b[1m[\u001b[0m\u001b[1;36m12853\u001b[0m-\u001b[1;36m12894\u001b[0m\u001b[1m]\u001b[0m \u001b[32m\"Yes, I know a Mr. Swift;\"\u001b[0m but Tom, with a sudden resolve, and one he could hardly explain, decided that, for the present, he would not betray his own identity.\n"
      ]
     },
     "metadata": {},
     "output_type": "display_data"
    },
    {
     "data": {
      "text/html": [
       "<pre style=\"white-space:pre;overflow-x:auto;line-height:normal;font-family:Menlo,'DejaVu Sans Mono',consolas,'Courier New',monospace\"><span style=\"font-weight: bold\">[</span>Swift, Tom<span style=\"font-weight: bold\">]</span>\n",
       "</pre>\n"
      ],
      "text/plain": [
       "\u001b[1m[\u001b[0mSwift, Tom\u001b[1m]\u001b[0m\n"
      ]
     },
     "metadata": {},
     "output_type": "display_data"
    },
    {
     "data": {
      "text/html": [
       "<pre style=\"white-space:pre;overflow-x:auto;line-height:normal;font-family:Menlo,'DejaVu Sans Mono',consolas,'Courier New',monospace\"><span style=\"font-weight: bold\">[</span><span style=\"color: #008080; text-decoration-color: #008080; font-weight: bold\">13182</span>-<span style=\"color: #008080; text-decoration-color: #008080; font-weight: bold\">13186</span><span style=\"font-weight: bold\">]</span> \"Tom Swift!\n",
       "</pre>\n"
      ],
      "text/plain": [
       "\u001b[1m[\u001b[0m\u001b[1;36m13182\u001b[0m-\u001b[1;36m13186\u001b[0m\u001b[1m]\u001b[0m \"Tom Swift!\n"
      ]
     },
     "metadata": {},
     "output_type": "display_data"
    },
    {
     "data": {
      "text/html": [
       "<pre style=\"white-space:pre;overflow-x:auto;line-height:normal;font-family:Menlo,'DejaVu Sans Mono',consolas,'Courier New',monospace\"><span style=\"font-weight: bold\">[</span>Tom Swift<span style=\"font-weight: bold\">]</span>\n",
       "</pre>\n"
      ],
      "text/plain": [
       "\u001b[1m[\u001b[0mTom Swift\u001b[1m]\u001b[0m\n"
      ]
     },
     "metadata": {},
     "output_type": "display_data"
    },
    {
     "data": {
      "text/html": [
       "<pre style=\"white-space:pre;overflow-x:auto;line-height:normal;font-family:Menlo,'DejaVu Sans Mono',consolas,'Courier New',monospace\"><span style=\"font-weight: bold\">[</span><span style=\"color: #008080; text-decoration-color: #008080; font-weight: bold\">13542</span>-<span style=\"color: #008080; text-decoration-color: #008080; font-weight: bold\">13550</span><span style=\"font-weight: bold\">]</span> <span style=\"color: #008000; text-decoration-color: #008000\">\"Why, it's Tom!\"</span>\n",
       "</pre>\n"
      ],
      "text/plain": [
       "\u001b[1m[\u001b[0m\u001b[1;36m13542\u001b[0m-\u001b[1;36m13550\u001b[0m\u001b[1m]\u001b[0m \u001b[32m\"Why, it's Tom!\"\u001b[0m\n"
      ]
     },
     "metadata": {},
     "output_type": "display_data"
    },
    {
     "data": {
      "text/html": [
       "<pre style=\"white-space:pre;overflow-x:auto;line-height:normal;font-family:Menlo,'DejaVu Sans Mono',consolas,'Courier New',monospace\"><span style=\"font-weight: bold\">[</span>Tom<span style=\"font-weight: bold\">]</span>\n",
       "</pre>\n"
      ],
      "text/plain": [
       "\u001b[1m[\u001b[0mTom\u001b[1m]\u001b[0m\n"
      ]
     },
     "metadata": {},
     "output_type": "display_data"
    },
    {
     "data": {
      "text/html": [
       "<pre style=\"white-space:pre;overflow-x:auto;line-height:normal;font-family:Menlo,'DejaVu Sans Mono',consolas,'Courier New',monospace\"><span style=\"font-weight: bold\">[</span><span style=\"color: #008080; text-decoration-color: #008080; font-weight: bold\">13703</span>-<span style=\"color: #008080; text-decoration-color: #008080; font-weight: bold\">13723</span><span style=\"font-weight: bold\">]</span> <span style=\"color: #008000; text-decoration-color: #008000\">\"Who do you suppose he could have been?\"</span> asked Tom, when he had finished.  \n",
       "</pre>\n"
      ],
      "text/plain": [
       "\u001b[1m[\u001b[0m\u001b[1;36m13703\u001b[0m-\u001b[1;36m13723\u001b[0m\u001b[1m]\u001b[0m \u001b[32m\"Who do you suppose he could have been?\"\u001b[0m asked Tom, when he had finished.  \n"
      ]
     },
     "metadata": {},
     "output_type": "display_data"
    },
    {
     "data": {
      "text/html": [
       "<pre style=\"white-space:pre;overflow-x:auto;line-height:normal;font-family:Menlo,'DejaVu Sans Mono',consolas,'Courier New',monospace\"><span style=\"font-weight: bold\">[</span>Tom<span style=\"font-weight: bold\">]</span>\n",
       "</pre>\n"
      ],
      "text/plain": [
       "\u001b[1m[\u001b[0mTom\u001b[1m]\u001b[0m\n"
      ]
     },
     "metadata": {},
     "output_type": "display_data"
    },
    {
     "data": {
      "text/html": [
       "<pre style=\"white-space:pre;overflow-x:auto;line-height:normal;font-family:Menlo,'DejaVu Sans Mono',consolas,'Courier New',monospace\"><span style=\"font-weight: bold\">[</span><span style=\"color: #008080; text-decoration-color: #008080; font-weight: bold\">13901</span>-<span style=\"color: #008080; text-decoration-color: #008080; font-weight: bold\">13938</span><span style=\"font-weight: bold\">]</span> <span style=\"color: #008000; text-decoration-color: #008000\">\"I'll help you, dad,\"</span> said Tom, and he began connecting the burglar alarm wires, there being an elaborate system of them about the house, shops and grounds.\n",
       "</pre>\n"
      ],
      "text/plain": [
       "\u001b[1m[\u001b[0m\u001b[1;36m13901\u001b[0m-\u001b[1;36m13938\u001b[0m\u001b[1m]\u001b[0m \u001b[32m\"I'll help you, dad,\"\u001b[0m said Tom, and he began connecting the burglar alarm wires, there being an elaborate system of them about the house, shops and grounds.\n"
      ]
     },
     "metadata": {},
     "output_type": "display_data"
    },
    {
     "data": {
      "text/html": [
       "<pre style=\"white-space:pre;overflow-x:auto;line-height:normal;font-family:Menlo,'DejaVu Sans Mono',consolas,'Courier New',monospace\"><span style=\"font-weight: bold\">[</span>Tom<span style=\"font-weight: bold\">]</span>\n",
       "</pre>\n"
      ],
      "text/plain": [
       "\u001b[1m[\u001b[0mTom\u001b[1m]\u001b[0m\n"
      ]
     },
     "metadata": {},
     "output_type": "display_data"
    },
    {
     "data": {
      "text/html": [
       "<pre style=\"white-space:pre;overflow-x:auto;line-height:normal;font-family:Menlo,'DejaVu Sans Mono',consolas,'Courier New',monospace\"><span style=\"font-weight: bold\">[</span><span style=\"color: #008080; text-decoration-color: #008080; font-weight: bold\">14538</span>-<span style=\"color: #008080; text-decoration-color: #008080; font-weight: bold\">14554</span><span style=\"font-weight: bold\">]</span> <span style=\"color: #008000; text-decoration-color: #008000\">\"Well, then, I'll enlarge the gasolene tank,\"</span> declared Tom.\n",
       "</pre>\n"
      ],
      "text/plain": [
       "\u001b[1m[\u001b[0m\u001b[1;36m14538\u001b[0m-\u001b[1;36m14554\u001b[0m\u001b[1m]\u001b[0m \u001b[32m\"Well, then, I'll enlarge the gasolene tank,\"\u001b[0m declared Tom.\n"
      ]
     },
     "metadata": {},
     "output_type": "display_data"
    },
    {
     "data": {
      "text/html": [
       "<pre style=\"white-space:pre;overflow-x:auto;line-height:normal;font-family:Menlo,'DejaVu Sans Mono',consolas,'Courier New',monospace\"><span style=\"font-weight: bold\">[</span>Tom<span style=\"font-weight: bold\">]</span>\n",
       "</pre>\n"
      ],
      "text/plain": [
       "\u001b[1m[\u001b[0mTom\u001b[1m]\u001b[0m\n"
      ]
     },
     "metadata": {},
     "output_type": "display_data"
    },
    {
     "data": {
      "text/html": [
       "<pre style=\"white-space:pre;overflow-x:auto;line-height:normal;font-family:Menlo,'DejaVu Sans Mono',consolas,'Courier New',monospace\"><span style=\"font-weight: bold\">[</span><span style=\"color: #008080; text-decoration-color: #008080; font-weight: bold\">14760</span>-<span style=\"color: #008080; text-decoration-color: #008080; font-weight: bold\">14772</span><span style=\"font-weight: bold\">]</span> <span style=\"color: #008000; text-decoration-color: #008000\">\"To Reedville and back,\"</span> announced Tom proudly.  \n",
       "</pre>\n"
      ],
      "text/plain": [
       "\u001b[1m[\u001b[0m\u001b[1;36m14760\u001b[0m-\u001b[1;36m14772\u001b[0m\u001b[1m]\u001b[0m \u001b[32m\"To Reedville and back,\"\u001b[0m announced Tom proudly.  \n"
      ]
     },
     "metadata": {},
     "output_type": "display_data"
    },
    {
     "data": {
      "text/html": [
       "<pre style=\"white-space:pre;overflow-x:auto;line-height:normal;font-family:Menlo,'DejaVu Sans Mono',consolas,'Courier New',monospace\"><span style=\"font-weight: bold\">[</span>Reedville, Tom<span style=\"font-weight: bold\">]</span>\n",
       "</pre>\n"
      ],
      "text/plain": [
       "\u001b[1m[\u001b[0mReedville, Tom\u001b[1m]\u001b[0m\n"
      ]
     },
     "metadata": {},
     "output_type": "display_data"
    },
    {
     "data": {
      "text/html": [
       "<pre style=\"white-space:pre;overflow-x:auto;line-height:normal;font-family:Menlo,'DejaVu Sans Mono',consolas,'Courier New',monospace\"><span style=\"font-weight: bold\">[</span><span style=\"color: #008080; text-decoration-color: #008080; font-weight: bold\">15146</span>-<span style=\"color: #008080; text-decoration-color: #008080; font-weight: bold\">15162</span><span style=\"font-weight: bold\">]</span> <span style=\"color: #008000; text-decoration-color: #008000\">\"I hope he gets out of the way in time,\"</span> thought Tom.\n",
       "</pre>\n"
      ],
      "text/plain": [
       "\u001b[1m[\u001b[0m\u001b[1;36m15146\u001b[0m-\u001b[1;36m15162\u001b[0m\u001b[1m]\u001b[0m \u001b[32m\"I hope he gets out of the way in time,\"\u001b[0m thought Tom.\n"
      ]
     },
     "metadata": {},
     "output_type": "display_data"
    },
    {
     "data": {
      "text/html": [
       "<pre style=\"white-space:pre;overflow-x:auto;line-height:normal;font-family:Menlo,'DejaVu Sans Mono',consolas,'Courier New',monospace\"><span style=\"font-weight: bold\">[</span>Tom<span style=\"font-weight: bold\">]</span>\n",
       "</pre>\n"
      ],
      "text/plain": [
       "\u001b[1m[\u001b[0mTom\u001b[1m]\u001b[0m\n"
      ]
     },
     "metadata": {},
     "output_type": "display_data"
    },
    {
     "data": {
      "text/html": [
       "<pre style=\"white-space:pre;overflow-x:auto;line-height:normal;font-family:Menlo,'DejaVu Sans Mono',consolas,'Courier New',monospace\"><span style=\"font-weight: bold\">[</span><span style=\"color: #008080; text-decoration-color: #008080; font-weight: bold\">15955</span>-<span style=\"color: #008080; text-decoration-color: #008080; font-weight: bold\">15976</span><span style=\"font-weight: bold\">]</span> <span style=\"color: #008000; text-decoration-color: #008000\">\"Why do you call him Boomerang?\"</span> asked Tom, wondering if the negro really was hurt.  \n",
       "</pre>\n"
      ],
      "text/plain": [
       "\u001b[1m[\u001b[0m\u001b[1;36m15955\u001b[0m-\u001b[1;36m15976\u001b[0m\u001b[1m]\u001b[0m \u001b[32m\"Why do you call him Boomerang?\"\u001b[0m asked Tom, wondering if the negro really was hurt.  \n"
      ]
     },
     "metadata": {},
     "output_type": "display_data"
    },
    {
     "data": {
      "text/html": [
       "<pre style=\"white-space:pre;overflow-x:auto;line-height:normal;font-family:Menlo,'DejaVu Sans Mono',consolas,'Courier New',monospace\"><span style=\"font-weight: bold\">[</span>Boomerang, Tom<span style=\"font-weight: bold\">]</span>\n",
       "</pre>\n"
      ],
      "text/plain": [
       "\u001b[1m[\u001b[0mBoomerang, Tom\u001b[1m]\u001b[0m\n"
      ]
     },
     "metadata": {},
     "output_type": "display_data"
    },
    {
     "data": {
      "text/html": [
       "<pre style=\"white-space:pre;overflow-x:auto;line-height:normal;font-family:Menlo,'DejaVu Sans Mono',consolas,'Courier New',monospace\"><span style=\"font-weight: bold\">[</span><span style=\"color: #008080; text-decoration-color: #008080; font-weight: bold\">16173</span>-<span style=\"color: #008080; text-decoration-color: #008080; font-weight: bold\">16180</span><span style=\"font-weight: bold\">]</span> <span style=\"color: #008000; text-decoration-color: #008000\">\"Eradicate,\"</span> mused Tom.\n",
       "</pre>\n"
      ],
      "text/plain": [
       "\u001b[1m[\u001b[0m\u001b[1;36m16173\u001b[0m-\u001b[1;36m16180\u001b[0m\u001b[1m]\u001b[0m \u001b[32m\"Eradicate,\"\u001b[0m mused Tom.\n"
      ]
     },
     "metadata": {},
     "output_type": "display_data"
    },
    {
     "data": {
      "text/html": [
       "<pre style=\"white-space:pre;overflow-x:auto;line-height:normal;font-family:Menlo,'DejaVu Sans Mono',consolas,'Courier New',monospace\"><span style=\"font-weight: bold\">[</span>Eradicate, Tom<span style=\"font-weight: bold\">]</span>\n",
       "</pre>\n"
      ],
      "text/plain": [
       "\u001b[1m[\u001b[0mEradicate, Tom\u001b[1m]\u001b[0m\n"
      ]
     },
     "metadata": {},
     "output_type": "display_data"
    },
    {
     "data": {
      "text/html": [
       "<pre style=\"white-space:pre;overflow-x:auto;line-height:normal;font-family:Menlo,'DejaVu Sans Mono',consolas,'Courier New',monospace\"><span style=\"font-weight: bold\">[</span><span style=\"color: #008080; text-decoration-color: #008080; font-weight: bold\">16396</span>-<span style=\"color: #008080; text-decoration-color: #008080; font-weight: bold\">16421</span><span style=\"font-weight: bold\">]</span> <span style=\"color: #008000; text-decoration-color: #008000\">\"Why, you're all right!\"</span> exclaimed Tom, glad to find that the accident had had no serious consequences.\n",
       "</pre>\n"
      ],
      "text/plain": [
       "\u001b[1m[\u001b[0m\u001b[1;36m16396\u001b[0m-\u001b[1;36m16421\u001b[0m\u001b[1m]\u001b[0m \u001b[32m\"Why, you're all right!\"\u001b[0m exclaimed Tom, glad to find that the accident had had no serious consequences.\n"
      ]
     },
     "metadata": {},
     "output_type": "display_data"
    },
    {
     "data": {
      "text/html": [
       "<pre style=\"white-space:pre;overflow-x:auto;line-height:normal;font-family:Menlo,'DejaVu Sans Mono',consolas,'Courier New',monospace\"><span style=\"font-weight: bold\">[</span>Tom<span style=\"font-weight: bold\">]</span>\n",
       "</pre>\n"
      ],
      "text/plain": [
       "\u001b[1m[\u001b[0mTom\u001b[1m]\u001b[0m\n"
      ]
     },
     "metadata": {},
     "output_type": "display_data"
    },
    {
     "data": {
      "text/html": [
       "<pre style=\"white-space:pre;overflow-x:auto;line-height:normal;font-family:Menlo,'DejaVu Sans Mono',consolas,'Courier New',monospace\"><span style=\"font-weight: bold\">[</span><span style=\"color: #008080; text-decoration-color: #008080; font-weight: bold\">16564</span>-<span style=\"color: #008080; text-decoration-color: #008080; font-weight: bold\">16577</span><span style=\"font-weight: bold\">]</span> <span style=\"color: #008000; text-decoration-color: #008000\">\"What are you doing that for?\"</span> asked Tom.  \n",
       "</pre>\n"
      ],
      "text/plain": [
       "\u001b[1m[\u001b[0m\u001b[1;36m16564\u001b[0m-\u001b[1;36m16577\u001b[0m\u001b[1m]\u001b[0m \u001b[32m\"What are you doing that for?\"\u001b[0m asked Tom.  \n"
      ]
     },
     "metadata": {},
     "output_type": "display_data"
    },
    {
     "data": {
      "text/html": [
       "<pre style=\"white-space:pre;overflow-x:auto;line-height:normal;font-family:Menlo,'DejaVu Sans Mono',consolas,'Courier New',monospace\"><span style=\"font-weight: bold\">[</span>Tom<span style=\"font-weight: bold\">]</span>\n",
       "</pre>\n"
      ],
      "text/plain": [
       "\u001b[1m[\u001b[0mTom\u001b[1m]\u001b[0m\n"
      ]
     },
     "metadata": {},
     "output_type": "display_data"
    },
    {
     "data": {
      "text/html": [
       "<pre style=\"white-space:pre;overflow-x:auto;line-height:normal;font-family:Menlo,'DejaVu Sans Mono',consolas,'Courier New',monospace\"><span style=\"font-weight: bold\">[</span><span style=\"color: #008080; text-decoration-color: #008080; font-weight: bold\">16816</span>-<span style=\"color: #008080; text-decoration-color: #008080; font-weight: bold\">16831</span><span style=\"font-weight: bold\">]</span> <span style=\"color: #008000; text-decoration-color: #008000\">\"There,\"</span> said Tom at length, as he tightened the nut.\n",
       "</pre>\n"
      ],
      "text/plain": [
       "\u001b[1m[\u001b[0m\u001b[1;36m16816\u001b[0m-\u001b[1;36m16831\u001b[0m\u001b[1m]\u001b[0m \u001b[32m\"There,\"\u001b[0m said Tom at length, as he tightened the nut.\n"
      ]
     },
     "metadata": {},
     "output_type": "display_data"
    },
    {
     "data": {
      "text/html": [
       "<pre style=\"white-space:pre;overflow-x:auto;line-height:normal;font-family:Menlo,'DejaVu Sans Mono',consolas,'Courier New',monospace\"><span style=\"font-weight: bold\">[</span>Tom<span style=\"font-weight: bold\">]</span>\n",
       "</pre>\n"
      ],
      "text/plain": [
       "\u001b[1m[\u001b[0mTom\u001b[1m]\u001b[0m\n"
      ]
     },
     "metadata": {},
     "output_type": "display_data"
    },
    {
     "data": {
      "text/html": [
       "<pre style=\"white-space:pre;overflow-x:auto;line-height:normal;font-family:Menlo,'DejaVu Sans Mono',consolas,'Courier New',monospace\"><span style=\"font-weight: bold\">[</span><span style=\"color: #008080; text-decoration-color: #008080; font-weight: bold\">17003</span>-<span style=\"color: #008080; text-decoration-color: #008080; font-weight: bold\">17033</span><span style=\"font-weight: bold\">]</span> <span style=\"color: #008000; text-decoration-color: #008000\">\"All right,\"</span> rejoined Tom with a laugh, not thinking it worth while to explain what he meant by the lever force of the brake rod.\n",
       "</pre>\n"
      ],
      "text/plain": [
       "\u001b[1m[\u001b[0m\u001b[1;36m17003\u001b[0m-\u001b[1;36m17033\u001b[0m\u001b[1m]\u001b[0m \u001b[32m\"All right,\"\u001b[0m rejoined Tom with a laugh, not thinking it worth while to explain what he meant by the lever force of the brake rod.\n"
      ]
     },
     "metadata": {},
     "output_type": "display_data"
    },
    {
     "data": {
      "text/html": [
       "<pre style=\"white-space:pre;overflow-x:auto;line-height:normal;font-family:Menlo,'DejaVu Sans Mono',consolas,'Courier New',monospace\"><span style=\"font-weight: bold\">[</span>Tom<span style=\"font-weight: bold\">]</span>\n",
       "</pre>\n"
      ],
      "text/plain": [
       "\u001b[1m[\u001b[0mTom\u001b[1m]\u001b[0m\n"
      ]
     },
     "metadata": {},
     "output_type": "display_data"
    },
    {
     "data": {
      "text/html": [
       "<pre style=\"white-space:pre;overflow-x:auto;line-height:normal;font-family:Menlo,'DejaVu Sans Mono',consolas,'Courier New',monospace\"><span style=\"font-weight: bold\">[</span><span style=\"color: #008080; text-decoration-color: #008080; font-weight: bold\">17141</span>-<span style=\"color: #008080; text-decoration-color: #008080; font-weight: bold\">17168</span><span style=\"font-weight: bold\">]</span> <span style=\"color: #008000; text-decoration-color: #008000\">\"It suah do work, Mistah Swift!\"</span> called the darky to Tom, who was waiting the result of his little repair job.\n",
       "</pre>\n"
      ],
      "text/plain": [
       "\u001b[1m[\u001b[0m\u001b[1;36m17141\u001b[0m-\u001b[1;36m17168\u001b[0m\u001b[1m]\u001b[0m \u001b[32m\"It suah do work, Mistah Swift!\"\u001b[0m called the darky to Tom, who was waiting the result of his little repair job.\n"
      ]
     },
     "metadata": {},
     "output_type": "display_data"
    },
    {
     "data": {
      "text/html": [
       "<pre style=\"white-space:pre;overflow-x:auto;line-height:normal;font-family:Menlo,'DejaVu Sans Mono',consolas,'Courier New',monospace\"><span style=\"font-weight: bold\">[</span>Mistah Swift, Tom<span style=\"font-weight: bold\">]</span>\n",
       "</pre>\n"
      ],
      "text/plain": [
       "\u001b[1m[\u001b[0mMistah Swift, Tom\u001b[1m]\u001b[0m\n"
      ]
     },
     "metadata": {},
     "output_type": "display_data"
    },
    {
     "data": {
      "text/html": [
       "<pre style=\"white-space:pre;overflow-x:auto;line-height:normal;font-family:Menlo,'DejaVu Sans Mono',consolas,'Courier New',monospace\"><span style=\"font-weight: bold\">[</span><span style=\"color: #008080; text-decoration-color: #008080; font-weight: bold\">17326</span>-<span style=\"color: #008080; text-decoration-color: #008080; font-weight: bold\">17342</span><span style=\"font-weight: bold\">]</span> <span style=\"color: #008000; text-decoration-color: #008000\">\"This machine has more possibilities in it than I suspected,\"</span> mused Tom.\n",
       "</pre>\n"
      ],
      "text/plain": [
       "\u001b[1m[\u001b[0m\u001b[1;36m17326\u001b[0m-\u001b[1;36m17342\u001b[0m\u001b[1m]\u001b[0m \u001b[32m\"This machine has more possibilities in it than I suspected,\"\u001b[0m mused Tom.\n"
      ]
     },
     "metadata": {},
     "output_type": "display_data"
    },
    {
     "data": {
      "text/html": [
       "<pre style=\"white-space:pre;overflow-x:auto;line-height:normal;font-family:Menlo,'DejaVu Sans Mono',consolas,'Courier New',monospace\"><span style=\"font-weight: bold\">[</span>Tom<span style=\"font-weight: bold\">]</span>\n",
       "</pre>\n"
      ],
      "text/plain": [
       "\u001b[1m[\u001b[0mTom\u001b[1m]\u001b[0m\n"
      ]
     },
     "metadata": {},
     "output_type": "display_data"
    },
    {
     "data": {
      "text/html": [
       "<pre style=\"white-space:pre;overflow-x:auto;line-height:normal;font-family:Menlo,'DejaVu Sans Mono',consolas,'Courier New',monospace\"><span style=\"font-weight: bold\">[</span><span style=\"color: #008080; text-decoration-color: #008080; font-weight: bold\">17835</span>-<span style=\"color: #008080; text-decoration-color: #008080; font-weight: bold\">17867</span><span style=\"font-weight: bold\">]</span> <span style=\"color: #008000; text-decoration-color: #008000\">\"Well, Tom, here is the way I would do that,\"</span> and substituting the back of an envelope for the tablecloth, he continued the drawing.\n",
       "</pre>\n"
      ],
      "text/plain": [
       "\u001b[1m[\u001b[0m\u001b[1;36m17835\u001b[0m-\u001b[1;36m17867\u001b[0m\u001b[1m]\u001b[0m \u001b[32m\"Well, Tom, here is the way I would do that,\"\u001b[0m and substituting the back of an envelope for the tablecloth, he continued the drawing.\n"
      ]
     },
     "metadata": {},
     "output_type": "display_data"
    },
    {
     "data": {
      "text/html": [
       "<pre style=\"white-space:pre;overflow-x:auto;line-height:normal;font-family:Menlo,'DejaVu Sans Mono',consolas,'Courier New',monospace\"><span style=\"font-weight: bold\">[</span>Tom<span style=\"font-weight: bold\">]</span>\n",
       "</pre>\n"
      ],
      "text/plain": [
       "\u001b[1m[\u001b[0mTom\u001b[1m]\u001b[0m\n"
      ]
     },
     "metadata": {},
     "output_type": "display_data"
    },
    {
     "data": {
      "text/html": [
       "<pre style=\"white-space:pre;overflow-x:auto;line-height:normal;font-family:Menlo,'DejaVu Sans Mono',consolas,'Courier New',monospace\"><span style=\"font-weight: bold\">[</span><span style=\"color: #008080; text-decoration-color: #008080; font-weight: bold\">18061</span>-<span style=\"color: #008080; text-decoration-color: #008080; font-weight: bold\">18070</span><span style=\"font-weight: bold\">]</span> <span style=\"color: #008000; text-decoration-color: #008000\">\"That's queer,\"</span> spoke Tom.\n",
       "</pre>\n"
      ],
      "text/plain": [
       "\u001b[1m[\u001b[0m\u001b[1;36m18061\u001b[0m-\u001b[1;36m18070\u001b[0m\u001b[1m]\u001b[0m \u001b[32m\"That's queer,\"\u001b[0m spoke Tom.\n"
      ]
     },
     "metadata": {},
     "output_type": "display_data"
    },
    {
     "data": {
      "text/html": [
       "<pre style=\"white-space:pre;overflow-x:auto;line-height:normal;font-family:Menlo,'DejaVu Sans Mono',consolas,'Courier New',monospace\"><span style=\"font-weight: bold\">[</span>Tom<span style=\"font-weight: bold\">]</span>\n",
       "</pre>\n"
      ],
      "text/plain": [
       "\u001b[1m[\u001b[0mTom\u001b[1m]\u001b[0m\n"
      ]
     },
     "metadata": {},
     "output_type": "display_data"
    },
    {
     "data": {
      "text/html": [
       "<pre style=\"white-space:pre;overflow-x:auto;line-height:normal;font-family:Menlo,'DejaVu Sans Mono',consolas,'Courier New',monospace\"><span style=\"font-weight: bold\">[</span><span style=\"color: #008080; text-decoration-color: #008080; font-weight: bold\">18170</span>-<span style=\"color: #008080; text-decoration-color: #008080; font-weight: bold\">18178</span><span style=\"font-weight: bold\">]</span> <span style=\"color: #008000; text-decoration-color: #008000\">\"Catch him, Tom!\"</span>  \n",
       "</pre>\n"
      ],
      "text/plain": [
       "\u001b[1m[\u001b[0m\u001b[1;36m18170\u001b[0m-\u001b[1;36m18178\u001b[0m\u001b[1m]\u001b[0m \u001b[32m\"Catch him, Tom!\"\u001b[0m  \n"
      ]
     },
     "metadata": {},
     "output_type": "display_data"
    },
    {
     "data": {
      "text/html": [
       "<pre style=\"white-space:pre;overflow-x:auto;line-height:normal;font-family:Menlo,'DejaVu Sans Mono',consolas,'Courier New',monospace\"><span style=\"font-weight: bold\">[</span>Tom<span style=\"font-weight: bold\">]</span>\n",
       "</pre>\n"
      ],
      "text/plain": [
       "\u001b[1m[\u001b[0mTom\u001b[1m]\u001b[0m\n"
      ]
     },
     "metadata": {},
     "output_type": "display_data"
    },
    {
     "data": {
      "text/html": [
       "<pre style=\"white-space:pre;overflow-x:auto;line-height:normal;font-family:Menlo,'DejaVu Sans Mono',consolas,'Courier New',monospace\"><span style=\"font-weight: bold\">[</span><span style=\"color: #008080; text-decoration-color: #008080; font-weight: bold\">18250</span>-<span style=\"color: #008080; text-decoration-color: #008080; font-weight: bold\">18263</span><span style=\"font-weight: bold\">]</span> <span style=\"color: #008000; text-decoration-color: #008000\">\"He can't be very far ahead,\"</span> thought Tom.\n",
       "</pre>\n"
      ],
      "text/plain": [
       "\u001b[1m[\u001b[0m\u001b[1;36m18250\u001b[0m-\u001b[1;36m18263\u001b[0m\u001b[1m]\u001b[0m \u001b[32m\"He can't be very far ahead,\"\u001b[0m thought Tom.\n"
      ]
     },
     "metadata": {},
     "output_type": "display_data"
    },
    {
     "data": {
      "text/html": [
       "<pre style=\"white-space:pre;overflow-x:auto;line-height:normal;font-family:Menlo,'DejaVu Sans Mono',consolas,'Courier New',monospace\"><span style=\"font-weight: bold\">[</span>Tom<span style=\"font-weight: bold\">]</span>\n",
       "</pre>\n"
      ],
      "text/plain": [
       "\u001b[1m[\u001b[0mTom\u001b[1m]\u001b[0m\n"
      ]
     },
     "metadata": {},
     "output_type": "display_data"
    },
    {
     "data": {
      "text/html": [
       "<pre style=\"white-space:pre;overflow-x:auto;line-height:normal;font-family:Menlo,'DejaVu Sans Mono',consolas,'Courier New',monospace\"><span style=\"font-weight: bold\">[</span><span style=\"color: #008080; text-decoration-color: #008080; font-weight: bold\">18323</span>-<span style=\"color: #008080; text-decoration-color: #008080; font-weight: bold\">18362</span><span style=\"font-weight: bold\">]</span> <span style=\"color: #008000; text-decoration-color: #008000\">\"I wonder if he was some ordinary tramp, looking for what he could steal, or if he was one of the gang after dad's invention?\"</span> thought Tom as he sprinted ahead.\n",
       "</pre>\n"
      ],
      "text/plain": [
       "\u001b[1m[\u001b[0m\u001b[1;36m18323\u001b[0m-\u001b[1;36m18362\u001b[0m\u001b[1m]\u001b[0m \u001b[32m\"I wonder if he was some ordinary tramp, looking for what he could steal, or if he was one of the gang after dad's invention?\"\u001b[0m thought Tom as he sprinted ahead.\n"
      ]
     },
     "metadata": {},
     "output_type": "display_data"
    },
    {
     "data": {
      "text/html": [
       "<pre style=\"white-space:pre;overflow-x:auto;line-height:normal;font-family:Menlo,'DejaVu Sans Mono',consolas,'Courier New',monospace\"><span style=\"font-weight: bold\">[</span>Tom<span style=\"font-weight: bold\">]</span>\n",
       "</pre>\n"
      ],
      "text/plain": [
       "\u001b[1m[\u001b[0mTom\u001b[1m]\u001b[0m\n"
      ]
     },
     "metadata": {},
     "output_type": "display_data"
    },
    {
     "data": {
      "text/html": [
       "<pre style=\"white-space:pre;overflow-x:auto;line-height:normal;font-family:Menlo,'DejaVu Sans Mono',consolas,'Courier New',monospace\"><span style=\"font-weight: bold\">[</span><span style=\"color: #008080; text-decoration-color: #008080; font-weight: bold\">18720</span>-<span style=\"color: #008080; text-decoration-color: #008080; font-weight: bold\">18729</span><span style=\"font-weight: bold\">]</span> <span style=\"color: #008000; text-decoration-color: #008000\">\"He jumped down!\"</span> thought Tom.\n",
       "</pre>\n"
      ],
      "text/plain": [
       "\u001b[1m[\u001b[0m\u001b[1;36m18720\u001b[0m-\u001b[1;36m18729\u001b[0m\u001b[1m]\u001b[0m \u001b[32m\"He jumped down!\"\u001b[0m thought Tom.\n"
      ]
     },
     "metadata": {},
     "output_type": "display_data"
    },
    {
     "data": {
      "text/html": [
       "<pre style=\"white-space:pre;overflow-x:auto;line-height:normal;font-family:Menlo,'DejaVu Sans Mono',consolas,'Courier New',monospace\"><span style=\"font-weight: bold\">[</span>Tom<span style=\"font-weight: bold\">]</span>\n",
       "</pre>\n"
      ],
      "text/plain": [
       "\u001b[1m[\u001b[0mTom\u001b[1m]\u001b[0m\n"
      ]
     },
     "metadata": {},
     "output_type": "display_data"
    },
    {
     "data": {
      "text/html": [
       "<pre style=\"white-space:pre;overflow-x:auto;line-height:normal;font-family:Menlo,'DejaVu Sans Mono',consolas,'Courier New',monospace\"><span style=\"font-weight: bold\">[</span><span style=\"color: #008080; text-decoration-color: #008080; font-weight: bold\">18966</span>-<span style=\"color: #008080; text-decoration-color: #008080; font-weight: bold\">18977</span><span style=\"font-weight: bold\">]</span> <span style=\"color: #008000; text-decoration-color: #008000\">\"I've lost him now,\"</span> thought Tom.\n",
       "</pre>\n"
      ],
      "text/plain": [
       "\u001b[1m[\u001b[0m\u001b[1;36m18966\u001b[0m-\u001b[1;36m18977\u001b[0m\u001b[1m]\u001b[0m \u001b[32m\"I've lost him now,\"\u001b[0m thought Tom.\n"
      ]
     },
     "metadata": {},
     "output_type": "display_data"
    },
    {
     "data": {
      "text/html": [
       "<pre style=\"white-space:pre;overflow-x:auto;line-height:normal;font-family:Menlo,'DejaVu Sans Mono',consolas,'Courier New',monospace\"><span style=\"font-weight: bold\">[</span>Tom<span style=\"font-weight: bold\">]</span>\n",
       "</pre>\n"
      ],
      "text/plain": [
       "\u001b[1m[\u001b[0mTom\u001b[1m]\u001b[0m\n"
      ]
     },
     "metadata": {},
     "output_type": "display_data"
    },
    {
     "data": {
      "text/html": [
       "<pre style=\"white-space:pre;overflow-x:auto;line-height:normal;font-family:Menlo,'DejaVu Sans Mono',consolas,'Courier New',monospace\"><span style=\"font-weight: bold\">[</span><span style=\"color: #008080; text-decoration-color: #008080; font-weight: bold\">19480</span>-<span style=\"color: #008080; text-decoration-color: #008080; font-weight: bold\">19498</span><span style=\"font-weight: bold\">]</span> <span style=\"color: #008000; text-decoration-color: #008000\">\"I wonder where he came from, and where he's going?\"</span> mused Tom.\n",
       "</pre>\n"
      ],
      "text/plain": [
       "\u001b[1m[\u001b[0m\u001b[1;36m19480\u001b[0m-\u001b[1;36m19498\u001b[0m\u001b[1m]\u001b[0m \u001b[32m\"I wonder where he came from, and where he's going?\"\u001b[0m mused Tom.\n"
      ]
     },
     "metadata": {},
     "output_type": "display_data"
    },
    {
     "data": {
      "text/html": [
       "<pre style=\"white-space:pre;overflow-x:auto;line-height:normal;font-family:Menlo,'DejaVu Sans Mono',consolas,'Courier New',monospace\"><span style=\"font-weight: bold\">[</span>Tom<span style=\"font-weight: bold\">]</span>\n",
       "</pre>\n"
      ],
      "text/plain": [
       "\u001b[1m[\u001b[0mTom\u001b[1m]\u001b[0m\n"
      ]
     },
     "metadata": {},
     "output_type": "display_data"
    },
    {
     "data": {
      "text/html": [
       "<pre style=\"white-space:pre;overflow-x:auto;line-height:normal;font-family:Menlo,'DejaVu Sans Mono',consolas,'Courier New',monospace\"><span style=\"font-weight: bold\">[</span><span style=\"color: #008080; text-decoration-color: #008080; font-weight: bold\">19745</span>-<span style=\"color: #008080; text-decoration-color: #008080; font-weight: bold\">19759</span><span style=\"font-weight: bold\">]</span> \"That's possible, Tom, and I admit it worries me.\n",
       "</pre>\n"
      ],
      "text/plain": [
       "\u001b[1m[\u001b[0m\u001b[1;36m19745\u001b[0m-\u001b[1;36m19759\u001b[0m\u001b[1m]\u001b[0m \"That's possible, Tom, and I admit it worries me.\n"
      ]
     },
     "metadata": {},
     "output_type": "display_data"
    },
    {
     "data": {
      "text/html": [
       "<pre style=\"white-space:pre;overflow-x:auto;line-height:normal;font-family:Menlo,'DejaVu Sans Mono',consolas,'Courier New',monospace\"><span style=\"font-weight: bold\">[</span>Tom<span style=\"font-weight: bold\">]</span>\n",
       "</pre>\n"
      ],
      "text/plain": [
       "\u001b[1m[\u001b[0mTom\u001b[1m]\u001b[0m\n"
      ]
     },
     "metadata": {},
     "output_type": "display_data"
    },
    {
     "data": {
      "text/html": [
       "<pre style=\"white-space:pre;overflow-x:auto;line-height:normal;font-family:Menlo,'DejaVu Sans Mono',consolas,'Courier New',monospace\"><span style=\"font-weight: bold\">[</span><span style=\"color: #008080; text-decoration-color: #008080; font-weight: bold\">19771</span>-<span style=\"color: #008080; text-decoration-color: #008080; font-weight: bold\">19794</span><span style=\"font-weight: bold\">]</span> <span style=\"color: #008000; text-decoration-color: #008000\">\"Why, he's one of the three men I saw in Mansburg in the restaurant,\"</span> said Tom eagerly.\n",
       "</pre>\n"
      ],
      "text/plain": [
       "\u001b[1m[\u001b[0m\u001b[1;36m19771\u001b[0m-\u001b[1;36m19794\u001b[0m\u001b[1m]\u001b[0m \u001b[32m\"Why, he's one of the three men I saw in Mansburg in the restaurant,\"\u001b[0m said Tom eagerly.\n"
      ]
     },
     "metadata": {},
     "output_type": "display_data"
    },
    {
     "data": {
      "text/html": [
       "<pre style=\"white-space:pre;overflow-x:auto;line-height:normal;font-family:Menlo,'DejaVu Sans Mono',consolas,'Courier New',monospace\"><span style=\"font-weight: bold\">[</span>one, three, Mansburg, Tom<span style=\"font-weight: bold\">]</span>\n",
       "</pre>\n"
      ],
      "text/plain": [
       "\u001b[1m[\u001b[0mone, three, Mansburg, Tom\u001b[1m]\u001b[0m\n"
      ]
     },
     "metadata": {},
     "output_type": "display_data"
    },
    {
     "data": {
      "text/html": [
       "<pre style=\"white-space:pre;overflow-x:auto;line-height:normal;font-family:Menlo,'DejaVu Sans Mono',consolas,'Courier New',monospace\"><span style=\"font-weight: bold\">[</span><span style=\"color: #008080; text-decoration-color: #008080; font-weight: bold\">19868</span>-<span style=\"color: #008080; text-decoration-color: #008080; font-weight: bold\">19885</span><span style=\"font-weight: bold\">]</span> <span style=\"color: #008000; text-decoration-color: #008000\">\"What do you think they are up to, dad?\"</span> asked Tom.  \n",
       "</pre>\n"
      ],
      "text/plain": [
       "\u001b[1m[\u001b[0m\u001b[1;36m19868\u001b[0m-\u001b[1;36m19885\u001b[0m\u001b[1m]\u001b[0m \u001b[32m\"What do you think they are up to, dad?\"\u001b[0m asked Tom.  \n"
      ]
     },
     "metadata": {},
     "output_type": "display_data"
    },
    {
     "data": {
      "text/html": [
       "<pre style=\"white-space:pre;overflow-x:auto;line-height:normal;font-family:Menlo,'DejaVu Sans Mono',consolas,'Courier New',monospace\"><span style=\"font-weight: bold\">[</span>Tom<span style=\"font-weight: bold\">]</span>\n",
       "</pre>\n"
      ],
      "text/plain": [
       "\u001b[1m[\u001b[0mTom\u001b[1m]\u001b[0m\n"
      ]
     },
     "metadata": {},
     "output_type": "display_data"
    },
    {
     "data": {
      "text/html": [
       "<pre style=\"white-space:pre;overflow-x:auto;line-height:normal;font-family:Menlo,'DejaVu Sans Mono',consolas,'Courier New',monospace\"><span style=\"font-weight: bold\">[</span><span style=\"color: #008080; text-decoration-color: #008080; font-weight: bold\">19885</span>-<span style=\"color: #008080; text-decoration-color: #008080; font-weight: bold\">19901</span><span style=\"font-weight: bold\">]</span> \"I think they are trying to get hold of my turbine motor, Tom.\n",
       "</pre>\n"
      ],
      "text/plain": [
       "\u001b[1m[\u001b[0m\u001b[1;36m19885\u001b[0m-\u001b[1;36m19901\u001b[0m\u001b[1m]\u001b[0m \"I think they are trying to get hold of my turbine motor, Tom.\n"
      ]
     },
     "metadata": {},
     "output_type": "display_data"
    },
    {
     "data": {
      "text/html": [
       "<pre style=\"white-space:pre;overflow-x:auto;line-height:normal;font-family:Menlo,'DejaVu Sans Mono',consolas,'Courier New',monospace\"><span style=\"font-weight: bold\">[</span>Tom<span style=\"font-weight: bold\">]</span>\n",
       "</pre>\n"
      ],
      "text/plain": [
       "\u001b[1m[\u001b[0mTom\u001b[1m]\u001b[0m\n"
      ]
     },
     "metadata": {},
     "output_type": "display_data"
    },
    {
     "data": {
      "text/html": [
       "<pre style=\"white-space:pre;overflow-x:auto;line-height:normal;font-family:Menlo,'DejaVu Sans Mono',consolas,'Courier New',monospace\"><span style=\"font-weight: bold\">[</span><span style=\"color: #008080; text-decoration-color: #008080; font-weight: bold\">20176</span>-<span style=\"color: #008080; text-decoration-color: #008080; font-weight: bold\">20199</span><span style=\"font-weight: bold\">]</span> <span style=\"color: #008000; text-decoration-color: #008000\">\"And I'll be ready any time you call on me, dad,\"</span> responded Tom, drawing himself up.\n",
       "</pre>\n"
      ],
      "text/plain": [
       "\u001b[1m[\u001b[0m\u001b[1;36m20176\u001b[0m-\u001b[1;36m20199\u001b[0m\u001b[1m]\u001b[0m \u001b[32m\"And I'll be ready any time you call on me, dad,\"\u001b[0m responded Tom, drawing himself up.\n"
      ]
     },
     "metadata": {},
     "output_type": "display_data"
    },
    {
     "data": {
      "text/html": [
       "<pre style=\"white-space:pre;overflow-x:auto;line-height:normal;font-family:Menlo,'DejaVu Sans Mono',consolas,'Courier New',monospace\"><span style=\"font-weight: bold\">[</span>Tom<span style=\"font-weight: bold\">]</span>\n",
       "</pre>\n"
      ],
      "text/plain": [
       "\u001b[1m[\u001b[0mTom\u001b[1m]\u001b[0m\n"
      ]
     },
     "metadata": {},
     "output_type": "display_data"
    },
    {
     "data": {
      "text/html": [
       "<pre style=\"white-space:pre;overflow-x:auto;line-height:normal;font-family:Menlo,'DejaVu Sans Mono',consolas,'Courier New',monospace\"><span style=\"font-weight: bold\">[</span><span style=\"color: #008080; text-decoration-color: #008080; font-weight: bold\">20492</span>-<span style=\"color: #008080; text-decoration-color: #008080; font-weight: bold\">20520</span><span style=\"font-weight: bold\">]</span> <span style=\"color: #008000; text-decoration-color: #008000\">\"I'll wager that's Boomerang,\"</span> said Tom aloud, and the mule opened its eyes, wiggled its ears and started forward.\n",
       "</pre>\n"
      ],
      "text/plain": [
       "\u001b[1m[\u001b[0m\u001b[1;36m20492\u001b[0m-\u001b[1;36m20520\u001b[0m\u001b[1m]\u001b[0m \u001b[32m\"I'll wager that's Boomerang,\"\u001b[0m said Tom aloud, and the mule opened its eyes, wiggled its ears and started forward.\n"
      ]
     },
     "metadata": {},
     "output_type": "display_data"
    },
    {
     "data": {
      "text/html": [
       "<pre style=\"white-space:pre;overflow-x:auto;line-height:normal;font-family:Menlo,'DejaVu Sans Mono',consolas,'Courier New',monospace\"><span style=\"font-weight: bold\">[</span>Boomerang, Tom<span style=\"font-weight: bold\">]</span>\n",
       "</pre>\n"
      ],
      "text/plain": [
       "\u001b[1m[\u001b[0mBoomerang, Tom\u001b[1m]\u001b[0m\n"
      ]
     },
     "metadata": {},
     "output_type": "display_data"
    },
    {
     "data": {
      "text/html": [
       "<pre style=\"white-space:pre;overflow-x:auto;line-height:normal;font-family:Menlo,'DejaVu Sans Mono',consolas,'Courier New',monospace\"><span style=\"font-weight: bold\">[</span><span style=\"color: #008080; text-decoration-color: #008080; font-weight: bold\">20625</span>-<span style=\"color: #008080; text-decoration-color: #008080; font-weight: bold\">20634</span><span style=\"font-weight: bold\">]</span> <span style=\"color: #008000; text-decoration-color: #008000\">\"Glad of it,\"</span> replied Tom.\n",
       "</pre>\n"
      ],
      "text/plain": [
       "\u001b[1m[\u001b[0m\u001b[1;36m20625\u001b[0m-\u001b[1;36m20634\u001b[0m\u001b[1m]\u001b[0m \u001b[32m\"Glad of it,\"\u001b[0m replied Tom.\n"
      ]
     },
     "metadata": {},
     "output_type": "display_data"
    },
    {
     "data": {
      "text/html": [
       "<pre style=\"white-space:pre;overflow-x:auto;line-height:normal;font-family:Menlo,'DejaVu Sans Mono',consolas,'Courier New',monospace\"><span style=\"font-weight: bold\">[</span>Tom<span style=\"font-weight: bold\">]</span>\n",
       "</pre>\n"
      ],
      "text/plain": [
       "\u001b[1m[\u001b[0mTom\u001b[1m]\u001b[0m\n"
      ]
     },
     "metadata": {},
     "output_type": "display_data"
    },
    {
     "data": {
      "text/html": [
       "<pre style=\"white-space:pre;overflow-x:auto;line-height:normal;font-family:Menlo,'DejaVu Sans Mono',consolas,'Courier New',monospace\"><span style=\"font-weight: bold\">[</span><span style=\"color: #008080; text-decoration-color: #008080; font-weight: bold\">20693</span>-<span style=\"color: #008080; text-decoration-color: #008080; font-weight: bold\">20709</span><span style=\"font-weight: bold\">]</span> <span style=\"color: #008000; text-decoration-color: #008000\">\"Well, I guess you can do a few jobs,\"</span> said Tom.\n",
       "</pre>\n"
      ],
      "text/plain": [
       "\u001b[1m[\u001b[0m\u001b[1;36m20693\u001b[0m-\u001b[1;36m20709\u001b[0m\u001b[1m]\u001b[0m \u001b[32m\"Well, I guess you can do a few jobs,\"\u001b[0m said Tom.\n"
      ]
     },
     "metadata": {},
     "output_type": "display_data"
    },
    {
     "data": {
      "text/html": [
       "<pre style=\"white-space:pre;overflow-x:auto;line-height:normal;font-family:Menlo,'DejaVu Sans Mono',consolas,'Courier New',monospace\"><span style=\"font-weight: bold\">[</span>Tom<span style=\"font-weight: bold\">]</span>\n",
       "</pre>\n"
      ],
      "text/plain": [
       "\u001b[1m[\u001b[0mTom\u001b[1m]\u001b[0m\n"
      ]
     },
     "metadata": {},
     "output_type": "display_data"
    },
    {
     "data": {
      "text/html": [
       "<pre style=\"white-space:pre;overflow-x:auto;line-height:normal;font-family:Menlo,'DejaVu Sans Mono',consolas,'Courier New',monospace\"><span style=\"font-weight: bold\">[</span><span style=\"color: #008080; text-decoration-color: #008080; font-weight: bold\">20888</span>-<span style=\"color: #008080; text-decoration-color: #008080; font-weight: bold\">20897</span><span style=\"font-weight: bold\">]</span> <span style=\"color: #008000; text-decoration-color: #008000\">\"Wait a minute,\"</span> Tom advised.\n",
       "</pre>\n"
      ],
      "text/plain": [
       "\u001b[1m[\u001b[0m\u001b[1;36m20888\u001b[0m-\u001b[1;36m20897\u001b[0m\u001b[1m]\u001b[0m \u001b[32m\"Wait a minute,\"\u001b[0m Tom advised.\n"
      ]
     },
     "metadata": {},
     "output_type": "display_data"
    },
    {
     "data": {
      "text/html": [
       "<pre style=\"white-space:pre;overflow-x:auto;line-height:normal;font-family:Menlo,'DejaVu Sans Mono',consolas,'Courier New',monospace\"><span style=\"font-weight: bold\">[</span>Tom<span style=\"font-weight: bold\">]</span>\n",
       "</pre>\n"
      ],
      "text/plain": [
       "\u001b[1m[\u001b[0mTom\u001b[1m]\u001b[0m\n"
      ]
     },
     "metadata": {},
     "output_type": "display_data"
    },
    {
     "data": {
      "text/html": [
       "<pre style=\"white-space:pre;overflow-x:auto;line-height:normal;font-family:Menlo,'DejaVu Sans Mono',consolas,'Courier New',monospace\"><span style=\"font-weight: bold\">[</span><span style=\"color: #008080; text-decoration-color: #008080; font-weight: bold\">21159</span>-<span style=\"color: #008080; text-decoration-color: #008080; font-weight: bold\">21172</span><span style=\"font-weight: bold\">]</span> <span style=\"color: #008000; text-decoration-color: #008000\">\"You're welcome, I'm sure,\"</span> replied Tom.\n",
       "</pre>\n"
      ],
      "text/plain": [
       "\u001b[1m[\u001b[0m\u001b[1;36m21159\u001b[0m-\u001b[1;36m21172\u001b[0m\u001b[1m]\u001b[0m \u001b[32m\"You're welcome, I'm sure,\"\u001b[0m replied Tom.\n"
      ]
     },
     "metadata": {},
     "output_type": "display_data"
    },
    {
     "data": {
      "text/html": [
       "<pre style=\"white-space:pre;overflow-x:auto;line-height:normal;font-family:Menlo,'DejaVu Sans Mono',consolas,'Courier New',monospace\"><span style=\"font-weight: bold\">[</span>Tom<span style=\"font-weight: bold\">]</span>\n",
       "</pre>\n"
      ],
      "text/plain": [
       "\u001b[1m[\u001b[0mTom\u001b[1m]\u001b[0m\n"
      ]
     },
     "metadata": {},
     "output_type": "display_data"
    },
    {
     "data": {
      "text/html": [
       "<pre style=\"white-space:pre;overflow-x:auto;line-height:normal;font-family:Menlo,'DejaVu Sans Mono',consolas,'Courier New',monospace\"><span style=\"font-weight: bold\">[</span><span style=\"color: #008080; text-decoration-color: #008080; font-weight: bold\">21295</span>-<span style=\"color: #008080; text-decoration-color: #008080; font-weight: bold\">21315</span><span style=\"font-weight: bold\">]</span> <span style=\"color: #008000; text-decoration-color: #008000\">\"Ah, it's you, is it, Tom?\"</span> asked the inventor, looking up.\n",
       "</pre>\n"
      ],
      "text/plain": [
       "\u001b[1m[\u001b[0m\u001b[1;36m21295\u001b[0m-\u001b[1;36m21315\u001b[0m\u001b[1m]\u001b[0m \u001b[32m\"Ah, it's you, is it, Tom?\"\u001b[0m asked the inventor, looking up.\n"
      ]
     },
     "metadata": {},
     "output_type": "display_data"
    },
    {
     "data": {
      "text/html": [
       "<pre style=\"white-space:pre;overflow-x:auto;line-height:normal;font-family:Menlo,'DejaVu Sans Mono',consolas,'Courier New',monospace\"><span style=\"font-weight: bold\">[</span>Tom<span style=\"font-weight: bold\">]</span>\n",
       "</pre>\n"
      ],
      "text/plain": [
       "\u001b[1m[\u001b[0mTom\u001b[1m]\u001b[0m\n"
      ]
     },
     "metadata": {},
     "output_type": "display_data"
    },
    {
     "data": {
      "text/html": [
       "<pre style=\"white-space:pre;overflow-x:auto;line-height:normal;font-family:Menlo,'DejaVu Sans Mono',consolas,'Courier New',monospace\"><span style=\"font-weight: bold\">[</span><span style=\"color: #008080; text-decoration-color: #008080; font-weight: bold\">21996</span>-<span style=\"color: #008080; text-decoration-color: #008080; font-weight: bold\">22030</span><span style=\"font-weight: bold\">]</span> <span style=\"color: #008000; text-decoration-color: #008000\">\"There's something in that,\"</span> admitted Mr. Swift, and Tom, seeing that his father was favorably inclined, renewed his arguments, until the inventor finally agreed.\n",
       "</pre>\n"
      ],
      "text/plain": [
       "\u001b[1m[\u001b[0m\u001b[1;36m21996\u001b[0m-\u001b[1;36m22030\u001b[0m\u001b[1m]\u001b[0m \u001b[32m\"There's something in that,\"\u001b[0m admitted Mr. Swift, and Tom, seeing that his father was favorably inclined, renewed his arguments, until the inventor finally agreed.\n"
      ]
     },
     "metadata": {},
     "output_type": "display_data"
    },
    {
     "data": {
      "text/html": [
       "<pre style=\"white-space:pre;overflow-x:auto;line-height:normal;font-family:Menlo,'DejaVu Sans Mono',consolas,'Courier New',monospace\"><span style=\"font-weight: bold\">[</span>Swift, Tom<span style=\"font-weight: bold\">]</span>\n",
       "</pre>\n"
      ],
      "text/plain": [
       "\u001b[1m[\u001b[0mSwift, Tom\u001b[1m]\u001b[0m\n"
      ]
     },
     "metadata": {},
     "output_type": "display_data"
    },
    {
     "data": {
      "text/html": [
       "<pre style=\"white-space:pre;overflow-x:auto;line-height:normal;font-family:Menlo,'DejaVu Sans Mono',consolas,'Courier New',monospace\"><span style=\"font-weight: bold\">[</span><span style=\"color: #008080; text-decoration-color: #008080; font-weight: bold\">22199</span>-<span style=\"color: #008080; text-decoration-color: #008080; font-weight: bold\">22220</span><span style=\"font-weight: bold\">]</span> <span style=\"color: #008000; text-decoration-color: #008000\">\"Now take care of yourself, Tom,\"</span> cautioned his father as he bade him good-by.\n",
       "</pre>\n"
      ],
      "text/plain": [
       "\u001b[1m[\u001b[0m\u001b[1;36m22199\u001b[0m-\u001b[1;36m22220\u001b[0m\u001b[1m]\u001b[0m \u001b[32m\"Now take care of yourself, Tom,\"\u001b[0m cautioned his father as he bade him good-by.\n"
      ]
     },
     "metadata": {},
     "output_type": "display_data"
    },
    {
     "data": {
      "text/html": [
       "<pre style=\"white-space:pre;overflow-x:auto;line-height:normal;font-family:Menlo,'DejaVu Sans Mono',consolas,'Courier New',monospace\"><span style=\"font-weight: bold\">[</span>Tom<span style=\"font-weight: bold\">]</span>\n",
       "</pre>\n"
      ],
      "text/plain": [
       "\u001b[1m[\u001b[0mTom\u001b[1m]\u001b[0m\n"
      ]
     },
     "metadata": {},
     "output_type": "display_data"
    },
    {
     "data": {
      "text/html": [
       "<pre style=\"white-space:pre;overflow-x:auto;line-height:normal;font-family:Menlo,'DejaVu Sans Mono',consolas,'Courier New',monospace\"><span style=\"font-weight: bold\">[</span><span style=\"color: #008080; text-decoration-color: #008080; font-weight: bold\">22247</span>-<span style=\"color: #008080; text-decoration-color: #008080; font-weight: bold\">22310</span><span style=\"font-weight: bold\">]</span> <span style=\"color: #008000; text-decoration-color: #008000\">\"I'll not, dad,\"</span> and with a wave of his hand to Mr. Swift and the housekeeper, who stood in the door to see him off, Tom jumped into the saddle, started the machine, and then, after sufficient momentum had been attained, he turned on the gasolene and set the spark lever.\n",
       "</pre>\n"
      ],
      "text/plain": [
       "\u001b[1m[\u001b[0m\u001b[1;36m22247\u001b[0m-\u001b[1;36m22310\u001b[0m\u001b[1m]\u001b[0m \u001b[32m\"I'll not, dad,\"\u001b[0m and with a wave of his hand to Mr. Swift and the housekeeper, who stood in the door to see him off, Tom jumped into the saddle, started the machine, and then, after sufficient momentum had been attained, he turned on the gasolene and set the spark lever.\n"
      ]
     },
     "metadata": {},
     "output_type": "display_data"
    },
    {
     "data": {
      "text/html": [
       "<pre style=\"white-space:pre;overflow-x:auto;line-height:normal;font-family:Menlo,'DejaVu Sans Mono',consolas,'Courier New',monospace\"><span style=\"font-weight: bold\">[</span>Swift, Tom<span style=\"font-weight: bold\">]</span>\n",
       "</pre>\n"
      ],
      "text/plain": [
       "\u001b[1m[\u001b[0mSwift, Tom\u001b[1m]\u001b[0m\n"
      ]
     },
     "metadata": {},
     "output_type": "display_data"
    },
    {
     "data": {
      "text/html": [
       "<pre style=\"white-space:pre;overflow-x:auto;line-height:normal;font-family:Menlo,'DejaVu Sans Mono',consolas,'Courier New',monospace\"><span style=\"font-weight: bold\">[</span><span style=\"color: #008080; text-decoration-color: #008080; font-weight: bold\">22420</span>-<span style=\"color: #008080; text-decoration-color: #008080; font-weight: bold\">22434</span><span style=\"font-weight: bold\">]</span> <span style=\"color: #008000; text-decoration-color: #008000\">\"This is glorious!\"</span> exclaimed Tom aloud as he spun along.\n",
       "</pre>\n"
      ],
      "text/plain": [
       "\u001b[1m[\u001b[0m\u001b[1;36m22420\u001b[0m-\u001b[1;36m22434\u001b[0m\u001b[1m]\u001b[0m \u001b[32m\"This is glorious!\"\u001b[0m exclaimed Tom aloud as he spun along.\n"
      ]
     },
     "metadata": {},
     "output_type": "display_data"
    },
    {
     "data": {
      "text/html": [
       "<pre style=\"white-space:pre;overflow-x:auto;line-height:normal;font-family:Menlo,'DejaVu Sans Mono',consolas,'Courier New',monospace\"><span style=\"font-weight: bold\">[</span>Tom<span style=\"font-weight: bold\">]</span>\n",
       "</pre>\n"
      ],
      "text/plain": [
       "\u001b[1m[\u001b[0mTom\u001b[1m]\u001b[0m\n"
      ]
     },
     "metadata": {},
     "output_type": "display_data"
    },
    {
     "data": {
      "text/html": [
       "<pre style=\"white-space:pre;overflow-x:auto;line-height:normal;font-family:Menlo,'DejaVu Sans Mono',consolas,'Courier New',monospace\"><span style=\"font-weight: bold\">[</span><span style=\"color: #008080; text-decoration-color: #008080; font-weight: bold\">22696</span>-<span style=\"color: #008080; text-decoration-color: #008080; font-weight: bold\">22722</span><span style=\"font-weight: bold\">]</span> <span style=\"color: #008000; text-decoration-color: #008000\">\"I think I'll take the old wood road and pass through Pompville,\"</span> Tom decided, after covering another mile or two.\n",
       "</pre>\n"
      ],
      "text/plain": [
       "\u001b[1m[\u001b[0m\u001b[1;36m22696\u001b[0m-\u001b[1;36m22722\u001b[0m\u001b[1m]\u001b[0m \u001b[32m\"I think I'll take the old wood road and pass through Pompville,\"\u001b[0m Tom decided, after covering another mile or two.\n"
      ]
     },
     "metadata": {},
     "output_type": "display_data"
    },
    {
     "data": {
      "text/html": [
       "<pre style=\"white-space:pre;overflow-x:auto;line-height:normal;font-family:Menlo,'DejaVu Sans Mono',consolas,'Courier New',monospace\"><span style=\"font-weight: bold\">[</span>Pompville, Tom, another mile, two<span style=\"font-weight: bold\">]</span>\n",
       "</pre>\n"
      ],
      "text/plain": [
       "\u001b[1m[\u001b[0mPompville, Tom, another mile, two\u001b[1m]\u001b[0m\n"
      ]
     },
     "metadata": {},
     "output_type": "display_data"
    },
    {
     "data": {
      "text/html": [
       "<pre style=\"white-space:pre;overflow-x:auto;line-height:normal;font-family:Menlo,'DejaVu Sans Mono',consolas,'Courier New',monospace\"><span style=\"font-weight: bold\">[</span><span style=\"color: #008080; text-decoration-color: #008080; font-weight: bold\">23256</span>-<span style=\"color: #008080; text-decoration-color: #008080; font-weight: bold\">23265</span><span style=\"font-weight: bold\">]</span> <span style=\"color: #008000; text-decoration-color: #008000\">\"I'm sorry,\"</span> began Tom.\n",
       "</pre>\n"
      ],
      "text/plain": [
       "\u001b[1m[\u001b[0m\u001b[1;36m23256\u001b[0m-\u001b[1;36m23265\u001b[0m\u001b[1m]\u001b[0m \u001b[32m\"I'm sorry,\"\u001b[0m began Tom.\n"
      ]
     },
     "metadata": {},
     "output_type": "display_data"
    },
    {
     "data": {
      "text/html": [
       "<pre style=\"white-space:pre;overflow-x:auto;line-height:normal;font-family:Menlo,'DejaVu Sans Mono',consolas,'Courier New',monospace\"><span style=\"font-weight: bold\">[</span>Tom<span style=\"font-weight: bold\">]</span>\n",
       "</pre>\n"
      ],
      "text/plain": [
       "\u001b[1m[\u001b[0mTom\u001b[1m]\u001b[0m\n"
      ]
     },
     "metadata": {},
     "output_type": "display_data"
    },
    {
     "data": {
      "text/html": [
       "<pre style=\"white-space:pre;overflow-x:auto;line-height:normal;font-family:Menlo,'DejaVu Sans Mono',consolas,'Courier New',monospace\"><span style=\"font-weight: bold\">[</span><span style=\"color: #008080; text-decoration-color: #008080; font-weight: bold\">23461</span>-<span style=\"color: #008080; text-decoration-color: #008080; font-weight: bold\">23472</span><span style=\"font-weight: bold\">]</span> <span style=\"color: #008000; text-decoration-color: #008000\">\"I'm very sorry,\"</span> went on Tom.\n",
       "</pre>\n"
      ],
      "text/plain": [
       "\u001b[1m[\u001b[0m\u001b[1;36m23461\u001b[0m-\u001b[1;36m23472\u001b[0m\u001b[1m]\u001b[0m \u001b[32m\"I'm very sorry,\"\u001b[0m went on Tom.\n"
      ]
     },
     "metadata": {},
     "output_type": "display_data"
    },
    {
     "data": {
      "text/html": [
       "<pre style=\"white-space:pre;overflow-x:auto;line-height:normal;font-family:Menlo,'DejaVu Sans Mono',consolas,'Courier New',monospace\"><span style=\"font-weight: bold\">[</span>Tom<span style=\"font-weight: bold\">]</span>\n",
       "</pre>\n"
      ],
      "text/plain": [
       "\u001b[1m[\u001b[0mTom\u001b[1m]\u001b[0m\n"
      ]
     },
     "metadata": {},
     "output_type": "display_data"
    },
    {
     "data": {
      "text/html": [
       "<pre style=\"white-space:pre;overflow-x:auto;line-height:normal;font-family:Menlo,'DejaVu Sans Mono',consolas,'Courier New',monospace\"><span style=\"font-weight: bold\">[</span><span style=\"color: #008080; text-decoration-color: #008080; font-weight: bold\">23540</span>-<span style=\"color: #008080; text-decoration-color: #008080; font-weight: bold\">23566</span><span style=\"font-weight: bold\">]</span> <span style=\"color: #008000; text-decoration-color: #008000\">\"I wasn't going at all fast,\"</span> said Tom, a little nettled that his conciliatory words should be so rudely received.\n",
       "</pre>\n"
      ],
      "text/plain": [
       "\u001b[1m[\u001b[0m\u001b[1;36m23540\u001b[0m-\u001b[1;36m23566\u001b[0m\u001b[1m]\u001b[0m \u001b[32m\"I wasn't going at all fast,\"\u001b[0m said Tom, a little nettled that his conciliatory words should be so rudely received.\n"
      ]
     },
     "metadata": {},
     "output_type": "display_data"
    },
    {
     "data": {
      "text/html": [
       "<pre style=\"white-space:pre;overflow-x:auto;line-height:normal;font-family:Menlo,'DejaVu Sans Mono',consolas,'Courier New',monospace\"><span style=\"font-weight: bold\">[</span>Tom<span style=\"font-weight: bold\">]</span>\n",
       "</pre>\n"
      ],
      "text/plain": [
       "\u001b[1m[\u001b[0mTom\u001b[1m]\u001b[0m\n"
      ]
     },
     "metadata": {},
     "output_type": "display_data"
    },
    {
     "data": {
      "text/html": [
       "<pre style=\"white-space:pre;overflow-x:auto;line-height:normal;font-family:Menlo,'DejaVu Sans Mono',consolas,'Courier New',monospace\"><span style=\"font-weight: bold\">[</span><span style=\"color: #008080; text-decoration-color: #008080; font-weight: bold\">23839</span>-<span style=\"color: #008080; text-decoration-color: #008080; font-weight: bold\">23860</span><span style=\"font-weight: bold\">]</span> <span style=\"color: #008000; text-decoration-color: #008000\">\"Perhaps he was once a gentleman, and has turned tramp because of hard luck,\"</span> thought Tom.\n",
       "</pre>\n"
      ],
      "text/plain": [
       "\u001b[1m[\u001b[0m\u001b[1;36m23839\u001b[0m-\u001b[1;36m23860\u001b[0m\u001b[1m]\u001b[0m \u001b[32m\"Perhaps he was once a gentleman, and has turned tramp because of hard luck,\"\u001b[0m thought Tom.\n"
      ]
     },
     "metadata": {},
     "output_type": "display_data"
    },
    {
     "data": {
      "text/html": [
       "<pre style=\"white-space:pre;overflow-x:auto;line-height:normal;font-family:Menlo,'DejaVu Sans Mono',consolas,'Courier New',monospace\"><span style=\"font-weight: bold\">[</span>Tom<span style=\"font-weight: bold\">]</span>\n",
       "</pre>\n"
      ],
      "text/plain": [
       "\u001b[1m[\u001b[0mTom\u001b[1m]\u001b[0m\n"
      ]
     },
     "metadata": {},
     "output_type": "display_data"
    },
    {
     "data": {
      "text/html": [
       "<pre style=\"white-space:pre;overflow-x:auto;line-height:normal;font-family:Menlo,'DejaVu Sans Mono',consolas,'Courier New',monospace\"><span style=\"font-weight: bold\">[</span><span style=\"color: #008080; text-decoration-color: #008080; font-weight: bold\">24294</span>-<span style=\"color: #008080; text-decoration-color: #008080; font-weight: bold\">24314</span><span style=\"font-weight: bold\">]</span> <span style=\"color: #008000; text-decoration-color: #008000\">\"Yes, it's very fair,\"</span> admitted Tom, who was not yet breathing easily.  \n",
       "</pre>\n"
      ],
      "text/plain": [
       "\u001b[1m[\u001b[0m\u001b[1;36m24294\u001b[0m-\u001b[1;36m24314\u001b[0m\u001b[1m]\u001b[0m \u001b[32m\"Yes, it's very fair,\"\u001b[0m admitted Tom, who was not yet breathing easily.  \n"
      ]
     },
     "metadata": {},
     "output_type": "display_data"
    },
    {
     "data": {
      "text/html": [
       "<pre style=\"white-space:pre;overflow-x:auto;line-height:normal;font-family:Menlo,'DejaVu Sans Mono',consolas,'Courier New',monospace\"><span style=\"font-weight: bold\">[</span>Tom<span style=\"font-weight: bold\">]</span>\n",
       "</pre>\n"
      ],
      "text/plain": [
       "\u001b[1m[\u001b[0mTom\u001b[1m]\u001b[0m\n"
      ]
     },
     "metadata": {},
     "output_type": "display_data"
    },
    {
     "data": {
      "text/html": [
       "<pre style=\"white-space:pre;overflow-x:auto;line-height:normal;font-family:Menlo,'DejaVu Sans Mono',consolas,'Courier New',monospace\"><span style=\"font-weight: bold\">[</span><span style=\"color: #008080; text-decoration-color: #008080; font-weight: bold\">24503</span>-<span style=\"color: #008080; text-decoration-color: #008080; font-weight: bold\">24528</span><span style=\"font-weight: bold\">]</span> <span style=\"color: #008000; text-decoration-color: #008000\">\"To Albany,\"</span> answered Tom, and the moment the words were out of his mouth he wished he could recall them.\n",
       "</pre>\n"
      ],
      "text/plain": [
       "\u001b[1m[\u001b[0m\u001b[1;36m24503\u001b[0m-\u001b[1;36m24528\u001b[0m\u001b[1m]\u001b[0m \u001b[32m\"To Albany,\"\u001b[0m answered Tom, and the moment the words were out of his mouth he wished he could recall them.\n"
      ]
     },
     "metadata": {},
     "output_type": "display_data"
    },
    {
     "data": {
      "text/html": [
       "<pre style=\"white-space:pre;overflow-x:auto;line-height:normal;font-family:Menlo,'DejaVu Sans Mono',consolas,'Courier New',monospace\"><span style=\"font-weight: bold\">[</span>Albany, Tom<span style=\"font-weight: bold\">]</span>\n",
       "</pre>\n"
      ],
      "text/plain": [
       "\u001b[1m[\u001b[0mAlbany, Tom\u001b[1m]\u001b[0m\n"
      ]
     },
     "metadata": {},
     "output_type": "display_data"
    },
    {
     "data": {
      "text/html": [
       "<pre style=\"white-space:pre;overflow-x:auto;line-height:normal;font-family:Menlo,'DejaVu Sans Mono',consolas,'Courier New',monospace\"><span style=\"font-weight: bold\">[</span><span style=\"color: #008080; text-decoration-color: #008080; font-weight: bold\">24569</span>-<span style=\"color: #008080; text-decoration-color: #008080; font-weight: bold\">24604</span><span style=\"font-weight: bold\">]</span> <span style=\"color: #008000; text-decoration-color: #008000\">\"No, it's in New York,\"</span> replied Tom, and then, to change the subject, he pulled out a half-dollar and handed it to the man.\n",
       "</pre>\n"
      ],
      "text/plain": [
       "\u001b[1m[\u001b[0m\u001b[1;36m24569\u001b[0m-\u001b[1;36m24604\u001b[0m\u001b[1m]\u001b[0m \u001b[32m\"No, it's in New York,\"\u001b[0m replied Tom, and then, to change the subject, he pulled out a half-dollar and handed it to the man.\n"
      ]
     },
     "metadata": {},
     "output_type": "display_data"
    },
    {
     "data": {
      "text/html": [
       "<pre style=\"white-space:pre;overflow-x:auto;line-height:normal;font-family:Menlo,'DejaVu Sans Mono',consolas,'Courier New',monospace\"><span style=\"font-weight: bold\">[</span>New York, Tom, half-dollar<span style=\"font-weight: bold\">]</span>\n",
       "</pre>\n"
      ],
      "text/plain": [
       "\u001b[1m[\u001b[0mNew York, Tom, half-dollar\u001b[1m]\u001b[0m\n"
      ]
     },
     "metadata": {},
     "output_type": "display_data"
    },
    {
     "data": {
      "text/html": [
       "<pre style=\"white-space:pre;overflow-x:auto;line-height:normal;font-family:Menlo,'DejaVu Sans Mono',consolas,'Courier New',monospace\"><span style=\"font-weight: bold\">[</span><span style=\"color: #008080; text-decoration-color: #008080; font-weight: bold\">24675</span>-<span style=\"color: #008080; text-decoration-color: #008080; font-weight: bold\">24693</span><span style=\"font-weight: bold\">]</span> <span style=\"color: #008000; text-decoration-color: #008000\">\"Tom Swift,\"</span> replied our hero, and again he wished he had not told.\n",
       "</pre>\n"
      ],
      "text/plain": [
       "\u001b[1m[\u001b[0m\u001b[1;36m24675\u001b[0m-\u001b[1;36m24693\u001b[0m\u001b[1m]\u001b[0m \u001b[32m\"Tom Swift,\"\u001b[0m replied our hero, and again he wished he had not told.\n"
      ]
     },
     "metadata": {},
     "output_type": "display_data"
    },
    {
     "data": {
      "text/html": [
       "<pre style=\"white-space:pre;overflow-x:auto;line-height:normal;font-family:Menlo,'DejaVu Sans Mono',consolas,'Courier New',monospace\"><span style=\"font-weight: bold\">[</span>Tom Swift<span style=\"font-weight: bold\">]</span>\n",
       "</pre>\n"
      ],
      "text/plain": [
       "\u001b[1m[\u001b[0mTom Swift\u001b[1m]\u001b[0m\n"
      ]
     },
     "metadata": {},
     "output_type": "display_data"
    },
    {
     "data": {
      "text/html": [
       "<pre style=\"white-space:pre;overflow-x:auto;line-height:normal;font-family:Menlo,'DejaVu Sans Mono',consolas,'Courier New',monospace\"><span style=\"font-weight: bold\">[</span><span style=\"color: #008080; text-decoration-color: #008080; font-weight: bold\">24716</span>-<span style=\"color: #008080; text-decoration-color: #008080; font-weight: bold\">24743</span><span style=\"font-weight: bold\">]</span> <span style=\"color: #008000; text-decoration-color: #008000\">\"Tom Swift,\"</span> repeated the man musingly, and his tones were different from the whining ones in which he had asked for money.\n",
       "</pre>\n"
      ],
      "text/plain": [
       "\u001b[1m[\u001b[0m\u001b[1;36m24716\u001b[0m-\u001b[1;36m24743\u001b[0m\u001b[1m]\u001b[0m \u001b[32m\"Tom Swift,\"\u001b[0m repeated the man musingly, and his tones were different from the whining ones in which he had asked for money.\n"
      ]
     },
     "metadata": {},
     "output_type": "display_data"
    },
    {
     "data": {
      "text/html": [
       "<pre style=\"white-space:pre;overflow-x:auto;line-height:normal;font-family:Menlo,'DejaVu Sans Mono',consolas,'Courier New',monospace\"><span style=\"font-weight: bold\">[</span>Tom Swift<span style=\"font-weight: bold\">]</span>\n",
       "</pre>\n"
      ],
      "text/plain": [
       "\u001b[1m[\u001b[0mTom Swift\u001b[1m]\u001b[0m\n"
      ]
     },
     "metadata": {},
     "output_type": "display_data"
    },
    {
     "data": {
      "text/html": [
       "<pre style=\"white-space:pre;overflow-x:auto;line-height:normal;font-family:Menlo,'DejaVu Sans Mono',consolas,'Courier New',monospace\"><span style=\"font-weight: bold\">[</span><span style=\"color: #008080; text-decoration-color: #008080; font-weight: bold\">24917</span>-<span style=\"color: #008080; text-decoration-color: #008080; font-weight: bold\">24956</span><span style=\"font-weight: bold\">]</span> <span style=\"color: #008000; text-decoration-color: #008000\">\"Maybe next time youse won't run down poor fellers on de road,\"</span> and with that, the ragged man, shaking his fist at Tom, was lost to sight in the underbrush.\n",
       "</pre>\n"
      ],
      "text/plain": [
       "\u001b[1m[\u001b[0m\u001b[1;36m24917\u001b[0m-\u001b[1;36m24956\u001b[0m\u001b[1m]\u001b[0m \u001b[32m\"Maybe next time youse won't run down poor fellers on de road,\"\u001b[0m and with that, the ragged man, shaking his fist at Tom, was lost to sight in the underbrush.\n"
      ]
     },
     "metadata": {},
     "output_type": "display_data"
    },
    {
     "data": {
      "text/html": [
       "<pre style=\"white-space:pre;overflow-x:auto;line-height:normal;font-family:Menlo,'DejaVu Sans Mono',consolas,'Courier New',monospace\"><span style=\"font-weight: bold\">[</span>Tom<span style=\"font-weight: bold\">]</span>\n",
       "</pre>\n"
      ],
      "text/plain": [
       "\u001b[1m[\u001b[0mTom\u001b[1m]\u001b[0m\n"
      ]
     },
     "metadata": {},
     "output_type": "display_data"
    },
    {
     "data": {
      "text/html": [
       "<pre style=\"white-space:pre;overflow-x:auto;line-height:normal;font-family:Menlo,'DejaVu Sans Mono',consolas,'Courier New',monospace\"><span style=\"font-weight: bold\">[</span><span style=\"color: #008080; text-decoration-color: #008080; font-weight: bold\">24956</span>-<span style=\"color: #008080; text-decoration-color: #008080; font-weight: bold\">24972</span><span style=\"font-weight: bold\">]</span> <span style=\"color: #008000; text-decoration-color: #008000\">\"Well, if that isn't a queer end up,\"</span> mused Tom.\n",
       "</pre>\n"
      ],
      "text/plain": [
       "\u001b[1m[\u001b[0m\u001b[1;36m24956\u001b[0m-\u001b[1;36m24972\u001b[0m\u001b[1m]\u001b[0m \u001b[32m\"Well, if that isn't a queer end up,\"\u001b[0m mused Tom.\n"
      ]
     },
     "metadata": {},
     "output_type": "display_data"
    },
    {
     "data": {
      "text/html": [
       "<pre style=\"white-space:pre;overflow-x:auto;line-height:normal;font-family:Menlo,'DejaVu Sans Mono',consolas,'Courier New',monospace\"><span style=\"font-weight: bold\">[</span>Tom<span style=\"font-weight: bold\">]</span>\n",
       "</pre>\n"
      ],
      "text/plain": [
       "\u001b[1m[\u001b[0mTom\u001b[1m]\u001b[0m\n"
      ]
     },
     "metadata": {},
     "output_type": "display_data"
    },
    {
     "data": {
      "text/html": [
       "<pre style=\"white-space:pre;overflow-x:auto;line-height:normal;font-family:Menlo,'DejaVu Sans Mono',consolas,'Courier New',monospace\"><span style=\"font-weight: bold\">[</span><span style=\"color: #008080; text-decoration-color: #008080; font-weight: bold\">25062</span>-<span style=\"color: #008080; text-decoration-color: #008080; font-weight: bold\">25073</span><span style=\"font-weight: bold\">]</span> <span style=\"color: #008000; text-decoration-color: #008000\">\"They're all right,\"</span> spoke Tom aloud.\n",
       "</pre>\n"
      ],
      "text/plain": [
       "\u001b[1m[\u001b[0m\u001b[1;36m25062\u001b[0m-\u001b[1;36m25073\u001b[0m\u001b[1m]\u001b[0m \u001b[32m\"They're all right,\"\u001b[0m spoke Tom aloud.\n"
      ]
     },
     "metadata": {},
     "output_type": "display_data"
    },
    {
     "data": {
      "text/html": [
       "<pre style=\"white-space:pre;overflow-x:auto;line-height:normal;font-family:Menlo,'DejaVu Sans Mono',consolas,'Courier New',monospace\"><span style=\"font-weight: bold\">[</span>Tom<span style=\"font-weight: bold\">]</span>\n",
       "</pre>\n"
      ],
      "text/plain": [
       "\u001b[1m[\u001b[0mTom\u001b[1m]\u001b[0m\n"
      ]
     },
     "metadata": {},
     "output_type": "display_data"
    },
    {
     "data": {
      "text/html": [
       "<pre style=\"white-space:pre;overflow-x:auto;line-height:normal;font-family:Menlo,'DejaVu Sans Mono',consolas,'Courier New',monospace\"><span style=\"font-weight: bold\">[</span><span style=\"color: #008080; text-decoration-color: #008080; font-weight: bold\">25402</span>-<span style=\"color: #008080; text-decoration-color: #008080; font-weight: bold\">25414</span><span style=\"font-weight: bold\">]</span> <span style=\"color: #008000; text-decoration-color: #008000\">\"That's what Happy Harry did!\"</span> exclaimed Tom.\n",
       "</pre>\n"
      ],
      "text/plain": [
       "\u001b[1m[\u001b[0m\u001b[1;36m25402\u001b[0m-\u001b[1;36m25414\u001b[0m\u001b[1m]\u001b[0m \u001b[32m\"That's what Happy Harry did!\"\u001b[0m exclaimed Tom.\n"
      ]
     },
     "metadata": {},
     "output_type": "display_data"
    },
    {
     "data": {
      "text/html": [
       "<pre style=\"white-space:pre;overflow-x:auto;line-height:normal;font-family:Menlo,'DejaVu Sans Mono',consolas,'Courier New',monospace\"><span style=\"font-weight: bold\">[</span>Happy Harry, Tom<span style=\"font-weight: bold\">]</span>\n",
       "</pre>\n"
      ],
      "text/plain": [
       "\u001b[1m[\u001b[0mHappy Harry, Tom\u001b[1m]\u001b[0m\n"
      ]
     },
     "metadata": {},
     "output_type": "display_data"
    },
    {
     "data": {
      "text/html": [
       "<pre style=\"white-space:pre;overflow-x:auto;line-height:normal;font-family:Menlo,'DejaVu Sans Mono',consolas,'Courier New',monospace\"><span style=\"font-weight: bold\">[</span><span style=\"color: #008080; text-decoration-color: #008080; font-weight: bold\">25845</span>-<span style=\"color: #008080; text-decoration-color: #008080; font-weight: bold\">25885</span><span style=\"font-weight: bold\">]</span> <span style=\"color: #008000; text-decoration-color: #008000\">\"No, I didn't exactly think that,\"</span> replied Tom, <span style=\"color: #008000; text-decoration-color: #008000\">\"but I just had an encounter with an ugly tramp, and I feared he might be using me for a target.\"</span>\n",
       "</pre>\n"
      ],
      "text/plain": [
       "\u001b[1m[\u001b[0m\u001b[1;36m25845\u001b[0m-\u001b[1;36m25885\u001b[0m\u001b[1m]\u001b[0m \u001b[32m\"No, I didn't exactly think that,\"\u001b[0m replied Tom, \u001b[32m\"but I just had an encounter with an ugly tramp, and I feared he might be using me for a target.\"\u001b[0m\n"
      ]
     },
     "metadata": {},
     "output_type": "display_data"
    },
    {
     "data": {
      "text/html": [
       "<pre style=\"white-space:pre;overflow-x:auto;line-height:normal;font-family:Menlo,'DejaVu Sans Mono',consolas,'Courier New',monospace\"><span style=\"font-weight: bold\">[</span>Tom<span style=\"font-weight: bold\">]</span>\n",
       "</pre>\n"
      ],
      "text/plain": [
       "\u001b[1m[\u001b[0mTom\u001b[1m]\u001b[0m\n"
      ]
     },
     "metadata": {},
     "output_type": "display_data"
    },
    {
     "data": {
      "text/html": [
       "<pre style=\"white-space:pre;overflow-x:auto;line-height:normal;font-family:Menlo,'DejaVu Sans Mono',consolas,'Courier New',monospace\"><span style=\"font-weight: bold\">[</span><span style=\"color: #008080; text-decoration-color: #008080; font-weight: bold\">25981</span>-<span style=\"color: #008080; text-decoration-color: #008080; font-weight: bold\">26002</span><span style=\"font-weight: bold\">]</span> <span style=\"color: #008000; text-decoration-color: #008000\">\"I shouldn't think you'd find anything to shoot this time of year,\"</span> remarked Tom.  \n",
       "</pre>\n"
      ],
      "text/plain": [
       "\u001b[1m[\u001b[0m\u001b[1;36m25981\u001b[0m-\u001b[1;36m26002\u001b[0m\u001b[1m]\u001b[0m \u001b[32m\"I shouldn't think you'd find anything to shoot this time of year,\"\u001b[0m remarked Tom.  \n"
      ]
     },
     "metadata": {},
     "output_type": "display_data"
    },
    {
     "data": {
      "text/html": [
       "<pre style=\"white-space:pre;overflow-x:auto;line-height:normal;font-family:Menlo,'DejaVu Sans Mono',consolas,'Courier New',monospace\"><span style=\"font-weight: bold\">[</span>Tom<span style=\"font-weight: bold\">]</span>\n",
       "</pre>\n"
      ],
      "text/plain": [
       "\u001b[1m[\u001b[0mTom\u001b[1m]\u001b[0m\n"
      ]
     },
     "metadata": {},
     "output_type": "display_data"
    },
    {
     "data": {
      "text/html": [
       "<pre style=\"white-space:pre;overflow-x:auto;line-height:normal;font-family:Menlo,'DejaVu Sans Mono',consolas,'Courier New',monospace\"><span style=\"font-weight: bold\">[</span><span style=\"color: #008080; text-decoration-color: #008080; font-weight: bold\">26270</span>-<span style=\"color: #008080; text-decoration-color: #008080; font-weight: bold\">26302</span><span style=\"font-weight: bold\">]</span> <span style=\"color: #008000; text-decoration-color: #008000\">\"No; the less I have to do with him, the better I shall like it,\"</span> answered Tom, \"though I'm much obliged to you.\n",
       "</pre>\n"
      ],
      "text/plain": [
       "\u001b[1m[\u001b[0m\u001b[1;36m26270\u001b[0m-\u001b[1;36m26302\u001b[0m\u001b[1m]\u001b[0m \u001b[32m\"No; the less I have to do with him, the better I shall like it,\"\u001b[0m answered Tom, \"though I'm much obliged to you.\n"
      ]
     },
     "metadata": {},
     "output_type": "display_data"
    },
    {
     "data": {
      "text/html": [
       "<pre style=\"white-space:pre;overflow-x:auto;line-height:normal;font-family:Menlo,'DejaVu Sans Mono',consolas,'Courier New',monospace\"><span style=\"font-weight: bold\">[</span>Tom<span style=\"font-weight: bold\">]</span>\n",
       "</pre>\n"
      ],
      "text/plain": [
       "\u001b[1m[\u001b[0mTom\u001b[1m]\u001b[0m\n"
      ]
     },
     "metadata": {},
     "output_type": "display_data"
    },
    {
     "data": {
      "text/html": [
       "<pre style=\"white-space:pre;overflow-x:auto;line-height:normal;font-family:Menlo,'DejaVu Sans Mono',consolas,'Courier New',monospace\"><span style=\"font-weight: bold\">[</span><span style=\"color: #008080; text-decoration-color: #008080; font-weight: bold\">26337</span>-<span style=\"color: #008080; text-decoration-color: #008080; font-weight: bold\">26354</span><span style=\"font-weight: bold\">]</span> <span style=\"color: #008000; text-decoration-color: #008000\">\"He's a queer chap,\"</span> murmured Tom, \"but I like him.\n",
       "</pre>\n"
      ],
      "text/plain": [
       "\u001b[1m[\u001b[0m\u001b[1;36m26337\u001b[0m-\u001b[1;36m26354\u001b[0m\u001b[1m]\u001b[0m \u001b[32m\"He's a queer chap,\"\u001b[0m murmured Tom, \"but I like him.\n"
      ]
     },
     "metadata": {},
     "output_type": "display_data"
    },
    {
     "data": {
      "text/html": [
       "<pre style=\"white-space:pre;overflow-x:auto;line-height:normal;font-family:Menlo,'DejaVu Sans Mono',consolas,'Courier New',monospace\"><span style=\"font-weight: bold\">[</span>Tom<span style=\"font-weight: bold\">]</span>\n",
       "</pre>\n"
      ],
      "text/plain": [
       "\u001b[1m[\u001b[0mTom\u001b[1m]\u001b[0m\n"
      ]
     },
     "metadata": {},
     "output_type": "display_data"
    },
    {
     "data": {
      "text/html": [
       "<pre style=\"white-space:pre;overflow-x:auto;line-height:normal;font-family:Menlo,'DejaVu Sans Mono',consolas,'Courier New',monospace\"><span style=\"font-weight: bold\">[</span><span style=\"color: #008080; text-decoration-color: #008080; font-weight: bold\">26433</span>-<span style=\"color: #008080; text-decoration-color: #008080; font-weight: bold\">26473</span><span style=\"font-weight: bold\">]</span> <span style=\"color: #008000; text-decoration-color: #008000\">\"I guess he was one of the gang after dad's invention,\"</span> thought Tom, <span style=\"color: #008000; text-decoration-color: #008000\">\"and he must have wanted to hinder me from getting to Albany, though why I can't imagine.\"</span>\n",
       "</pre>\n"
      ],
      "text/plain": [
       "\u001b[1m[\u001b[0m\u001b[1;36m26433\u001b[0m-\u001b[1;36m26473\u001b[0m\u001b[1m]\u001b[0m \u001b[32m\"I guess he was one of the gang after dad's invention,\"\u001b[0m thought Tom, \u001b[32m\"and he must have wanted to hinder me from getting to Albany, though why I can't imagine.\"\u001b[0m\n"
      ]
     },
     "metadata": {},
     "output_type": "display_data"
    },
    {
     "data": {
      "text/html": [
       "<pre style=\"white-space:pre;overflow-x:auto;line-height:normal;font-family:Menlo,'DejaVu Sans Mono',consolas,'Courier New',monospace\"><span style=\"font-weight: bold\">[</span>Tom, Albany<span style=\"font-weight: bold\">]</span>\n",
       "</pre>\n"
      ],
      "text/plain": [
       "\u001b[1m[\u001b[0mTom, Albany\u001b[1m]\u001b[0m\n"
      ]
     },
     "metadata": {},
     "output_type": "display_data"
    },
    {
     "data": {
      "text/html": [
       "<pre style=\"white-space:pre;overflow-x:auto;line-height:normal;font-family:Menlo,'DejaVu Sans Mono',consolas,'Courier New',monospace\"><span style=\"font-weight: bold\">[</span><span style=\"color: #008080; text-decoration-color: #008080; font-weight: bold\">27237</span>-<span style=\"color: #008080; text-decoration-color: #008080; font-weight: bold\">27272</span><span style=\"font-weight: bold\">]</span> <span style=\"color: #008000; text-decoration-color: #008000\">\"How many miles is it?\"</span> asked the man who had whispered, and at the sound of his voice Tom felt a vague sense that he had heard it before.\n",
       "</pre>\n"
      ],
      "text/plain": [
       "\u001b[1m[\u001b[0m\u001b[1;36m27237\u001b[0m-\u001b[1;36m27272\u001b[0m\u001b[1m]\u001b[0m \u001b[32m\"How many miles is it?\"\u001b[0m asked the man who had whispered, and at the sound of his voice Tom felt a vague sense that he had heard it before.\n"
      ]
     },
     "metadata": {},
     "output_type": "display_data"
    },
    {
     "data": {
      "text/html": [
       "<pre style=\"white-space:pre;overflow-x:auto;line-height:normal;font-family:Menlo,'DejaVu Sans Mono',consolas,'Courier New',monospace\"><span style=\"font-weight: bold\">[</span>Tom<span style=\"font-weight: bold\">]</span>\n",
       "</pre>\n"
      ],
      "text/plain": [
       "\u001b[1m[\u001b[0mTom\u001b[1m]\u001b[0m\n"
      ]
     },
     "metadata": {},
     "output_type": "display_data"
    },
    {
     "data": {
      "text/html": [
       "<pre style=\"white-space:pre;overflow-x:auto;line-height:normal;font-family:Menlo,'DejaVu Sans Mono',consolas,'Courier New',monospace\"><span style=\"font-weight: bold\">[</span><span style=\"color: #008080; text-decoration-color: #008080; font-weight: bold\">27814</span>-<span style=\"color: #008080; text-decoration-color: #008080; font-weight: bold\">27830</span><span style=\"font-weight: bold\">]</span> <span style=\"color: #008000; text-decoration-color: #008000\">\"It's more like summer than I thought,\"</span> said Tom to himself.\n",
       "</pre>\n"
      ],
      "text/plain": [
       "\u001b[1m[\u001b[0m\u001b[1;36m27814\u001b[0m-\u001b[1;36m27830\u001b[0m\u001b[1m]\u001b[0m \u001b[32m\"It's more like summer than I thought,\"\u001b[0m said Tom to himself.\n"
      ]
     },
     "metadata": {},
     "output_type": "display_data"
    },
    {
     "data": {
      "text/html": [
       "<pre style=\"white-space:pre;overflow-x:auto;line-height:normal;font-family:Menlo,'DejaVu Sans Mono',consolas,'Courier New',monospace\"><span style=\"font-weight: bold\">[</span>Tom<span style=\"font-weight: bold\">]</span>\n",
       "</pre>\n"
      ],
      "text/plain": [
       "\u001b[1m[\u001b[0mTom\u001b[1m]\u001b[0m\n"
      ]
     },
     "metadata": {},
     "output_type": "display_data"
    },
    {
     "data": {
      "text/html": [
       "<pre style=\"white-space:pre;overflow-x:auto;line-height:normal;font-family:Menlo,'DejaVu Sans Mono',consolas,'Courier New',monospace\"><span style=\"font-weight: bold\">[</span><span style=\"color: #008080; text-decoration-color: #008080; font-weight: bold\">28090</span>-<span style=\"color: #008080; text-decoration-color: #008080; font-weight: bold\">28110</span><span style=\"font-weight: bold\">]</span> <span style=\"color: #008000; text-decoration-color: #008000\">\"I'll head for that big tree,\"</span> thought Tom \"It will give me some shelter.\n",
       "</pre>\n"
      ],
      "text/plain": [
       "\u001b[1m[\u001b[0m\u001b[1;36m28090\u001b[0m-\u001b[1;36m28110\u001b[0m\u001b[1m]\u001b[0m \u001b[32m\"I'll head for that big tree,\"\u001b[0m thought Tom \"It will give me some shelter.\n"
      ]
     },
     "metadata": {},
     "output_type": "display_data"
    },
    {
     "data": {
      "text/html": [
       "<pre style=\"white-space:pre;overflow-x:auto;line-height:normal;font-family:Menlo,'DejaVu Sans Mono',consolas,'Courier New',monospace\"><span style=\"font-weight: bold\">[</span>Tom<span style=\"font-weight: bold\">]</span>\n",
       "</pre>\n"
      ],
      "text/plain": [
       "\u001b[1m[\u001b[0mTom\u001b[1m]\u001b[0m\n"
      ]
     },
     "metadata": {},
     "output_type": "display_data"
    },
    {
     "data": {
      "text/html": [
       "<pre style=\"white-space:pre;overflow-x:auto;line-height:normal;font-family:Menlo,'DejaVu Sans Mono',consolas,'Courier New',monospace\"><span style=\"font-weight: bold\">[</span><span style=\"color: #008080; text-decoration-color: #008080; font-weight: bold\">28133</span>-<span style=\"color: #008080; text-decoration-color: #008080; font-weight: bold\">28143</span><span style=\"font-weight: bold\">]</span> <span style=\"color: #008000; text-decoration-color: #008000\">\"No tree for mine!\"</span> murmured Tom.\n",
       "</pre>\n"
      ],
      "text/plain": [
       "\u001b[1m[\u001b[0m\u001b[1;36m28133\u001b[0m-\u001b[1;36m28143\u001b[0m\u001b[1m]\u001b[0m \u001b[32m\"No tree for mine!\"\u001b[0m murmured Tom.\n"
      ]
     },
     "metadata": {},
     "output_type": "display_data"
    },
    {
     "data": {
      "text/html": [
       "<pre style=\"white-space:pre;overflow-x:auto;line-height:normal;font-family:Menlo,'DejaVu Sans Mono',consolas,'Courier New',monospace\"><span style=\"font-weight: bold\">[</span>Tom<span style=\"font-weight: bold\">]</span>\n",
       "</pre>\n"
      ],
      "text/plain": [
       "\u001b[1m[\u001b[0mTom\u001b[1m]\u001b[0m\n"
      ]
     },
     "metadata": {},
     "output_type": "display_data"
    },
    {
     "data": {
      "text/html": [
       "<pre style=\"white-space:pre;overflow-x:auto;line-height:normal;font-family:Menlo,'DejaVu Sans Mono',consolas,'Courier New',monospace\"><span style=\"font-weight: bold\">[</span><span style=\"color: #008080; text-decoration-color: #008080; font-weight: bold\">28697</span>-<span style=\"color: #008080; text-decoration-color: #008080; font-weight: bold\">28707</span><span style=\"font-weight: bold\">]</span> <span style=\"color: #008000; text-decoration-color: #008000\">\"That's mighty strange,\"</span> murmured Tom.\n",
       "</pre>\n"
      ],
      "text/plain": [
       "\u001b[1m[\u001b[0m\u001b[1;36m28697\u001b[0m-\u001b[1;36m28707\u001b[0m\u001b[1m]\u001b[0m \u001b[32m\"That's mighty strange,\"\u001b[0m murmured Tom.\n"
      ]
     },
     "metadata": {},
     "output_type": "display_data"
    },
    {
     "data": {
      "text/html": [
       "<pre style=\"white-space:pre;overflow-x:auto;line-height:normal;font-family:Menlo,'DejaVu Sans Mono',consolas,'Courier New',monospace\"><span style=\"font-weight: bold\">[</span>Tom<span style=\"font-weight: bold\">]</span>\n",
       "</pre>\n"
      ],
      "text/plain": [
       "\u001b[1m[\u001b[0mTom\u001b[1m]\u001b[0m\n"
      ]
     },
     "metadata": {},
     "output_type": "display_data"
    },
    {
     "data": {
      "text/html": [
       "<pre style=\"white-space:pre;overflow-x:auto;line-height:normal;font-family:Menlo,'DejaVu Sans Mono',consolas,'Courier New',monospace\"><span style=\"font-weight: bold\">[</span><span style=\"color: #008080; text-decoration-color: #008080; font-weight: bold\">29601</span>-<span style=\"color: #008080; text-decoration-color: #008080; font-weight: bold\">29628</span><span style=\"font-weight: bold\">]</span> <span style=\"color: #008000; text-decoration-color: #008000\">\"I knocked him out, all right,\"</span> observed the man who had reached through and dealt Tom the blow with the club.\n",
       "</pre>\n"
      ],
      "text/plain": [
       "\u001b[1m[\u001b[0m\u001b[1;36m29601\u001b[0m-\u001b[1;36m29628\u001b[0m\u001b[1m]\u001b[0m \u001b[32m\"I knocked him out, all right,\"\u001b[0m observed the man who had reached through and dealt Tom the blow with the club.\n"
      ]
     },
     "metadata": {},
     "output_type": "display_data"
    },
    {
     "data": {
      "text/html": [
       "<pre style=\"white-space:pre;overflow-x:auto;line-height:normal;font-family:Menlo,'DejaVu Sans Mono',consolas,'Courier New',monospace\"><span style=\"font-weight: bold\">[</span>Tom<span style=\"font-weight: bold\">]</span>\n",
       "</pre>\n"
      ],
      "text/plain": [
       "\u001b[1m[\u001b[0mTom\u001b[1m]\u001b[0m\n"
      ]
     },
     "metadata": {},
     "output_type": "display_data"
    },
    {
     "data": {
      "text/html": [
       "<pre style=\"white-space:pre;overflow-x:auto;line-height:normal;font-family:Menlo,'DejaVu Sans Mono',consolas,'Courier New',monospace\"><span style=\"font-weight: bold\">[</span><span style=\"color: #008080; text-decoration-color: #008080; font-weight: bold\">29815</span>-<span style=\"color: #008080; text-decoration-color: #008080; font-weight: bold\">29842</span><span style=\"font-weight: bold\">]</span> <span style=\"color: #008000; text-decoration-color: #008000\">\"Doesn't seem to be about his person,\"</span> observed Appleson, as he carefully felt about the clothing of the unfortunate Tom.\n",
       "</pre>\n"
      ],
      "text/plain": [
       "\u001b[1m[\u001b[0m\u001b[1;36m29815\u001b[0m-\u001b[1;36m29842\u001b[0m\u001b[1m]\u001b[0m \u001b[32m\"Doesn't seem to be about his person,\"\u001b[0m observed Appleson, as he carefully felt about the clothing of the unfortunate Tom.\n"
      ]
     },
     "metadata": {},
     "output_type": "display_data"
    },
    {
     "data": {
      "text/html": [
       "<pre style=\"white-space:pre;overflow-x:auto;line-height:normal;font-family:Menlo,'DejaVu Sans Mono',consolas,'Courier New',monospace\"><span style=\"font-weight: bold\">[</span>Appleson, Tom<span style=\"font-weight: bold\">]</span>\n",
       "</pre>\n"
      ],
      "text/plain": [
       "\u001b[1m[\u001b[0mAppleson, Tom\u001b[1m]\u001b[0m\n"
      ]
     },
     "metadata": {},
     "output_type": "display_data"
    },
    {
     "data": {
      "text/html": [
       "<pre style=\"white-space:pre;overflow-x:auto;line-height:normal;font-family:Menlo,'DejaVu Sans Mono',consolas,'Courier New',monospace\"><span style=\"font-weight: bold\">[</span><span style=\"color: #008080; text-decoration-color: #008080; font-weight: bold\">31128</span>-<span style=\"color: #008080; text-decoration-color: #008080; font-weight: bold\">31144</span><span style=\"font-weight: bold\">]</span> <span style=\"color: #008000; text-decoration-color: #008000\">\"I seem to be all here,\"</span> went on Tom, much mystified.\n",
       "</pre>\n"
      ],
      "text/plain": [
       "\u001b[1m[\u001b[0m\u001b[1;36m31128\u001b[0m-\u001b[1;36m31144\u001b[0m\u001b[1m]\u001b[0m \u001b[32m\"I seem to be all here,\"\u001b[0m went on Tom, much mystified.\n"
      ]
     },
     "metadata": {},
     "output_type": "display_data"
    },
    {
     "data": {
      "text/html": [
       "<pre style=\"white-space:pre;overflow-x:auto;line-height:normal;font-family:Menlo,'DejaVu Sans Mono',consolas,'Courier New',monospace\"><span style=\"font-weight: bold\">[</span>Tom<span style=\"font-weight: bold\">]</span>\n",
       "</pre>\n"
      ],
      "text/plain": [
       "\u001b[1m[\u001b[0mTom\u001b[1m]\u001b[0m\n"
      ]
     },
     "metadata": {},
     "output_type": "display_data"
    },
    {
     "data": {
      "text/html": [
       "<pre style=\"white-space:pre;overflow-x:auto;line-height:normal;font-family:Menlo,'DejaVu Sans Mono',consolas,'Courier New',monospace\"><span style=\"font-weight: bold\">[</span><span style=\"color: #008080; text-decoration-color: #008080; font-weight: bold\">31809</span>-<span style=\"color: #008080; text-decoration-color: #008080; font-weight: bold\">31830</span><span style=\"font-weight: bold\">]</span> <span style=\"color: #008000; text-decoration-color: #008000\">\"Now, the next question to settle,\"</span> spoke Tom, \"is to learn where I am.\n",
       "</pre>\n"
      ],
      "text/plain": [
       "\u001b[1m[\u001b[0m\u001b[1;36m31809\u001b[0m-\u001b[1;36m31830\u001b[0m\u001b[1m]\u001b[0m \u001b[32m\"Now, the next question to settle,\"\u001b[0m spoke Tom, \"is to learn where I am.\n"
      ]
     },
     "metadata": {},
     "output_type": "display_data"
    },
    {
     "data": {
      "text/html": [
       "<pre style=\"white-space:pre;overflow-x:auto;line-height:normal;font-family:Menlo,'DejaVu Sans Mono',consolas,'Courier New',monospace\"><span style=\"font-weight: bold\">[</span>Tom<span style=\"font-weight: bold\">]</span>\n",
       "</pre>\n"
      ],
      "text/plain": [
       "\u001b[1m[\u001b[0mTom\u001b[1m]\u001b[0m\n"
      ]
     },
     "metadata": {},
     "output_type": "display_data"
    },
    {
     "data": {
      "text/html": [
       "<pre style=\"white-space:pre;overflow-x:auto;line-height:normal;font-family:Menlo,'DejaVu Sans Mono',consolas,'Courier New',monospace\"><span style=\"font-weight: bold\">[</span><span style=\"color: #008080; text-decoration-color: #008080; font-weight: bold\">32006</span>-<span style=\"color: #008080; text-decoration-color: #008080; font-weight: bold\">32018</span><span style=\"font-weight: bold\">]</span> <span style=\"color: #008000; text-decoration-color: #008000\">\"I'm not a tramp,\"</span> called Tom promptly.\n",
       "</pre>\n"
      ],
      "text/plain": [
       "\u001b[1m[\u001b[0m\u001b[1;36m32006\u001b[0m-\u001b[1;36m32018\u001b[0m\u001b[1m]\u001b[0m \u001b[32m\"I'm not a tramp,\"\u001b[0m called Tom promptly.\n"
      ]
     },
     "metadata": {},
     "output_type": "display_data"
    },
    {
     "data": {
      "text/html": [
       "<pre style=\"white-space:pre;overflow-x:auto;line-height:normal;font-family:Menlo,'DejaVu Sans Mono',consolas,'Courier New',monospace\"><span style=\"font-weight: bold\">[</span>Tom<span style=\"font-weight: bold\">]</span>\n",
       "</pre>\n"
      ],
      "text/plain": [
       "\u001b[1m[\u001b[0mTom\u001b[1m]\u001b[0m\n"
      ]
     },
     "metadata": {},
     "output_type": "display_data"
    },
    {
     "data": {
      "text/html": [
       "<pre style=\"white-space:pre;overflow-x:auto;line-height:normal;font-family:Menlo,'DejaVu Sans Mono',consolas,'Courier New',monospace\"><span style=\"font-weight: bold\">[</span><span style=\"color: #008080; text-decoration-color: #008080; font-weight: bold\">32069</span>-<span style=\"color: #008080; text-decoration-color: #008080; font-weight: bold\">32096</span><span style=\"font-weight: bold\">]</span> <span style=\"color: #008000; text-decoration-color: #008000\">\"All right, pop,\"</span> answered another voice, and a moment later Tom saw a tall man standing in front of him.\n",
       "</pre>\n"
      ],
      "text/plain": [
       "\u001b[1m[\u001b[0m\u001b[1;36m32069\u001b[0m-\u001b[1;36m32096\u001b[0m\u001b[1m]\u001b[0m \u001b[32m\"All right, pop,\"\u001b[0m answered another voice, and a moment later Tom saw a tall man standing in front of him.\n"
      ]
     },
     "metadata": {},
     "output_type": "display_data"
    },
    {
     "data": {
      "text/html": [
       "<pre style=\"white-space:pre;overflow-x:auto;line-height:normal;font-family:Menlo,'DejaVu Sans Mono',consolas,'Courier New',monospace\"><span style=\"font-weight: bold\">[</span>Tom<span style=\"font-weight: bold\">]</span>\n",
       "</pre>\n"
      ],
      "text/plain": [
       "\u001b[1m[\u001b[0mTom\u001b[1m]\u001b[0m\n"
      ]
     },
     "metadata": {},
     "output_type": "display_data"
    },
    {
     "data": {
      "text/html": [
       "<pre style=\"white-space:pre;overflow-x:auto;line-height:normal;font-family:Menlo,'DejaVu Sans Mono',consolas,'Courier New',monospace\"><span style=\"font-weight: bold\">[</span><span style=\"color: #008080; text-decoration-color: #008080; font-weight: bold\">32096</span>-<span style=\"color: #008080; text-decoration-color: #008080; font-weight: bold\">32134</span><span style=\"font-weight: bold\">]</span> <span style=\"color: #008000; text-decoration-color: #008000\">\"I'll give you a look at me without waiting for the lantern,\"</span> said Tom quickly, and he struck a match, holding it so that the gleam fell upon his face.\n",
       "</pre>\n"
      ],
      "text/plain": [
       "\u001b[1m[\u001b[0m\u001b[1;36m32096\u001b[0m-\u001b[1;36m32134\u001b[0m\u001b[1m]\u001b[0m \u001b[32m\"I'll give you a look at me without waiting for the lantern,\"\u001b[0m said Tom quickly, and he struck a match, holding it so that the gleam fell upon his face.\n"
      ]
     },
     "metadata": {},
     "output_type": "display_data"
    },
    {
     "data": {
      "text/html": [
       "<pre style=\"white-space:pre;overflow-x:auto;line-height:normal;font-family:Menlo,'DejaVu Sans Mono',consolas,'Courier New',monospace\"><span style=\"font-weight: bold\">[</span>Tom<span style=\"font-weight: bold\">]</span>\n",
       "</pre>\n"
      ],
      "text/plain": [
       "\u001b[1m[\u001b[0mTom\u001b[1m]\u001b[0m\n"
      ]
     },
     "metadata": {},
     "output_type": "display_data"
    },
    {
     "data": {
      "text/html": [
       "<pre style=\"white-space:pre;overflow-x:auto;line-height:normal;font-family:Menlo,'DejaVu Sans Mono',consolas,'Courier New',monospace\"><span style=\"font-weight: bold\">[</span><span style=\"color: #008080; text-decoration-color: #008080; font-weight: bold\">32149</span>-<span style=\"color: #008080; text-decoration-color: #008080; font-weight: bold\">32192</span><span style=\"font-weight: bold\">]</span> <span style=\"color: #008000; text-decoration-color: #008000\">\"Who be you, anyhow, and what you doin' here?\"</span>  <span style=\"color: #008000; text-decoration-color: #008000\">\"That's just what I would like to know,\"</span> said Tom, passing his hand over his head, which was still paining him.\n",
       "</pre>\n"
      ],
      "text/plain": [
       "\u001b[1m[\u001b[0m\u001b[1;36m32149\u001b[0m-\u001b[1;36m32192\u001b[0m\u001b[1m]\u001b[0m \u001b[32m\"Who be you, anyhow, and what you doin' here?\"\u001b[0m  \u001b[32m\"That's just what I would like to know,\"\u001b[0m said Tom, passing his hand over his head, which was still paining him.\n"
      ]
     },
     "metadata": {},
     "output_type": "display_data"
    },
    {
     "data": {
      "text/html": [
       "<pre style=\"white-space:pre;overflow-x:auto;line-height:normal;font-family:Menlo,'DejaVu Sans Mono',consolas,'Courier New',monospace\"><span style=\"font-weight: bold\">[</span>Tom<span style=\"font-weight: bold\">]</span>\n",
       "</pre>\n"
      ],
      "text/plain": [
       "\u001b[1m[\u001b[0mTom\u001b[1m]\u001b[0m\n"
      ]
     },
     "metadata": {},
     "output_type": "display_data"
    },
    {
     "data": {
      "text/html": [
       "<pre style=\"white-space:pre;overflow-x:auto;line-height:normal;font-family:Menlo,'DejaVu Sans Mono',consolas,'Courier New',monospace\"><span style=\"font-weight: bold\">[</span><span style=\"color: #008080; text-decoration-color: #008080; font-weight: bold\">32253</span>-<span style=\"color: #008080; text-decoration-color: #008080; font-weight: bold\">32263</span><span style=\"font-weight: bold\">]</span> <span style=\"color: #008000; text-decoration-color: #008000\">\"As far as that?\"</span> cried Tom.\n",
       "</pre>\n"
      ],
      "text/plain": [
       "\u001b[1m[\u001b[0m\u001b[1;36m32253\u001b[0m-\u001b[1;36m32263\u001b[0m\u001b[1m]\u001b[0m \u001b[32m\"As far as that?\"\u001b[0m cried Tom.\n"
      ]
     },
     "metadata": {},
     "output_type": "display_data"
    },
    {
     "data": {
      "text/html": [
       "<pre style=\"white-space:pre;overflow-x:auto;line-height:normal;font-family:Menlo,'DejaVu Sans Mono',consolas,'Courier New',monospace\"><span style=\"font-weight: bold\">[</span>Tom<span style=\"font-weight: bold\">]</span>\n",
       "</pre>\n"
      ],
      "text/plain": [
       "\u001b[1m[\u001b[0mTom\u001b[1m]\u001b[0m\n"
      ]
     },
     "metadata": {},
     "output_type": "display_data"
    },
    {
     "data": {
      "text/html": [
       "<pre style=\"white-space:pre;overflow-x:auto;line-height:normal;font-family:Menlo,'DejaVu Sans Mono',consolas,'Courier New',monospace\"><span style=\"font-weight: bold\">[</span><span style=\"color: #008080; text-decoration-color: #008080; font-weight: bold\">32291</span>-<span style=\"color: #008080; text-decoration-color: #008080; font-weight: bold\">32301</span><span style=\"font-weight: bold\">]</span> <span style=\"color: #008000; text-decoration-color: #008000\">\"Which one?\"</span> asked Tom quickly.  \n",
       "</pre>\n"
      ],
      "text/plain": [
       "\u001b[1m[\u001b[0m\u001b[1;36m32291\u001b[0m-\u001b[1;36m32301\u001b[0m\u001b[1m]\u001b[0m \u001b[32m\"Which one?\"\u001b[0m asked Tom quickly.  \n"
      ]
     },
     "metadata": {},
     "output_type": "display_data"
    },
    {
     "data": {
      "text/html": [
       "<pre style=\"white-space:pre;overflow-x:auto;line-height:normal;font-family:Menlo,'DejaVu Sans Mono',consolas,'Courier New',monospace\"><span style=\"font-weight: bold\">[</span>Tom<span style=\"font-weight: bold\">]</span>\n",
       "</pre>\n"
      ],
      "text/plain": [
       "\u001b[1m[\u001b[0mTom\u001b[1m]\u001b[0m\n"
      ]
     },
     "metadata": {},
     "output_type": "display_data"
    },
    {
     "data": {
      "text/html": [
       "<pre style=\"white-space:pre;overflow-x:auto;line-height:normal;font-family:Menlo,'DejaVu Sans Mono',consolas,'Courier New',monospace\"><span style=\"font-weight: bold\">[</span><span style=\"color: #008080; text-decoration-color: #008080; font-weight: bold\">32352</span>-<span style=\"color: #008080; text-decoration-color: #008080; font-weight: bold\">32365</span><span style=\"font-weight: bold\">]</span> <span style=\"color: #008000; text-decoration-color: #008000\">\"I didn't fall out, Mr.--er--\"</span> Tom paused.  \n",
       "</pre>\n"
      ],
      "text/plain": [
       "\u001b[1m[\u001b[0m\u001b[1;36m32352\u001b[0m-\u001b[1;36m32365\u001b[0m\u001b[1m]\u001b[0m \u001b[32m\"I didn't fall out, Mr.--er--\"\u001b[0m Tom paused.  \n"
      ]
     },
     "metadata": {},
     "output_type": "display_data"
    },
    {
     "data": {
      "text/html": [
       "<pre style=\"white-space:pre;overflow-x:auto;line-height:normal;font-family:Menlo,'DejaVu Sans Mono',consolas,'Courier New',monospace\"><span style=\"font-weight: bold\">[</span>Mr.--er--, Tom<span style=\"font-weight: bold\">]</span>\n",
       "</pre>\n"
      ],
      "text/plain": [
       "\u001b[1m[\u001b[0mMr.--er--, Tom\u001b[1m]\u001b[0m\n"
      ]
     },
     "metadata": {},
     "output_type": "display_data"
    },
    {
     "data": {
      "text/html": [
       "<pre style=\"white-space:pre;overflow-x:auto;line-height:normal;font-family:Menlo,'DejaVu Sans Mono',consolas,'Courier New',monospace\"><span style=\"font-weight: bold\">[</span><span style=\"color: #008080; text-decoration-color: #008080; font-weight: bold\">32472</span>-<span style=\"color: #008080; text-decoration-color: #008080; font-weight: bold\">32492</span><span style=\"font-weight: bold\">]</span> <span style=\"color: #008000; text-decoration-color: #008000\">\"Then I hope he can help me catch the scoundrels who robbed me,\"</span> said Tom.  \n",
       "</pre>\n"
      ],
      "text/plain": [
       "\u001b[1m[\u001b[0m\u001b[1;36m32472\u001b[0m-\u001b[1;36m32492\u001b[0m\u001b[1m]\u001b[0m \u001b[32m\"Then I hope he can help me catch the scoundrels who robbed me,\"\u001b[0m said Tom.  \n"
      ]
     },
     "metadata": {},
     "output_type": "display_data"
    },
    {
     "data": {
      "text/html": [
       "<pre style=\"white-space:pre;overflow-x:auto;line-height:normal;font-family:Menlo,'DejaVu Sans Mono',consolas,'Courier New',monospace\"><span style=\"font-weight: bold\">[</span>Tom<span style=\"font-weight: bold\">]</span>\n",
       "</pre>\n"
      ],
      "text/plain": [
       "\u001b[1m[\u001b[0mTom\u001b[1m]\u001b[0m\n"
      ]
     },
     "metadata": {},
     "output_type": "display_data"
    },
    {
     "data": {
      "text/html": [
       "<pre style=\"white-space:pre;overflow-x:auto;line-height:normal;font-family:Menlo,'DejaVu Sans Mono',consolas,'Courier New',monospace\"><span style=\"font-weight: bold\">[</span><span style=\"color: #008080; text-decoration-color: #008080; font-weight: bold\">32529</span>-<span style=\"color: #008080; text-decoration-color: #008080; font-weight: bold\">32558</span><span style=\"font-weight: bold\">]</span> <span style=\"color: #008000; text-decoration-color: #008000\">\"I'd rather find my motor-cycle, and a valuable model which was on it, than locate those men,\"</span> went on Tom.\n",
       "</pre>\n"
      ],
      "text/plain": [
       "\u001b[1m[\u001b[0m\u001b[1;36m32529\u001b[0m-\u001b[1;36m32558\u001b[0m\u001b[1m]\u001b[0m \u001b[32m\"I'd rather find my motor-cycle, and a valuable model which was on it, than locate those men,\"\u001b[0m went on Tom.\n"
      ]
     },
     "metadata": {},
     "output_type": "display_data"
    },
    {
     "data": {
      "text/html": [
       "<pre style=\"white-space:pre;overflow-x:auto;line-height:normal;font-family:Menlo,'DejaVu Sans Mono',consolas,'Courier New',monospace\"><span style=\"font-weight: bold\">[</span>Tom<span style=\"font-weight: bold\">]</span>\n",
       "</pre>\n"
      ],
      "text/plain": [
       "\u001b[1m[\u001b[0mTom\u001b[1m]\u001b[0m\n"
      ]
     },
     "metadata": {},
     "output_type": "display_data"
    },
    {
     "data": {
      "text/html": [
       "<pre style=\"white-space:pre;overflow-x:auto;line-height:normal;font-family:Menlo,'DejaVu Sans Mono',consolas,'Courier New',monospace\"><span style=\"font-weight: bold\">[</span><span style=\"color: #008080; text-decoration-color: #008080; font-weight: bold\">32719</span>-<span style=\"color: #008080; text-decoration-color: #008080; font-weight: bold\">32742</span><span style=\"font-weight: bold\">]</span> <span style=\"color: #008000; text-decoration-color: #008000\">\"The men must have brought me all the way from the church shed near Centreford to here,\"</span> declared Tom.\n",
       "</pre>\n"
      ],
      "text/plain": [
       "\u001b[1m[\u001b[0m\u001b[1;36m32719\u001b[0m-\u001b[1;36m32742\u001b[0m\u001b[1m]\u001b[0m \u001b[32m\"The men must have brought me all the way from the church shed near Centreford to here,\"\u001b[0m declared Tom.\n"
      ]
     },
     "metadata": {},
     "output_type": "display_data"
    },
    {
     "data": {
      "text/html": [
       "<pre style=\"white-space:pre;overflow-x:auto;line-height:normal;font-family:Menlo,'DejaVu Sans Mono',consolas,'Courier New',monospace\"><span style=\"font-weight: bold\">[</span>Centreford, Tom<span style=\"font-weight: bold\">]</span>\n",
       "</pre>\n"
      ],
      "text/plain": [
       "\u001b[1m[\u001b[0mCentreford, Tom\u001b[1m]\u001b[0m\n"
      ]
     },
     "metadata": {},
     "output_type": "display_data"
    },
    {
     "data": {
      "text/html": [
       "<pre style=\"white-space:pre;overflow-x:auto;line-height:normal;font-family:Menlo,'DejaVu Sans Mono',consolas,'Courier New',monospace\"><span style=\"font-weight: bold\">[</span><span style=\"color: #008080; text-decoration-color: #008080; font-weight: bold\">32814</span>-<span style=\"color: #008080; text-decoration-color: #008080; font-weight: bold\">32822</span><span style=\"font-weight: bold\">]</span> <span style=\"color: #008000; text-decoration-color: #008000\">\"It is,\"</span> said Tom.\n",
       "</pre>\n"
      ],
      "text/plain": [
       "\u001b[1m[\u001b[0m\u001b[1;36m32814\u001b[0m-\u001b[1;36m32822\u001b[0m\u001b[1m]\u001b[0m \u001b[32m\"It is,\"\u001b[0m said Tom.\n"
      ]
     },
     "metadata": {},
     "output_type": "display_data"
    },
    {
     "data": {
      "text/html": [
       "<pre style=\"white-space:pre;overflow-x:auto;line-height:normal;font-family:Menlo,'DejaVu Sans Mono',consolas,'Courier New',monospace\"><span style=\"font-weight: bold\">[</span>Tom<span style=\"font-weight: bold\">]</span>\n",
       "</pre>\n"
      ],
      "text/plain": [
       "\u001b[1m[\u001b[0mTom\u001b[1m]\u001b[0m\n"
      ]
     },
     "metadata": {},
     "output_type": "display_data"
    },
    {
     "data": {
      "text/html": [
       "<pre style=\"white-space:pre;overflow-x:auto;line-height:normal;font-family:Menlo,'DejaVu Sans Mono',consolas,'Courier New',monospace\"><span style=\"font-weight: bold\">[</span><span style=\"color: #008080; text-decoration-color: #008080; font-weight: bold\">32940</span>-<span style=\"color: #008080; text-decoration-color: #008080; font-weight: bold\">32986</span><span style=\"font-weight: bold\">]</span> <span style=\"color: #008000; text-decoration-color: #008000\">\"We've got to organize a regular searchin' party,\"</span> declared Jed Blackford, after he and his father, together with Tom and the farmer's hired man, had searched up and down the road by the light of lanterns.\n",
       "</pre>\n"
      ],
      "text/plain": [
       "\u001b[1m[\u001b[0m\u001b[1;36m32940\u001b[0m-\u001b[1;36m32986\u001b[0m\u001b[1m]\u001b[0m \u001b[32m\"We've got to organize a regular searchin' party,\"\u001b[0m declared Jed Blackford, after he and his father, together with Tom and the farmer's hired man, had searched up and down the road by the light of lanterns.\n"
      ]
     },
     "metadata": {},
     "output_type": "display_data"
    },
    {
     "data": {
      "text/html": [
       "<pre style=\"white-space:pre;overflow-x:auto;line-height:normal;font-family:Menlo,'DejaVu Sans Mono',consolas,'Courier New',monospace\"><span style=\"font-weight: bold\">[</span>Jed Blackford, Tom<span style=\"font-weight: bold\">]</span>\n",
       "</pre>\n"
      ],
      "text/plain": [
       "\u001b[1m[\u001b[0mJed Blackford, Tom\u001b[1m]\u001b[0m\n"
      ]
     },
     "metadata": {},
     "output_type": "display_data"
    },
    {
     "data": {
      "text/html": [
       "<pre style=\"white-space:pre;overflow-x:auto;line-height:normal;font-family:Menlo,'DejaVu Sans Mono',consolas,'Courier New',monospace\"><span style=\"font-weight: bold\">[</span><span style=\"color: #008080; text-decoration-color: #008080; font-weight: bold\">33111</span>-<span style=\"color: #008080; text-decoration-color: #008080; font-weight: bold\">33127</span><span style=\"font-weight: bold\">]</span> <span style=\"color: #008000; text-decoration-color: #008000\">\"No, but it's very similar,\"</span> answered Tom with a smile.\n",
       "</pre>\n"
      ],
      "text/plain": [
       "\u001b[1m[\u001b[0m\u001b[1;36m33111\u001b[0m-\u001b[1;36m33127\u001b[0m\u001b[1m]\u001b[0m \u001b[32m\"No, but it's very similar,\"\u001b[0m answered Tom with a smile.\n"
      ]
     },
     "metadata": {},
     "output_type": "display_data"
    },
    {
     "data": {
      "text/html": [
       "<pre style=\"white-space:pre;overflow-x:auto;line-height:normal;font-family:Menlo,'DejaVu Sans Mono',consolas,'Courier New',monospace\"><span style=\"font-weight: bold\">[</span>Tom<span style=\"font-weight: bold\">]</span>\n",
       "</pre>\n"
      ],
      "text/plain": [
       "\u001b[1m[\u001b[0mTom\u001b[1m]\u001b[0m\n"
      ]
     },
     "metadata": {},
     "output_type": "display_data"
    },
    {
     "data": {
      "text/html": [
       "<pre style=\"white-space:pre;overflow-x:auto;line-height:normal;font-family:Menlo,'DejaVu Sans Mono',consolas,'Courier New',monospace\"><span style=\"font-weight: bold\">[</span><span style=\"color: #008080; text-decoration-color: #008080; font-weight: bold\">33395</span>-<span style=\"color: #008080; text-decoration-color: #008080; font-weight: bold\">33411</span><span style=\"font-weight: bold\">]</span> <span style=\"color: #008000; text-decoration-color: #008000\">\"No, I'll look it over in the woodshed,\"</span> promised Tom.\n",
       "</pre>\n"
      ],
      "text/plain": [
       "\u001b[1m[\u001b[0m\u001b[1;36m33395\u001b[0m-\u001b[1;36m33411\u001b[0m\u001b[1m]\u001b[0m \u001b[32m\"No, I'll look it over in the woodshed,\"\u001b[0m promised Tom.\n"
      ]
     },
     "metadata": {},
     "output_type": "display_data"
    },
    {
     "data": {
      "text/html": [
       "<pre style=\"white-space:pre;overflow-x:auto;line-height:normal;font-family:Menlo,'DejaVu Sans Mono',consolas,'Courier New',monospace\"><span style=\"font-weight: bold\">[</span>Tom<span style=\"font-weight: bold\">]</span>\n",
       "</pre>\n"
      ],
      "text/plain": [
       "\u001b[1m[\u001b[0mTom\u001b[1m]\u001b[0m\n"
      ]
     },
     "metadata": {},
     "output_type": "display_data"
    },
    {
     "data": {
      "text/html": [
       "<pre style=\"white-space:pre;overflow-x:auto;line-height:normal;font-family:Menlo,'DejaVu Sans Mono',consolas,'Courier New',monospace\"><span style=\"font-weight: bold\">[</span><span style=\"color: #008080; text-decoration-color: #008080; font-weight: bold\">33666</span>-<span style=\"color: #008080; text-decoration-color: #008080; font-weight: bold\">33684</span><span style=\"font-weight: bold\">]</span> <span style=\"color: #008000; text-decoration-color: #008000\">\"That's the color of a number of automobiles,\"</span> said Tom with a smile.\n",
       "</pre>\n"
      ],
      "text/plain": [
       "\u001b[1m[\u001b[0m\u001b[1;36m33666\u001b[0m-\u001b[1;36m33684\u001b[0m\u001b[1m]\u001b[0m \u001b[32m\"That's the color of a number of automobiles,\"\u001b[0m said Tom with a smile.\n"
      ]
     },
     "metadata": {},
     "output_type": "display_data"
    },
    {
     "data": {
      "text/html": [
       "<pre style=\"white-space:pre;overflow-x:auto;line-height:normal;font-family:Menlo,'DejaVu Sans Mono',consolas,'Courier New',monospace\"><span style=\"font-weight: bold\">[</span>Tom<span style=\"font-weight: bold\">]</span>\n",
       "</pre>\n"
      ],
      "text/plain": [
       "\u001b[1m[\u001b[0mTom\u001b[1m]\u001b[0m\n"
      ]
     },
     "metadata": {},
     "output_type": "display_data"
    },
    {
     "data": {
      "text/html": [
       "<pre style=\"white-space:pre;overflow-x:auto;line-height:normal;font-family:Menlo,'DejaVu Sans Mono',consolas,'Courier New',monospace\"><span style=\"font-weight: bold\">[</span><span style=\"color: #008080; text-decoration-color: #008080; font-weight: bold\">33807</span>-<span style=\"color: #008080; text-decoration-color: #008080; font-weight: bold\">33818</span><span style=\"font-weight: bold\">]</span> <span style=\"color: #008000; text-decoration-color: #008000\">\"I believe you're right,\"</span> agreed Tom.\n",
       "</pre>\n"
      ],
      "text/plain": [
       "\u001b[1m[\u001b[0m\u001b[1;36m33807\u001b[0m-\u001b[1;36m33818\u001b[0m\u001b[1m]\u001b[0m \u001b[32m\"I believe you're right,\"\u001b[0m agreed Tom.\n"
      ]
     },
     "metadata": {},
     "output_type": "display_data"
    },
    {
     "data": {
      "text/html": [
       "<pre style=\"white-space:pre;overflow-x:auto;line-height:normal;font-family:Menlo,'DejaVu Sans Mono',consolas,'Courier New',monospace\"><span style=\"font-weight: bold\">[</span>Tom<span style=\"font-weight: bold\">]</span>\n",
       "</pre>\n"
      ],
      "text/plain": [
       "\u001b[1m[\u001b[0mTom\u001b[1m]\u001b[0m\n"
      ]
     },
     "metadata": {},
     "output_type": "display_data"
    },
    {
     "data": {
      "text/html": [
       "<pre style=\"white-space:pre;overflow-x:auto;line-height:normal;font-family:Menlo,'DejaVu Sans Mono',consolas,'Courier New',monospace\"><span style=\"font-weight: bold\">[</span><span style=\"color: #008080; text-decoration-color: #008080; font-weight: bold\">34090</span>-<span style=\"color: #008080; text-decoration-color: #008080; font-weight: bold\">34113</span><span style=\"font-weight: bold\">]</span> <span style=\"color: #008000; text-decoration-color: #008000\">\"Well, I hope you find those criminals,\"</span> said Mr. Blackford, as he watched Tom oiling the machine.\n",
       "</pre>\n"
      ],
      "text/plain": [
       "\u001b[1m[\u001b[0m\u001b[1;36m34090\u001b[0m-\u001b[1;36m34113\u001b[0m\u001b[1m]\u001b[0m \u001b[32m\"Well, I hope you find those criminals,\"\u001b[0m said Mr. Blackford, as he watched Tom oiling the machine.\n"
      ]
     },
     "metadata": {},
     "output_type": "display_data"
    },
    {
     "data": {
      "text/html": [
       "<pre style=\"white-space:pre;overflow-x:auto;line-height:normal;font-family:Menlo,'DejaVu Sans Mono',consolas,'Courier New',monospace\"><span style=\"font-weight: bold\">[</span>Blackford, Tom<span style=\"font-weight: bold\">]</span>\n",
       "</pre>\n"
      ],
      "text/plain": [
       "\u001b[1m[\u001b[0mBlackford, Tom\u001b[1m]\u001b[0m\n"
      ]
     },
     "metadata": {},
     "output_type": "display_data"
    },
    {
     "data": {
      "text/html": [
       "<pre style=\"white-space:pre;overflow-x:auto;line-height:normal;font-family:Menlo,'DejaVu Sans Mono',consolas,'Courier New',monospace\"><span style=\"font-weight: bold\">[</span><span style=\"color: #008080; text-decoration-color: #008080; font-weight: bold\">34352</span>-<span style=\"color: #008080; text-decoration-color: #008080; font-weight: bold\">34366</span><span style=\"font-weight: bold\">]</span> <span style=\"color: #008000; text-decoration-color: #008000\">\"Oh, it's just a knack,\"</span> replied Tom modestly.\n",
       "</pre>\n"
      ],
      "text/plain": [
       "\u001b[1m[\u001b[0m\u001b[1;36m34352\u001b[0m-\u001b[1;36m34366\u001b[0m\u001b[1m]\u001b[0m \u001b[32m\"Oh, it's just a knack,\"\u001b[0m replied Tom modestly.\n"
      ]
     },
     "metadata": {},
     "output_type": "display_data"
    },
    {
     "data": {
      "text/html": [
       "<pre style=\"white-space:pre;overflow-x:auto;line-height:normal;font-family:Menlo,'DejaVu Sans Mono',consolas,'Courier New',monospace\"><span style=\"font-weight: bold\">[</span>Tom<span style=\"font-weight: bold\">]</span>\n",
       "</pre>\n"
      ],
      "text/plain": [
       "\u001b[1m[\u001b[0mTom\u001b[1m]\u001b[0m\n"
      ]
     },
     "metadata": {},
     "output_type": "display_data"
    },
    {
     "data": {
      "text/html": [
       "<pre style=\"white-space:pre;overflow-x:auto;line-height:normal;font-family:Menlo,'DejaVu Sans Mono',consolas,'Courier New',monospace\"><span style=\"font-weight: bold\">[</span><span style=\"color: #008080; text-decoration-color: #008080; font-weight: bold\">34458</span>-<span style=\"color: #008080; text-decoration-color: #008080; font-weight: bold\">34509</span><span style=\"font-weight: bold\">]</span> <span style=\"color: #008000; text-decoration-color: #008000\">\"I'd go and do it myself, but I want to get home,\"</span> said Tom, and then he showed her how, by inserting a small iron plug in a certain place, there would be no danger of the cog coming loose again.\n",
       "</pre>\n"
      ],
      "text/plain": [
       "\u001b[1m[\u001b[0m\u001b[1;36m34458\u001b[0m-\u001b[1;36m34509\u001b[0m\u001b[1m]\u001b[0m \u001b[32m\"I'd go and do it myself, but I want to get home,\"\u001b[0m said Tom, and then he showed her how, by inserting a small iron plug in a certain place, there would be no danger of the cog coming loose again.\n"
      ]
     },
     "metadata": {},
     "output_type": "display_data"
    },
    {
     "data": {
      "text/html": [
       "<pre style=\"white-space:pre;overflow-x:auto;line-height:normal;font-family:Menlo,'DejaVu Sans Mono',consolas,'Courier New',monospace\"><span style=\"font-weight: bold\">[</span>Tom<span style=\"font-weight: bold\">]</span>\n",
       "</pre>\n"
      ],
      "text/plain": [
       "\u001b[1m[\u001b[0mTom\u001b[1m]\u001b[0m\n"
      ]
     },
     "metadata": {},
     "output_type": "display_data"
    },
    {
     "data": {
      "text/html": [
       "<pre style=\"white-space:pre;overflow-x:auto;line-height:normal;font-family:Menlo,'DejaVu Sans Mono',consolas,'Courier New',monospace\"><span style=\"font-weight: bold\">[</span><span style=\"color: #008080; text-decoration-color: #008080; font-weight: bold\">34623</span>-<span style=\"color: #008080; text-decoration-color: #008080; font-weight: bold\">34653</span><span style=\"font-weight: bold\">]</span> <span style=\"color: #008000; text-decoration-color: #008000\">\"Now for a quick run to Shopton to tell dad the bad news,\"</span> spoke Tom to himself as he turned on full speed and dashed away.\n",
       "</pre>\n"
      ],
      "text/plain": [
       "\u001b[1m[\u001b[0m\u001b[1;36m34623\u001b[0m-\u001b[1;36m34653\u001b[0m\u001b[1m]\u001b[0m \u001b[32m\"Now for a quick run to Shopton to tell dad the bad news,\"\u001b[0m spoke Tom to himself as he turned on full speed and dashed away.\n"
      ]
     },
     "metadata": {},
     "output_type": "display_data"
    },
    {
     "data": {
      "text/html": [
       "<pre style=\"white-space:pre;overflow-x:auto;line-height:normal;font-family:Menlo,'DejaVu Sans Mono',consolas,'Courier New',monospace\"><span style=\"font-weight: bold\">[</span>Shopton, Tom<span style=\"font-weight: bold\">]</span>\n",
       "</pre>\n"
      ],
      "text/plain": [
       "\u001b[1m[\u001b[0mShopton, Tom\u001b[1m]\u001b[0m\n"
      ]
     },
     "metadata": {},
     "output_type": "display_data"
    },
    {
     "data": {
      "text/html": [
       "<pre style=\"white-space:pre;overflow-x:auto;line-height:normal;font-family:Menlo,'DejaVu Sans Mono',consolas,'Courier New',monospace\"><span style=\"font-weight: bold\">[</span><span style=\"color: #008080; text-decoration-color: #008080; font-weight: bold\">34716</span>-<span style=\"color: #008080; text-decoration-color: #008080; font-weight: bold\">34747</span><span style=\"font-weight: bold\">]</span> <span style=\"color: #008000; text-decoration-color: #008000\">\"I think I'll make inquiries of the police here, to see if they caught sight of those men,\"</span> decided Tom as he left the restaurant.\n",
       "</pre>\n"
      ],
      "text/plain": [
       "\u001b[1m[\u001b[0m\u001b[1;36m34716\u001b[0m-\u001b[1;36m34747\u001b[0m\u001b[1m]\u001b[0m \u001b[32m\"I think I'll make inquiries of the police here, to see if they caught sight of those men,\"\u001b[0m decided Tom as he left the restaurant.\n"
      ]
     },
     "metadata": {},
     "output_type": "display_data"
    },
    {
     "data": {
      "text/html": [
       "<pre style=\"white-space:pre;overflow-x:auto;line-height:normal;font-family:Menlo,'DejaVu Sans Mono',consolas,'Courier New',monospace\"><span style=\"font-weight: bold\">[</span>Tom<span style=\"font-weight: bold\">]</span>\n",
       "</pre>\n"
      ],
      "text/plain": [
       "\u001b[1m[\u001b[0mTom\u001b[1m]\u001b[0m\n"
      ]
     },
     "metadata": {},
     "output_type": "display_data"
    },
    {
     "data": {
      "text/html": [
       "<pre style=\"white-space:pre;overflow-x:auto;line-height:normal;font-family:Menlo,'DejaVu Sans Mono',consolas,'Courier New',monospace\"><span style=\"font-weight: bold\">[</span><span style=\"color: #008080; text-decoration-color: #008080; font-weight: bold\">34885</span>-<span style=\"color: #008080; text-decoration-color: #008080; font-weight: bold\">34920</span><span style=\"font-weight: bold\">]</span> <span style=\"color: #008000; text-decoration-color: #008000\">\"You don't mean to tell me you're the young man who was chloroformed and robbed!\"</span> exclaimed the constable, looking at Tom as if he doubted his word.\n",
       "</pre>\n"
      ],
      "text/plain": [
       "\u001b[1m[\u001b[0m\u001b[1;36m34885\u001b[0m-\u001b[1;36m34920\u001b[0m\u001b[1m]\u001b[0m \u001b[32m\"You don't mean to tell me you're the young man who was chloroformed and robbed!\"\u001b[0m exclaimed the constable, looking at Tom as if he doubted his word.\n"
      ]
     },
     "metadata": {},
     "output_type": "display_data"
    },
    {
     "data": {
      "text/html": [
       "<pre style=\"white-space:pre;overflow-x:auto;line-height:normal;font-family:Menlo,'DejaVu Sans Mono',consolas,'Courier New',monospace\"><span style=\"font-weight: bold\">[</span>Tom<span style=\"font-weight: bold\">]</span>\n",
       "</pre>\n"
      ],
      "text/plain": [
       "\u001b[1m[\u001b[0mTom\u001b[1m]\u001b[0m\n"
      ]
     },
     "metadata": {},
     "output_type": "display_data"
    },
    {
     "data": {
      "text/html": [
       "<pre style=\"white-space:pre;overflow-x:auto;line-height:normal;font-family:Menlo,'DejaVu Sans Mono',consolas,'Courier New',monospace\"><span style=\"font-weight: bold\">[</span><span style=\"color: #008080; text-decoration-color: #008080; font-weight: bold\">35121</span>-<span style=\"color: #008080; text-decoration-color: #008080; font-weight: bold\">35139</span><span style=\"font-weight: bold\">]</span> <span style=\"color: #008000; text-decoration-color: #008000\">\"Oh, no, women and young ladies often operate them,\"</span> said Tom.  \n",
       "</pre>\n"
      ],
      "text/plain": [
       "\u001b[1m[\u001b[0m\u001b[1;36m35121\u001b[0m-\u001b[1;36m35139\u001b[0m\u001b[1m]\u001b[0m \u001b[32m\"Oh, no, women and young ladies often operate them,\"\u001b[0m said Tom.  \n"
      ]
     },
     "metadata": {},
     "output_type": "display_data"
    },
    {
     "data": {
      "text/html": [
       "<pre style=\"white-space:pre;overflow-x:auto;line-height:normal;font-family:Menlo,'DejaVu Sans Mono',consolas,'Courier New',monospace\"><span style=\"font-weight: bold\">[</span>Tom<span style=\"font-weight: bold\">]</span>\n",
       "</pre>\n"
      ],
      "text/plain": [
       "\u001b[1m[\u001b[0mTom\u001b[1m]\u001b[0m\n"
      ]
     },
     "metadata": {},
     "output_type": "display_data"
    },
    {
     "data": {
      "text/html": [
       "<pre style=\"white-space:pre;overflow-x:auto;line-height:normal;font-family:Menlo,'DejaVu Sans Mono',consolas,'Courier New',monospace\"><span style=\"font-weight: bold\">[</span><span style=\"color: #008080; text-decoration-color: #008080; font-weight: bold\">35139</span>-<span style=\"color: #008080; text-decoration-color: #008080; font-weight: bold\">35181</span><span style=\"font-weight: bold\">]</span> <span style=\"color: #008000; text-decoration-color: #008000\">\"I should think you'd find one handier than the two-wheeled apparatus you have out there,\"</span> went on the constable, indicating the motor-cycle, which Tom had stood up against a tree.\n",
       "</pre>\n"
      ],
      "text/plain": [
       "\u001b[1m[\u001b[0m\u001b[1;36m35139\u001b[0m-\u001b[1;36m35181\u001b[0m\u001b[1m]\u001b[0m \u001b[32m\"I should think you'd find one handier than the two-wheeled apparatus you have out there,\"\u001b[0m went on the constable, indicating the motor-cycle, which Tom had stood up against a tree.\n"
      ]
     },
     "metadata": {},
     "output_type": "display_data"
    },
    {
     "data": {
      "text/html": [
       "<pre style=\"white-space:pre;overflow-x:auto;line-height:normal;font-family:Menlo,'DejaVu Sans Mono',consolas,'Courier New',monospace\"><span style=\"font-weight: bold\">[</span>one, two, Tom<span style=\"font-weight: bold\">]</span>\n",
       "</pre>\n"
      ],
      "text/plain": [
       "\u001b[1m[\u001b[0mone, two, Tom\u001b[1m]\u001b[0m\n"
      ]
     },
     "metadata": {},
     "output_type": "display_data"
    },
    {
     "data": {
      "text/html": [
       "<pre style=\"white-space:pre;overflow-x:auto;line-height:normal;font-family:Menlo,'DejaVu Sans Mono',consolas,'Courier New',monospace\"><span style=\"font-weight: bold\">[</span><span style=\"color: #008080; text-decoration-color: #008080; font-weight: bold\">35431</span>-<span style=\"color: #008080; text-decoration-color: #008080; font-weight: bold\">35444</span><span style=\"font-weight: bold\">]</span> <span style=\"color: #008000; text-decoration-color: #008000\">\"I guess he's lost something,\"</span> decided Tom.  \n",
       "</pre>\n"
      ],
      "text/plain": [
       "\u001b[1m[\u001b[0m\u001b[1;36m35431\u001b[0m-\u001b[1;36m35444\u001b[0m\u001b[1m]\u001b[0m \u001b[32m\"I guess he's lost something,\"\u001b[0m decided Tom.  \n"
      ]
     },
     "metadata": {},
     "output_type": "display_data"
    },
    {
     "data": {
      "text/html": [
       "<pre style=\"white-space:pre;overflow-x:auto;line-height:normal;font-family:Menlo,'DejaVu Sans Mono',consolas,'Courier New',monospace\"><span style=\"font-weight: bold\">[</span>Tom<span style=\"font-weight: bold\">]</span>\n",
       "</pre>\n"
      ],
      "text/plain": [
       "\u001b[1m[\u001b[0mTom\u001b[1m]\u001b[0m\n"
      ]
     },
     "metadata": {},
     "output_type": "display_data"
    },
    {
     "data": {
      "text/html": [
       "<pre style=\"white-space:pre;overflow-x:auto;line-height:normal;font-family:Menlo,'DejaVu Sans Mono',consolas,'Courier New',monospace\"><span style=\"font-weight: bold\">[</span><span style=\"color: #008080; text-decoration-color: #008080; font-weight: bold\">35595</span>-<span style=\"color: #008080; text-decoration-color: #008080; font-weight: bold\">35613</span><span style=\"font-weight: bold\">]</span> <span style=\"color: #008000; text-decoration-color: #008000\">\"Yes; it doesn't seem to work,\"</span> and Tom glanced critically at it.\n",
       "</pre>\n"
      ],
      "text/plain": [
       "\u001b[1m[\u001b[0m\u001b[1;36m35595\u001b[0m-\u001b[1;36m35613\u001b[0m\u001b[1m]\u001b[0m \u001b[32m\"Yes; it doesn't seem to work,\"\u001b[0m and Tom glanced critically at it.\n"
      ]
     },
     "metadata": {},
     "output_type": "display_data"
    },
    {
     "data": {
      "text/html": [
       "<pre style=\"white-space:pre;overflow-x:auto;line-height:normal;font-family:Menlo,'DejaVu Sans Mono',consolas,'Courier New',monospace\"><span style=\"font-weight: bold\">[</span>Tom<span style=\"font-weight: bold\">]</span>\n",
       "</pre>\n"
      ],
      "text/plain": [
       "\u001b[1m[\u001b[0mTom\u001b[1m]\u001b[0m\n"
      ]
     },
     "metadata": {},
     "output_type": "display_data"
    },
    {
     "data": {
      "text/html": [
       "<pre style=\"white-space:pre;overflow-x:auto;line-height:normal;font-family:Menlo,'DejaVu Sans Mono',consolas,'Courier New',monospace\"><span style=\"font-weight: bold\">[</span><span style=\"color: #008080; text-decoration-color: #008080; font-weight: bold\">35686</span>-<span style=\"color: #008080; text-decoration-color: #008080; font-weight: bold\">35739</span><span style=\"font-weight: bold\">]</span> <span style=\"color: #008000; text-decoration-color: #008000\">\"What, that old grindstone that was broken in two, and that you fastened together with concrete?\"</span> asked Tom, for he had seen the outfit with which Eradicate, in spare times between cleaning and whitewashing, had gone about the country, sharpening knives and scissors.\n",
       "</pre>\n"
      ],
      "text/plain": [
       "\u001b[1m[\u001b[0m\u001b[1;36m35686\u001b[0m-\u001b[1;36m35739\u001b[0m\u001b[1m]\u001b[0m \u001b[32m\"What, that old grindstone that was broken in two, and that you fastened together with concrete?\"\u001b[0m asked Tom, for he had seen the outfit with which Eradicate, in spare times between cleaning and whitewashing, had gone about the country, sharpening knives and scissors.\n"
      ]
     },
     "metadata": {},
     "output_type": "display_data"
    },
    {
     "data": {
      "text/html": [
       "<pre style=\"white-space:pre;overflow-x:auto;line-height:normal;font-family:Menlo,'DejaVu Sans Mono',consolas,'Courier New',monospace\"><span style=\"font-weight: bold\">[</span>two, Tom, Eradicate<span style=\"font-weight: bold\">]</span>\n",
       "</pre>\n"
      ],
      "text/plain": [
       "\u001b[1m[\u001b[0mtwo, Tom, Eradicate\u001b[1m]\u001b[0m\n"
      ]
     },
     "metadata": {},
     "output_type": "display_data"
    },
    {
     "data": {
      "text/html": [
       "<pre style=\"white-space:pre;overflow-x:auto;line-height:normal;font-family:Menlo,'DejaVu Sans Mono',consolas,'Courier New',monospace\"><span style=\"font-weight: bold\">[</span><span style=\"color: #008080; text-decoration-color: #008080; font-weight: bold\">35808</span>-<span style=\"color: #008080; text-decoration-color: #008080; font-weight: bold\">35824</span><span style=\"font-weight: bold\">]</span> <span style=\"color: #008000; text-decoration-color: #008000\">\"I guess it was an even exchange, then,\"</span> went on Tom.\n",
       "</pre>\n"
      ],
      "text/plain": [
       "\u001b[1m[\u001b[0m\u001b[1;36m35808\u001b[0m-\u001b[1;36m35824\u001b[0m\u001b[1m]\u001b[0m \u001b[32m\"I guess it was an even exchange, then,\"\u001b[0m went on Tom.\n"
      ]
     },
     "metadata": {},
     "output_type": "display_data"
    },
    {
     "data": {
      "text/html": [
       "<pre style=\"white-space:pre;overflow-x:auto;line-height:normal;font-family:Menlo,'DejaVu Sans Mono',consolas,'Courier New',monospace\"><span style=\"font-weight: bold\">[</span>Tom<span style=\"font-weight: bold\">]</span>\n",
       "</pre>\n"
      ],
      "text/plain": [
       "\u001b[1m[\u001b[0mTom\u001b[1m]\u001b[0m\n"
      ]
     },
     "metadata": {},
     "output_type": "display_data"
    },
    {
     "data": {
      "text/html": [
       "<pre style=\"white-space:pre;overflow-x:auto;line-height:normal;font-family:Menlo,'DejaVu Sans Mono',consolas,'Courier New',monospace\"><span style=\"font-weight: bold\">[</span><span style=\"color: #008080; text-decoration-color: #008080; font-weight: bold\">36187</span>-<span style=\"color: #008080; text-decoration-color: #008080; font-weight: bold\">36207</span><span style=\"font-weight: bold\">]</span> <span style=\"color: #008000; text-decoration-color: #008000\">\"No, it's not the kind of Paul you mean,\"</span> said Tom with a laugh.\n",
       "</pre>\n"
      ],
      "text/plain": [
       "\u001b[1m[\u001b[0m\u001b[1;36m36187\u001b[0m-\u001b[1;36m36207\u001b[0m\u001b[1m]\u001b[0m \u001b[32m\"No, it's not the kind of Paul you mean,\"\u001b[0m said Tom with a laugh.\n"
      ]
     },
     "metadata": {},
     "output_type": "display_data"
    },
    {
     "data": {
      "text/html": [
       "<pre style=\"white-space:pre;overflow-x:auto;line-height:normal;font-family:Menlo,'DejaVu Sans Mono',consolas,'Courier New',monospace\"><span style=\"font-weight: bold\">[</span>Paul, Tom<span style=\"font-weight: bold\">]</span>\n",
       "</pre>\n"
      ],
      "text/plain": [
       "\u001b[1m[\u001b[0mPaul, Tom\u001b[1m]\u001b[0m\n"
      ]
     },
     "metadata": {},
     "output_type": "display_data"
    },
    {
     "data": {
      "text/html": [
       "<pre style=\"white-space:pre;overflow-x:auto;line-height:normal;font-family:Menlo,'DejaVu Sans Mono',consolas,'Courier New',monospace\"><span style=\"font-weight: bold\">[</span><span style=\"color: #008080; text-decoration-color: #008080; font-weight: bold\">36318</span>-<span style=\"color: #008080; text-decoration-color: #008080; font-weight: bold\">36332</span><span style=\"font-weight: bold\">]</span> <span style=\"color: #008000; text-decoration-color: #008000\">\"There you are, Rad!\"</span> exclaimed Tom at length.  \n",
       "</pre>\n"
      ],
      "text/plain": [
       "\u001b[1m[\u001b[0m\u001b[1;36m36318\u001b[0m-\u001b[1;36m36332\u001b[0m\u001b[1m]\u001b[0m \u001b[32m\"There you are, Rad!\"\u001b[0m exclaimed Tom at length.  \n"
      ]
     },
     "metadata": {},
     "output_type": "display_data"
    },
    {
     "data": {
      "text/html": [
       "<pre style=\"white-space:pre;overflow-x:auto;line-height:normal;font-family:Menlo,'DejaVu Sans Mono',consolas,'Courier New',monospace\"><span style=\"font-weight: bold\">[</span>Rad, Tom<span style=\"font-weight: bold\">]</span>\n",
       "</pre>\n"
      ],
      "text/plain": [
       "\u001b[1m[\u001b[0mRad, Tom\u001b[1m]\u001b[0m\n"
      ]
     },
     "metadata": {},
     "output_type": "display_data"
    },
    {
     "data": {
      "text/html": [
       "<pre style=\"white-space:pre;overflow-x:auto;line-height:normal;font-family:Menlo,'DejaVu Sans Mono',consolas,'Courier New',monospace\"><span style=\"font-weight: bold\">[</span><span style=\"color: #008080; text-decoration-color: #008080; font-weight: bold\">36484</span>-<span style=\"color: #008080; text-decoration-color: #008080; font-weight: bold\">36495</span><span style=\"font-weight: bold\">]</span> <span style=\"color: #008000; text-decoration-color: #008000\">\"All right,\"</span> spoke Tom with a laugh.\n",
       "</pre>\n"
      ],
      "text/plain": [
       "\u001b[1m[\u001b[0m\u001b[1;36m36484\u001b[0m-\u001b[1;36m36495\u001b[0m\u001b[1m]\u001b[0m \u001b[32m\"All right,\"\u001b[0m spoke Tom with a laugh.\n"
      ]
     },
     "metadata": {},
     "output_type": "display_data"
    },
    {
     "data": {
      "text/html": [
       "<pre style=\"white-space:pre;overflow-x:auto;line-height:normal;font-family:Menlo,'DejaVu Sans Mono',consolas,'Courier New',monospace\"><span style=\"font-weight: bold\">[</span>Tom<span style=\"font-weight: bold\">]</span>\n",
       "</pre>\n"
      ],
      "text/plain": [
       "\u001b[1m[\u001b[0mTom\u001b[1m]\u001b[0m\n"
      ]
     },
     "metadata": {},
     "output_type": "display_data"
    },
    {
     "data": {
      "text/html": [
       "<pre style=\"white-space:pre;overflow-x:auto;line-height:normal;font-family:Menlo,'DejaVu Sans Mono',consolas,'Courier New',monospace\"><span style=\"font-weight: bold\">[</span><span style=\"color: #008080; text-decoration-color: #008080; font-weight: bold\">36643</span>-<span style=\"color: #008080; text-decoration-color: #008080; font-weight: bold\">36648</span><span style=\"font-weight: bold\">]</span> \"Oh, Tom!\n",
       "</pre>\n"
      ],
      "text/plain": [
       "\u001b[1m[\u001b[0m\u001b[1;36m36643\u001b[0m-\u001b[1;36m36648\u001b[0m\u001b[1m]\u001b[0m \"Oh, Tom!\n"
      ]
     },
     "metadata": {},
     "output_type": "display_data"
    },
    {
     "data": {
      "text/html": [
       "<pre style=\"white-space:pre;overflow-x:auto;line-height:normal;font-family:Menlo,'DejaVu Sans Mono',consolas,'Courier New',monospace\"><span style=\"font-weight: bold\">[</span>Tom<span style=\"font-weight: bold\">]</span>\n",
       "</pre>\n"
      ],
      "text/plain": [
       "\u001b[1m[\u001b[0mTom\u001b[1m]\u001b[0m\n"
      ]
     },
     "metadata": {},
     "output_type": "display_data"
    },
    {
     "data": {
      "text/html": [
       "<pre style=\"white-space:pre;overflow-x:auto;line-height:normal;font-family:Menlo,'DejaVu Sans Mono',consolas,'Courier New',monospace\"><span style=\"font-weight: bold\">[</span><span style=\"color: #008080; text-decoration-color: #008080; font-weight: bold\">36726</span>-<span style=\"color: #008080; text-decoration-color: #008080; font-weight: bold\">36742</span><span style=\"font-weight: bold\">]</span> <span style=\"color: #008000; text-decoration-color: #008000\">\"Tell me all about it, Tom,\"</span> said Mr. Swift at length.\n",
       "</pre>\n"
      ],
      "text/plain": [
       "\u001b[1m[\u001b[0m\u001b[1;36m36726\u001b[0m-\u001b[1;36m36742\u001b[0m\u001b[1m]\u001b[0m \u001b[32m\"Tell me all about it, Tom,\"\u001b[0m said Mr. Swift at length.\n"
      ]
     },
     "metadata": {},
     "output_type": "display_data"
    },
    {
     "data": {
      "text/html": [
       "<pre style=\"white-space:pre;overflow-x:auto;line-height:normal;font-family:Menlo,'DejaVu Sans Mono',consolas,'Courier New',monospace\"><span style=\"font-weight: bold\">[</span>Tom, Swift<span style=\"font-weight: bold\">]</span>\n",
       "</pre>\n"
      ],
      "text/plain": [
       "\u001b[1m[\u001b[0mTom, Swift\u001b[1m]\u001b[0m\n"
      ]
     },
     "metadata": {},
     "output_type": "display_data"
    },
    {
     "data": {
      "text/html": [
       "<pre style=\"white-space:pre;overflow-x:auto;line-height:normal;font-family:Menlo,'DejaVu Sans Mono',consolas,'Courier New',monospace\"><span style=\"font-weight: bold\">[</span><span style=\"color: #008080; text-decoration-color: #008080; font-weight: bold\">36782</span>-<span style=\"color: #008080; text-decoration-color: #008080; font-weight: bold\">36790</span><span style=\"font-weight: bold\">]</span> \"Are you much hurt, Tom?\n",
       "</pre>\n"
      ],
      "text/plain": [
       "\u001b[1m[\u001b[0m\u001b[1;36m36782\u001b[0m-\u001b[1;36m36790\u001b[0m\u001b[1m]\u001b[0m \"Are you much hurt, Tom?\n"
      ]
     },
     "metadata": {},
     "output_type": "display_data"
    },
    {
     "data": {
      "text/html": [
       "<pre style=\"white-space:pre;overflow-x:auto;line-height:normal;font-family:Menlo,'DejaVu Sans Mono',consolas,'Courier New',monospace\"><span style=\"font-weight: bold\">[</span>Tom<span style=\"font-weight: bold\">]</span>\n",
       "</pre>\n"
      ],
      "text/plain": [
       "\u001b[1m[\u001b[0mTom\u001b[1m]\u001b[0m\n"
      ]
     },
     "metadata": {},
     "output_type": "display_data"
    },
    {
     "data": {
      "text/html": [
       "<pre style=\"white-space:pre;overflow-x:auto;line-height:normal;font-family:Menlo,'DejaVu Sans Mono',consolas,'Courier New',monospace\"><span style=\"font-weight: bold\">[</span><span style=\"color: #008080; text-decoration-color: #008080; font-weight: bold\">37092</span>-<span style=\"color: #008080; text-decoration-color: #008080; font-weight: bold\">37125</span><span style=\"font-weight: bold\">]</span> <span style=\"color: #008000; text-decoration-color: #008000\">\"I'm sure one of them was the same man who came here that night--the man with the black mustache, who dropped the telegram,\"</span> said Tom.\n",
       "</pre>\n"
      ],
      "text/plain": [
       "\u001b[1m[\u001b[0m\u001b[1;36m37092\u001b[0m-\u001b[1;36m37125\u001b[0m\u001b[1m]\u001b[0m \u001b[32m\"I'm sure one of them was the same man who came here that night--the man with the black mustache, who dropped the telegram,\"\u001b[0m said Tom.\n"
      ]
     },
     "metadata": {},
     "output_type": "display_data"
    },
    {
     "data": {
      "text/html": [
       "<pre style=\"white-space:pre;overflow-x:auto;line-height:normal;font-family:Menlo,'DejaVu Sans Mono',consolas,'Courier New',monospace\"><span style=\"font-weight: bold\">[</span>that night, Tom<span style=\"font-weight: bold\">]</span>\n",
       "</pre>\n"
      ],
      "text/plain": [
       "\u001b[1m[\u001b[0mthat night, Tom\u001b[1m]\u001b[0m\n"
      ]
     },
     "metadata": {},
     "output_type": "display_data"
    },
    {
     "data": {
      "text/html": [
       "<pre style=\"white-space:pre;overflow-x:auto;line-height:normal;font-family:Menlo,'DejaVu Sans Mono',consolas,'Courier New',monospace\"><span style=\"font-weight: bold\">[</span><span style=\"color: #008080; text-decoration-color: #008080; font-weight: bold\">37384</span>-<span style=\"color: #008080; text-decoration-color: #008080; font-weight: bold\">37406</span><span style=\"font-weight: bold\">]</span> <span style=\"color: #008000; text-decoration-color: #008000\">\"Very likely not,\"</span> agreed Tom, \"but I will keep my eyes open, just the same.\n",
       "</pre>\n"
      ],
      "text/plain": [
       "\u001b[1m[\u001b[0m\u001b[1;36m37384\u001b[0m-\u001b[1;36m37406\u001b[0m\u001b[1m]\u001b[0m \u001b[32m\"Very likely not,\"\u001b[0m agreed Tom, \"but I will keep my eyes open, just the same.\n"
      ]
     },
     "metadata": {},
     "output_type": "display_data"
    },
    {
     "data": {
      "text/html": [
       "<pre style=\"white-space:pre;overflow-x:auto;line-height:normal;font-family:Menlo,'DejaVu Sans Mono',consolas,'Courier New',monospace\"><span style=\"font-weight: bold\">[</span>Tom<span style=\"font-weight: bold\">]</span>\n",
       "</pre>\n"
      ],
      "text/plain": [
       "\u001b[1m[\u001b[0mTom\u001b[1m]\u001b[0m\n"
      ]
     },
     "metadata": {},
     "output_type": "display_data"
    },
    {
     "data": {
      "text/html": [
       "<pre style=\"white-space:pre;overflow-x:auto;line-height:normal;font-family:Menlo,'DejaVu Sans Mono',consolas,'Courier New',monospace\"><span style=\"font-weight: bold\">[</span><span style=\"color: #008080; text-decoration-color: #008080; font-weight: bold\">37487</span>-<span style=\"color: #008080; text-decoration-color: #008080; font-weight: bold\">37501</span><span style=\"font-weight: bold\">]</span> <span style=\"color: #008000; text-decoration-color: #008000\">\"Why do you ask, Tom?\"</span> inquired his father.  \n",
       "</pre>\n"
      ],
      "text/plain": [
       "\u001b[1m[\u001b[0m\u001b[1;36m37487\u001b[0m-\u001b[1;36m37501\u001b[0m\u001b[1m]\u001b[0m \u001b[32m\"Why do you ask, Tom?\"\u001b[0m inquired his father.  \n"
      ]
     },
     "metadata": {},
     "output_type": "display_data"
    },
    {
     "data": {
      "text/html": [
       "<pre style=\"white-space:pre;overflow-x:auto;line-height:normal;font-family:Menlo,'DejaVu Sans Mono',consolas,'Courier New',monospace\"><span style=\"font-weight: bold\">[</span>Tom<span style=\"font-weight: bold\">]</span>\n",
       "</pre>\n"
      ],
      "text/plain": [
       "\u001b[1m[\u001b[0mTom\u001b[1m]\u001b[0m\n"
      ]
     },
     "metadata": {},
     "output_type": "display_data"
    },
    {
     "data": {
      "text/html": [
       "<pre style=\"white-space:pre;overflow-x:auto;line-height:normal;font-family:Menlo,'DejaVu Sans Mono',consolas,'Courier New',monospace\"><span style=\"font-weight: bold\">[</span><span style=\"color: #008080; text-decoration-color: #008080; font-weight: bold\">37587</span>-<span style=\"color: #008080; text-decoration-color: #008080; font-weight: bold\">37616</span><span style=\"font-weight: bold\">]</span> <span style=\"color: #008000; text-decoration-color: #008000\">\"Well, I didn't take it there, after all,\"</span> said Tom with a grim smile, for he could appreciate a joke.\n",
       "</pre>\n"
      ],
      "text/plain": [
       "\u001b[1m[\u001b[0m\u001b[1;36m37587\u001b[0m-\u001b[1;36m37616\u001b[0m\u001b[1m]\u001b[0m \u001b[32m\"Well, I didn't take it there, after all,\"\u001b[0m said Tom with a grim smile, for he could appreciate a joke.\n"
      ]
     },
     "metadata": {},
     "output_type": "display_data"
    },
    {
     "data": {
      "text/html": [
       "<pre style=\"white-space:pre;overflow-x:auto;line-height:normal;font-family:Menlo,'DejaVu Sans Mono',consolas,'Courier New',monospace\"><span style=\"font-weight: bold\">[</span>Tom<span style=\"font-weight: bold\">]</span>\n",
       "</pre>\n"
      ],
      "text/plain": [
       "\u001b[1m[\u001b[0mTom\u001b[1m]\u001b[0m\n"
      ]
     },
     "metadata": {},
     "output_type": "display_data"
    },
    {
     "data": {
      "text/html": [
       "<pre style=\"white-space:pre;overflow-x:auto;line-height:normal;font-family:Menlo,'DejaVu Sans Mono',consolas,'Courier New',monospace\"><span style=\"font-weight: bold\">[</span><span style=\"color: #008080; text-decoration-color: #008080; font-weight: bold\">37653</span>-<span style=\"color: #008080; text-decoration-color: #008080; font-weight: bold\">37678</span><span style=\"font-weight: bold\">]</span> <span style=\"color: #008000; text-decoration-color: #008000\">\"I wish I could go with you, dad, to make up for the trouble I caused,\"</span> spoke Tom.  \n",
       "</pre>\n"
      ],
      "text/plain": [
       "\u001b[1m[\u001b[0m\u001b[1;36m37653\u001b[0m-\u001b[1;36m37678\u001b[0m\u001b[1m]\u001b[0m \u001b[32m\"I wish I could go with you, dad, to make up for the trouble I caused,\"\u001b[0m spoke Tom.  \n"
      ]
     },
     "metadata": {},
     "output_type": "display_data"
    },
    {
     "data": {
      "text/html": [
       "<pre style=\"white-space:pre;overflow-x:auto;line-height:normal;font-family:Menlo,'DejaVu Sans Mono',consolas,'Courier New',monospace\"><span style=\"font-weight: bold\">[</span>Tom<span style=\"font-weight: bold\">]</span>\n",
       "</pre>\n"
      ],
      "text/plain": [
       "\u001b[1m[\u001b[0mTom\u001b[1m]\u001b[0m\n"
      ]
     },
     "metadata": {},
     "output_type": "display_data"
    },
    {
     "data": {
      "text/html": [
       "<pre style=\"white-space:pre;overflow-x:auto;line-height:normal;font-family:Menlo,'DejaVu Sans Mono',consolas,'Courier New',monospace\"><span style=\"font-weight: bold\">[</span><span style=\"color: #008080; text-decoration-color: #008080; font-weight: bold\">37868</span>-<span style=\"color: #008080; text-decoration-color: #008080; font-weight: bold\">37876</span><span style=\"font-weight: bold\">]</span> \"That's right, Master Tom.\n",
       "</pre>\n"
      ],
      "text/plain": [
       "\u001b[1m[\u001b[0m\u001b[1;36m37868\u001b[0m-\u001b[1;36m37876\u001b[0m\u001b[1m]\u001b[0m \"That's right, Master Tom.\n"
      ]
     },
     "metadata": {},
     "output_type": "display_data"
    },
    {
     "data": {
      "text/html": [
       "<pre style=\"white-space:pre;overflow-x:auto;line-height:normal;font-family:Menlo,'DejaVu Sans Mono',consolas,'Courier New',monospace\"><span style=\"font-weight: bold\">[</span>Tom<span style=\"font-weight: bold\">]</span>\n",
       "</pre>\n"
      ],
      "text/plain": [
       "\u001b[1m[\u001b[0mTom\u001b[1m]\u001b[0m\n"
      ]
     },
     "metadata": {},
     "output_type": "display_data"
    },
    {
     "data": {
      "text/html": [
       "<pre style=\"white-space:pre;overflow-x:auto;line-height:normal;font-family:Menlo,'DejaVu Sans Mono',consolas,'Courier New',monospace\"><span style=\"font-weight: bold\">[</span><span style=\"color: #008080; text-decoration-color: #008080; font-weight: bold\">37990</span>-<span style=\"color: #008080; text-decoration-color: #008080; font-weight: bold\">38026</span><span style=\"font-weight: bold\">]</span> <span style=\"color: #008000; text-decoration-color: #008000\">\"I will, Master Tom,\"</span> and the old engineer, who had a living-room in a shack adjoining the boiler-room, locked the door after Tom left.\n",
       "</pre>\n"
      ],
      "text/plain": [
       "\u001b[1m[\u001b[0m\u001b[1;36m37990\u001b[0m-\u001b[1;36m38026\u001b[0m\u001b[1m]\u001b[0m \u001b[32m\"I will, Master Tom,\"\u001b[0m and the old engineer, who had a living-room in a shack adjoining the boiler-room, locked the door after Tom left.\n"
      ]
     },
     "metadata": {},
     "output_type": "display_data"
    },
    {
     "data": {
      "text/html": [
       "<pre style=\"white-space:pre;overflow-x:auto;line-height:normal;font-family:Menlo,'DejaVu Sans Mono',consolas,'Courier New',monospace\"><span style=\"font-weight: bold\">[</span>Tom, Tom<span style=\"font-weight: bold\">]</span>\n",
       "</pre>\n"
      ],
      "text/plain": [
       "\u001b[1m[\u001b[0mTom, Tom\u001b[1m]\u001b[0m\n"
      ]
     },
     "metadata": {},
     "output_type": "display_data"
    },
    {
     "data": {
      "text/html": [
       "<pre style=\"white-space:pre;overflow-x:auto;line-height:normal;font-family:Menlo,'DejaVu Sans Mono',consolas,'Courier New',monospace\"><span style=\"font-weight: bold\">[</span><span style=\"color: #008080; text-decoration-color: #008080; font-weight: bold\">37990</span>-<span style=\"color: #008080; text-decoration-color: #008080; font-weight: bold\">38026</span><span style=\"font-weight: bold\">]</span> <span style=\"color: #008000; text-decoration-color: #008000\">\"I will, Master Tom,\"</span> and the old engineer, who had a living-room in a shack adjoining the boiler-room, locked the door after Tom left.\n",
       "</pre>\n"
      ],
      "text/plain": [
       "\u001b[1m[\u001b[0m\u001b[1;36m37990\u001b[0m-\u001b[1;36m38026\u001b[0m\u001b[1m]\u001b[0m \u001b[32m\"I will, Master Tom,\"\u001b[0m and the old engineer, who had a living-room in a shack adjoining the boiler-room, locked the door after Tom left.\n"
      ]
     },
     "metadata": {},
     "output_type": "display_data"
    },
    {
     "data": {
      "text/html": [
       "<pre style=\"white-space:pre;overflow-x:auto;line-height:normal;font-family:Menlo,'DejaVu Sans Mono',consolas,'Courier New',monospace\"><span style=\"font-weight: bold\">[</span>Tom, Tom<span style=\"font-weight: bold\">]</span>\n",
       "</pre>\n"
      ],
      "text/plain": [
       "\u001b[1m[\u001b[0mTom, Tom\u001b[1m]\u001b[0m\n"
      ]
     },
     "metadata": {},
     "output_type": "display_data"
    },
    {
     "data": {
      "text/html": [
       "<pre style=\"white-space:pre;overflow-x:auto;line-height:normal;font-family:Menlo,'DejaVu Sans Mono',consolas,'Courier New',monospace\"><span style=\"font-weight: bold\">[</span><span style=\"color: #008080; text-decoration-color: #008080; font-weight: bold\">38569</span>-<span style=\"color: #008080; text-decoration-color: #008080; font-weight: bold\">38581</span><span style=\"font-weight: bold\">]</span> <span style=\"color: #008000; text-decoration-color: #008000\">\"He's after dad's papers!\"</span> thought Tom.\n",
       "</pre>\n"
      ],
      "text/plain": [
       "\u001b[1m[\u001b[0m\u001b[1;36m38569\u001b[0m-\u001b[1;36m38581\u001b[0m\u001b[1m]\u001b[0m \u001b[32m\"He's after dad's papers!\"\u001b[0m thought Tom.\n"
      ]
     },
     "metadata": {},
     "output_type": "display_data"
    },
    {
     "data": {
      "text/html": [
       "<pre style=\"white-space:pre;overflow-x:auto;line-height:normal;font-family:Menlo,'DejaVu Sans Mono',consolas,'Courier New',monospace\"><span style=\"font-weight: bold\">[</span>Tom<span style=\"font-weight: bold\">]</span>\n",
       "</pre>\n"
      ],
      "text/plain": [
       "\u001b[1m[\u001b[0mTom\u001b[1m]\u001b[0m\n"
      ]
     },
     "metadata": {},
     "output_type": "display_data"
    },
    {
     "data": {
      "text/html": [
       "<pre style=\"white-space:pre;overflow-x:auto;line-height:normal;font-family:Menlo,'DejaVu Sans Mono',consolas,'Courier New',monospace\"><span style=\"font-weight: bold\">[</span><span style=\"color: #008080; text-decoration-color: #008080; font-weight: bold\">38936</span>-<span style=\"color: #008080; text-decoration-color: #008080; font-weight: bold\">38947</span><span style=\"font-weight: bold\">]</span> <span style=\"color: #008000; text-decoration-color: #008000\">\"It looks like it,\"</span> agreed Tom grimly.\n",
       "</pre>\n"
      ],
      "text/plain": [
       "\u001b[1m[\u001b[0m\u001b[1;36m38936\u001b[0m-\u001b[1;36m38947\u001b[0m\u001b[1m]\u001b[0m \u001b[32m\"It looks like it,\"\u001b[0m agreed Tom grimly.\n"
      ]
     },
     "metadata": {},
     "output_type": "display_data"
    },
    {
     "data": {
      "text/html": [
       "<pre style=\"white-space:pre;overflow-x:auto;line-height:normal;font-family:Menlo,'DejaVu Sans Mono',consolas,'Courier New',monospace\"><span style=\"font-weight: bold\">[</span>Tom<span style=\"font-weight: bold\">]</span>\n",
       "</pre>\n"
      ],
      "text/plain": [
       "\u001b[1m[\u001b[0mTom\u001b[1m]\u001b[0m\n"
      ]
     },
     "metadata": {},
     "output_type": "display_data"
    },
    {
     "data": {
      "text/html": [
       "<pre style=\"white-space:pre;overflow-x:auto;line-height:normal;font-family:Menlo,'DejaVu Sans Mono',consolas,'Courier New',monospace\"><span style=\"font-weight: bold\">[</span><span style=\"color: #008080; text-decoration-color: #008080; font-weight: bold\">38962</span>-<span style=\"color: #008080; text-decoration-color: #008080; font-weight: bold\">38992</span><span style=\"font-weight: bold\">]</span> <span style=\"color: #008000; text-decoration-color: #008000\">\"Can't you see?\"</span> asked the fellow sullenly, and then Tom did notice that the man still had on his tramp make-up.\n",
       "</pre>\n"
      ],
      "text/plain": [
       "\u001b[1m[\u001b[0m\u001b[1;36m38962\u001b[0m-\u001b[1;36m38992\u001b[0m\u001b[1m]\u001b[0m \u001b[32m\"Can't you see?\"\u001b[0m asked the fellow sullenly, and then Tom did notice that the man still had on his tramp make-up.\n"
      ]
     },
     "metadata": {},
     "output_type": "display_data"
    },
    {
     "data": {
      "text/html": [
       "<pre style=\"white-space:pre;overflow-x:auto;line-height:normal;font-family:Menlo,'DejaVu Sans Mono',consolas,'Courier New',monospace\"><span style=\"font-weight: bold\">[</span>Tom<span style=\"font-weight: bold\">]</span>\n",
       "</pre>\n"
      ],
      "text/plain": [
       "\u001b[1m[\u001b[0mTom\u001b[1m]\u001b[0m\n"
      ]
     },
     "metadata": {},
     "output_type": "display_data"
    },
    {
     "data": {
      "text/html": [
       "<pre style=\"white-space:pre;overflow-x:auto;line-height:normal;font-family:Menlo,'DejaVu Sans Mono',consolas,'Courier New',monospace\"><span style=\"font-weight: bold\">[</span><span style=\"color: #008080; text-decoration-color: #008080; font-weight: bold\">38992</span>-<span style=\"color: #008080; text-decoration-color: #008080; font-weight: bold\">39003</span><span style=\"font-weight: bold\">]</span> <span style=\"color: #008000; text-decoration-color: #008000\">\"What do you want?\"</span> asked Tom.  \n",
       "</pre>\n"
      ],
      "text/plain": [
       "\u001b[1m[\u001b[0m\u001b[1;36m38992\u001b[0m-\u001b[1;36m39003\u001b[0m\u001b[1m]\u001b[0m \u001b[32m\"What do you want?\"\u001b[0m asked Tom.  \n"
      ]
     },
     "metadata": {},
     "output_type": "display_data"
    },
    {
     "data": {
      "text/html": [
       "<pre style=\"white-space:pre;overflow-x:auto;line-height:normal;font-family:Menlo,'DejaVu Sans Mono',consolas,'Courier New',monospace\"><span style=\"font-weight: bold\">[</span>Tom<span style=\"font-weight: bold\">]</span>\n",
       "</pre>\n"
      ],
      "text/plain": [
       "\u001b[1m[\u001b[0mTom\u001b[1m]\u001b[0m\n"
      ]
     },
     "metadata": {},
     "output_type": "display_data"
    },
    {
     "data": {
      "text/html": [
       "<pre style=\"white-space:pre;overflow-x:auto;line-height:normal;font-family:Menlo,'DejaVu Sans Mono',consolas,'Courier New',monospace\"><span style=\"font-weight: bold\">[</span><span style=\"color: #008080; text-decoration-color: #008080; font-weight: bold\">39039</span>-<span style=\"color: #008080; text-decoration-color: #008080; font-weight: bold\">39051</span><span style=\"font-weight: bold\">]</span> <span style=\"color: #008000; text-decoration-color: #008000\">\"No, you're not!\"</span> exclaimed Tom.  \n",
       "</pre>\n"
      ],
      "text/plain": [
       "\u001b[1m[\u001b[0m\u001b[1;36m39039\u001b[0m-\u001b[1;36m39051\u001b[0m\u001b[1m]\u001b[0m \u001b[32m\"No, you're not!\"\u001b[0m exclaimed Tom.  \n"
      ]
     },
     "metadata": {},
     "output_type": "display_data"
    },
    {
     "data": {
      "text/html": [
       "<pre style=\"white-space:pre;overflow-x:auto;line-height:normal;font-family:Menlo,'DejaVu Sans Mono',consolas,'Courier New',monospace\"><span style=\"font-weight: bold\">[</span>Tom<span style=\"font-weight: bold\">]</span>\n",
       "</pre>\n"
      ],
      "text/plain": [
       "\u001b[1m[\u001b[0mTom\u001b[1m]\u001b[0m\n"
      ]
     },
     "metadata": {},
     "output_type": "display_data"
    },
    {
     "data": {
      "text/html": [
       "<pre style=\"white-space:pre;overflow-x:auto;line-height:normal;font-family:Menlo,'DejaVu Sans Mono',consolas,'Courier New',monospace\"><span style=\"font-weight: bold\">[</span><span style=\"color: #008080; text-decoration-color: #008080; font-weight: bold\">39064</span>-<span style=\"color: #008080; text-decoration-color: #008080; font-weight: bold\">39084</span><span style=\"font-weight: bold\">]</span> <span style=\"color: #008000; text-decoration-color: #008000\">\"No, you're not!\"</span> went on Tom, and he held his rifle in readiness.\n",
       "</pre>\n"
      ],
      "text/plain": [
       "\u001b[1m[\u001b[0m\u001b[1;36m39064\u001b[0m-\u001b[1;36m39084\u001b[0m\u001b[1m]\u001b[0m \u001b[32m\"No, you're not!\"\u001b[0m went on Tom, and he held his rifle in readiness.\n"
      ]
     },
     "metadata": {},
     "output_type": "display_data"
    },
    {
     "data": {
      "text/html": [
       "<pre style=\"white-space:pre;overflow-x:auto;line-height:normal;font-family:Menlo,'DejaVu Sans Mono',consolas,'Courier New',monospace\"><span style=\"font-weight: bold\">[</span>Tom<span style=\"font-weight: bold\">]</span>\n",
       "</pre>\n"
      ],
      "text/plain": [
       "\u001b[1m[\u001b[0mTom\u001b[1m]\u001b[0m\n"
      ]
     },
     "metadata": {},
     "output_type": "display_data"
    },
    {
     "data": {
      "text/html": [
       "<pre style=\"white-space:pre;overflow-x:auto;line-height:normal;font-family:Menlo,'DejaVu Sans Mono',consolas,'Courier New',monospace\"><span style=\"font-weight: bold\">[</span><span style=\"color: #008080; text-decoration-color: #008080; font-weight: bold\">39201</span>-<span style=\"color: #008080; text-decoration-color: #008080; font-weight: bold\">39222</span><span style=\"font-weight: bold\">]</span> <span style=\"color: #008000; text-decoration-color: #008000\">\"It is going off--very soon!\"</span> exclaimed Tom grimly, and the tramp started in alarm.\n",
       "</pre>\n"
      ],
      "text/plain": [
       "\u001b[1m[\u001b[0m\u001b[1;36m39201\u001b[0m-\u001b[1;36m39222\u001b[0m\u001b[1m]\u001b[0m \u001b[32m\"It is going off--very soon!\"\u001b[0m exclaimed Tom grimly, and the tramp started in alarm.\n"
      ]
     },
     "metadata": {},
     "output_type": "display_data"
    },
    {
     "data": {
      "text/html": [
       "<pre style=\"white-space:pre;overflow-x:auto;line-height:normal;font-family:Menlo,'DejaVu Sans Mono',consolas,'Courier New',monospace\"><span style=\"font-weight: bold\">[</span>Tom<span style=\"font-weight: bold\">]</span>\n",
       "</pre>\n"
      ],
      "text/plain": [
       "\u001b[1m[\u001b[0mTom\u001b[1m]\u001b[0m\n"
      ]
     },
     "metadata": {},
     "output_type": "display_data"
    },
    {
     "data": {
      "text/html": [
       "<pre style=\"white-space:pre;overflow-x:auto;line-height:normal;font-family:Menlo,'DejaVu Sans Mono',consolas,'Courier New',monospace\"><span style=\"font-weight: bold\">[</span><span style=\"color: #008080; text-decoration-color: #008080; font-weight: bold\">39530</span>-<span style=\"color: #008080; text-decoration-color: #008080; font-weight: bold\">39564</span><span style=\"font-weight: bold\">]</span> <span style=\"color: #008000; text-decoration-color: #008000\">\"I'm going to shoot,\"</span> announced Tom, and, aiming his rifle at the open window, where the bullet would do no damage, he pressed the trigger.\n",
       "</pre>\n"
      ],
      "text/plain": [
       "\u001b[1m[\u001b[0m\u001b[1;36m39530\u001b[0m-\u001b[1;36m39564\u001b[0m\u001b[1m]\u001b[0m \u001b[32m\"I'm going to shoot,\"\u001b[0m announced Tom, and, aiming his rifle at the open window, where the bullet would do no damage, he pressed the trigger.\n"
      ]
     },
     "metadata": {},
     "output_type": "display_data"
    },
    {
     "data": {
      "text/html": [
       "<pre style=\"white-space:pre;overflow-x:auto;line-height:normal;font-family:Menlo,'DejaVu Sans Mono',consolas,'Courier New',monospace\"><span style=\"font-weight: bold\">[</span>Tom<span style=\"font-weight: bold\">]</span>\n",
       "</pre>\n"
      ],
      "text/plain": [
       "\u001b[1m[\u001b[0mTom\u001b[1m]\u001b[0m\n"
      ]
     },
     "metadata": {},
     "output_type": "display_data"
    },
    {
     "data": {
      "text/html": [
       "<pre style=\"white-space:pre;overflow-x:auto;line-height:normal;font-family:Menlo,'DejaVu Sans Mono',consolas,'Courier New',monospace\"><span style=\"font-weight: bold\">[</span><span style=\"color: #008080; text-decoration-color: #008080; font-weight: bold\">39848</span>-<span style=\"color: #008080; text-decoration-color: #008080; font-weight: bold\">39870</span><span style=\"font-weight: bold\">]</span> <span style=\"color: #008000; text-decoration-color: #008000\">\"All right, Master Tom, I'm coming!\"</span> called the voice of the engineer from his shack.\n",
       "</pre>\n"
      ],
      "text/plain": [
       "\u001b[1m[\u001b[0m\u001b[1;36m39848\u001b[0m-\u001b[1;36m39870\u001b[0m\u001b[1m]\u001b[0m \u001b[32m\"All right, Master Tom, I'm coming!\"\u001b[0m called the voice of the engineer from his shack.\n"
      ]
     },
     "metadata": {},
     "output_type": "display_data"
    },
    {
     "data": {
      "text/html": [
       "<pre style=\"white-space:pre;overflow-x:auto;line-height:normal;font-family:Menlo,'DejaVu Sans Mono',consolas,'Courier New',monospace\"><span style=\"font-weight: bold\">[</span>Tom<span style=\"font-weight: bold\">]</span>\n",
       "</pre>\n"
      ],
      "text/plain": [
       "\u001b[1m[\u001b[0mTom\u001b[1m]\u001b[0m\n"
      ]
     },
     "metadata": {},
     "output_type": "display_data"
    },
    {
     "data": {
      "text/html": [
       "<pre style=\"white-space:pre;overflow-x:auto;line-height:normal;font-family:Menlo,'DejaVu Sans Mono',consolas,'Courier New',monospace\"><span style=\"font-weight: bold\">[</span><span style=\"color: #008080; text-decoration-color: #008080; font-weight: bold\">39887</span>-<span style=\"color: #008080; text-decoration-color: #008080; font-weight: bold\">39908</span><span style=\"font-weight: bold\">]</span> <span style=\"color: #008000; text-decoration-color: #008000\">\"That's pretty good evidence that she isn't murdered,\"</span> said Tom with a grim smile.  \n",
       "</pre>\n"
      ],
      "text/plain": [
       "\u001b[1m[\u001b[0m\u001b[1;36m39887\u001b[0m-\u001b[1;36m39908\u001b[0m\u001b[1m]\u001b[0m \u001b[32m\"That's pretty good evidence that she isn't murdered,\"\u001b[0m said Tom with a grim smile.  \n"
      ]
     },
     "metadata": {},
     "output_type": "display_data"
    },
    {
     "data": {
      "text/html": [
       "<pre style=\"white-space:pre;overflow-x:auto;line-height:normal;font-family:Menlo,'DejaVu Sans Mono',consolas,'Courier New',monospace\"><span style=\"font-weight: bold\">[</span>Tom<span style=\"font-weight: bold\">]</span>\n",
       "</pre>\n"
      ],
      "text/plain": [
       "\u001b[1m[\u001b[0mTom\u001b[1m]\u001b[0m\n"
      ]
     },
     "metadata": {},
     "output_type": "display_data"
    },
    {
     "data": {
      "text/html": [
       "<pre style=\"white-space:pre;overflow-x:auto;line-height:normal;font-family:Menlo,'DejaVu Sans Mono',consolas,'Courier New',monospace\"><span style=\"font-weight: bold\">[</span><span style=\"color: #008080; text-decoration-color: #008080; font-weight: bold\">39920</span>-<span style=\"color: #008080; text-decoration-color: #008080; font-weight: bold\">39932</span><span style=\"font-weight: bold\">]</span> <span style=\"color: #008000; text-decoration-color: #008000\">\"No, I'm all right,\"</span> answered Tom.\n",
       "</pre>\n"
      ],
      "text/plain": [
       "\u001b[1m[\u001b[0m\u001b[1;36m39920\u001b[0m-\u001b[1;36m39932\u001b[0m\u001b[1m]\u001b[0m \u001b[32m\"No, I'm all right,\"\u001b[0m answered Tom.\n"
      ]
     },
     "metadata": {},
     "output_type": "display_data"
    },
    {
     "data": {
      "text/html": [
       "<pre style=\"white-space:pre;overflow-x:auto;line-height:normal;font-family:Menlo,'DejaVu Sans Mono',consolas,'Courier New',monospace\"><span style=\"font-weight: bold\">[</span>Tom<span style=\"font-weight: bold\">]</span>\n",
       "</pre>\n"
      ],
      "text/plain": [
       "\u001b[1m[\u001b[0mTom\u001b[1m]\u001b[0m\n"
      ]
     },
     "metadata": {},
     "output_type": "display_data"
    },
    {
     "data": {
      "text/html": [
       "<pre style=\"white-space:pre;overflow-x:auto;line-height:normal;font-family:Menlo,'DejaVu Sans Mono',consolas,'Courier New',monospace\"><span style=\"font-weight: bold\">[</span><span style=\"color: #008080; text-decoration-color: #008080; font-weight: bold\">39947</span>-<span style=\"color: #008080; text-decoration-color: #008080; font-weight: bold\">39957</span><span style=\"font-weight: bold\">]</span> \"No, Master Tom, I didn't.\n",
       "</pre>\n"
      ],
      "text/plain": [
       "\u001b[1m[\u001b[0m\u001b[1;36m39947\u001b[0m-\u001b[1;36m39957\u001b[0m\u001b[1m]\u001b[0m \"No, Master Tom, I didn't.\n"
      ]
     },
     "metadata": {},
     "output_type": "display_data"
    },
    {
     "data": {
      "text/html": [
       "<pre style=\"white-space:pre;overflow-x:auto;line-height:normal;font-family:Menlo,'DejaVu Sans Mono',consolas,'Courier New',monospace\"><span style=\"font-weight: bold\">[</span>Tom<span style=\"font-weight: bold\">]</span>\n",
       "</pre>\n"
      ],
      "text/plain": [
       "\u001b[1m[\u001b[0mTom\u001b[1m]\u001b[0m\n"
      ]
     },
     "metadata": {},
     "output_type": "display_data"
    },
    {
     "data": {
      "text/html": [
       "<pre style=\"white-space:pre;overflow-x:auto;line-height:normal;font-family:Menlo,'DejaVu Sans Mono',consolas,'Courier New',monospace\"><span style=\"font-weight: bold\">[</span><span style=\"color: #008080; text-decoration-color: #008080; font-weight: bold\">40047</span>-<span style=\"color: #008080; text-decoration-color: #008080; font-weight: bold\">40066</span><span style=\"font-weight: bold\">]</span> <span style=\"color: #008000; text-decoration-color: #008000\">\"I heard him just in time,\"</span> commented Tom, telling the engineer what had happened.\n",
       "</pre>\n"
      ],
      "text/plain": [
       "\u001b[1m[\u001b[0m\u001b[1;36m40047\u001b[0m-\u001b[1;36m40066\u001b[0m\u001b[1m]\u001b[0m \u001b[32m\"I heard him just in time,\"\u001b[0m commented Tom, telling the engineer what had happened.\n"
      ]
     },
     "metadata": {},
     "output_type": "display_data"
    },
    {
     "data": {
      "text/html": [
       "<pre style=\"white-space:pre;overflow-x:auto;line-height:normal;font-family:Menlo,'DejaVu Sans Mono',consolas,'Courier New',monospace\"><span style=\"font-weight: bold\">[</span>Tom<span style=\"font-weight: bold\">]</span>\n",
       "</pre>\n"
      ],
      "text/plain": [
       "\u001b[1m[\u001b[0mTom\u001b[1m]\u001b[0m\n"
      ]
     },
     "metadata": {},
     "output_type": "display_data"
    },
    {
     "data": {
      "text/html": [
       "<pre style=\"white-space:pre;overflow-x:auto;line-height:normal;font-family:Menlo,'DejaVu Sans Mono',consolas,'Courier New',monospace\"><span style=\"font-weight: bold\">[</span><span style=\"color: #008080; text-decoration-color: #008080; font-weight: bold\">40161</span>-<span style=\"color: #008080; text-decoration-color: #008080; font-weight: bold\">40174</span><span style=\"font-weight: bold\">]</span> <span style=\"color: #008000; text-decoration-color: #008000\">\"No one is hurt,\"</span> declared Tom with a laugh.\n",
       "</pre>\n"
      ],
      "text/plain": [
       "\u001b[1m[\u001b[0m\u001b[1;36m40161\u001b[0m-\u001b[1;36m40174\u001b[0m\u001b[1m]\u001b[0m \u001b[32m\"No one is hurt,\"\u001b[0m declared Tom with a laugh.\n"
      ]
     },
     "metadata": {},
     "output_type": "display_data"
    },
    {
     "data": {
      "text/html": [
       "<pre style=\"white-space:pre;overflow-x:auto;line-height:normal;font-family:Menlo,'DejaVu Sans Mono',consolas,'Courier New',monospace\"><span style=\"font-weight: bold\">[</span>Tom<span style=\"font-weight: bold\">]</span>\n",
       "</pre>\n"
      ],
      "text/plain": [
       "\u001b[1m[\u001b[0mTom\u001b[1m]\u001b[0m\n"
      ]
     },
     "metadata": {},
     "output_type": "display_data"
    },
    {
     "data": {
      "text/html": [
       "<pre style=\"white-space:pre;overflow-x:auto;line-height:normal;font-family:Menlo,'DejaVu Sans Mono',consolas,'Courier New',monospace\"><span style=\"font-weight: bold\">[</span><span style=\"color: #008080; text-decoration-color: #008080; font-weight: bold\">40237</span>-<span style=\"color: #008080; text-decoration-color: #008080; font-weight: bold\">40276</span><span style=\"font-weight: bold\">]</span> <span style=\"color: #008000; text-decoration-color: #008000\">\"That wasn't a cannon; it was only my little rifle,\"</span> said Tom, and then he told again, for the benefit of the housekeeper, the story of what had happened.\n",
       "</pre>\n"
      ],
      "text/plain": [
       "\u001b[1m[\u001b[0m\u001b[1;36m40237\u001b[0m-\u001b[1;36m40276\u001b[0m\u001b[1m]\u001b[0m \u001b[32m\"That wasn't a cannon; it was only my little rifle,\"\u001b[0m said Tom, and then he told again, for the benefit of the housekeeper, the story of what had happened.\n"
      ]
     },
     "metadata": {},
     "output_type": "display_data"
    },
    {
     "data": {
      "text/html": [
       "<pre style=\"white-space:pre;overflow-x:auto;line-height:normal;font-family:Menlo,'DejaVu Sans Mono',consolas,'Courier New',monospace\"><span style=\"font-weight: bold\">[</span>Tom<span style=\"font-weight: bold\">]</span>\n",
       "</pre>\n"
      ],
      "text/plain": [
       "\u001b[1m[\u001b[0mTom\u001b[1m]\u001b[0m\n"
      ]
     },
     "metadata": {},
     "output_type": "display_data"
    },
    {
     "data": {
      "text/html": [
       "<pre style=\"white-space:pre;overflow-x:auto;line-height:normal;font-family:Menlo,'DejaVu Sans Mono',consolas,'Courier New',monospace\"><span style=\"font-weight: bold\">[</span><span style=\"color: #008080; text-decoration-color: #008080; font-weight: bold\">40315</span>-<span style=\"color: #008080; text-decoration-color: #008080; font-weight: bold\">40326</span><span style=\"font-weight: bold\">]</span> <span style=\"color: #008000; text-decoration-color: #008000\">\"Not much danger of that,\"</span> declared Tom.\n",
       "</pre>\n"
      ],
      "text/plain": [
       "\u001b[1m[\u001b[0m\u001b[1;36m40315\u001b[0m-\u001b[1;36m40326\u001b[0m\u001b[1m]\u001b[0m \u001b[32m\"Not much danger of that,\"\u001b[0m declared Tom.\n"
      ]
     },
     "metadata": {},
     "output_type": "display_data"
    },
    {
     "data": {
      "text/html": [
       "<pre style=\"white-space:pre;overflow-x:auto;line-height:normal;font-family:Menlo,'DejaVu Sans Mono',consolas,'Courier New',monospace\"><span style=\"font-weight: bold\">[</span>Tom<span style=\"font-weight: bold\">]</span>\n",
       "</pre>\n"
      ],
      "text/plain": [
       "\u001b[1m[\u001b[0mTom\u001b[1m]\u001b[0m\n"
      ]
     },
     "metadata": {},
     "output_type": "display_data"
    },
    {
     "data": {
      "text/html": [
       "<pre style=\"white-space:pre;overflow-x:auto;line-height:normal;font-family:Menlo,'DejaVu Sans Mono',consolas,'Courier New',monospace\"><span style=\"font-weight: bold\">[</span><span style=\"color: #008080; text-decoration-color: #008080; font-weight: bold\">40519</span>-<span style=\"color: #008080; text-decoration-color: #008080; font-weight: bold\">40538</span><span style=\"font-weight: bold\">]</span> <span style=\"color: #008000; text-decoration-color: #008000\">\"There's not much likelihood of that, though,\"</span> said Tom to the old engineer.\n",
       "</pre>\n"
      ],
      "text/plain": [
       "\u001b[1m[\u001b[0m\u001b[1;36m40519\u001b[0m-\u001b[1;36m40538\u001b[0m\u001b[1m]\u001b[0m \u001b[32m\"There's not much likelihood of that, though,\"\u001b[0m said Tom to the old engineer.\n"
      ]
     },
     "metadata": {},
     "output_type": "display_data"
    },
    {
     "data": {
      "text/html": [
       "<pre style=\"white-space:pre;overflow-x:auto;line-height:normal;font-family:Menlo,'DejaVu Sans Mono',consolas,'Courier New',monospace\"><span style=\"font-weight: bold\">[</span>Tom<span style=\"font-weight: bold\">]</span>\n",
       "</pre>\n"
      ],
      "text/plain": [
       "\u001b[1m[\u001b[0mTom\u001b[1m]\u001b[0m\n"
      ]
     },
     "metadata": {},
     "output_type": "display_data"
    },
    {
     "data": {
      "text/html": [
       "<pre style=\"white-space:pre;overflow-x:auto;line-height:normal;font-family:Menlo,'DejaVu Sans Mono',consolas,'Courier New',monospace\"><span style=\"font-weight: bold\">[</span><span style=\"color: #008080; text-decoration-color: #008080; font-weight: bold\">40710</span>-<span style=\"color: #008080; text-decoration-color: #008080; font-weight: bold\">40721</span><span style=\"font-weight: bold\">]</span> <span style=\"color: #008000; text-decoration-color: #008000\">\"Not much, Tom,\"</span> was the reply.\n",
       "</pre>\n"
      ],
      "text/plain": [
       "\u001b[1m[\u001b[0m\u001b[1;36m40710\u001b[0m-\u001b[1;36m40721\u001b[0m\u001b[1m]\u001b[0m \u001b[32m\"Not much, Tom,\"\u001b[0m was the reply.\n"
      ]
     },
     "metadata": {},
     "output_type": "display_data"
    },
    {
     "data": {
      "text/html": [
       "<pre style=\"white-space:pre;overflow-x:auto;line-height:normal;font-family:Menlo,'DejaVu Sans Mono',consolas,'Courier New',monospace\"><span style=\"font-weight: bold\">[</span>Tom<span style=\"font-weight: bold\">]</span>\n",
       "</pre>\n"
      ],
      "text/plain": [
       "\u001b[1m[\u001b[0mTom\u001b[1m]\u001b[0m\n"
      ]
     },
     "metadata": {},
     "output_type": "display_data"
    },
    {
     "data": {
      "text/html": [
       "<pre style=\"white-space:pre;overflow-x:auto;line-height:normal;font-family:Menlo,'DejaVu Sans Mono',consolas,'Courier New',monospace\"><span style=\"font-weight: bold\">[</span><span style=\"color: #008080; text-decoration-color: #008080; font-weight: bold\">40989</span>-<span style=\"color: #008080; text-decoration-color: #008080; font-weight: bold\">41008</span><span style=\"font-weight: bold\">]</span> <span style=\"color: #008000; text-decoration-color: #008000\">\"No, you must not think it was your fault, Tom,\"</span> said his father.\n",
       "</pre>\n"
      ],
      "text/plain": [
       "\u001b[1m[\u001b[0m\u001b[1;36m40989\u001b[0m-\u001b[1;36m41008\u001b[0m\u001b[1m]\u001b[0m \u001b[32m\"No, you must not think it was your fault, Tom,\"\u001b[0m said his father.\n"
      ]
     },
     "metadata": {},
     "output_type": "display_data"
    },
    {
     "data": {
      "text/html": [
       "<pre style=\"white-space:pre;overflow-x:auto;line-height:normal;font-family:Menlo,'DejaVu Sans Mono',consolas,'Courier New',monospace\"><span style=\"font-weight: bold\">[</span>Tom<span style=\"font-weight: bold\">]</span>\n",
       "</pre>\n"
      ],
      "text/plain": [
       "\u001b[1m[\u001b[0mTom\u001b[1m]\u001b[0m\n"
      ]
     },
     "metadata": {},
     "output_type": "display_data"
    },
    {
     "data": {
      "text/html": [
       "<pre style=\"white-space:pre;overflow-x:auto;line-height:normal;font-family:Menlo,'DejaVu Sans Mono',consolas,'Courier New',monospace\"><span style=\"font-weight: bold\">[</span><span style=\"color: #008080; text-decoration-color: #008080; font-weight: bold\">41423</span>-<span style=\"color: #008080; text-decoration-color: #008080; font-weight: bold\">41449</span><span style=\"font-weight: bold\">]</span> <span style=\"color: #008000; text-decoration-color: #008000\">\"I may as well go home,\"</span> thought Tom, as he was riding his motor-cycle along a pleasant country road.\n",
       "</pre>\n"
      ],
      "text/plain": [
       "\u001b[1m[\u001b[0m\u001b[1;36m41423\u001b[0m-\u001b[1;36m41449\u001b[0m\u001b[1m]\u001b[0m \u001b[32m\"I may as well go home,\"\u001b[0m thought Tom, as he was riding his motor-cycle along a pleasant country road.\n"
      ]
     },
     "metadata": {},
     "output_type": "display_data"
    },
    {
     "data": {
      "text/html": [
       "<pre style=\"white-space:pre;overflow-x:auto;line-height:normal;font-family:Menlo,'DejaVu Sans Mono',consolas,'Courier New',monospace\"><span style=\"font-weight: bold\">[</span>Tom<span style=\"font-weight: bold\">]</span>\n",
       "</pre>\n"
      ],
      "text/plain": [
       "\u001b[1m[\u001b[0mTom\u001b[1m]\u001b[0m\n"
      ]
     },
     "metadata": {},
     "output_type": "display_data"
    },
    {
     "data": {
      "text/html": [
       "<pre style=\"white-space:pre;overflow-x:auto;line-height:normal;font-family:Menlo,'DejaVu Sans Mono',consolas,'Courier New',monospace\"><span style=\"font-weight: bold\">[</span><span style=\"color: #008080; text-decoration-color: #008080; font-weight: bold\">41640</span>-<span style=\"color: #008080; text-decoration-color: #008080; font-weight: bold\">41686</span><span style=\"font-weight: bold\">]</span> <span style=\"color: #008000; text-decoration-color: #008000\">\"I think I'll try a new plan to-morrow, dad,\"</span> announced Tom one night, when he and his father had talked over again, for perhaps the twentieth time, the happenings of the last few weeks.\n",
       "</pre>\n"
      ],
      "text/plain": [
       "\u001b[1m[\u001b[0m\u001b[1;36m41640\u001b[0m-\u001b[1;36m41686\u001b[0m\u001b[1m]\u001b[0m \u001b[32m\"I think I'll try a new plan to-morrow, dad,\"\u001b[0m announced Tom one night, when he and his father had talked over again, for perhaps the twentieth time, the happenings of the last few weeks.\n"
      ]
     },
     "metadata": {},
     "output_type": "display_data"
    },
    {
     "data": {
      "text/html": [
       "<pre style=\"white-space:pre;overflow-x:auto;line-height:normal;font-family:Menlo,'DejaVu Sans Mono',consolas,'Courier New',monospace\"><span style=\"font-weight: bold\">[</span>Tom, one night, twentieth, the last few weeks<span style=\"font-weight: bold\">]</span>\n",
       "</pre>\n"
      ],
      "text/plain": [
       "\u001b[1m[\u001b[0mTom, one night, twentieth, the last few weeks\u001b[1m]\u001b[0m\n"
      ]
     },
     "metadata": {},
     "output_type": "display_data"
    },
    {
     "data": {
      "text/html": [
       "<pre style=\"white-space:pre;overflow-x:auto;line-height:normal;font-family:Menlo,'DejaVu Sans Mono',consolas,'Courier New',monospace\"><span style=\"font-weight: bold\">[</span><span style=\"color: #008080; text-decoration-color: #008080; font-weight: bold\">41686</span>-<span style=\"color: #008080; text-decoration-color: #008080; font-weight: bold\">41699</span><span style=\"font-weight: bold\">]</span> <span style=\"color: #008000; text-decoration-color: #008000\">\"What is it, Tom?\"</span> asked the inventor.  \n",
       "</pre>\n"
      ],
      "text/plain": [
       "\u001b[1m[\u001b[0m\u001b[1;36m41686\u001b[0m-\u001b[1;36m41699\u001b[0m\u001b[1m]\u001b[0m \u001b[32m\"What is it, Tom?\"\u001b[0m asked the inventor.  \n"
      ]
     },
     "metadata": {},
     "output_type": "display_data"
    },
    {
     "data": {
      "text/html": [
       "<pre style=\"white-space:pre;overflow-x:auto;line-height:normal;font-family:Menlo,'DejaVu Sans Mono',consolas,'Courier New',monospace\"><span style=\"font-weight: bold\">[</span>Tom<span style=\"font-weight: bold\">]</span>\n",
       "</pre>\n"
      ],
      "text/plain": [
       "\u001b[1m[\u001b[0mTom\u001b[1m]\u001b[0m\n"
      ]
     },
     "metadata": {},
     "output_type": "display_data"
    },
    {
     "data": {
      "text/html": [
       "<pre style=\"white-space:pre;overflow-x:auto;line-height:normal;font-family:Menlo,'DejaVu Sans Mono',consolas,'Courier New',monospace\"><span style=\"font-weight: bold\">[</span><span style=\"color: #008080; text-decoration-color: #008080; font-weight: bold\">42089</span>-<span style=\"color: #008080; text-decoration-color: #008080; font-weight: bold\">42116</span><span style=\"font-weight: bold\">]</span> <span style=\"color: #008000; text-decoration-color: #008000\">\"He ain't one of us, youse can make up your mind to dat,\"</span> said one <span style=\"color: #008000; text-decoration-color: #008000\">\"hobo\"</span> whom Tom interviewed.\n",
       "</pre>\n"
      ],
      "text/plain": [
       "\u001b[1m[\u001b[0m\u001b[1;36m42089\u001b[0m-\u001b[1;36m42116\u001b[0m\u001b[1m]\u001b[0m \u001b[32m\"He ain't one of us, youse can make up your mind to dat,\"\u001b[0m said one \u001b[32m\"hobo\"\u001b[0m whom Tom interviewed.\n"
      ]
     },
     "metadata": {},
     "output_type": "display_data"
    },
    {
     "data": {
      "text/html": [
       "<pre style=\"white-space:pre;overflow-x:auto;line-height:normal;font-family:Menlo,'DejaVu Sans Mono',consolas,'Courier New',monospace\"><span style=\"font-weight: bold\">[</span>one, Tom<span style=\"font-weight: bold\">]</span>\n",
       "</pre>\n"
      ],
      "text/plain": [
       "\u001b[1m[\u001b[0mone, Tom\u001b[1m]\u001b[0m\n"
      ]
     },
     "metadata": {},
     "output_type": "display_data"
    },
    {
     "data": {
      "text/html": [
       "<pre style=\"white-space:pre;overflow-x:auto;line-height:normal;font-family:Menlo,'DejaVu Sans Mono',consolas,'Courier New',monospace\"><span style=\"font-weight: bold\">[</span><span style=\"color: #008080; text-decoration-color: #008080; font-weight: bold\">42381</span>-<span style=\"color: #008080; text-decoration-color: #008080; font-weight: bold\">42410</span><span style=\"font-weight: bold\">]</span> <span style=\"color: #008000; text-decoration-color: #008000\">\"Now, Boomerang, yo' might jest as well start now as later,\"</span> Tom heard a voice saying--a voice he recognized well.\n",
       "</pre>\n"
      ],
      "text/plain": [
       "\u001b[1m[\u001b[0m\u001b[1;36m42381\u001b[0m-\u001b[1;36m42410\u001b[0m\u001b[1m]\u001b[0m \u001b[32m\"Now, Boomerang, yo' might jest as well start now as later,\"\u001b[0m Tom heard a voice saying--a voice he recognized well.\n"
      ]
     },
     "metadata": {},
     "output_type": "display_data"
    },
    {
     "data": {
      "text/html": [
       "<pre style=\"white-space:pre;overflow-x:auto;line-height:normal;font-family:Menlo,'DejaVu Sans Mono',consolas,'Courier New',monospace\"><span style=\"font-weight: bold\">[</span>Boomerang, Tom<span style=\"font-weight: bold\">]</span>\n",
       "</pre>\n"
      ],
      "text/plain": [
       "\u001b[1m[\u001b[0mBoomerang, Tom\u001b[1m]\u001b[0m\n"
      ]
     },
     "metadata": {},
     "output_type": "display_data"
    },
    {
     "data": {
      "text/html": [
       "<pre style=\"white-space:pre;overflow-x:auto;line-height:normal;font-family:Menlo,'DejaVu Sans Mono',consolas,'Courier New',monospace\"><span style=\"font-weight: bold\">[</span><span style=\"color: #008080; text-decoration-color: #008080; font-weight: bold\">42634</span>-<span style=\"color: #008080; text-decoration-color: #008080; font-weight: bold\">42649</span><span style=\"font-weight: bold\">]</span> <span style=\"color: #008000; text-decoration-color: #008000\">\"Why, Rad, what are you doing?\"</span> cried Tom.  \n",
       "</pre>\n"
      ],
      "text/plain": [
       "\u001b[1m[\u001b[0m\u001b[1;36m42634\u001b[0m-\u001b[1;36m42649\u001b[0m\u001b[1m]\u001b[0m \u001b[32m\"Why, Rad, what are you doing?\"\u001b[0m cried Tom.  \n"
      ]
     },
     "metadata": {},
     "output_type": "display_data"
    },
    {
     "data": {
      "text/html": [
       "<pre style=\"white-space:pre;overflow-x:auto;line-height:normal;font-family:Menlo,'DejaVu Sans Mono',consolas,'Courier New',monospace\"><span style=\"font-weight: bold\">[</span>Rad, Tom<span style=\"font-weight: bold\">]</span>\n",
       "</pre>\n"
      ],
      "text/plain": [
       "\u001b[1m[\u001b[0mRad, Tom\u001b[1m]\u001b[0m\n"
      ]
     },
     "metadata": {},
     "output_type": "display_data"
    },
    {
     "data": {
      "text/html": [
       "<pre style=\"white-space:pre;overflow-x:auto;line-height:normal;font-family:Menlo,'DejaVu Sans Mono',consolas,'Courier New',monospace\"><span style=\"font-weight: bold\">[</span><span style=\"color: #008080; text-decoration-color: #008080; font-weight: bold\">42719</span>-<span style=\"color: #008080; text-decoration-color: #008080; font-weight: bold\">42742</span><span style=\"font-weight: bold\">]</span> <span style=\"color: #008000; text-decoration-color: #008000\">\"What seems to be the trouble, and how did you come to own this sawmill?\"</span> asked Tom.  \n",
       "</pre>\n"
      ],
      "text/plain": [
       "\u001b[1m[\u001b[0m\u001b[1;36m42719\u001b[0m-\u001b[1;36m42742\u001b[0m\u001b[1m]\u001b[0m \u001b[32m\"What seems to be the trouble, and how did you come to own this sawmill?\"\u001b[0m asked Tom.  \n"
      ]
     },
     "metadata": {},
     "output_type": "display_data"
    },
    {
     "data": {
      "text/html": [
       "<pre style=\"white-space:pre;overflow-x:auto;line-height:normal;font-family:Menlo,'DejaVu Sans Mono',consolas,'Courier New',monospace\"><span style=\"font-weight: bold\">[</span>Tom<span style=\"font-weight: bold\">]</span>\n",
       "</pre>\n"
      ],
      "text/plain": [
       "\u001b[1m[\u001b[0mTom\u001b[1m]\u001b[0m\n"
      ]
     },
     "metadata": {},
     "output_type": "display_data"
    },
    {
     "data": {
      "text/html": [
       "<pre style=\"white-space:pre;overflow-x:auto;line-height:normal;font-family:Menlo,'DejaVu Sans Mono',consolas,'Courier New',monospace\"><span style=\"font-weight: bold\">[</span><span style=\"color: #008080; text-decoration-color: #008080; font-weight: bold\">42782</span>-<span style=\"color: #008080; text-decoration-color: #008080; font-weight: bold\">42808</span><span style=\"font-weight: bold\">]</span> <span style=\"color: #008000; text-decoration-color: #008000\">\"The last time I saw you, you were preparing to go into the grass-cutting business,\"</span> went on Tom.  \n",
       "</pre>\n"
      ],
      "text/plain": [
       "\u001b[1m[\u001b[0m\u001b[1;36m42782\u001b[0m-\u001b[1;36m42808\u001b[0m\u001b[1m]\u001b[0m \u001b[32m\"The last time I saw you, you were preparing to go into the grass-cutting business,\"\u001b[0m went on Tom.  \n"
      ]
     },
     "metadata": {},
     "output_type": "display_data"
    },
    {
     "data": {
      "text/html": [
       "<pre style=\"white-space:pre;overflow-x:auto;line-height:normal;font-family:Menlo,'DejaVu Sans Mono',consolas,'Courier New',monospace\"><span style=\"font-weight: bold\">[</span>Tom<span style=\"font-weight: bold\">]</span>\n",
       "</pre>\n"
      ],
      "text/plain": [
       "\u001b[1m[\u001b[0mTom\u001b[1m]\u001b[0m\n"
      ]
     },
     "metadata": {},
     "output_type": "display_data"
    },
    {
     "data": {
      "text/html": [
       "<pre style=\"white-space:pre;overflow-x:auto;line-height:normal;font-family:Menlo,'DejaVu Sans Mono',consolas,'Courier New',monospace\"><span style=\"font-weight: bold\">[</span><span style=\"color: #008080; text-decoration-color: #008080; font-weight: bold\">43158</span>-<span style=\"color: #008080; text-decoration-color: #008080; font-weight: bold\">43173</span><span style=\"font-weight: bold\">]</span> <span style=\"color: #008000; text-decoration-color: #008000\">\"I counted on Boomerang helpin' me,\"</span> he said to Tom.\n",
       "</pre>\n"
      ],
      "text/plain": [
       "\u001b[1m[\u001b[0m\u001b[1;36m43158\u001b[0m-\u001b[1;36m43173\u001b[0m\u001b[1m]\u001b[0m \u001b[32m\"I counted on Boomerang helpin' me,\"\u001b[0m he said to Tom.\n"
      ]
     },
     "metadata": {},
     "output_type": "display_data"
    },
    {
     "data": {
      "text/html": [
       "<pre style=\"white-space:pre;overflow-x:auto;line-height:normal;font-family:Menlo,'DejaVu Sans Mono',consolas,'Courier New',monospace\"><span style=\"font-weight: bold\">[</span>Boomerang, Tom<span style=\"font-weight: bold\">]</span>\n",
       "</pre>\n"
      ],
      "text/plain": [
       "\u001b[1m[\u001b[0mBoomerang, Tom\u001b[1m]\u001b[0m\n"
      ]
     },
     "metadata": {},
     "output_type": "display_data"
    },
    {
     "data": {
      "text/html": [
       "<pre style=\"white-space:pre;overflow-x:auto;line-height:normal;font-family:Menlo,'DejaVu Sans Mono',consolas,'Courier New',monospace\"><span style=\"font-weight: bold\">[</span><span style=\"color: #008080; text-decoration-color: #008080; font-weight: bold\">43382</span>-<span style=\"color: #008080; text-decoration-color: #008080; font-weight: bold\">43392</span><span style=\"font-weight: bold\">]</span> <span style=\"color: #008000; text-decoration-color: #008000\">\"You certainly seem to have,\"</span> agreed Tom\n",
       "</pre>\n"
      ],
      "text/plain": [
       "\u001b[1m[\u001b[0m\u001b[1;36m43382\u001b[0m-\u001b[1;36m43392\u001b[0m\u001b[1m]\u001b[0m \u001b[32m\"You certainly seem to have,\"\u001b[0m agreed Tom\n"
      ]
     },
     "metadata": {},
     "output_type": "display_data"
    },
    {
     "data": {
      "text/html": [
       "<pre style=\"white-space:pre;overflow-x:auto;line-height:normal;font-family:Menlo,'DejaVu Sans Mono',consolas,'Courier New',monospace\"><span style=\"font-weight: bold\">[</span>Tom<span style=\"font-weight: bold\">]</span>\n",
       "</pre>\n"
      ],
      "text/plain": [
       "\u001b[1m[\u001b[0mTom\u001b[1m]\u001b[0m\n"
      ]
     },
     "metadata": {},
     "output_type": "display_data"
    },
    {
     "data": {
      "text/html": [
       "<pre style=\"white-space:pre;overflow-x:auto;line-height:normal;font-family:Menlo,'DejaVu Sans Mono',consolas,'Courier New',monospace\"><span style=\"font-weight: bold\">[</span><span style=\"color: #008080; text-decoration-color: #008080; font-weight: bold\">43937</span>-<span style=\"color: #008080; text-decoration-color: #008080; font-weight: bold\">43944</span><span style=\"font-weight: bold\">]</span> <span style=\"color: #008000; text-decoration-color: #008000\">\"Nonsense!\"</span> exclaimed Tom.\n",
       "</pre>\n"
      ],
      "text/plain": [
       "\u001b[1m[\u001b[0m\u001b[1;36m43937\u001b[0m-\u001b[1;36m43944\u001b[0m\u001b[1m]\u001b[0m \u001b[32m\"Nonsense!\"\u001b[0m exclaimed Tom.\n"
      ]
     },
     "metadata": {},
     "output_type": "display_data"
    },
    {
     "data": {
      "text/html": [
       "<pre style=\"white-space:pre;overflow-x:auto;line-height:normal;font-family:Menlo,'DejaVu Sans Mono',consolas,'Courier New',monospace\"><span style=\"font-weight: bold\">[</span>Tom<span style=\"font-weight: bold\">]</span>\n",
       "</pre>\n"
      ],
      "text/plain": [
       "\u001b[1m[\u001b[0mTom\u001b[1m]\u001b[0m\n"
      ]
     },
     "metadata": {},
     "output_type": "display_data"
    },
    {
     "data": {
      "text/html": [
       "<pre style=\"white-space:pre;overflow-x:auto;line-height:normal;font-family:Menlo,'DejaVu Sans Mono',consolas,'Courier New',monospace\"><span style=\"font-weight: bold\">[</span><span style=\"color: #008080; text-decoration-color: #008080; font-weight: bold\">44111</span>-<span style=\"color: #008080; text-decoration-color: #008080; font-weight: bold\">44126</span><span style=\"font-weight: bold\">]</span> <span style=\"color: #008000; text-decoration-color: #008000\">\"Now I'll show you how it works,\"</span> went on Tom.\n",
       "</pre>\n"
      ],
      "text/plain": [
       "\u001b[1m[\u001b[0m\u001b[1;36m44111\u001b[0m-\u001b[1;36m44126\u001b[0m\u001b[1m]\u001b[0m \u001b[32m\"Now I'll show you how it works,\"\u001b[0m went on Tom.\n"
      ]
     },
     "metadata": {},
     "output_type": "display_data"
    },
    {
     "data": {
      "text/html": [
       "<pre style=\"white-space:pre;overflow-x:auto;line-height:normal;font-family:Menlo,'DejaVu Sans Mono',consolas,'Courier New',monospace\"><span style=\"font-weight: bold\">[</span>Tom<span style=\"font-weight: bold\">]</span>\n",
       "</pre>\n"
      ],
      "text/plain": [
       "\u001b[1m[\u001b[0mTom\u001b[1m]\u001b[0m\n"
      ]
     },
     "metadata": {},
     "output_type": "display_data"
    },
    {
     "data": {
      "text/html": [
       "<pre style=\"white-space:pre;overflow-x:auto;line-height:normal;font-family:Menlo,'DejaVu Sans Mono',consolas,'Courier New',monospace\"><span style=\"font-weight: bold\">[</span><span style=\"color: #008080; text-decoration-color: #008080; font-weight: bold\">44254</span>-<span style=\"color: #008080; text-decoration-color: #008080; font-weight: bold\">44278</span><span style=\"font-weight: bold\">]</span> <span style=\"color: #008000; text-decoration-color: #008000\">\"You ought to have an assistant, Rad,\"</span> said Tom, after he had watched the work for a while.\n",
       "</pre>\n"
      ],
      "text/plain": [
       "\u001b[1m[\u001b[0m\u001b[1;36m44254\u001b[0m-\u001b[1;36m44278\u001b[0m\u001b[1m]\u001b[0m \u001b[32m\"You ought to have an assistant, Rad,\"\u001b[0m said Tom, after he had watched the work for a while.\n"
      ]
     },
     "metadata": {},
     "output_type": "display_data"
    },
    {
     "data": {
      "text/html": [
       "<pre style=\"white-space:pre;overflow-x:auto;line-height:normal;font-family:Menlo,'DejaVu Sans Mono',consolas,'Courier New',monospace\"><span style=\"font-weight: bold\">[</span>Rad, Tom<span style=\"font-weight: bold\">]</span>\n",
       "</pre>\n"
      ],
      "text/plain": [
       "\u001b[1m[\u001b[0mRad, Tom\u001b[1m]\u001b[0m\n"
      ]
     },
     "metadata": {},
     "output_type": "display_data"
    },
    {
     "data": {
      "text/html": [
       "<pre style=\"white-space:pre;overflow-x:auto;line-height:normal;font-family:Menlo,'DejaVu Sans Mono',consolas,'Courier New',monospace\"><span style=\"font-weight: bold\">[</span><span style=\"color: #008080; text-decoration-color: #008080; font-weight: bold\">44479</span>-<span style=\"color: #008080; text-decoration-color: #008080; font-weight: bold\">44497</span><span style=\"font-weight: bold\">]</span> <span style=\"color: #008000; text-decoration-color: #008000\">\"What's that?\"</span> cried Tom, struck by the words of the colored man.\n",
       "</pre>\n"
      ],
      "text/plain": [
       "\u001b[1m[\u001b[0m\u001b[1;36m44479\u001b[0m-\u001b[1;36m44497\u001b[0m\u001b[1m]\u001b[0m \u001b[32m\"What's that?\"\u001b[0m cried Tom, struck by the words of the colored man.\n"
      ]
     },
     "metadata": {},
     "output_type": "display_data"
    },
    {
     "data": {
      "text/html": [
       "<pre style=\"white-space:pre;overflow-x:auto;line-height:normal;font-family:Menlo,'DejaVu Sans Mono',consolas,'Courier New',monospace\"><span style=\"font-weight: bold\">[</span>Tom<span style=\"font-weight: bold\">]</span>\n",
       "</pre>\n"
      ],
      "text/plain": [
       "\u001b[1m[\u001b[0mTom\u001b[1m]\u001b[0m\n"
      ]
     },
     "metadata": {},
     "output_type": "display_data"
    },
    {
     "data": {
      "text/html": [
       "<pre style=\"white-space:pre;overflow-x:auto;line-height:normal;font-family:Menlo,'DejaVu Sans Mono',consolas,'Courier New',monospace\"><span style=\"font-weight: bold\">[</span><span style=\"color: #008080; text-decoration-color: #008080; font-weight: bold\">44842</span>-<span style=\"color: #008080; text-decoration-color: #008080; font-weight: bold\">44855</span><span style=\"font-weight: bold\">]</span> <span style=\"color: #008000; text-decoration-color: #008000\">\"Maybe,\"</span> assented Tom, who was all excitement now.\n",
       "</pre>\n"
      ],
      "text/plain": [
       "\u001b[1m[\u001b[0m\u001b[1;36m44842\u001b[0m-\u001b[1;36m44855\u001b[0m\u001b[1m]\u001b[0m \u001b[32m\"Maybe,\"\u001b[0m assented Tom, who was all excitement now.\n"
      ]
     },
     "metadata": {},
     "output_type": "display_data"
    },
    {
     "data": {
      "text/html": [
       "<pre style=\"white-space:pre;overflow-x:auto;line-height:normal;font-family:Menlo,'DejaVu Sans Mono',consolas,'Courier New',monospace\"><span style=\"font-weight: bold\">[</span>Tom<span style=\"font-weight: bold\">]</span>\n",
       "</pre>\n"
      ],
      "text/plain": [
       "\u001b[1m[\u001b[0mTom\u001b[1m]\u001b[0m\n"
      ]
     },
     "metadata": {},
     "output_type": "display_data"
    },
    {
     "data": {
      "text/html": [
       "<pre style=\"white-space:pre;overflow-x:auto;line-height:normal;font-family:Menlo,'DejaVu Sans Mono',consolas,'Courier New',monospace\"><span style=\"font-weight: bold\">[</span><span style=\"color: #008080; text-decoration-color: #008080; font-weight: bold\">45199</span>-<span style=\"color: #008080; text-decoration-color: #008080; font-weight: bold\">45214</span><span style=\"font-weight: bold\">]</span> <span style=\"color: #008000; text-decoration-color: #008000\">\"Wait a minute, now, Tom,\"</span> cautioned his father slowly.\n",
       "</pre>\n"
      ],
      "text/plain": [
       "\u001b[1m[\u001b[0m\u001b[1;36m45199\u001b[0m-\u001b[1;36m45214\u001b[0m\u001b[1m]\u001b[0m \u001b[32m\"Wait a minute, now, Tom,\"\u001b[0m cautioned his father slowly.\n"
      ]
     },
     "metadata": {},
     "output_type": "display_data"
    },
    {
     "data": {
      "text/html": [
       "<pre style=\"white-space:pre;overflow-x:auto;line-height:normal;font-family:Menlo,'DejaVu Sans Mono',consolas,'Courier New',monospace\"><span style=\"font-weight: bold\">[</span>Tom<span style=\"font-weight: bold\">]</span>\n",
       "</pre>\n"
      ],
      "text/plain": [
       "\u001b[1m[\u001b[0mTom\u001b[1m]\u001b[0m\n"
      ]
     },
     "metadata": {},
     "output_type": "display_data"
    },
    {
     "data": {
      "text/html": [
       "<pre style=\"white-space:pre;overflow-x:auto;line-height:normal;font-family:Menlo,'DejaVu Sans Mono',consolas,'Courier New',monospace\"><span style=\"font-weight: bold\">[</span><span style=\"color: #008080; text-decoration-color: #008080; font-weight: bold\">45370</span>-<span style=\"color: #008080; text-decoration-color: #008080; font-weight: bold\">45387</span><span style=\"font-weight: bold\">]</span> <span style=\"color: #008000; text-decoration-color: #008000\">\"Oh, but I'm sure this is the same one,\"</span> declared Tom.\n",
       "</pre>\n"
      ],
      "text/plain": [
       "\u001b[1m[\u001b[0m\u001b[1;36m45370\u001b[0m-\u001b[1;36m45387\u001b[0m\u001b[1m]\u001b[0m \u001b[32m\"Oh, but I'm sure this is the same one,\"\u001b[0m declared Tom.\n"
      ]
     },
     "metadata": {},
     "output_type": "display_data"
    },
    {
     "data": {
      "text/html": [
       "<pre style=\"white-space:pre;overflow-x:auto;line-height:normal;font-family:Menlo,'DejaVu Sans Mono',consolas,'Courier New',monospace\"><span style=\"font-weight: bold\">[</span>Tom<span style=\"font-weight: bold\">]</span>\n",
       "</pre>\n"
      ],
      "text/plain": [
       "\u001b[1m[\u001b[0mTom\u001b[1m]\u001b[0m\n"
      ]
     },
     "metadata": {},
     "output_type": "display_data"
    },
    {
     "data": {
      "text/html": [
       "<pre style=\"white-space:pre;overflow-x:auto;line-height:normal;font-family:Menlo,'DejaVu Sans Mono',consolas,'Courier New',monospace\"><span style=\"font-weight: bold\">[</span><span style=\"color: #008080; text-decoration-color: #008080; font-weight: bold\">45446</span>-<span style=\"color: #008080; text-decoration-color: #008080; font-weight: bold\">45460</span><span style=\"font-weight: bold\">]</span> <span style=\"color: #008000; text-decoration-color: #008000\">\"You are taking a great deal for granted, Tom.\"</span>  \n",
       "</pre>\n"
      ],
      "text/plain": [
       "\u001b[1m[\u001b[0m\u001b[1;36m45446\u001b[0m-\u001b[1;36m45460\u001b[0m\u001b[1m]\u001b[0m \u001b[32m\"You are taking a great deal for granted, Tom.\"\u001b[0m  \n"
      ]
     },
     "metadata": {},
     "output_type": "display_data"
    },
    {
     "data": {
      "text/html": [
       "<pre style=\"white-space:pre;overflow-x:auto;line-height:normal;font-family:Menlo,'DejaVu Sans Mono',consolas,'Courier New',monospace\"><span style=\"font-weight: bold\">[</span>Tom<span style=\"font-weight: bold\">]</span>\n",
       "</pre>\n"
      ],
      "text/plain": [
       "\u001b[1m[\u001b[0mTom\u001b[1m]\u001b[0m\n"
      ]
     },
     "metadata": {},
     "output_type": "display_data"
    },
    {
     "data": {
      "text/html": [
       "<pre style=\"white-space:pre;overflow-x:auto;line-height:normal;font-family:Menlo,'DejaVu Sans Mono',consolas,'Courier New',monospace\"><span style=\"font-weight: bold\">[</span><span style=\"color: #008080; text-decoration-color: #008080; font-weight: bold\">45567</span>-<span style=\"color: #008080; text-decoration-color: #008080; font-weight: bold\">45590</span><span style=\"font-weight: bold\">]</span> <span style=\"color: #008000; text-decoration-color: #008000\">\"Not at all,\"</span> and Mr. Swift smiled at the quick manner in which Tom turned the tables on him.\n",
       "</pre>\n"
      ],
      "text/plain": [
       "\u001b[1m[\u001b[0m\u001b[1;36m45567\u001b[0m-\u001b[1;36m45590\u001b[0m\u001b[1m]\u001b[0m \u001b[32m\"Not at all,\"\u001b[0m and Mr. Swift smiled at the quick manner in which Tom turned the tables on him.\n"
      ]
     },
     "metadata": {},
     "output_type": "display_data"
    },
    {
     "data": {
      "text/html": [
       "<pre style=\"white-space:pre;overflow-x:auto;line-height:normal;font-family:Menlo,'DejaVu Sans Mono',consolas,'Courier New',monospace\"><span style=\"font-weight: bold\">[</span>Swift, Tom<span style=\"font-weight: bold\">]</span>\n",
       "</pre>\n"
      ],
      "text/plain": [
       "\u001b[1m[\u001b[0mSwift, Tom\u001b[1m]\u001b[0m\n"
      ]
     },
     "metadata": {},
     "output_type": "display_data"
    },
    {
     "data": {
      "text/html": [
       "<pre style=\"white-space:pre;overflow-x:auto;line-height:normal;font-family:Menlo,'DejaVu Sans Mono',consolas,'Courier New',monospace\"><span style=\"font-weight: bold\">[</span><span style=\"color: #008080; text-decoration-color: #008080; font-weight: bold\">45863</span>-<span style=\"color: #008080; text-decoration-color: #008080; font-weight: bold\">45886</span><span style=\"font-weight: bold\">]</span> <span style=\"color: #008000; text-decoration-color: #008000\">\"If those fellows are in hiding they will probably keep watch on who comes to the village,\"</span> thought Tom.\n",
       "</pre>\n"
      ],
      "text/plain": [
       "\u001b[1m[\u001b[0m\u001b[1;36m45863\u001b[0m-\u001b[1;36m45886\u001b[0m\u001b[1m]\u001b[0m \u001b[32m\"If those fellows are in hiding they will probably keep watch on who comes to the village,\"\u001b[0m thought Tom.\n"
      ]
     },
     "metadata": {},
     "output_type": "display_data"
    },
    {
     "data": {
      "text/html": [
       "<pre style=\"white-space:pre;overflow-x:auto;line-height:normal;font-family:Menlo,'DejaVu Sans Mono',consolas,'Courier New',monospace\"><span style=\"font-weight: bold\">[</span>Tom<span style=\"font-weight: bold\">]</span>\n",
       "</pre>\n"
      ],
      "text/plain": [
       "\u001b[1m[\u001b[0mTom\u001b[1m]\u001b[0m\n"
      ]
     },
     "metadata": {},
     "output_type": "display_data"
    },
    {
     "data": {
      "text/html": [
       "<pre style=\"white-space:pre;overflow-x:auto;line-height:normal;font-family:Menlo,'DejaVu Sans Mono',consolas,'Courier New',monospace\"><span style=\"font-weight: bold\">[</span><span style=\"color: #008080; text-decoration-color: #008080; font-weight: bold\">45990</span>-<span style=\"color: #008080; text-decoration-color: #008080; font-weight: bold\">46027</span><span style=\"font-weight: bold\">]</span> <span style=\"color: #008000; text-decoration-color: #008000\">\"I may not be able to ride through the woods,\"</span> mused Tom, \"but I'll take my machine as close as I can, and walk the rest of the way.\n",
       "</pre>\n"
      ],
      "text/plain": [
       "\u001b[1m[\u001b[0m\u001b[1;36m45990\u001b[0m-\u001b[1;36m46027\u001b[0m\u001b[1m]\u001b[0m \u001b[32m\"I may not be able to ride through the woods,\"\u001b[0m mused Tom, \"but I'll take my machine as close as I can, and walk the rest of the way.\n"
      ]
     },
     "metadata": {},
     "output_type": "display_data"
    },
    {
     "data": {
      "text/html": [
       "<pre style=\"white-space:pre;overflow-x:auto;line-height:normal;font-family:Menlo,'DejaVu Sans Mono',consolas,'Courier New',monospace\"><span style=\"font-weight: bold\">[</span>Tom<span style=\"font-weight: bold\">]</span>\n",
       "</pre>\n"
      ],
      "text/plain": [
       "\u001b[1m[\u001b[0mTom\u001b[1m]\u001b[0m\n"
      ]
     },
     "metadata": {},
     "output_type": "display_data"
    },
    {
     "data": {
      "text/html": [
       "<pre style=\"white-space:pre;overflow-x:auto;line-height:normal;font-family:Menlo,'DejaVu Sans Mono',consolas,'Courier New',monospace\"><span style=\"font-weight: bold\">[</span><span style=\"color: #008080; text-decoration-color: #008080; font-weight: bold\">46225</span>-<span style=\"color: #008080; text-decoration-color: #008080; font-weight: bold\">46242</span><span style=\"font-weight: bold\">]</span> <span style=\"color: #008000; text-decoration-color: #008000\">\"I don't fancy starting in there at night,\"</span> said Tom to himself.\n",
       "</pre>\n"
      ],
      "text/plain": [
       "\u001b[1m[\u001b[0m\u001b[1;36m46225\u001b[0m-\u001b[1;36m46242\u001b[0m\u001b[1m]\u001b[0m \u001b[32m\"I don't fancy starting in there at night,\"\u001b[0m said Tom to himself.\n"
      ]
     },
     "metadata": {},
     "output_type": "display_data"
    },
    {
     "data": {
      "text/html": [
       "<pre style=\"white-space:pre;overflow-x:auto;line-height:normal;font-family:Menlo,'DejaVu Sans Mono',consolas,'Courier New',monospace\"><span style=\"font-weight: bold\">[</span>night, Tom<span style=\"font-weight: bold\">]</span>\n",
       "</pre>\n"
      ],
      "text/plain": [
       "\u001b[1m[\u001b[0mnight, Tom\u001b[1m]\u001b[0m\n"
      ]
     },
     "metadata": {},
     "output_type": "display_data"
    },
    {
     "data": {
      "text/html": [
       "<pre style=\"white-space:pre;overflow-x:auto;line-height:normal;font-family:Menlo,'DejaVu Sans Mono',consolas,'Courier New',monospace\"><span style=\"font-weight: bold\">[</span><span style=\"color: #008080; text-decoration-color: #008080; font-weight: bold\">46332</span>-<span style=\"color: #008080; text-decoration-color: #008080; font-weight: bold\">46353</span><span style=\"font-weight: bold\">]</span> <span style=\"color: #008000; text-decoration-color: #008000\">\"That's better than nothing, provided they'll take me in for the night,\"</span> murmured Tom.\n",
       "</pre>\n"
      ],
      "text/plain": [
       "\u001b[1m[\u001b[0m\u001b[1;36m46332\u001b[0m-\u001b[1;36m46353\u001b[0m\u001b[1m]\u001b[0m \u001b[32m\"That's better than nothing, provided they'll take me in for the night,\"\u001b[0m murmured Tom.\n"
      ]
     },
     "metadata": {},
     "output_type": "display_data"
    },
    {
     "data": {
      "text/html": [
       "<pre style=\"white-space:pre;overflow-x:auto;line-height:normal;font-family:Menlo,'DejaVu Sans Mono',consolas,'Courier New',monospace\"><span style=\"font-weight: bold\">[</span>the night, Tom<span style=\"font-weight: bold\">]</span>\n",
       "</pre>\n"
      ],
      "text/plain": [
       "\u001b[1m[\u001b[0mthe night, Tom\u001b[1m]\u001b[0m\n"
      ]
     },
     "metadata": {},
     "output_type": "display_data"
    },
    {
     "data": {
      "text/html": [
       "<pre style=\"white-space:pre;overflow-x:auto;line-height:normal;font-family:Menlo,'DejaVu Sans Mono',consolas,'Courier New',monospace\"><span style=\"font-weight: bold\">[</span><span style=\"color: #008080; text-decoration-color: #008080; font-weight: bold\">46504</span>-<span style=\"color: #008080; text-decoration-color: #008080; font-weight: bold\">46525</span><span style=\"font-weight: bold\">]</span> <span style=\"color: #008000; text-decoration-color: #008000\">\"Near the lake, eh?\"</span> mused Tom as he started off, after thanking the old fellow.\n",
       "</pre>\n"
      ],
      "text/plain": [
       "\u001b[1m[\u001b[0m\u001b[1;36m46504\u001b[0m-\u001b[1;36m46525\u001b[0m\u001b[1m]\u001b[0m \u001b[32m\"Near the lake, eh?\"\u001b[0m mused Tom as he started off, after thanking the old fellow.\n"
      ]
     },
     "metadata": {},
     "output_type": "display_data"
    },
    {
     "data": {
      "text/html": [
       "<pre style=\"white-space:pre;overflow-x:auto;line-height:normal;font-family:Menlo,'DejaVu Sans Mono',consolas,'Courier New',monospace\"><span style=\"font-weight: bold\">[</span>Tom<span style=\"font-weight: bold\">]</span>\n",
       "</pre>\n"
      ],
      "text/plain": [
       "\u001b[1m[\u001b[0mTom\u001b[1m]\u001b[0m\n"
      ]
     },
     "metadata": {},
     "output_type": "display_data"
    },
    {
     "data": {
      "text/html": [
       "<pre style=\"white-space:pre;overflow-x:auto;line-height:normal;font-family:Menlo,'DejaVu Sans Mono',consolas,'Courier New',monospace\"><span style=\"font-weight: bold\">[</span><span style=\"color: #008080; text-decoration-color: #008080; font-weight: bold\">46809</span>-<span style=\"color: #008080; text-decoration-color: #008080; font-weight: bold\">46838</span><span style=\"font-weight: bold\">]</span> <span style=\"color: #008000; text-decoration-color: #008000\">\"I wonder if that can be the place?\"</span> whispered Tom, for, somehow, the silence of the place was getting on his nerves.\n",
       "</pre>\n"
      ],
      "text/plain": [
       "\u001b[1m[\u001b[0m\u001b[1;36m46809\u001b[0m-\u001b[1;36m46838\u001b[0m\u001b[1m]\u001b[0m \u001b[32m\"I wonder if that can be the place?\"\u001b[0m whispered Tom, for, somehow, the silence of the place was getting on his nerves.\n"
      ]
     },
     "metadata": {},
     "output_type": "display_data"
    },
    {
     "data": {
      "text/html": [
       "<pre style=\"white-space:pre;overflow-x:auto;line-height:normal;font-family:Menlo,'DejaVu Sans Mono',consolas,'Courier New',monospace\"><span style=\"font-weight: bold\">[</span>Tom<span style=\"font-weight: bold\">]</span>\n",
       "</pre>\n"
      ],
      "text/plain": [
       "\u001b[1m[\u001b[0mTom\u001b[1m]\u001b[0m\n"
      ]
     },
     "metadata": {},
     "output_type": "display_data"
    },
    {
     "data": {
      "text/html": [
       "<pre style=\"white-space:pre;overflow-x:auto;line-height:normal;font-family:Menlo,'DejaVu Sans Mono',consolas,'Courier New',monospace\"><span style=\"font-weight: bold\">[</span><span style=\"color: #008080; text-decoration-color: #008080; font-weight: bold\">47098</span>-<span style=\"color: #008080; text-decoration-color: #008080; font-weight: bold\">47109</span><span style=\"font-weight: bold\">]</span> <span style=\"color: #008000; text-decoration-color: #008000\">\"He didn't see me,\"</span> murmured Tom.\n",
       "</pre>\n"
      ],
      "text/plain": [
       "\u001b[1m[\u001b[0m\u001b[1;36m47098\u001b[0m-\u001b[1;36m47109\u001b[0m\u001b[1m]\u001b[0m \u001b[32m\"He didn't see me,\"\u001b[0m murmured Tom.\n"
      ]
     },
     "metadata": {},
     "output_type": "display_data"
    },
    {
     "data": {
      "text/html": [
       "<pre style=\"white-space:pre;overflow-x:auto;line-height:normal;font-family:Menlo,'DejaVu Sans Mono',consolas,'Courier New',monospace\"><span style=\"font-weight: bold\">[</span>Tom<span style=\"font-weight: bold\">]</span>\n",
       "</pre>\n"
      ],
      "text/plain": [
       "\u001b[1m[\u001b[0mTom\u001b[1m]\u001b[0m\n"
      ]
     },
     "metadata": {},
     "output_type": "display_data"
    },
    {
     "data": {
      "text/html": [
       "<pre style=\"white-space:pre;overflow-x:auto;line-height:normal;font-family:Menlo,'DejaVu Sans Mono',consolas,'Courier New',monospace\"><span style=\"font-weight: bold\">[</span><span style=\"color: #008080; text-decoration-color: #008080; font-weight: bold\">47196</span>-<span style=\"color: #008080; text-decoration-color: #008080; font-weight: bold\">47225</span><span style=\"font-weight: bold\">]</span> <span style=\"color: #008000; text-decoration-color: #008000\">\"This is certainly the house,\"</span> went on Tom, \"and that man in the boat is one of the fellows who helped rob me.\n",
       "</pre>\n"
      ],
      "text/plain": [
       "\u001b[1m[\u001b[0m\u001b[1;36m47196\u001b[0m-\u001b[1;36m47225\u001b[0m\u001b[1m]\u001b[0m \u001b[32m\"This is certainly the house,\"\u001b[0m went on Tom, \"and that man in the boat is one of the fellows who helped rob me.\n"
      ]
     },
     "metadata": {},
     "output_type": "display_data"
    },
    {
     "data": {
      "text/html": [
       "<pre style=\"white-space:pre;overflow-x:auto;line-height:normal;font-family:Menlo,'DejaVu Sans Mono',consolas,'Courier New',monospace\"><span style=\"font-weight: bold\">[</span>Tom<span style=\"font-weight: bold\">]</span>\n",
       "</pre>\n"
      ],
      "text/plain": [
       "\u001b[1m[\u001b[0mTom\u001b[1m]\u001b[0m\n"
      ]
     },
     "metadata": {},
     "output_type": "display_data"
    },
    {
     "data": {
      "text/html": [
       "<pre style=\"white-space:pre;overflow-x:auto;line-height:normal;font-family:Menlo,'DejaVu Sans Mono',consolas,'Courier New',monospace\"><span style=\"font-weight: bold\">[</span><span style=\"color: #008080; text-decoration-color: #008080; font-weight: bold\">48368</span>-<span style=\"color: #008080; text-decoration-color: #008080; font-weight: bold\">48384</span><span style=\"font-weight: bold\">]</span> <span style=\"color: #008000; text-decoration-color: #008000\">\"If I only knew what was going on in there,\"</span> thought Tom.\n",
       "</pre>\n"
      ],
      "text/plain": [
       "\u001b[1m[\u001b[0m\u001b[1;36m48368\u001b[0m-\u001b[1;36m48384\u001b[0m\u001b[1m]\u001b[0m \u001b[32m\"If I only knew what was going on in there,\"\u001b[0m thought Tom.\n"
      ]
     },
     "metadata": {},
     "output_type": "display_data"
    },
    {
     "data": {
      "text/html": [
       "<pre style=\"white-space:pre;overflow-x:auto;line-height:normal;font-family:Menlo,'DejaVu Sans Mono',consolas,'Courier New',monospace\"><span style=\"font-weight: bold\">[</span>Tom<span style=\"font-weight: bold\">]</span>\n",
       "</pre>\n"
      ],
      "text/plain": [
       "\u001b[1m[\u001b[0mTom\u001b[1m]\u001b[0m\n"
      ]
     },
     "metadata": {},
     "output_type": "display_data"
    },
    {
     "data": {
      "text/html": [
       "<pre style=\"white-space:pre;overflow-x:auto;line-height:normal;font-family:Menlo,'DejaVu Sans Mono',consolas,'Courier New',monospace\"><span style=\"font-weight: bold\">[</span><span style=\"color: #008080; text-decoration-color: #008080; font-weight: bold\">49809</span>-<span style=\"color: #008080; text-decoration-color: #008080; font-weight: bold\">49825</span><span style=\"font-weight: bold\">]</span> <span style=\"color: #008000; text-decoration-color: #008000\">\"The first thing to do is to locate the lake,\"</span> reasoned Tom.\n",
       "</pre>\n"
      ],
      "text/plain": [
       "\u001b[1m[\u001b[0m\u001b[1;36m49809\u001b[0m-\u001b[1;36m49825\u001b[0m\u001b[1m]\u001b[0m \u001b[32m\"The first thing to do is to locate the lake,\"\u001b[0m reasoned Tom.\n"
      ]
     },
     "metadata": {},
     "output_type": "display_data"
    },
    {
     "data": {
      "text/html": [
       "<pre style=\"white-space:pre;overflow-x:auto;line-height:normal;font-family:Menlo,'DejaVu Sans Mono',consolas,'Courier New',monospace\"><span style=\"font-weight: bold\">[</span>first, Tom<span style=\"font-weight: bold\">]</span>\n",
       "</pre>\n"
      ],
      "text/plain": [
       "\u001b[1m[\u001b[0mfirst, Tom\u001b[1m]\u001b[0m\n"
      ]
     },
     "metadata": {},
     "output_type": "display_data"
    },
    {
     "data": {
      "text/html": [
       "<pre style=\"white-space:pre;overflow-x:auto;line-height:normal;font-family:Menlo,'DejaVu Sans Mono',consolas,'Courier New',monospace\"><span style=\"font-weight: bold\">[</span><span style=\"color: #008080; text-decoration-color: #008080; font-weight: bold\">51009</span>-<span style=\"color: #008080; text-decoration-color: #008080; font-weight: bold\">51017</span><span style=\"font-weight: bold\">]</span> <span style=\"color: #008000; text-decoration-color: #008000\">\"Good dog!\"</span> called Tom.\n",
       "</pre>\n"
      ],
      "text/plain": [
       "\u001b[1m[\u001b[0m\u001b[1;36m51009\u001b[0m-\u001b[1;36m51017\u001b[0m\u001b[1m]\u001b[0m \u001b[32m\"Good dog!\"\u001b[0m called Tom.\n"
      ]
     },
     "metadata": {},
     "output_type": "display_data"
    },
    {
     "data": {
      "text/html": [
       "<pre style=\"white-space:pre;overflow-x:auto;line-height:normal;font-family:Menlo,'DejaVu Sans Mono',consolas,'Courier New',monospace\"><span style=\"font-weight: bold\">[</span>Tom<span style=\"font-weight: bold\">]</span>\n",
       "</pre>\n"
      ],
      "text/plain": [
       "\u001b[1m[\u001b[0mTom\u001b[1m]\u001b[0m\n"
      ]
     },
     "metadata": {},
     "output_type": "display_data"
    },
    {
     "data": {
      "text/html": [
       "<pre style=\"white-space:pre;overflow-x:auto;line-height:normal;font-family:Menlo,'DejaVu Sans Mono',consolas,'Courier New',monospace\"><span style=\"font-weight: bold\">[</span><span style=\"color: #008080; text-decoration-color: #008080; font-weight: bold\">51317</span>-<span style=\"color: #008080; text-decoration-color: #008080; font-weight: bold\">51328</span><span style=\"font-weight: bold\">]</span> <span style=\"color: #008000; text-decoration-color: #008000\">\"He's hungry right enough,\"</span> mused Tom.\n",
       "</pre>\n"
      ],
      "text/plain": [
       "\u001b[1m[\u001b[0m\u001b[1;36m51317\u001b[0m-\u001b[1;36m51328\u001b[0m\u001b[1m]\u001b[0m \u001b[32m\"He's hungry right enough,\"\u001b[0m mused Tom.\n"
      ]
     },
     "metadata": {},
     "output_type": "display_data"
    },
    {
     "data": {
      "text/html": [
       "<pre style=\"white-space:pre;overflow-x:auto;line-height:normal;font-family:Menlo,'DejaVu Sans Mono',consolas,'Courier New',monospace\"><span style=\"font-weight: bold\">[</span>Tom<span style=\"font-weight: bold\">]</span>\n",
       "</pre>\n"
      ],
      "text/plain": [
       "\u001b[1m[\u001b[0mTom\u001b[1m]\u001b[0m\n"
      ]
     },
     "metadata": {},
     "output_type": "display_data"
    },
    {
     "data": {
      "text/html": [
       "<pre style=\"white-space:pre;overflow-x:auto;line-height:normal;font-family:Menlo,'DejaVu Sans Mono',consolas,'Courier New',monospace\"><span style=\"font-weight: bold\">[</span><span style=\"color: #008080; text-decoration-color: #008080; font-weight: bold\">51475</span>-<span style=\"color: #008080; text-decoration-color: #008080; font-weight: bold\">51501</span><span style=\"font-weight: bold\">]</span> <span style=\"color: #008000; text-decoration-color: #008000\">\"You've missed it!\"</span> said Tom grimly as the machine started, and quickly the cottage and the bulldog were left behind.\n",
       "</pre>\n"
      ],
      "text/plain": [
       "\u001b[1m[\u001b[0m\u001b[1;36m51475\u001b[0m-\u001b[1;36m51501\u001b[0m\u001b[1m]\u001b[0m \u001b[32m\"You've missed it!\"\u001b[0m said Tom grimly as the machine started, and quickly the cottage and the bulldog were left behind.\n"
      ]
     },
     "metadata": {},
     "output_type": "display_data"
    },
    {
     "data": {
      "text/html": [
       "<pre style=\"white-space:pre;overflow-x:auto;line-height:normal;font-family:Menlo,'DejaVu Sans Mono',consolas,'Courier New',monospace\"><span style=\"font-weight: bold\">[</span>Tom<span style=\"font-weight: bold\">]</span>\n",
       "</pre>\n"
      ],
      "text/plain": [
       "\u001b[1m[\u001b[0mTom\u001b[1m]\u001b[0m\n"
      ]
     },
     "metadata": {},
     "output_type": "display_data"
    },
    {
     "data": {
      "text/html": [
       "<pre style=\"white-space:pre;overflow-x:auto;line-height:normal;font-family:Menlo,'DejaVu Sans Mono',consolas,'Courier New',monospace\"><span style=\"font-weight: bold\">[</span><span style=\"color: #008080; text-decoration-color: #008080; font-weight: bold\">51765</span>-<span style=\"color: #008080; text-decoration-color: #008080; font-weight: bold\">51790</span><span style=\"font-weight: bold\">]</span> <span style=\"color: #008000; text-decoration-color: #008000\">\"Mr. Damon!\"</span> exclaimed Tom, for he recognized the eccentric individual of whom he had obtained the motor-cycle.\n",
       "</pre>\n"
      ],
      "text/plain": [
       "\u001b[1m[\u001b[0m\u001b[1;36m51765\u001b[0m-\u001b[1;36m51790\u001b[0m\u001b[1m]\u001b[0m \u001b[32m\"Mr. Damon!\"\u001b[0m exclaimed Tom, for he recognized the eccentric individual of whom he had obtained the motor-cycle.\n"
      ]
     },
     "metadata": {},
     "output_type": "display_data"
    },
    {
     "data": {
      "text/html": [
       "<pre style=\"white-space:pre;overflow-x:auto;line-height:normal;font-family:Menlo,'DejaVu Sans Mono',consolas,'Courier New',monospace\"><span style=\"font-weight: bold\">[</span>Damon, Tom<span style=\"font-weight: bold\">]</span>\n",
       "</pre>\n"
      ],
      "text/plain": [
       "\u001b[1m[\u001b[0mDamon, Tom\u001b[1m]\u001b[0m\n"
      ]
     },
     "metadata": {},
     "output_type": "display_data"
    },
    {
     "data": {
      "text/html": [
       "<pre style=\"white-space:pre;overflow-x:auto;line-height:normal;font-family:Menlo,'DejaVu Sans Mono',consolas,'Courier New',monospace\"><span style=\"font-weight: bold\">[</span><span style=\"color: #008080; text-decoration-color: #008080; font-weight: bold\">51822</span>-<span style=\"color: #008080; text-decoration-color: #008080; font-weight: bold\">51843</span><span style=\"font-weight: bold\">]</span> <span style=\"color: #008000; text-decoration-color: #008000\">\"Oh, Mr. Damon,\"</span> cried Tom, \"will you help me capture a gang of thieves?\n",
       "</pre>\n"
      ],
      "text/plain": [
       "\u001b[1m[\u001b[0m\u001b[1;36m51822\u001b[0m-\u001b[1;36m51843\u001b[0m\u001b[1m]\u001b[0m \u001b[32m\"Oh, Mr. Damon,\"\u001b[0m cried Tom, \"will you help me capture a gang of thieves?\n"
      ]
     },
     "metadata": {},
     "output_type": "display_data"
    },
    {
     "data": {
      "text/html": [
       "<pre style=\"white-space:pre;overflow-x:auto;line-height:normal;font-family:Menlo,'DejaVu Sans Mono',consolas,'Courier New',monospace\"><span style=\"font-weight: bold\">[</span>Damon, Tom<span style=\"font-weight: bold\">]</span>\n",
       "</pre>\n"
      ],
      "text/plain": [
       "\u001b[1m[\u001b[0mDamon, Tom\u001b[1m]\u001b[0m\n"
      ]
     },
     "metadata": {},
     "output_type": "display_data"
    },
    {
     "data": {
      "text/html": [
       "<pre style=\"white-space:pre;overflow-x:auto;line-height:normal;font-family:Menlo,'DejaVu Sans Mono',consolas,'Courier New',monospace\"><span style=\"font-weight: bold\">[</span><span style=\"color: #008080; text-decoration-color: #008080; font-weight: bold\">51889</span>-<span style=\"color: #008080; text-decoration-color: #008080; font-weight: bold\">51901</span><span style=\"font-weight: bold\">]</span> \"If it isn't Tom Swift, the young inventor!\n",
       "</pre>\n"
      ],
      "text/plain": [
       "\u001b[1m[\u001b[0m\u001b[1;36m51889\u001b[0m-\u001b[1;36m51901\u001b[0m\u001b[1m]\u001b[0m \"If it isn't Tom Swift, the young inventor!\n"
      ]
     },
     "metadata": {},
     "output_type": "display_data"
    },
    {
     "data": {
      "text/html": [
       "<pre style=\"white-space:pre;overflow-x:auto;line-height:normal;font-family:Menlo,'DejaVu Sans Mono',consolas,'Courier New',monospace\"><span style=\"font-weight: bold\">[</span>Tom Swift<span style=\"font-weight: bold\">]</span>\n",
       "</pre>\n"
      ],
      "text/plain": [
       "\u001b[1m[\u001b[0mTom Swift\u001b[1m]\u001b[0m\n"
      ]
     },
     "metadata": {},
     "output_type": "display_data"
    },
    {
     "data": {
      "text/html": [
       "<pre style=\"white-space:pre;overflow-x:auto;line-height:normal;font-family:Menlo,'DejaVu Sans Mono',consolas,'Courier New',monospace\"><span style=\"font-weight: bold\">[</span><span style=\"color: #008080; text-decoration-color: #008080; font-weight: bold\">51982</span>-<span style=\"color: #008080; text-decoration-color: #008080; font-weight: bold\">52003</span><span style=\"font-weight: bold\">]</span> <span style=\"color: #008000; text-decoration-color: #008000\">\"But how does it happen that you are trusting yourself in a car like this?\"</span> asked Tom.\n",
       "</pre>\n"
      ],
      "text/plain": [
       "\u001b[1m[\u001b[0m\u001b[1;36m51982\u001b[0m-\u001b[1;36m52003\u001b[0m\u001b[1m]\u001b[0m \u001b[32m\"But how does it happen that you are trusting yourself in a car like this?\"\u001b[0m asked Tom.\n"
      ]
     },
     "metadata": {},
     "output_type": "display_data"
    },
    {
     "data": {
      "text/html": [
       "<pre style=\"white-space:pre;overflow-x:auto;line-height:normal;font-family:Menlo,'DejaVu Sans Mono',consolas,'Courier New',monospace\"><span style=\"font-weight: bold\">[</span>Tom<span style=\"font-weight: bold\">]</span>\n",
       "</pre>\n"
      ],
      "text/plain": [
       "\u001b[1m[\u001b[0mTom\u001b[1m]\u001b[0m\n"
      ]
     },
     "metadata": {},
     "output_type": "display_data"
    },
    {
     "data": {
      "text/html": [
       "<pre style=\"white-space:pre;overflow-x:auto;line-height:normal;font-family:Menlo,'DejaVu Sans Mono',consolas,'Courier New',monospace\"><span style=\"font-weight: bold\">[</span><span style=\"color: #008080; text-decoration-color: #008080; font-weight: bold\">52018</span>-<span style=\"color: #008080; text-decoration-color: #008080; font-weight: bold\">52046</span><span style=\"font-weight: bold\">]</span> \"I thought so, too, Tom, but, bless my batteries, my doctor insisted that I must get out in the open air.\n",
       "</pre>\n"
      ],
      "text/plain": [
       "\u001b[1m[\u001b[0m\u001b[1;36m52018\u001b[0m-\u001b[1;36m52046\u001b[0m\u001b[1m]\u001b[0m \"I thought so, too, Tom, but, bless my batteries, my doctor insisted that I must get out in the open air.\n"
      ]
     },
     "metadata": {},
     "output_type": "display_data"
    },
    {
     "data": {
      "text/html": [
       "<pre style=\"white-space:pre;overflow-x:auto;line-height:normal;font-family:Menlo,'DejaVu Sans Mono',consolas,'Courier New',monospace\"><span style=\"font-weight: bold\">[</span>Tom<span style=\"font-weight: bold\">]</span>\n",
       "</pre>\n"
      ],
      "text/plain": [
       "\u001b[1m[\u001b[0mTom\u001b[1m]\u001b[0m\n"
      ]
     },
     "metadata": {},
     "output_type": "display_data"
    },
    {
     "data": {
      "text/html": [
       "<pre style=\"white-space:pre;overflow-x:auto;line-height:normal;font-family:Menlo,'DejaVu Sans Mono',consolas,'Courier New',monospace\"><span style=\"font-weight: bold\">[</span><span style=\"color: #008080; text-decoration-color: #008080; font-weight: bold\">52193</span>-<span style=\"color: #008080; text-decoration-color: #008080; font-weight: bold\">52203</span><span style=\"font-weight: bold\">]</span> <span style=\"color: #008000; text-decoration-color: #008000\">\"I hope so,\"</span> answered Tom.  \n",
       "</pre>\n"
      ],
      "text/plain": [
       "\u001b[1m[\u001b[0m\u001b[1;36m52193\u001b[0m-\u001b[1;36m52203\u001b[0m\u001b[1m]\u001b[0m \u001b[32m\"I hope so,\"\u001b[0m answered Tom.  \n"
      ]
     },
     "metadata": {},
     "output_type": "display_data"
    },
    {
     "data": {
      "text/html": [
       "<pre style=\"white-space:pre;overflow-x:auto;line-height:normal;font-family:Menlo,'DejaVu Sans Mono',consolas,'Courier New',monospace\"><span style=\"font-weight: bold\">[</span>Tom<span style=\"font-weight: bold\">]</span>\n",
       "</pre>\n"
      ],
      "text/plain": [
       "\u001b[1m[\u001b[0mTom\u001b[1m]\u001b[0m\n"
      ]
     },
     "metadata": {},
     "output_type": "display_data"
    },
    {
     "data": {
      "text/html": [
       "<pre style=\"white-space:pre;overflow-x:auto;line-height:normal;font-family:Menlo,'DejaVu Sans Mono',consolas,'Courier New',monospace\"><span style=\"font-weight: bold\">[</span><span style=\"color: #008080; text-decoration-color: #008080; font-weight: bold\">52346</span>-<span style=\"color: #008080; text-decoration-color: #008080; font-weight: bold\">52359</span><span style=\"font-weight: bold\">]</span> <span style=\"color: #008000; text-decoration-color: #008000\">\"I hardly think he is there,\"</span> said Tom.  \n",
       "</pre>\n"
      ],
      "text/plain": [
       "\u001b[1m[\u001b[0m\u001b[1;36m52346\u001b[0m-\u001b[1;36m52359\u001b[0m\u001b[1m]\u001b[0m \u001b[32m\"I hardly think he is there,\"\u001b[0m said Tom.  \n"
      ]
     },
     "metadata": {},
     "output_type": "display_data"
    },
    {
     "data": {
      "text/html": [
       "<pre style=\"white-space:pre;overflow-x:auto;line-height:normal;font-family:Menlo,'DejaVu Sans Mono',consolas,'Courier New',monospace\"><span style=\"font-weight: bold\">[</span>Tom<span style=\"font-weight: bold\">]</span>\n",
       "</pre>\n"
      ],
      "text/plain": [
       "\u001b[1m[\u001b[0mTom\u001b[1m]\u001b[0m\n"
      ]
     },
     "metadata": {},
     "output_type": "display_data"
    },
    {
     "data": {
      "text/html": [
       "<pre style=\"white-space:pre;overflow-x:auto;line-height:normal;font-family:Menlo,'DejaVu Sans Mono',consolas,'Courier New',monospace\"><span style=\"font-weight: bold\">[</span><span style=\"color: #008080; text-decoration-color: #008080; font-weight: bold\">52835</span>-<span style=\"color: #008080; text-decoration-color: #008080; font-weight: bold\">52845</span><span style=\"font-weight: bold\">]</span> <span style=\"color: #008000; text-decoration-color: #008000\">\"It's Happy Harry!\"</span> said Tom.\n",
       "</pre>\n"
      ],
      "text/plain": [
       "\u001b[1m[\u001b[0m\u001b[1;36m52835\u001b[0m-\u001b[1;36m52845\u001b[0m\u001b[1m]\u001b[0m \u001b[32m\"It's Happy Harry!\"\u001b[0m said Tom.\n"
      ]
     },
     "metadata": {},
     "output_type": "display_data"
    },
    {
     "data": {
      "text/html": [
       "<pre style=\"white-space:pre;overflow-x:auto;line-height:normal;font-family:Menlo,'DejaVu Sans Mono',consolas,'Courier New',monospace\"><span style=\"font-weight: bold\">[</span>Tom<span style=\"font-weight: bold\">]</span>\n",
       "</pre>\n"
      ],
      "text/plain": [
       "\u001b[1m[\u001b[0mTom\u001b[1m]\u001b[0m\n"
      ]
     },
     "metadata": {},
     "output_type": "display_data"
    },
    {
     "data": {
      "text/html": [
       "<pre style=\"white-space:pre;overflow-x:auto;line-height:normal;font-family:Menlo,'DejaVu Sans Mono',consolas,'Courier New',monospace\"><span style=\"font-weight: bold\">[</span><span style=\"color: #008080; text-decoration-color: #008080; font-weight: bold\">53119</span>-<span style=\"color: #008080; text-decoration-color: #008080; font-weight: bold\">53129</span><span style=\"font-weight: bold\">]</span> <span style=\"color: #008000; text-decoration-color: #008000\">\"They're here still,\"</span> whispered Tom.\n",
       "</pre>\n"
      ],
      "text/plain": [
       "\u001b[1m[\u001b[0m\u001b[1;36m53119\u001b[0m-\u001b[1;36m53129\u001b[0m\u001b[1m]\u001b[0m \u001b[32m\"They're here still,\"\u001b[0m whispered Tom.\n"
      ]
     },
     "metadata": {},
     "output_type": "display_data"
    },
    {
     "data": {
      "text/html": [
       "<pre style=\"white-space:pre;overflow-x:auto;line-height:normal;font-family:Menlo,'DejaVu Sans Mono',consolas,'Courier New',monospace\"><span style=\"font-weight: bold\">[</span>Tom<span style=\"font-weight: bold\">]</span>\n",
       "</pre>\n"
      ],
      "text/plain": [
       "\u001b[1m[\u001b[0mTom\u001b[1m]\u001b[0m\n"
      ]
     },
     "metadata": {},
     "output_type": "display_data"
    },
    {
     "data": {
      "text/html": [
       "<pre style=\"white-space:pre;overflow-x:auto;line-height:normal;font-family:Menlo,'DejaVu Sans Mono',consolas,'Courier New',monospace\"><span style=\"font-weight: bold\">[</span><span style=\"color: #008080; text-decoration-color: #008080; font-weight: bold\">53213</span>-<span style=\"color: #008080; text-decoration-color: #008080; font-weight: bold\">53220</span><span style=\"font-weight: bold\">]</span> <span style=\"color: #008000; text-decoration-color: #008000\">\"Come on, Tom!\"</span>\n",
       "</pre>\n"
      ],
      "text/plain": [
       "\u001b[1m[\u001b[0m\u001b[1;36m53213\u001b[0m-\u001b[1;36m53220\u001b[0m\u001b[1m]\u001b[0m \u001b[32m\"Come on, Tom!\"\u001b[0m\n"
      ]
     },
     "metadata": {},
     "output_type": "display_data"
    },
    {
     "data": {
      "text/html": [
       "<pre style=\"white-space:pre;overflow-x:auto;line-height:normal;font-family:Menlo,'DejaVu Sans Mono',consolas,'Courier New',monospace\"><span style=\"font-weight: bold\">[</span>Tom<span style=\"font-weight: bold\">]</span>\n",
       "</pre>\n"
      ],
      "text/plain": [
       "\u001b[1m[\u001b[0mTom\u001b[1m]\u001b[0m\n"
      ]
     },
     "metadata": {},
     "output_type": "display_data"
    },
    {
     "data": {
      "text/html": [
       "<pre style=\"white-space:pre;overflow-x:auto;line-height:normal;font-family:Menlo,'DejaVu Sans Mono',consolas,'Courier New',monospace\"><span style=\"font-weight: bold\">[</span><span style=\"color: #008080; text-decoration-color: #008080; font-weight: bold\">53726</span>-<span style=\"color: #008080; text-decoration-color: #008080; font-weight: bold\">53791</span><span style=\"font-weight: bold\">]</span> <span style=\"color: #008000; text-decoration-color: #008000\">\"I guess we've seen the last of them,\"</span> added the youth, but he and Mr. Swift had not, for the criminals made further trouble, which will be told of in the second volume of this series, to be called <span style=\"color: #008000; text-decoration-color: #008000\">\"Tom Swift and His Motor-Boat; or, The Rivals of Lake Carlopa.\"</span>\n",
       "</pre>\n"
      ],
      "text/plain": [
       "\u001b[1m[\u001b[0m\u001b[1;36m53726\u001b[0m-\u001b[1;36m53791\u001b[0m\u001b[1m]\u001b[0m \u001b[32m\"I guess we've seen the last of them,\"\u001b[0m added the youth, but he and Mr. Swift had not, for the criminals made further trouble, which will be told of in the second volume of this series, to be called \u001b[32m\"Tom Swift and His Motor-Boat; or, The Rivals of Lake Carlopa.\"\u001b[0m\n"
      ]
     },
     "metadata": {},
     "output_type": "display_data"
    },
    {
     "data": {
      "text/html": [
       "<pre style=\"white-space:pre;overflow-x:auto;line-height:normal;font-family:Menlo,'DejaVu Sans Mono',consolas,'Courier New',monospace\"><span style=\"font-weight: bold\">[</span>Swift, second, Tom Swift, The Rivals of Lake Carlopa<span style=\"font-weight: bold\">]</span>\n",
       "</pre>\n"
      ],
      "text/plain": [
       "\u001b[1m[\u001b[0mSwift, second, Tom Swift, The Rivals of Lake Carlopa\u001b[1m]\u001b[0m\n"
      ]
     },
     "metadata": {},
     "output_type": "display_data"
    },
    {
     "data": {
      "text/html": [
       "<pre style=\"white-space:pre;overflow-x:auto;line-height:normal;font-family:Menlo,'DejaVu Sans Mono',consolas,'Courier New',monospace\"><span style=\"font-weight: bold\">[</span><span style=\"color: #008080; text-decoration-color: #008080; font-weight: bold\">53830</span>-<span style=\"color: #008080; text-decoration-color: #008080; font-weight: bold\">53879</span><span style=\"font-weight: bold\">]</span> <span style=\"color: #008000; text-decoration-color: #008000\">\"Now,\"</span> said Mr. Damon, after it had been ascertained that no one was injured, and that the box contained all of value that had been stolen, \"I suppose you are anxious to get back home, Tom, aren't you?\n",
       "</pre>\n"
      ],
      "text/plain": [
       "\u001b[1m[\u001b[0m\u001b[1;36m53830\u001b[0m-\u001b[1;36m53879\u001b[0m\u001b[1m]\u001b[0m \u001b[32m\"Now,\"\u001b[0m said Mr. Damon, after it had been ascertained that no one was injured, and that the box contained all of value that had been stolen, \"I suppose you are anxious to get back home, Tom, aren't you?\n"
      ]
     },
     "metadata": {},
     "output_type": "display_data"
    },
    {
     "data": {
      "text/html": [
       "<pre style=\"white-space:pre;overflow-x:auto;line-height:normal;font-family:Menlo,'DejaVu Sans Mono',consolas,'Courier New',monospace\"><span style=\"font-weight: bold\">[</span>Damon, Tom<span style=\"font-weight: bold\">]</span>\n",
       "</pre>\n"
      ],
      "text/plain": [
       "\u001b[1m[\u001b[0mDamon, Tom\u001b[1m]\u001b[0m\n"
      ]
     },
     "metadata": {},
     "output_type": "display_data"
    },
    {
     "data": {
      "text/html": [
       "<pre style=\"white-space:pre;overflow-x:auto;line-height:normal;font-family:Menlo,'DejaVu Sans Mono',consolas,'Courier New',monospace\"><span style=\"font-weight: bold\">[</span><span style=\"color: #008080; text-decoration-color: #008080; font-weight: bold\">54033</span>-<span style=\"color: #008080; text-decoration-color: #008080; font-weight: bold\">54064</span><span style=\"font-weight: bold\">]</span> <span style=\"color: #008000; text-decoration-color: #008000\">\"Well,\"</span> remarked Mr. Swift to Tom, a few nights after the recovery of the model, \"your motor-cycle certainly did us good service.\n",
       "</pre>\n"
      ],
      "text/plain": [
       "\u001b[1m[\u001b[0m\u001b[1;36m54033\u001b[0m-\u001b[1;36m54064\u001b[0m\u001b[1m]\u001b[0m \u001b[32m\"Well,\"\u001b[0m remarked Mr. Swift to Tom, a few nights after the recovery of the model, \"your motor-cycle certainly did us good service.\n"
      ]
     },
     "metadata": {},
     "output_type": "display_data"
    },
    {
     "data": {
      "text/html": [
       "<pre style=\"white-space:pre;overflow-x:auto;line-height:normal;font-family:Menlo,'DejaVu Sans Mono',consolas,'Courier New',monospace\"><span style=\"font-weight: bold\">[</span>Swift, Tom, a few nights<span style=\"font-weight: bold\">]</span>\n",
       "</pre>\n"
      ],
      "text/plain": [
       "\u001b[1m[\u001b[0mSwift, Tom, a few nights\u001b[1m]\u001b[0m\n"
      ]
     },
     "metadata": {},
     "output_type": "display_data"
    },
    {
     "data": {
      "text/html": [
       "<pre style=\"white-space:pre;overflow-x:auto;line-height:normal;font-family:Menlo,'DejaVu Sans Mono',consolas,'Courier New',monospace\"></pre>\n"
      ],
      "text/plain": []
     },
     "metadata": {},
     "output_type": "display_data"
    },
    {
     "data": {
      "text/plain": [
       "\u001b[32m'\\nTODO Better to do this\\n\\nfor possible_subject in doc:\\n    if possible_subject.dep == nsubj and possible_subject.head.pos == VERB:\\n        verbs.add\u001b[0m\u001b[32m(\u001b[0m\u001b[32mpossible_subject.head\u001b[0m\u001b[32m)\u001b[0m\u001b[32m\\n'\u001b[0m"
      ]
     },
     "execution_count": 25,
     "metadata": {},
     "output_type": "execute_result"
    }
   ],
   "source": [
    "# TODO use filter() instead?\n",
    "for idx, s in enumerate(doc.sents):\n",
    "    if s.text.startswith('\"'):\n",
    "        for ne in s.ents:\n",
    "            if \"Tom\" in ne.text:\n",
    "                print(f\"[{s.start}-{s.end}] {s}\", soft_wrap=True)\n",
    "                pprint(s.ents)"
   ]
  },
  {
   "cell_type": "markdown",
   "id": "5d9baef2-b781-46f8-a9ea-85b88262048b",
   "metadata": {},
   "source": [
    "Upon visual inspection, I'd say the Span of token 1178:1202 presents a great consutrction for us to look at more closely. It's clearly not a pun but we should be able to code against this pattern of verbal root with Tom as subject and an adverb dependent on that speech verb performed by Tom. \n",
    "> \"He thinks he can run over everything since he got his new auto,\" commented Tom aloud as he rode on."
   ]
  },
  {
   "cell_type": "code",
   "execution_count": 31,
   "id": "f145ad9f-cea0-4c63-8e28-5df07d7b83c3",
   "metadata": {},
   "outputs": [
    {
     "data": {
      "text/html": [
       "<pre style=\"white-space:pre;overflow-x:auto;line-height:normal;font-family:Menlo,'DejaVu Sans Mono',consolas,'Courier New',monospace\">\" PUNCT `` punct\n",
       "</pre>\n"
      ],
      "text/plain": [
       "\" PUNCT `` punct\n"
      ]
     },
     "metadata": {},
     "output_type": "display_data"
    },
    {
     "data": {
      "text/html": [
       "<pre style=\"white-space:pre;overflow-x:auto;line-height:normal;font-family:Menlo,'DejaVu Sans Mono',consolas,'Courier New',monospace\">He PRON PRP nsubj\n",
       "</pre>\n"
      ],
      "text/plain": [
       "He PRON PRP nsubj\n"
      ]
     },
     "metadata": {},
     "output_type": "display_data"
    },
    {
     "data": {
      "text/html": [
       "<pre style=\"white-space:pre;overflow-x:auto;line-height:normal;font-family:Menlo,'DejaVu Sans Mono',consolas,'Courier New',monospace\">thinks VERB VBZ ccomp\n",
       "</pre>\n"
      ],
      "text/plain": [
       "thinks VERB VBZ ccomp\n"
      ]
     },
     "metadata": {},
     "output_type": "display_data"
    },
    {
     "data": {
      "text/html": [
       "<pre style=\"white-space:pre;overflow-x:auto;line-height:normal;font-family:Menlo,'DejaVu Sans Mono',consolas,'Courier New',monospace\">he PRON PRP nsubj\n",
       "</pre>\n"
      ],
      "text/plain": [
       "he PRON PRP nsubj\n"
      ]
     },
     "metadata": {},
     "output_type": "display_data"
    },
    {
     "data": {
      "text/html": [
       "<pre style=\"white-space:pre;overflow-x:auto;line-height:normal;font-family:Menlo,'DejaVu Sans Mono',consolas,'Courier New',monospace\">can AUX MD aux\n",
       "</pre>\n"
      ],
      "text/plain": [
       "can AUX MD aux\n"
      ]
     },
     "metadata": {},
     "output_type": "display_data"
    },
    {
     "data": {
      "text/html": [
       "<pre style=\"white-space:pre;overflow-x:auto;line-height:normal;font-family:Menlo,'DejaVu Sans Mono',consolas,'Courier New',monospace\">run VERB VB ccomp\n",
       "</pre>\n"
      ],
      "text/plain": [
       "run VERB VB ccomp\n"
      ]
     },
     "metadata": {},
     "output_type": "display_data"
    },
    {
     "data": {
      "text/html": [
       "<pre style=\"white-space:pre;overflow-x:auto;line-height:normal;font-family:Menlo,'DejaVu Sans Mono',consolas,'Courier New',monospace\">over ADP IN prep\n",
       "</pre>\n"
      ],
      "text/plain": [
       "over ADP IN prep\n"
      ]
     },
     "metadata": {},
     "output_type": "display_data"
    },
    {
     "data": {
      "text/html": [
       "<pre style=\"white-space:pre;overflow-x:auto;line-height:normal;font-family:Menlo,'DejaVu Sans Mono',consolas,'Courier New',monospace\">everything PRON NN pobj\n",
       "</pre>\n"
      ],
      "text/plain": [
       "everything PRON NN pobj\n"
      ]
     },
     "metadata": {},
     "output_type": "display_data"
    },
    {
     "data": {
      "text/html": [
       "<pre style=\"white-space:pre;overflow-x:auto;line-height:normal;font-family:Menlo,'DejaVu Sans Mono',consolas,'Courier New',monospace\">since SCONJ IN mark\n",
       "</pre>\n"
      ],
      "text/plain": [
       "since SCONJ IN mark\n"
      ]
     },
     "metadata": {},
     "output_type": "display_data"
    },
    {
     "data": {
      "text/html": [
       "<pre style=\"white-space:pre;overflow-x:auto;line-height:normal;font-family:Menlo,'DejaVu Sans Mono',consolas,'Courier New',monospace\">he PRON PRP nsubj\n",
       "</pre>\n"
      ],
      "text/plain": [
       "he PRON PRP nsubj\n"
      ]
     },
     "metadata": {},
     "output_type": "display_data"
    },
    {
     "data": {
      "text/html": [
       "<pre style=\"white-space:pre;overflow-x:auto;line-height:normal;font-family:Menlo,'DejaVu Sans Mono',consolas,'Courier New',monospace\">got VERB VBD advcl\n",
       "</pre>\n"
      ],
      "text/plain": [
       "got VERB VBD advcl\n"
      ]
     },
     "metadata": {},
     "output_type": "display_data"
    },
    {
     "data": {
      "text/html": [
       "<pre style=\"white-space:pre;overflow-x:auto;line-height:normal;font-family:Menlo,'DejaVu Sans Mono',consolas,'Courier New',monospace\">his PRON PRP$ poss\n",
       "</pre>\n"
      ],
      "text/plain": [
       "his PRON PRP$ poss\n"
      ]
     },
     "metadata": {},
     "output_type": "display_data"
    },
    {
     "data": {
      "text/html": [
       "<pre style=\"white-space:pre;overflow-x:auto;line-height:normal;font-family:Menlo,'DejaVu Sans Mono',consolas,'Courier New',monospace\">new ADJ JJ amod\n",
       "</pre>\n"
      ],
      "text/plain": [
       "new ADJ JJ amod\n"
      ]
     },
     "metadata": {},
     "output_type": "display_data"
    },
    {
     "data": {
      "text/html": [
       "<pre style=\"white-space:pre;overflow-x:auto;line-height:normal;font-family:Menlo,'DejaVu Sans Mono',consolas,'Courier New',monospace\">auto NOUN NN dobj\n",
       "</pre>\n"
      ],
      "text/plain": [
       "auto NOUN NN dobj\n"
      ]
     },
     "metadata": {},
     "output_type": "display_data"
    },
    {
     "data": {
      "text/html": [
       "<pre style=\"white-space:pre;overflow-x:auto;line-height:normal;font-family:Menlo,'DejaVu Sans Mono',consolas,'Courier New',monospace\">, PUNCT , punct\n",
       "</pre>\n"
      ],
      "text/plain": [
       ", PUNCT , punct\n"
      ]
     },
     "metadata": {},
     "output_type": "display_data"
    },
    {
     "data": {
      "text/html": [
       "<pre style=\"white-space:pre;overflow-x:auto;line-height:normal;font-family:Menlo,'DejaVu Sans Mono',consolas,'Courier New',monospace\">\" PUNCT <span style=\"color: #008000; text-decoration-color: #008000\">''</span> punct\n",
       "</pre>\n"
      ],
      "text/plain": [
       "\" PUNCT \u001b[32m''\u001b[0m punct\n"
      ]
     },
     "metadata": {},
     "output_type": "display_data"
    },
    {
     "data": {
      "text/html": [
       "<pre style=\"white-space:pre;overflow-x:auto;line-height:normal;font-family:Menlo,'DejaVu Sans Mono',consolas,'Courier New',monospace\">commented VERB VBD ROOT\n",
       "</pre>\n"
      ],
      "text/plain": [
       "commented VERB VBD ROOT\n"
      ]
     },
     "metadata": {},
     "output_type": "display_data"
    },
    {
     "data": {
      "text/html": [
       "<pre style=\"white-space:pre;overflow-x:auto;line-height:normal;font-family:Menlo,'DejaVu Sans Mono',consolas,'Courier New',monospace\">Tom PROPN NNP compound\n",
       "</pre>\n"
      ],
      "text/plain": [
       "Tom PROPN NNP compound\n"
      ]
     },
     "metadata": {},
     "output_type": "display_data"
    },
    {
     "data": {
      "text/html": [
       "<pre style=\"white-space:pre;overflow-x:auto;line-height:normal;font-family:Menlo,'DejaVu Sans Mono',consolas,'Courier New',monospace\">aloud NOUN NN nsubj\n",
       "</pre>\n"
      ],
      "text/plain": [
       "aloud NOUN NN nsubj\n"
      ]
     },
     "metadata": {},
     "output_type": "display_data"
    },
    {
     "data": {
      "text/html": [
       "<pre style=\"white-space:pre;overflow-x:auto;line-height:normal;font-family:Menlo,'DejaVu Sans Mono',consolas,'Courier New',monospace\">as SCONJ IN mark\n",
       "</pre>\n"
      ],
      "text/plain": [
       "as SCONJ IN mark\n"
      ]
     },
     "metadata": {},
     "output_type": "display_data"
    },
    {
     "data": {
      "text/html": [
       "<pre style=\"white-space:pre;overflow-x:auto;line-height:normal;font-family:Menlo,'DejaVu Sans Mono',consolas,'Courier New',monospace\">he PRON PRP nsubj\n",
       "</pre>\n"
      ],
      "text/plain": [
       "he PRON PRP nsubj\n"
      ]
     },
     "metadata": {},
     "output_type": "display_data"
    },
    {
     "data": {
      "text/html": [
       "<pre style=\"white-space:pre;overflow-x:auto;line-height:normal;font-family:Menlo,'DejaVu Sans Mono',consolas,'Courier New',monospace\">rode VERB VBD advcl\n",
       "</pre>\n"
      ],
      "text/plain": [
       "rode VERB VBD advcl\n"
      ]
     },
     "metadata": {},
     "output_type": "display_data"
    },
    {
     "data": {
      "text/html": [
       "<pre style=\"white-space:pre;overflow-x:auto;line-height:normal;font-family:Menlo,'DejaVu Sans Mono',consolas,'Courier New',monospace\">on ADP RP prt\n",
       "</pre>\n"
      ],
      "text/plain": [
       "on ADP RP prt\n"
      ]
     },
     "metadata": {},
     "output_type": "display_data"
    },
    {
     "data": {
      "text/html": [
       "<pre style=\"white-space:pre;overflow-x:auto;line-height:normal;font-family:Menlo,'DejaVu Sans Mono',consolas,'Courier New',monospace\">. PUNCT . punct\n",
       "</pre>\n"
      ],
      "text/plain": [
       ". PUNCT . punct\n"
      ]
     },
     "metadata": {},
     "output_type": "display_data"
    }
   ],
   "source": [
    "for token in doc[1178:1202]:\n",
    "    print(\n",
    "        token.text,\n",
    "        token.pos_,\n",
    "        token.tag_,\n",
    "        token.dep_,\n",
    "    )"
   ]
  },
  {
   "cell_type": "markdown",
   "id": "40fe8d83-8a0e-4515-bc41-18022ac4746e",
   "metadata": {},
   "source": [
    "Well, would you look at that! `commented VERB VBD ROOT xxxx`; It even parsed the dependencies and singled out the speech verb we want to target as **ROOT**. \"Ain't that grand\" said Michael largely.\n",
    "\n",
    "Perfect! almost...except that we can see ourselves that it's a speech verb, but our code doesn't know that. Let's change that.\n",
    "\n",
    "Do note however, that there are some oddities which we'll need to deal with soon enough:\n",
    "\n",
    "- Tom PROPN NNP compound Xxx\n",
    "- aloud NOUN NN nsubj xxxx\n",
    "\n",
    "`aloud` should be an adverb and we dearly need it to be in this exploration. We also need `Tom` to be the nsubj. Yet, SpaCy thinks `Tom` is a compund and categorizes `aloud` as the nsubj!\n",
    "\n",
    "Let's examine a diagram of this in two forms; one is a traditional dependency arc graph and the other merely highlights the named entities in the sentence."
   ]
  },
  {
   "cell_type": "code",
   "execution_count": 28,
   "id": "e1d329e8-aca7-48d9-ac40-4e84286f084d",
   "metadata": {},
   "outputs": [],
   "source": [
    "from spacy import displacy"
   ]
  },
  {
   "cell_type": "code",
   "execution_count": 29,
   "id": "44746d62-3f8e-4ab2-bf47-2cf59031f11f",
   "metadata": {},
   "outputs": [
    {
     "data": {
      "text/html": [
       "<pre style=\"white-space:pre;overflow-x:auto;line-height:normal;font-family:Menlo,'DejaVu Sans Mono',consolas,'Courier New',monospace\"></pre>\n"
      ],
      "text/plain": []
     },
     "metadata": {},
     "output_type": "display_data"
    },
    {
     "data": {
      "text/html": [
       "<span class=\"tex2jax_ignore\"><svg xmlns=\"http://www.w3.org/2000/svg\" xmlns:xlink=\"http://www.w3.org/1999/xlink\" xml:lang=\"en\" id=\"927237f27ee64698afce1c466cbce5f1-0\" class=\"displacy\" width=\"3725\" height=\"574.5\" direction=\"ltr\" style=\"max-width: none; height: 574.5px; color: #000000; background: #ffffff; font-family: Arial; direction: ltr\">\n",
       "<text class=\"displacy-token\" fill=\"currentColor\" text-anchor=\"middle\" y=\"484.5\">\n",
       "    <tspan class=\"displacy-word\" fill=\"currentColor\" x=\"50\">&quot;</tspan>\n",
       "    <tspan class=\"displacy-tag\" dy=\"2em\" fill=\"currentColor\" x=\"50\">PUNCT</tspan>\n",
       "</text>\n",
       "\n",
       "<text class=\"displacy-token\" fill=\"currentColor\" text-anchor=\"middle\" y=\"484.5\">\n",
       "    <tspan class=\"displacy-word\" fill=\"currentColor\" x=\"225\">He</tspan>\n",
       "    <tspan class=\"displacy-tag\" dy=\"2em\" fill=\"currentColor\" x=\"225\">PRON</tspan>\n",
       "</text>\n",
       "\n",
       "<text class=\"displacy-token\" fill=\"currentColor\" text-anchor=\"middle\" y=\"484.5\">\n",
       "    <tspan class=\"displacy-word\" fill=\"currentColor\" x=\"400\">thinks</tspan>\n",
       "    <tspan class=\"displacy-tag\" dy=\"2em\" fill=\"currentColor\" x=\"400\">VERB</tspan>\n",
       "</text>\n",
       "\n",
       "<text class=\"displacy-token\" fill=\"currentColor\" text-anchor=\"middle\" y=\"484.5\">\n",
       "    <tspan class=\"displacy-word\" fill=\"currentColor\" x=\"575\">he</tspan>\n",
       "    <tspan class=\"displacy-tag\" dy=\"2em\" fill=\"currentColor\" x=\"575\">PRON</tspan>\n",
       "</text>\n",
       "\n",
       "<text class=\"displacy-token\" fill=\"currentColor\" text-anchor=\"middle\" y=\"484.5\">\n",
       "    <tspan class=\"displacy-word\" fill=\"currentColor\" x=\"750\">can</tspan>\n",
       "    <tspan class=\"displacy-tag\" dy=\"2em\" fill=\"currentColor\" x=\"750\">AUX</tspan>\n",
       "</text>\n",
       "\n",
       "<text class=\"displacy-token\" fill=\"currentColor\" text-anchor=\"middle\" y=\"484.5\">\n",
       "    <tspan class=\"displacy-word\" fill=\"currentColor\" x=\"925\">run</tspan>\n",
       "    <tspan class=\"displacy-tag\" dy=\"2em\" fill=\"currentColor\" x=\"925\">VERB</tspan>\n",
       "</text>\n",
       "\n",
       "<text class=\"displacy-token\" fill=\"currentColor\" text-anchor=\"middle\" y=\"484.5\">\n",
       "    <tspan class=\"displacy-word\" fill=\"currentColor\" x=\"1100\">over</tspan>\n",
       "    <tspan class=\"displacy-tag\" dy=\"2em\" fill=\"currentColor\" x=\"1100\">ADP</tspan>\n",
       "</text>\n",
       "\n",
       "<text class=\"displacy-token\" fill=\"currentColor\" text-anchor=\"middle\" y=\"484.5\">\n",
       "    <tspan class=\"displacy-word\" fill=\"currentColor\" x=\"1275\">everything</tspan>\n",
       "    <tspan class=\"displacy-tag\" dy=\"2em\" fill=\"currentColor\" x=\"1275\">PRON</tspan>\n",
       "</text>\n",
       "\n",
       "<text class=\"displacy-token\" fill=\"currentColor\" text-anchor=\"middle\" y=\"484.5\">\n",
       "    <tspan class=\"displacy-word\" fill=\"currentColor\" x=\"1450\">since</tspan>\n",
       "    <tspan class=\"displacy-tag\" dy=\"2em\" fill=\"currentColor\" x=\"1450\">SCONJ</tspan>\n",
       "</text>\n",
       "\n",
       "<text class=\"displacy-token\" fill=\"currentColor\" text-anchor=\"middle\" y=\"484.5\">\n",
       "    <tspan class=\"displacy-word\" fill=\"currentColor\" x=\"1625\">he</tspan>\n",
       "    <tspan class=\"displacy-tag\" dy=\"2em\" fill=\"currentColor\" x=\"1625\">PRON</tspan>\n",
       "</text>\n",
       "\n",
       "<text class=\"displacy-token\" fill=\"currentColor\" text-anchor=\"middle\" y=\"484.5\">\n",
       "    <tspan class=\"displacy-word\" fill=\"currentColor\" x=\"1800\">got</tspan>\n",
       "    <tspan class=\"displacy-tag\" dy=\"2em\" fill=\"currentColor\" x=\"1800\">VERB</tspan>\n",
       "</text>\n",
       "\n",
       "<text class=\"displacy-token\" fill=\"currentColor\" text-anchor=\"middle\" y=\"484.5\">\n",
       "    <tspan class=\"displacy-word\" fill=\"currentColor\" x=\"1975\">his</tspan>\n",
       "    <tspan class=\"displacy-tag\" dy=\"2em\" fill=\"currentColor\" x=\"1975\">PRON</tspan>\n",
       "</text>\n",
       "\n",
       "<text class=\"displacy-token\" fill=\"currentColor\" text-anchor=\"middle\" y=\"484.5\">\n",
       "    <tspan class=\"displacy-word\" fill=\"currentColor\" x=\"2150\">new</tspan>\n",
       "    <tspan class=\"displacy-tag\" dy=\"2em\" fill=\"currentColor\" x=\"2150\">ADJ</tspan>\n",
       "</text>\n",
       "\n",
       "<text class=\"displacy-token\" fill=\"currentColor\" text-anchor=\"middle\" y=\"484.5\">\n",
       "    <tspan class=\"displacy-word\" fill=\"currentColor\" x=\"2325\">auto,&quot;</tspan>\n",
       "    <tspan class=\"displacy-tag\" dy=\"2em\" fill=\"currentColor\" x=\"2325\">NOUN</tspan>\n",
       "</text>\n",
       "\n",
       "<text class=\"displacy-token\" fill=\"currentColor\" text-anchor=\"middle\" y=\"484.5\">\n",
       "    <tspan class=\"displacy-word\" fill=\"currentColor\" x=\"2500\">commented</tspan>\n",
       "    <tspan class=\"displacy-tag\" dy=\"2em\" fill=\"currentColor\" x=\"2500\">VERB</tspan>\n",
       "</text>\n",
       "\n",
       "<text class=\"displacy-token\" fill=\"currentColor\" text-anchor=\"middle\" y=\"484.5\">\n",
       "    <tspan class=\"displacy-word\" fill=\"currentColor\" x=\"2675\">Tom</tspan>\n",
       "    <tspan class=\"displacy-tag\" dy=\"2em\" fill=\"currentColor\" x=\"2675\">PROPN</tspan>\n",
       "</text>\n",
       "\n",
       "<text class=\"displacy-token\" fill=\"currentColor\" text-anchor=\"middle\" y=\"484.5\">\n",
       "    <tspan class=\"displacy-word\" fill=\"currentColor\" x=\"2850\">aloud</tspan>\n",
       "    <tspan class=\"displacy-tag\" dy=\"2em\" fill=\"currentColor\" x=\"2850\">NOUN</tspan>\n",
       "</text>\n",
       "\n",
       "<text class=\"displacy-token\" fill=\"currentColor\" text-anchor=\"middle\" y=\"484.5\">\n",
       "    <tspan class=\"displacy-word\" fill=\"currentColor\" x=\"3025\">as</tspan>\n",
       "    <tspan class=\"displacy-tag\" dy=\"2em\" fill=\"currentColor\" x=\"3025\">SCONJ</tspan>\n",
       "</text>\n",
       "\n",
       "<text class=\"displacy-token\" fill=\"currentColor\" text-anchor=\"middle\" y=\"484.5\">\n",
       "    <tspan class=\"displacy-word\" fill=\"currentColor\" x=\"3200\">he</tspan>\n",
       "    <tspan class=\"displacy-tag\" dy=\"2em\" fill=\"currentColor\" x=\"3200\">PRON</tspan>\n",
       "</text>\n",
       "\n",
       "<text class=\"displacy-token\" fill=\"currentColor\" text-anchor=\"middle\" y=\"484.5\">\n",
       "    <tspan class=\"displacy-word\" fill=\"currentColor\" x=\"3375\">rode</tspan>\n",
       "    <tspan class=\"displacy-tag\" dy=\"2em\" fill=\"currentColor\" x=\"3375\">VERB</tspan>\n",
       "</text>\n",
       "\n",
       "<text class=\"displacy-token\" fill=\"currentColor\" text-anchor=\"middle\" y=\"484.5\">\n",
       "    <tspan class=\"displacy-word\" fill=\"currentColor\" x=\"3550\">on.</tspan>\n",
       "    <tspan class=\"displacy-tag\" dy=\"2em\" fill=\"currentColor\" x=\"3550\">ADP</tspan>\n",
       "</text>\n",
       "\n",
       "<g class=\"displacy-arrow\">\n",
       "    <path class=\"displacy-arc\" id=\"arrow-927237f27ee64698afce1c466cbce5f1-0-0\" stroke-width=\"2px\" d=\"M70,439.5 C70,2.0 2500.0,2.0 2500.0,439.5\" fill=\"none\" stroke=\"currentColor\"/>\n",
       "    <text dy=\"1.25em\" style=\"font-size: 0.8em; letter-spacing: 1px\">\n",
       "        <textPath xlink:href=\"#arrow-927237f27ee64698afce1c466cbce5f1-0-0\" class=\"displacy-label\" startOffset=\"50%\" side=\"left\" fill=\"currentColor\" text-anchor=\"middle\">punct</textPath>\n",
       "    </text>\n",
       "    <path class=\"displacy-arrowhead\" d=\"M70,441.5 L62,429.5 78,429.5\" fill=\"currentColor\"/>\n",
       "</g>\n",
       "\n",
       "<g class=\"displacy-arrow\">\n",
       "    <path class=\"displacy-arc\" id=\"arrow-927237f27ee64698afce1c466cbce5f1-0-1\" stroke-width=\"2px\" d=\"M245,439.5 C245,352.0 380.0,352.0 380.0,439.5\" fill=\"none\" stroke=\"currentColor\"/>\n",
       "    <text dy=\"1.25em\" style=\"font-size: 0.8em; letter-spacing: 1px\">\n",
       "        <textPath xlink:href=\"#arrow-927237f27ee64698afce1c466cbce5f1-0-1\" class=\"displacy-label\" startOffset=\"50%\" side=\"left\" fill=\"currentColor\" text-anchor=\"middle\">nsubj</textPath>\n",
       "    </text>\n",
       "    <path class=\"displacy-arrowhead\" d=\"M245,441.5 L237,429.5 253,429.5\" fill=\"currentColor\"/>\n",
       "</g>\n",
       "\n",
       "<g class=\"displacy-arrow\">\n",
       "    <path class=\"displacy-arc\" id=\"arrow-927237f27ee64698afce1c466cbce5f1-0-2\" stroke-width=\"2px\" d=\"M420,439.5 C420,89.5 2495.0,89.5 2495.0,439.5\" fill=\"none\" stroke=\"currentColor\"/>\n",
       "    <text dy=\"1.25em\" style=\"font-size: 0.8em; letter-spacing: 1px\">\n",
       "        <textPath xlink:href=\"#arrow-927237f27ee64698afce1c466cbce5f1-0-2\" class=\"displacy-label\" startOffset=\"50%\" side=\"left\" fill=\"currentColor\" text-anchor=\"middle\">ccomp</textPath>\n",
       "    </text>\n",
       "    <path class=\"displacy-arrowhead\" d=\"M420,441.5 L412,429.5 428,429.5\" fill=\"currentColor\"/>\n",
       "</g>\n",
       "\n",
       "<g class=\"displacy-arrow\">\n",
       "    <path class=\"displacy-arc\" id=\"arrow-927237f27ee64698afce1c466cbce5f1-0-3\" stroke-width=\"2px\" d=\"M595,439.5 C595,264.5 910.0,264.5 910.0,439.5\" fill=\"none\" stroke=\"currentColor\"/>\n",
       "    <text dy=\"1.25em\" style=\"font-size: 0.8em; letter-spacing: 1px\">\n",
       "        <textPath xlink:href=\"#arrow-927237f27ee64698afce1c466cbce5f1-0-3\" class=\"displacy-label\" startOffset=\"50%\" side=\"left\" fill=\"currentColor\" text-anchor=\"middle\">nsubj</textPath>\n",
       "    </text>\n",
       "    <path class=\"displacy-arrowhead\" d=\"M595,441.5 L587,429.5 603,429.5\" fill=\"currentColor\"/>\n",
       "</g>\n",
       "\n",
       "<g class=\"displacy-arrow\">\n",
       "    <path class=\"displacy-arc\" id=\"arrow-927237f27ee64698afce1c466cbce5f1-0-4\" stroke-width=\"2px\" d=\"M770,439.5 C770,352.0 905.0,352.0 905.0,439.5\" fill=\"none\" stroke=\"currentColor\"/>\n",
       "    <text dy=\"1.25em\" style=\"font-size: 0.8em; letter-spacing: 1px\">\n",
       "        <textPath xlink:href=\"#arrow-927237f27ee64698afce1c466cbce5f1-0-4\" class=\"displacy-label\" startOffset=\"50%\" side=\"left\" fill=\"currentColor\" text-anchor=\"middle\">aux</textPath>\n",
       "    </text>\n",
       "    <path class=\"displacy-arrowhead\" d=\"M770,441.5 L762,429.5 778,429.5\" fill=\"currentColor\"/>\n",
       "</g>\n",
       "\n",
       "<g class=\"displacy-arrow\">\n",
       "    <path class=\"displacy-arc\" id=\"arrow-927237f27ee64698afce1c466cbce5f1-0-5\" stroke-width=\"2px\" d=\"M420,439.5 C420,177.0 915.0,177.0 915.0,439.5\" fill=\"none\" stroke=\"currentColor\"/>\n",
       "    <text dy=\"1.25em\" style=\"font-size: 0.8em; letter-spacing: 1px\">\n",
       "        <textPath xlink:href=\"#arrow-927237f27ee64698afce1c466cbce5f1-0-5\" class=\"displacy-label\" startOffset=\"50%\" side=\"left\" fill=\"currentColor\" text-anchor=\"middle\">ccomp</textPath>\n",
       "    </text>\n",
       "    <path class=\"displacy-arrowhead\" d=\"M915.0,441.5 L923.0,429.5 907.0,429.5\" fill=\"currentColor\"/>\n",
       "</g>\n",
       "\n",
       "<g class=\"displacy-arrow\">\n",
       "    <path class=\"displacy-arc\" id=\"arrow-927237f27ee64698afce1c466cbce5f1-0-6\" stroke-width=\"2px\" d=\"M945,439.5 C945,352.0 1080.0,352.0 1080.0,439.5\" fill=\"none\" stroke=\"currentColor\"/>\n",
       "    <text dy=\"1.25em\" style=\"font-size: 0.8em; letter-spacing: 1px\">\n",
       "        <textPath xlink:href=\"#arrow-927237f27ee64698afce1c466cbce5f1-0-6\" class=\"displacy-label\" startOffset=\"50%\" side=\"left\" fill=\"currentColor\" text-anchor=\"middle\">prep</textPath>\n",
       "    </text>\n",
       "    <path class=\"displacy-arrowhead\" d=\"M1080.0,441.5 L1088.0,429.5 1072.0,429.5\" fill=\"currentColor\"/>\n",
       "</g>\n",
       "\n",
       "<g class=\"displacy-arrow\">\n",
       "    <path class=\"displacy-arc\" id=\"arrow-927237f27ee64698afce1c466cbce5f1-0-7\" stroke-width=\"2px\" d=\"M1120,439.5 C1120,352.0 1255.0,352.0 1255.0,439.5\" fill=\"none\" stroke=\"currentColor\"/>\n",
       "    <text dy=\"1.25em\" style=\"font-size: 0.8em; letter-spacing: 1px\">\n",
       "        <textPath xlink:href=\"#arrow-927237f27ee64698afce1c466cbce5f1-0-7\" class=\"displacy-label\" startOffset=\"50%\" side=\"left\" fill=\"currentColor\" text-anchor=\"middle\">pobj</textPath>\n",
       "    </text>\n",
       "    <path class=\"displacy-arrowhead\" d=\"M1255.0,441.5 L1263.0,429.5 1247.0,429.5\" fill=\"currentColor\"/>\n",
       "</g>\n",
       "\n",
       "<g class=\"displacy-arrow\">\n",
       "    <path class=\"displacy-arc\" id=\"arrow-927237f27ee64698afce1c466cbce5f1-0-8\" stroke-width=\"2px\" d=\"M1470,439.5 C1470,264.5 1785.0,264.5 1785.0,439.5\" fill=\"none\" stroke=\"currentColor\"/>\n",
       "    <text dy=\"1.25em\" style=\"font-size: 0.8em; letter-spacing: 1px\">\n",
       "        <textPath xlink:href=\"#arrow-927237f27ee64698afce1c466cbce5f1-0-8\" class=\"displacy-label\" startOffset=\"50%\" side=\"left\" fill=\"currentColor\" text-anchor=\"middle\">mark</textPath>\n",
       "    </text>\n",
       "    <path class=\"displacy-arrowhead\" d=\"M1470,441.5 L1462,429.5 1478,429.5\" fill=\"currentColor\"/>\n",
       "</g>\n",
       "\n",
       "<g class=\"displacy-arrow\">\n",
       "    <path class=\"displacy-arc\" id=\"arrow-927237f27ee64698afce1c466cbce5f1-0-9\" stroke-width=\"2px\" d=\"M1645,439.5 C1645,352.0 1780.0,352.0 1780.0,439.5\" fill=\"none\" stroke=\"currentColor\"/>\n",
       "    <text dy=\"1.25em\" style=\"font-size: 0.8em; letter-spacing: 1px\">\n",
       "        <textPath xlink:href=\"#arrow-927237f27ee64698afce1c466cbce5f1-0-9\" class=\"displacy-label\" startOffset=\"50%\" side=\"left\" fill=\"currentColor\" text-anchor=\"middle\">nsubj</textPath>\n",
       "    </text>\n",
       "    <path class=\"displacy-arrowhead\" d=\"M1645,441.5 L1637,429.5 1653,429.5\" fill=\"currentColor\"/>\n",
       "</g>\n",
       "\n",
       "<g class=\"displacy-arrow\">\n",
       "    <path class=\"displacy-arc\" id=\"arrow-927237f27ee64698afce1c466cbce5f1-0-10\" stroke-width=\"2px\" d=\"M945,439.5 C945,177.0 1790.0,177.0 1790.0,439.5\" fill=\"none\" stroke=\"currentColor\"/>\n",
       "    <text dy=\"1.25em\" style=\"font-size: 0.8em; letter-spacing: 1px\">\n",
       "        <textPath xlink:href=\"#arrow-927237f27ee64698afce1c466cbce5f1-0-10\" class=\"displacy-label\" startOffset=\"50%\" side=\"left\" fill=\"currentColor\" text-anchor=\"middle\">advcl</textPath>\n",
       "    </text>\n",
       "    <path class=\"displacy-arrowhead\" d=\"M1790.0,441.5 L1798.0,429.5 1782.0,429.5\" fill=\"currentColor\"/>\n",
       "</g>\n",
       "\n",
       "<g class=\"displacy-arrow\">\n",
       "    <path class=\"displacy-arc\" id=\"arrow-927237f27ee64698afce1c466cbce5f1-0-11\" stroke-width=\"2px\" d=\"M1995,439.5 C1995,264.5 2310.0,264.5 2310.0,439.5\" fill=\"none\" stroke=\"currentColor\"/>\n",
       "    <text dy=\"1.25em\" style=\"font-size: 0.8em; letter-spacing: 1px\">\n",
       "        <textPath xlink:href=\"#arrow-927237f27ee64698afce1c466cbce5f1-0-11\" class=\"displacy-label\" startOffset=\"50%\" side=\"left\" fill=\"currentColor\" text-anchor=\"middle\">poss</textPath>\n",
       "    </text>\n",
       "    <path class=\"displacy-arrowhead\" d=\"M1995,441.5 L1987,429.5 2003,429.5\" fill=\"currentColor\"/>\n",
       "</g>\n",
       "\n",
       "<g class=\"displacy-arrow\">\n",
       "    <path class=\"displacy-arc\" id=\"arrow-927237f27ee64698afce1c466cbce5f1-0-12\" stroke-width=\"2px\" d=\"M2170,439.5 C2170,352.0 2305.0,352.0 2305.0,439.5\" fill=\"none\" stroke=\"currentColor\"/>\n",
       "    <text dy=\"1.25em\" style=\"font-size: 0.8em; letter-spacing: 1px\">\n",
       "        <textPath xlink:href=\"#arrow-927237f27ee64698afce1c466cbce5f1-0-12\" class=\"displacy-label\" startOffset=\"50%\" side=\"left\" fill=\"currentColor\" text-anchor=\"middle\">amod</textPath>\n",
       "    </text>\n",
       "    <path class=\"displacy-arrowhead\" d=\"M2170,441.5 L2162,429.5 2178,429.5\" fill=\"currentColor\"/>\n",
       "</g>\n",
       "\n",
       "<g class=\"displacy-arrow\">\n",
       "    <path class=\"displacy-arc\" id=\"arrow-927237f27ee64698afce1c466cbce5f1-0-13\" stroke-width=\"2px\" d=\"M1820,439.5 C1820,177.0 2315.0,177.0 2315.0,439.5\" fill=\"none\" stroke=\"currentColor\"/>\n",
       "    <text dy=\"1.25em\" style=\"font-size: 0.8em; letter-spacing: 1px\">\n",
       "        <textPath xlink:href=\"#arrow-927237f27ee64698afce1c466cbce5f1-0-13\" class=\"displacy-label\" startOffset=\"50%\" side=\"left\" fill=\"currentColor\" text-anchor=\"middle\">dobj</textPath>\n",
       "    </text>\n",
       "    <path class=\"displacy-arrowhead\" d=\"M2315.0,441.5 L2323.0,429.5 2307.0,429.5\" fill=\"currentColor\"/>\n",
       "</g>\n",
       "\n",
       "<g class=\"displacy-arrow\">\n",
       "    <path class=\"displacy-arc\" id=\"arrow-927237f27ee64698afce1c466cbce5f1-0-14\" stroke-width=\"2px\" d=\"M2695,439.5 C2695,352.0 2830.0,352.0 2830.0,439.5\" fill=\"none\" stroke=\"currentColor\"/>\n",
       "    <text dy=\"1.25em\" style=\"font-size: 0.8em; letter-spacing: 1px\">\n",
       "        <textPath xlink:href=\"#arrow-927237f27ee64698afce1c466cbce5f1-0-14\" class=\"displacy-label\" startOffset=\"50%\" side=\"left\" fill=\"currentColor\" text-anchor=\"middle\">compound</textPath>\n",
       "    </text>\n",
       "    <path class=\"displacy-arrowhead\" d=\"M2695,441.5 L2687,429.5 2703,429.5\" fill=\"currentColor\"/>\n",
       "</g>\n",
       "\n",
       "<g class=\"displacy-arrow\">\n",
       "    <path class=\"displacy-arc\" id=\"arrow-927237f27ee64698afce1c466cbce5f1-0-15\" stroke-width=\"2px\" d=\"M2520,439.5 C2520,264.5 2835.0,264.5 2835.0,439.5\" fill=\"none\" stroke=\"currentColor\"/>\n",
       "    <text dy=\"1.25em\" style=\"font-size: 0.8em; letter-spacing: 1px\">\n",
       "        <textPath xlink:href=\"#arrow-927237f27ee64698afce1c466cbce5f1-0-15\" class=\"displacy-label\" startOffset=\"50%\" side=\"left\" fill=\"currentColor\" text-anchor=\"middle\">nsubj</textPath>\n",
       "    </text>\n",
       "    <path class=\"displacy-arrowhead\" d=\"M2835.0,441.5 L2843.0,429.5 2827.0,429.5\" fill=\"currentColor\"/>\n",
       "</g>\n",
       "\n",
       "<g class=\"displacy-arrow\">\n",
       "    <path class=\"displacy-arc\" id=\"arrow-927237f27ee64698afce1c466cbce5f1-0-16\" stroke-width=\"2px\" d=\"M3045,439.5 C3045,264.5 3360.0,264.5 3360.0,439.5\" fill=\"none\" stroke=\"currentColor\"/>\n",
       "    <text dy=\"1.25em\" style=\"font-size: 0.8em; letter-spacing: 1px\">\n",
       "        <textPath xlink:href=\"#arrow-927237f27ee64698afce1c466cbce5f1-0-16\" class=\"displacy-label\" startOffset=\"50%\" side=\"left\" fill=\"currentColor\" text-anchor=\"middle\">mark</textPath>\n",
       "    </text>\n",
       "    <path class=\"displacy-arrowhead\" d=\"M3045,441.5 L3037,429.5 3053,429.5\" fill=\"currentColor\"/>\n",
       "</g>\n",
       "\n",
       "<g class=\"displacy-arrow\">\n",
       "    <path class=\"displacy-arc\" id=\"arrow-927237f27ee64698afce1c466cbce5f1-0-17\" stroke-width=\"2px\" d=\"M3220,439.5 C3220,352.0 3355.0,352.0 3355.0,439.5\" fill=\"none\" stroke=\"currentColor\"/>\n",
       "    <text dy=\"1.25em\" style=\"font-size: 0.8em; letter-spacing: 1px\">\n",
       "        <textPath xlink:href=\"#arrow-927237f27ee64698afce1c466cbce5f1-0-17\" class=\"displacy-label\" startOffset=\"50%\" side=\"left\" fill=\"currentColor\" text-anchor=\"middle\">nsubj</textPath>\n",
       "    </text>\n",
       "    <path class=\"displacy-arrowhead\" d=\"M3220,441.5 L3212,429.5 3228,429.5\" fill=\"currentColor\"/>\n",
       "</g>\n",
       "\n",
       "<g class=\"displacy-arrow\">\n",
       "    <path class=\"displacy-arc\" id=\"arrow-927237f27ee64698afce1c466cbce5f1-0-18\" stroke-width=\"2px\" d=\"M2520,439.5 C2520,177.0 3365.0,177.0 3365.0,439.5\" fill=\"none\" stroke=\"currentColor\"/>\n",
       "    <text dy=\"1.25em\" style=\"font-size: 0.8em; letter-spacing: 1px\">\n",
       "        <textPath xlink:href=\"#arrow-927237f27ee64698afce1c466cbce5f1-0-18\" class=\"displacy-label\" startOffset=\"50%\" side=\"left\" fill=\"currentColor\" text-anchor=\"middle\">advcl</textPath>\n",
       "    </text>\n",
       "    <path class=\"displacy-arrowhead\" d=\"M3365.0,441.5 L3373.0,429.5 3357.0,429.5\" fill=\"currentColor\"/>\n",
       "</g>\n",
       "\n",
       "<g class=\"displacy-arrow\">\n",
       "    <path class=\"displacy-arc\" id=\"arrow-927237f27ee64698afce1c466cbce5f1-0-19\" stroke-width=\"2px\" d=\"M3395,439.5 C3395,352.0 3530.0,352.0 3530.0,439.5\" fill=\"none\" stroke=\"currentColor\"/>\n",
       "    <text dy=\"1.25em\" style=\"font-size: 0.8em; letter-spacing: 1px\">\n",
       "        <textPath xlink:href=\"#arrow-927237f27ee64698afce1c466cbce5f1-0-19\" class=\"displacy-label\" startOffset=\"50%\" side=\"left\" fill=\"currentColor\" text-anchor=\"middle\">prt</textPath>\n",
       "    </text>\n",
       "    <path class=\"displacy-arrowhead\" d=\"M3530.0,441.5 L3538.0,429.5 3522.0,429.5\" fill=\"currentColor\"/>\n",
       "</g>\n",
       "</svg></span>"
      ],
      "text/plain": [
       "\u001b[1m<\u001b[0m\u001b[1;95mIPython.core.display.HTML\u001b[0m\u001b[39m object\u001b[0m\u001b[1m>\u001b[0m"
      ]
     },
     "metadata": {},
     "output_type": "display_data"
    }
   ],
   "source": [
    "displacy.render(doc[1178:1202], style=\"dep\")"
   ]
  },
  {
   "cell_type": "code",
   "execution_count": 30,
   "id": "fa1e7623",
   "metadata": {},
   "outputs": [
    {
     "data": {
      "text/html": [
       "<pre style=\"white-space:pre;overflow-x:auto;line-height:normal;font-family:Menlo,'DejaVu Sans Mono',consolas,'Courier New',monospace\"></pre>\n"
      ],
      "text/plain": []
     },
     "metadata": {},
     "output_type": "display_data"
    },
    {
     "data": {
      "text/html": [
       "<span class=\"tex2jax_ignore\"><div class=\"entities\" style=\"line-height: 2.5; direction: ltr\">&quot;He thinks he can run over everything since he got his new auto,&quot; commented \n",
       "<mark class=\"entity\" style=\"background: #aa9cfc; padding: 0.45em 0.6em; margin: 0 0.25em; line-height: 1; border-radius: 0.35em;\">\n",
       "    Tom\n",
       "    <span style=\"font-size: 0.8em; font-weight: bold; line-height: 1; border-radius: 0.35em; vertical-align: middle; margin-left: 0.5rem\">PERSON</span>\n",
       "</mark>\n",
       " aloud as he rode on. </div></span>"
      ],
      "text/plain": [
       "\u001b[1m<\u001b[0m\u001b[1;95mIPython.core.display.HTML\u001b[0m\u001b[39m object\u001b[0m\u001b[1m>\u001b[0m"
      ]
     },
     "metadata": {},
     "output_type": "display_data"
    }
   ],
   "source": [
    "displacy.render(doc[1178:1202], style=\"ent\")"
   ]
  },
  {
   "cell_type": "markdown",
   "id": "c41a1ecc-5980-40b1-be78-11ca032807d5",
   "metadata": {},
   "source": [
    "### Narrowing the search\n",
    "\n",
    "We're getting closer, even though the above example is not comforting. Let's start implementing code to only search for the pattern we really want. Let's start with the root verb.\n",
    "\n",
    "> the most frequently used verbs introducing the text of the statement in Tom Swifties is said. (57)\n",
    "\n",
    "> Nevertheless, there are a number\n",
    "of other verbs employed for this purpose as well, e.g.: admitted, agreed, asked, bemoaned,\n",
    "considered, consented, cried, debated, decided, discovered, guessed, implied, mused, nagged,\n",
    "pleaded, pretended, professed, queried, recounted, remarked, replied, revealed, reviewed,\n",
    "sang, and yelled. (57)\n",
    "\n",
    "Our first pattern will be to find sentences with a quotation followed by the named entity, \"Tom\" (his last name seems rarely used in the text) and a verb denoting a speech act linked to an adverb. Note that the verb is not always as explicitly denoting speech as *said* does; it may be slightly parenthentical as well, like *guessed*.\n",
    "\n",
    "As such, the verb for which \"Tom Swift\" is a *nsubj* and which the adverb modifies, will be one of those verbs listed above."
   ]
  },
  {
   "cell_type": "code",
   "execution_count": 32,
   "id": "64bb8397-c9c4-4517-b0d6-bd736656bc47",
   "metadata": {},
   "outputs": [],
   "source": [
    "speech_verbs: Set = {\n",
    "    \"admitted\",\n",
    "    \"agreed\",\n",
    "    \"asked\",\n",
    "    \"bemoaned\",\n",
    "    \"considered\",\n",
    "    \"consented\",\n",
    "    \"cried\",\n",
    "    \"debated\",\n",
    "    \"decided\",\n",
    "    \"discovered\",\n",
    "    \"guessed\",\n",
    "    \"implied\",\n",
    "    \"mused\",\n",
    "    \"nagged\",\n",
    "    \"pleaded\",\n",
    "    \"pretended\",\n",
    "    \"professed\",\n",
    "    \"queried\",\n",
    "    \"recounted\",\n",
    "    \"remarked\",\n",
    "    \"replied\",\n",
    "    \"retored\",\n",
    "    \"revealed\",\n",
    "    \"reviewed\",\n",
    "    \"said\",\n",
    "    \"sang\",\n",
    "    \"yelled\",\n",
    "}"
   ]
  },
  {
   "cell_type": "code",
   "execution_count": 33,
   "id": "c8dacde9-a0b6-4038-8be5-b565cec9d691",
   "metadata": {},
   "outputs": [
    {
     "data": {
      "text/html": [
       "<pre style=\"white-space:pre;overflow-x:auto;line-height:normal;font-family:Menlo,'DejaVu Sans Mono',consolas,'Courier New',monospace\"><span style=\"color: #008080; text-decoration-color: #008080; font-weight: bold\">99</span>\n",
       "</pre>\n"
      ],
      "text/plain": [
       "\u001b[1;36m99\u001b[0m\n"
      ]
     },
     "metadata": {},
     "output_type": "display_data"
    },
    {
     "data": {
      "text/html": [
       "<pre style=\"white-space:pre;overflow-x:auto;line-height:normal;font-family:Menlo,'DejaVu Sans Mono',consolas,'Courier New',monospace\"><span style=\"font-weight: bold\">[</span>\n",
       "<span style=\"color: #7fbf7f; text-decoration-color: #7fbf7f\">│   </span><span style=\"color: #008000; text-decoration-color: #008000\">\"It's Tom Swift!\"</span> cried Sam Snedecker.,\n",
       "<span style=\"color: #7fbf7f; text-decoration-color: #7fbf7f\">│   </span><span style=\"color: #008000; text-decoration-color: #008000\">\"Well, I like your nerve, Andy Foger!\"</span> cried Tom.,\n",
       "<span style=\"color: #7fbf7f; text-decoration-color: #7fbf7f\">│   </span><span style=\"color: #008000; text-decoration-color: #008000\">\"What's the matter, Tom?\"</span> asked Mr. Swift.,\n",
       "<span style=\"color: #7fbf7f; text-decoration-color: #7fbf7f\">│   </span><span style=\"color: #008000; text-decoration-color: #008000\">\"Look out!\"</span> cried Tom.,\n",
       "<span style=\"color: #7fbf7f; text-decoration-color: #7fbf7f\">│   </span><span style=\"color: #008000; text-decoration-color: #008000\">\"Why don't you learn to ride before you come out on the road!\"</span> cried Tom somewhat angrily.  ,\n",
       "<span style=\"color: #7fbf7f; text-decoration-color: #7fbf7f\">│   </span><span style=\"color: #008000; text-decoration-color: #008000\">\"Do you want the receipt for the registered letter sent to you here or at Shopton?\"</span> asked the clerk of Tom.,\n",
       "<span style=\"color: #7fbf7f; text-decoration-color: #7fbf7f\">│   </span><span style=\"color: #008000; text-decoration-color: #008000\">\"How long will it take to polish them?\"</span> asked Tom.  ,\n",
       "<span style=\"color: #7fbf7f; text-decoration-color: #7fbf7f\">│   </span><span style=\"color: #008000; text-decoration-color: #008000\">\"No,\"</span> replied Tom, <span style=\"color: #008000; text-decoration-color: #008000\">\"but I saw--\"</span>,\n",
       "<span style=\"color: #7fbf7f; text-decoration-color: #7fbf7f\">│   </span><span style=\"color: #008000; text-decoration-color: #008000\">\"Did you say you'd seen him?\"</span> asked Mr. Merton, regarding Tom curiously.  ,\n",
       "<span style=\"color: #7fbf7f; text-decoration-color: #7fbf7f\">│   </span><span style=\"color: #008000; text-decoration-color: #008000\">\"Oh, I came over from Shopton this morning,\"</span> replied Ned Newton, taking a seat at the table with Tom.,\n",
       "<span style=\"color: #7fbf7f; text-decoration-color: #7fbf7f\">│   </span><span style=\"color: #008000; text-decoration-color: #008000\">\"On business or pleasure?\"</span> asked Tom, putting some more sugar in his coffee.  ,\n",
       "<span style=\"color: #7fbf7f; text-decoration-color: #7fbf7f\">│   </span><span style=\"color: #008000; text-decoration-color: #008000\">\"I guess so,\"</span> replied Tom, and when he stooped to pick the fork up, not waiting for the girl who was serving at his table, he stole a look at the strangers who had just entered.,\n",
       "<span style=\"color: #7fbf7f; text-decoration-color: #7fbf7f\">│   </span><span style=\"color: #008000; text-decoration-color: #008000\">\"A runaway!\"</span> cried Tom; <span style=\"color: #008000; text-decoration-color: #008000\">\"and partly my fault, too!\"</span>  ,\n",
       "<span style=\"color: #7fbf7f; text-decoration-color: #7fbf7f\">│   </span><span style=\"color: #008000; text-decoration-color: #008000\">\"Well, things are certainly happening to me to-day,\"</span> mused Tom as he pedaled on.,\n",
       "<span style=\"color: #7fbf7f; text-decoration-color: #7fbf7f\">│   </span><span style=\"color: #008000; text-decoration-color: #008000\">\"What's he up to?\"</span> cried Tom excitedly.,\n",
       "<span style=\"color: #7fbf7f; text-decoration-color: #7fbf7f\">│   </span><span style=\"color: #008000; text-decoration-color: #008000\">\"My, that was a smash!\"</span> cried Tom.,\n",
       "<span style=\"color: #7fbf7f; text-decoration-color: #7fbf7f\">│   </span><span style=\"color: #008000; text-decoration-color: #008000\">\"You and your motor-cycle tried to climb a tree,\"</span> remarked Tom with grim humor.  ,\n",
       "<span style=\"color: #7fbf7f; text-decoration-color: #7fbf7f\">│   </span><span style=\"color: #008000; text-decoration-color: #008000\">\"Why, don't you like it?\"</span> asked Tom eagerly.  ,\n",
       "<span style=\"color: #7fbf7f; text-decoration-color: #7fbf7f\">│   </span><span style=\"color: #008000; text-decoration-color: #008000\">\"You have a bad cut on your head,\"</span> said Tom.  ,\n",
       "<span style=\"color: #7fbf7f; text-decoration-color: #7fbf7f\">│   </span><span style=\"color: #008000; text-decoration-color: #008000\">\"Can you walk, or shall we carry you?\"</span> asked Tom's father.  ,\n",
       "<span style=\"color: #7fbf7f; text-decoration-color: #7fbf7f\">│   </span><span style=\"color: #008000; text-decoration-color: #008000\">\"I'm afraid you'll have to leave your machine here,\"</span> said Tom.  ,\n",
       "<span style=\"color: #7fbf7f; text-decoration-color: #7fbf7f\">│   </span><span style=\"color: #008000; text-decoration-color: #008000\">\"Father,\"</span> said Tom earnestly, <span style=\"color: #008000; text-decoration-color: #008000\">\"may I buy that machine off him?\"</span>  ,\n",
       "<span style=\"color: #7fbf7f; text-decoration-color: #7fbf7f\">│   </span><span style=\"color: #008000; text-decoration-color: #008000\">\"Mr. Damon,\"</span> said Tom quickly, <span style=\"color: #008000; text-decoration-color: #008000\">\"will you sell me that motor-cycle?\"</span>  ,\n",
       "<span style=\"color: #7fbf7f; text-decoration-color: #7fbf7f\">│   </span><span style=\"color: #008000; text-decoration-color: #008000\">\"I'll give you fifty dollars,\"</span> said Tom quickly, and Mr. Damon exclaimed:  ,\n",
       "<span style=\"color: #7fbf7f; text-decoration-color: #7fbf7f\">│   </span><span style=\"color: #008000; text-decoration-color: #008000\">\"I don't know his name,\"</span> replied Tom, <span style=\"color: #008000; text-decoration-color: #008000\">\"but I am suspicious regarding him, and I think he left because he suddenly recognized me.\"</span>,\n",
       "<span style=\"color: #7fbf7f; text-decoration-color: #7fbf7f\">│   </span><span style=\"color: #008000; text-decoration-color: #008000\">\"And so you think they are up to some mischief, Tom?\"</span> asked the parent when the son had finished.  ,\n",
       "<span style=\"color: #7fbf7f; text-decoration-color: #7fbf7f\">│   </span><span style=\"color: #008000; text-decoration-color: #008000\">\"It certainly does,\"</span> agreed Tom.,\n",
       "<span style=\"color: #7fbf7f; text-decoration-color: #7fbf7f\">│   </span><span style=\"color: #008000; text-decoration-color: #008000\">\"The man lost this from his pocket, dad,\"</span> said Tom eagerly.,\n",
       "<span style=\"color: #7fbf7f; text-decoration-color: #7fbf7f\">│   </span><span style=\"color: #008000; text-decoration-color: #008000\">\"We'll fight 'em!\"</span> cried Tom.,\n",
       "<span style=\"color: #7fbf7f; text-decoration-color: #7fbf7f\">│   </span><span style=\"color: #008000; text-decoration-color: #008000\">\"An automobile,\"</span> said Tom aloud.,\n",
       "<span style=\"color: #7fbf7f; text-decoration-color: #7fbf7f\">│   </span><span style=\"color: #008000; text-decoration-color: #008000\">\"Oh, I couldn't do that,\"</span> said Tom.,\n",
       "<span style=\"color: #7fbf7f; text-decoration-color: #7fbf7f\">│   </span><span style=\"color: #008000; text-decoration-color: #008000\">\"I live here,\"</span> replied Tom.  ,\n",
       "<span style=\"color: #7fbf7f; text-decoration-color: #7fbf7f\">│   </span><span style=\"color: #008000; text-decoration-color: #008000\">\"Who do you suppose he could have been?\"</span> asked Tom, when he had finished.  ,\n",
       "<span style=\"color: #7fbf7f; text-decoration-color: #7fbf7f\">│   </span><span style=\"color: #008000; text-decoration-color: #008000\">\"I'll help you, dad,\"</span> said Tom, and he began connecting the burglar alarm wires, there being an elaborate system of them about the house, shops and grounds.  ,\n",
       "<span style=\"color: #7fbf7f; text-decoration-color: #7fbf7f\">│   </span><span style=\"color: #008000; text-decoration-color: #008000\">\"Why do you call him Boomerang?\"</span> asked Tom, wondering if the negro really was hurt.  ,\n",
       "<span style=\"color: #7fbf7f; text-decoration-color: #7fbf7f\">│   </span><span style=\"color: #008000; text-decoration-color: #008000\">\"Eradicate,\"</span> mused Tom.,\n",
       "<span style=\"color: #7fbf7f; text-decoration-color: #7fbf7f\">│   </span><span style=\"color: #008000; text-decoration-color: #008000\">\"What are you doing that for?\"</span> asked Tom.  ,\n",
       "<span style=\"color: #7fbf7f; text-decoration-color: #7fbf7f\">│   </span><span style=\"color: #008000; text-decoration-color: #008000\">\"There,\"</span> said Tom at length, as he tightened the nut.,\n",
       "<span style=\"color: #7fbf7f; text-decoration-color: #7fbf7f\">│   </span><span style=\"color: #008000; text-decoration-color: #008000\">\"This machine has more possibilities in it than I suspected,\"</span> mused Tom.,\n",
       "<span style=\"color: #7fbf7f; text-decoration-color: #7fbf7f\">│   </span><span style=\"color: #008000; text-decoration-color: #008000\">\"Why, he's one of the three men I saw in Mansburg in the restaurant,\"</span> said Tom eagerly.,\n",
       "<span style=\"color: #7fbf7f; text-decoration-color: #7fbf7f\">│   </span><span style=\"color: #008000; text-decoration-color: #008000\">\"What do you think they are up to, dad?\"</span> asked Tom.  ,\n",
       "<span style=\"color: #7fbf7f; text-decoration-color: #7fbf7f\">│   </span><span style=\"color: #008000; text-decoration-color: #008000\">\"I'll wager that's Boomerang,\"</span> said Tom aloud, and the mule opened its eyes, wiggled its ears and started forward.  ,\n",
       "<span style=\"color: #7fbf7f; text-decoration-color: #7fbf7f\">│   </span><span style=\"color: #008000; text-decoration-color: #008000\">\"Glad of it,\"</span> replied Tom.,\n",
       "<span style=\"color: #7fbf7f; text-decoration-color: #7fbf7f\">│   </span><span style=\"color: #008000; text-decoration-color: #008000\">\"Well, I guess you can do a few jobs,\"</span> said Tom.,\n",
       "<span style=\"color: #7fbf7f; text-decoration-color: #7fbf7f\">│   </span><span style=\"color: #008000; text-decoration-color: #008000\">\"You're welcome, I'm sure,\"</span> replied Tom.,\n",
       "<span style=\"color: #7fbf7f; text-decoration-color: #7fbf7f\">│   </span><span style=\"color: #008000; text-decoration-color: #008000\">\"Ah, it's you, is it, Tom?\"</span> asked the inventor, looking up.,\n",
       "<span style=\"color: #7fbf7f; text-decoration-color: #7fbf7f\">│   </span><span style=\"color: #008000; text-decoration-color: #008000\">\"There's something in that,\"</span> admitted Mr. Swift, and Tom, seeing that his father was favorably inclined, renewed his arguments, until the inventor finally agreed.  ,\n",
       "<span style=\"color: #7fbf7f; text-decoration-color: #7fbf7f\">│   </span><span style=\"color: #008000; text-decoration-color: #008000\">\"I think I'll take the old wood road and pass through Pompville,\"</span> Tom decided, after covering another mile or two.,\n",
       "<span style=\"color: #7fbf7f; text-decoration-color: #7fbf7f\">│   </span><span style=\"color: #008000; text-decoration-color: #008000\">\"I wasn't going at all fast,\"</span> said Tom, a little nettled that his conciliatory words should be so rudely received.,\n",
       "<span style=\"color: #7fbf7f; text-decoration-color: #7fbf7f\">│   </span><span style=\"color: #008000; text-decoration-color: #008000\">\"Yes, it's very fair,\"</span> admitted Tom, who was not yet breathing easily.  ,\n",
       "<span style=\"color: #7fbf7f; text-decoration-color: #7fbf7f\">│   </span><span style=\"color: #008000; text-decoration-color: #008000\">\"Tom Swift,\"</span> replied our hero, and again he wished he had not told.,\n",
       "<span style=\"color: #7fbf7f; text-decoration-color: #7fbf7f\">│   </span><span style=\"color: #008000; text-decoration-color: #008000\">\"Well, if that isn't a queer end up,\"</span> mused Tom.,\n",
       "<span style=\"color: #7fbf7f; text-decoration-color: #7fbf7f\">│   </span><span style=\"color: #008000; text-decoration-color: #008000\">\"I shouldn't think you'd find anything to shoot this time of year,\"</span> remarked Tom.  ,\n",
       "<span style=\"color: #7fbf7f; text-decoration-color: #7fbf7f\">│   </span><span style=\"color: #008000; text-decoration-color: #008000\">\"How many miles is it?\"</span> asked the man who had whispered, and at the sound of his voice Tom felt a vague sense that he had heard it before.  ,\n",
       "<span style=\"color: #7fbf7f; text-decoration-color: #7fbf7f\">│   </span><span style=\"color: #008000; text-decoration-color: #008000\">\"It's more like summer than I thought,\"</span> said Tom to himself.,\n",
       "<span style=\"color: #7fbf7f; text-decoration-color: #7fbf7f\">│   </span><span style=\"color: #008000; text-decoration-color: #008000\">\"I'll give you a look at me without waiting for the lantern,\"</span> said Tom quickly, and he struck a match, holding it so that the gleam fell upon his face.  ,\n",
       "<span style=\"color: #7fbf7f; text-decoration-color: #7fbf7f\">│   </span><span style=\"color: #008000; text-decoration-color: #008000\">\"Who be you, anyhow, and what you doin' here?\"</span>  <span style=\"color: #008000; text-decoration-color: #008000\">\"That's just what I would like to know,\"</span> said Tom, passing his hand over his head, which was still paining him.,\n",
       "<span style=\"color: #7fbf7f; text-decoration-color: #7fbf7f\">│   </span><span style=\"color: #008000; text-decoration-color: #008000\">\"As far as that?\"</span> cried Tom.,\n",
       "<span style=\"color: #7fbf7f; text-decoration-color: #7fbf7f\">│   </span><span style=\"color: #008000; text-decoration-color: #008000\">\"Which one?\"</span> asked Tom quickly.  ,\n",
       "<span style=\"color: #7fbf7f; text-decoration-color: #7fbf7f\">│   </span><span style=\"color: #008000; text-decoration-color: #008000\">\"Then I hope he can help me catch the scoundrels who robbed me,\"</span> said Tom.  ,\n",
       "<span style=\"color: #7fbf7f; text-decoration-color: #7fbf7f\">│   </span><span style=\"color: #008000; text-decoration-color: #008000\">\"It is,\"</span> said Tom.,\n",
       "<span style=\"color: #7fbf7f; text-decoration-color: #7fbf7f\">│   </span><span style=\"color: #008000; text-decoration-color: #008000\">\"That's the color of a number of automobiles,\"</span> said Tom with a smile.,\n",
       "<span style=\"color: #7fbf7f; text-decoration-color: #7fbf7f\">│   </span><span style=\"color: #008000; text-decoration-color: #008000\">\"I believe you're right,\"</span> agreed Tom.,\n",
       "<span style=\"color: #7fbf7f; text-decoration-color: #7fbf7f\">│   </span><span style=\"color: #008000; text-decoration-color: #008000\">\"Well, I hope you find those criminals,\"</span> said Mr. Blackford, as he watched Tom oiling the machine.,\n",
       "<span style=\"color: #7fbf7f; text-decoration-color: #7fbf7f\">│   </span><span style=\"color: #008000; text-decoration-color: #008000\">\"Oh, it's just a knack,\"</span> replied Tom modestly.,\n",
       "<span style=\"color: #7fbf7f; text-decoration-color: #7fbf7f\">│   </span><span style=\"color: #008000; text-decoration-color: #008000\">\"I'd go and do it myself, but I want to get home,\"</span> said Tom, and then he showed her how, by inserting a small iron plug in a certain place, there would be no danger of the cog coming loose again.  ,\n",
       "<span style=\"color: #7fbf7f; text-decoration-color: #7fbf7f\">│   </span><span style=\"color: #008000; text-decoration-color: #008000\">\"I think I'll make inquiries of the police here, to see if they caught sight of those men,\"</span> decided Tom as he left the restaurant.,\n",
       "<span style=\"color: #7fbf7f; text-decoration-color: #7fbf7f\">│   </span><span style=\"color: #008000; text-decoration-color: #008000\">\"Oh, no, women and young ladies often operate them,\"</span> said Tom.  ,\n",
       "<span style=\"color: #7fbf7f; text-decoration-color: #7fbf7f\">│   </span><span style=\"color: #008000; text-decoration-color: #008000\">\"I guess he's lost something,\"</span> decided Tom.  ,\n",
       "<span style=\"color: #7fbf7f; text-decoration-color: #7fbf7f\">│   </span><span style=\"color: #008000; text-decoration-color: #008000\">\"What, that old grindstone that was broken in two, and that you fastened together with concrete?\"</span> asked Tom, for he had seen the outfit with which Eradicate, in spare times between cleaning and whitewashing, had gone about the country, sharpening knives and scissors.,\n",
       "<span style=\"color: #7fbf7f; text-decoration-color: #7fbf7f\">│   </span><span style=\"color: #008000; text-decoration-color: #008000\">\"No, it's not the kind of Paul you mean,\"</span> said Tom with a laugh.,\n",
       "<span style=\"color: #7fbf7f; text-decoration-color: #7fbf7f\">│   </span><span style=\"color: #008000; text-decoration-color: #008000\">\"Tell me all about it, Tom,\"</span> said Mr. Swift at length.,\n",
       "<span style=\"color: #7fbf7f; text-decoration-color: #7fbf7f\">│   </span><span style=\"color: #008000; text-decoration-color: #008000\">\"I'm sure one of them was the same man who came here that night--the man with the black mustache, who dropped the telegram,\"</span> said Tom.,\n",
       "<span style=\"color: #7fbf7f; text-decoration-color: #7fbf7f\">│   </span><span style=\"color: #008000; text-decoration-color: #008000\">\"Very likely not,\"</span> agreed Tom, \"but I will keep my eyes open, just the same.,\n",
       "<span style=\"color: #7fbf7f; text-decoration-color: #7fbf7f\">│   </span><span style=\"color: #008000; text-decoration-color: #008000\">\"Well, I didn't take it there, after all,\"</span> said Tom with a grim smile, for he could appreciate a joke.  ,\n",
       "<span style=\"color: #7fbf7f; text-decoration-color: #7fbf7f\">│   </span><span style=\"color: #008000; text-decoration-color: #008000\">\"It looks like it,\"</span> agreed Tom grimly.,\n",
       "<span style=\"color: #7fbf7f; text-decoration-color: #7fbf7f\">│   </span><span style=\"color: #008000; text-decoration-color: #008000\">\"Can't you see?\"</span> asked the fellow sullenly, and then Tom did notice that the man still had on his tramp make-up.  ,\n",
       "<span style=\"color: #7fbf7f; text-decoration-color: #7fbf7f\">│   </span><span style=\"color: #008000; text-decoration-color: #008000\">\"What do you want?\"</span> asked Tom.  ,\n",
       "<span style=\"color: #7fbf7f; text-decoration-color: #7fbf7f\">│   </span><span style=\"color: #008000; text-decoration-color: #008000\">\"That's pretty good evidence that she isn't murdered,\"</span> said Tom with a grim smile.  ,\n",
       "<span style=\"color: #7fbf7f; text-decoration-color: #7fbf7f\">│   </span><span style=\"color: #008000; text-decoration-color: #008000\">\"That wasn't a cannon; it was only my little rifle,\"</span> said Tom, and then he told again, for the benefit of the housekeeper, the story of what had happened.  ,\n",
       "<span style=\"color: #7fbf7f; text-decoration-color: #7fbf7f\">│   </span><span style=\"color: #008000; text-decoration-color: #008000\">\"There's not much likelihood of that, though,\"</span> said Tom to the old engineer.,\n",
       "<span style=\"color: #7fbf7f; text-decoration-color: #7fbf7f\">│   </span><span style=\"color: #008000; text-decoration-color: #008000\">\"No, you must not think it was your fault, Tom,\"</span> said his father.,\n",
       "<span style=\"color: #7fbf7f; text-decoration-color: #7fbf7f\">│   </span><span style=\"color: #008000; text-decoration-color: #008000\">\"What is it, Tom?\"</span> asked the inventor.  ,\n",
       "<span style=\"color: #7fbf7f; text-decoration-color: #7fbf7f\">│   </span><span style=\"color: #008000; text-decoration-color: #008000\">\"He ain't one of us, youse can make up your mind to dat,\"</span> said one <span style=\"color: #008000; text-decoration-color: #008000\">\"hobo\"</span> whom Tom interviewed.,\n",
       "<span style=\"color: #7fbf7f; text-decoration-color: #7fbf7f\">│   </span><span style=\"color: #008000; text-decoration-color: #008000\">\"Why, Rad, what are you doing?\"</span> cried Tom.  ,\n",
       "<span style=\"color: #7fbf7f; text-decoration-color: #7fbf7f\">│   </span><span style=\"color: #008000; text-decoration-color: #008000\">\"What seems to be the trouble, and how did you come to own this sawmill?\"</span> asked Tom.  ,\n",
       "<span style=\"color: #7fbf7f; text-decoration-color: #7fbf7f\">│   </span><span style=\"color: #008000; text-decoration-color: #008000\">\"I counted on Boomerang helpin' me,\"</span> he said to Tom.,\n",
       "<span style=\"color: #7fbf7f; text-decoration-color: #7fbf7f\">│   </span><span style=\"color: #008000; text-decoration-color: #008000\">\"You certainly seem to have,\"</span> agreed Tom,\n",
       "<span style=\"color: #7fbf7f; text-decoration-color: #7fbf7f\">│   </span><span style=\"color: #008000; text-decoration-color: #008000\">\"You ought to have an assistant, Rad,\"</span> said Tom, after he had watched the work for a while.,\n",
       "<span style=\"color: #7fbf7f; text-decoration-color: #7fbf7f\">│   </span><span style=\"color: #008000; text-decoration-color: #008000\">\"What's that?\"</span> cried Tom, struck by the words of the colored man.,\n",
       "<span style=\"color: #7fbf7f; text-decoration-color: #7fbf7f\">│   </span><span style=\"color: #008000; text-decoration-color: #008000\">\"I may not be able to ride through the woods,\"</span> mused Tom, \"but I'll take my machine as close as I can, and walk the rest of the way.,\n",
       "<span style=\"color: #7fbf7f; text-decoration-color: #7fbf7f\">│   </span><span style=\"color: #008000; text-decoration-color: #008000\">\"I don't fancy starting in there at night,\"</span> said Tom to himself.,\n",
       "<span style=\"color: #7fbf7f; text-decoration-color: #7fbf7f\">│   </span><span style=\"color: #008000; text-decoration-color: #008000\">\"Near the lake, eh?\"</span> mused Tom as he started off, after thanking the old fellow.,\n",
       "<span style=\"color: #7fbf7f; text-decoration-color: #7fbf7f\">│   </span><span style=\"color: #008000; text-decoration-color: #008000\">\"He's hungry right enough,\"</span> mused Tom.,\n",
       "<span style=\"color: #7fbf7f; text-decoration-color: #7fbf7f\">│   </span><span style=\"color: #008000; text-decoration-color: #008000\">\"You've missed it!\"</span> said Tom grimly as the machine started, and quickly the cottage and the bulldog were left behind.,\n",
       "<span style=\"color: #7fbf7f; text-decoration-color: #7fbf7f\">│   </span><span style=\"color: #008000; text-decoration-color: #008000\">\"But how does it happen that you are trusting yourself in a car like this?\"</span> asked Tom.,\n",
       "<span style=\"color: #7fbf7f; text-decoration-color: #7fbf7f\">│   </span><span style=\"color: #008000; text-decoration-color: #008000\">\"I hardly think he is there,\"</span> said Tom.  ,\n",
       "<span style=\"color: #7fbf7f; text-decoration-color: #7fbf7f\">│   </span><span style=\"color: #008000; text-decoration-color: #008000\">\"It's Happy Harry!\"</span> said Tom.,\n",
       "<span style=\"color: #7fbf7f; text-decoration-color: #7fbf7f\">│   </span><span style=\"color: #008000; text-decoration-color: #008000\">\"Well,\"</span> remarked Mr. Swift to Tom, a few nights after the recovery of the model, \"your motor-cycle certainly did us good service.\n",
       "<span style=\"font-weight: bold\">]</span>\n",
       "</pre>\n"
      ],
      "text/plain": [
       "\u001b[1m[\u001b[0m\n",
       "\u001b[2;32m│   \u001b[0m\u001b[32m\"It's Tom Swift!\"\u001b[0m cried Sam Snedecker.,\n",
       "\u001b[2;32m│   \u001b[0m\u001b[32m\"Well, I like your nerve, Andy Foger!\"\u001b[0m cried Tom.,\n",
       "\u001b[2;32m│   \u001b[0m\u001b[32m\"What's the matter, Tom?\"\u001b[0m asked Mr. Swift.,\n",
       "\u001b[2;32m│   \u001b[0m\u001b[32m\"Look out!\"\u001b[0m cried Tom.,\n",
       "\u001b[2;32m│   \u001b[0m\u001b[32m\"Why don't you learn to ride before you come out on the road!\"\u001b[0m cried Tom somewhat angrily.  ,\n",
       "\u001b[2;32m│   \u001b[0m\u001b[32m\"Do you want the receipt for the registered letter sent to you here or at Shopton?\"\u001b[0m asked the clerk of Tom.,\n",
       "\u001b[2;32m│   \u001b[0m\u001b[32m\"How long will it take to polish them?\"\u001b[0m asked Tom.  ,\n",
       "\u001b[2;32m│   \u001b[0m\u001b[32m\"No,\"\u001b[0m replied Tom, \u001b[32m\"but I saw--\"\u001b[0m,\n",
       "\u001b[2;32m│   \u001b[0m\u001b[32m\"Did you say you'd seen him?\"\u001b[0m asked Mr. Merton, regarding Tom curiously.  ,\n",
       "\u001b[2;32m│   \u001b[0m\u001b[32m\"Oh, I came over from Shopton this morning,\"\u001b[0m replied Ned Newton, taking a seat at the table with Tom.,\n",
       "\u001b[2;32m│   \u001b[0m\u001b[32m\"On business or pleasure?\"\u001b[0m asked Tom, putting some more sugar in his coffee.  ,\n",
       "\u001b[2;32m│   \u001b[0m\u001b[32m\"I guess so,\"\u001b[0m replied Tom, and when he stooped to pick the fork up, not waiting for the girl who was serving at his table, he stole a look at the strangers who had just entered.,\n",
       "\u001b[2;32m│   \u001b[0m\u001b[32m\"A runaway!\"\u001b[0m cried Tom; \u001b[32m\"and partly my fault, too!\"\u001b[0m  ,\n",
       "\u001b[2;32m│   \u001b[0m\u001b[32m\"Well, things are certainly happening to me to-day,\"\u001b[0m mused Tom as he pedaled on.,\n",
       "\u001b[2;32m│   \u001b[0m\u001b[32m\"What's he up to?\"\u001b[0m cried Tom excitedly.,\n",
       "\u001b[2;32m│   \u001b[0m\u001b[32m\"My, that was a smash!\"\u001b[0m cried Tom.,\n",
       "\u001b[2;32m│   \u001b[0m\u001b[32m\"You and your motor-cycle tried to climb a tree,\"\u001b[0m remarked Tom with grim humor.  ,\n",
       "\u001b[2;32m│   \u001b[0m\u001b[32m\"Why, don't you like it?\"\u001b[0m asked Tom eagerly.  ,\n",
       "\u001b[2;32m│   \u001b[0m\u001b[32m\"You have a bad cut on your head,\"\u001b[0m said Tom.  ,\n",
       "\u001b[2;32m│   \u001b[0m\u001b[32m\"Can you walk, or shall we carry you?\"\u001b[0m asked Tom's father.  ,\n",
       "\u001b[2;32m│   \u001b[0m\u001b[32m\"I'm afraid you'll have to leave your machine here,\"\u001b[0m said Tom.  ,\n",
       "\u001b[2;32m│   \u001b[0m\u001b[32m\"Father,\"\u001b[0m said Tom earnestly, \u001b[32m\"may I buy that machine off him?\"\u001b[0m  ,\n",
       "\u001b[2;32m│   \u001b[0m\u001b[32m\"Mr. Damon,\"\u001b[0m said Tom quickly, \u001b[32m\"will you sell me that motor-cycle?\"\u001b[0m  ,\n",
       "\u001b[2;32m│   \u001b[0m\u001b[32m\"I'll give you fifty dollars,\"\u001b[0m said Tom quickly, and Mr. Damon exclaimed:  ,\n",
       "\u001b[2;32m│   \u001b[0m\u001b[32m\"I don't know his name,\"\u001b[0m replied Tom, \u001b[32m\"but I am suspicious regarding him, and I think he left because he suddenly recognized me.\"\u001b[0m,\n",
       "\u001b[2;32m│   \u001b[0m\u001b[32m\"And so you think they are up to some mischief, Tom?\"\u001b[0m asked the parent when the son had finished.  ,\n",
       "\u001b[2;32m│   \u001b[0m\u001b[32m\"It certainly does,\"\u001b[0m agreed Tom.,\n",
       "\u001b[2;32m│   \u001b[0m\u001b[32m\"The man lost this from his pocket, dad,\"\u001b[0m said Tom eagerly.,\n",
       "\u001b[2;32m│   \u001b[0m\u001b[32m\"We'll fight 'em!\"\u001b[0m cried Tom.,\n",
       "\u001b[2;32m│   \u001b[0m\u001b[32m\"An automobile,\"\u001b[0m said Tom aloud.,\n",
       "\u001b[2;32m│   \u001b[0m\u001b[32m\"Oh, I couldn't do that,\"\u001b[0m said Tom.,\n",
       "\u001b[2;32m│   \u001b[0m\u001b[32m\"I live here,\"\u001b[0m replied Tom.  ,\n",
       "\u001b[2;32m│   \u001b[0m\u001b[32m\"Who do you suppose he could have been?\"\u001b[0m asked Tom, when he had finished.  ,\n",
       "\u001b[2;32m│   \u001b[0m\u001b[32m\"I'll help you, dad,\"\u001b[0m said Tom, and he began connecting the burglar alarm wires, there being an elaborate system of them about the house, shops and grounds.  ,\n",
       "\u001b[2;32m│   \u001b[0m\u001b[32m\"Why do you call him Boomerang?\"\u001b[0m asked Tom, wondering if the negro really was hurt.  ,\n",
       "\u001b[2;32m│   \u001b[0m\u001b[32m\"Eradicate,\"\u001b[0m mused Tom.,\n",
       "\u001b[2;32m│   \u001b[0m\u001b[32m\"What are you doing that for?\"\u001b[0m asked Tom.  ,\n",
       "\u001b[2;32m│   \u001b[0m\u001b[32m\"There,\"\u001b[0m said Tom at length, as he tightened the nut.,\n",
       "\u001b[2;32m│   \u001b[0m\u001b[32m\"This machine has more possibilities in it than I suspected,\"\u001b[0m mused Tom.,\n",
       "\u001b[2;32m│   \u001b[0m\u001b[32m\"Why, he's one of the three men I saw in Mansburg in the restaurant,\"\u001b[0m said Tom eagerly.,\n",
       "\u001b[2;32m│   \u001b[0m\u001b[32m\"What do you think they are up to, dad?\"\u001b[0m asked Tom.  ,\n",
       "\u001b[2;32m│   \u001b[0m\u001b[32m\"I'll wager that's Boomerang,\"\u001b[0m said Tom aloud, and the mule opened its eyes, wiggled its ears and started forward.  ,\n",
       "\u001b[2;32m│   \u001b[0m\u001b[32m\"Glad of it,\"\u001b[0m replied Tom.,\n",
       "\u001b[2;32m│   \u001b[0m\u001b[32m\"Well, I guess you can do a few jobs,\"\u001b[0m said Tom.,\n",
       "\u001b[2;32m│   \u001b[0m\u001b[32m\"You're welcome, I'm sure,\"\u001b[0m replied Tom.,\n",
       "\u001b[2;32m│   \u001b[0m\u001b[32m\"Ah, it's you, is it, Tom?\"\u001b[0m asked the inventor, looking up.,\n",
       "\u001b[2;32m│   \u001b[0m\u001b[32m\"There's something in that,\"\u001b[0m admitted Mr. Swift, and Tom, seeing that his father was favorably inclined, renewed his arguments, until the inventor finally agreed.  ,\n",
       "\u001b[2;32m│   \u001b[0m\u001b[32m\"I think I'll take the old wood road and pass through Pompville,\"\u001b[0m Tom decided, after covering another mile or two.,\n",
       "\u001b[2;32m│   \u001b[0m\u001b[32m\"I wasn't going at all fast,\"\u001b[0m said Tom, a little nettled that his conciliatory words should be so rudely received.,\n",
       "\u001b[2;32m│   \u001b[0m\u001b[32m\"Yes, it's very fair,\"\u001b[0m admitted Tom, who was not yet breathing easily.  ,\n",
       "\u001b[2;32m│   \u001b[0m\u001b[32m\"Tom Swift,\"\u001b[0m replied our hero, and again he wished he had not told.,\n",
       "\u001b[2;32m│   \u001b[0m\u001b[32m\"Well, if that isn't a queer end up,\"\u001b[0m mused Tom.,\n",
       "\u001b[2;32m│   \u001b[0m\u001b[32m\"I shouldn't think you'd find anything to shoot this time of year,\"\u001b[0m remarked Tom.  ,\n",
       "\u001b[2;32m│   \u001b[0m\u001b[32m\"How many miles is it?\"\u001b[0m asked the man who had whispered, and at the sound of his voice Tom felt a vague sense that he had heard it before.  ,\n",
       "\u001b[2;32m│   \u001b[0m\u001b[32m\"It's more like summer than I thought,\"\u001b[0m said Tom to himself.,\n",
       "\u001b[2;32m│   \u001b[0m\u001b[32m\"I'll give you a look at me without waiting for the lantern,\"\u001b[0m said Tom quickly, and he struck a match, holding it so that the gleam fell upon his face.  ,\n",
       "\u001b[2;32m│   \u001b[0m\u001b[32m\"Who be you, anyhow, and what you doin' here?\"\u001b[0m  \u001b[32m\"That's just what I would like to know,\"\u001b[0m said Tom, passing his hand over his head, which was still paining him.,\n",
       "\u001b[2;32m│   \u001b[0m\u001b[32m\"As far as that?\"\u001b[0m cried Tom.,\n",
       "\u001b[2;32m│   \u001b[0m\u001b[32m\"Which one?\"\u001b[0m asked Tom quickly.  ,\n",
       "\u001b[2;32m│   \u001b[0m\u001b[32m\"Then I hope he can help me catch the scoundrels who robbed me,\"\u001b[0m said Tom.  ,\n",
       "\u001b[2;32m│   \u001b[0m\u001b[32m\"It is,\"\u001b[0m said Tom.,\n",
       "\u001b[2;32m│   \u001b[0m\u001b[32m\"That's the color of a number of automobiles,\"\u001b[0m said Tom with a smile.,\n",
       "\u001b[2;32m│   \u001b[0m\u001b[32m\"I believe you're right,\"\u001b[0m agreed Tom.,\n",
       "\u001b[2;32m│   \u001b[0m\u001b[32m\"Well, I hope you find those criminals,\"\u001b[0m said Mr. Blackford, as he watched Tom oiling the machine.,\n",
       "\u001b[2;32m│   \u001b[0m\u001b[32m\"Oh, it's just a knack,\"\u001b[0m replied Tom modestly.,\n",
       "\u001b[2;32m│   \u001b[0m\u001b[32m\"I'd go and do it myself, but I want to get home,\"\u001b[0m said Tom, and then he showed her how, by inserting a small iron plug in a certain place, there would be no danger of the cog coming loose again.  ,\n",
       "\u001b[2;32m│   \u001b[0m\u001b[32m\"I think I'll make inquiries of the police here, to see if they caught sight of those men,\"\u001b[0m decided Tom as he left the restaurant.,\n",
       "\u001b[2;32m│   \u001b[0m\u001b[32m\"Oh, no, women and young ladies often operate them,\"\u001b[0m said Tom.  ,\n",
       "\u001b[2;32m│   \u001b[0m\u001b[32m\"I guess he's lost something,\"\u001b[0m decided Tom.  ,\n",
       "\u001b[2;32m│   \u001b[0m\u001b[32m\"What, that old grindstone that was broken in two, and that you fastened together with concrete?\"\u001b[0m asked Tom, for he had seen the outfit with which Eradicate, in spare times between cleaning and whitewashing, had gone about the country, sharpening knives and scissors.,\n",
       "\u001b[2;32m│   \u001b[0m\u001b[32m\"No, it's not the kind of Paul you mean,\"\u001b[0m said Tom with a laugh.,\n",
       "\u001b[2;32m│   \u001b[0m\u001b[32m\"Tell me all about it, Tom,\"\u001b[0m said Mr. Swift at length.,\n",
       "\u001b[2;32m│   \u001b[0m\u001b[32m\"I'm sure one of them was the same man who came here that night--the man with the black mustache, who dropped the telegram,\"\u001b[0m said Tom.,\n",
       "\u001b[2;32m│   \u001b[0m\u001b[32m\"Very likely not,\"\u001b[0m agreed Tom, \"but I will keep my eyes open, just the same.,\n",
       "\u001b[2;32m│   \u001b[0m\u001b[32m\"Well, I didn't take it there, after all,\"\u001b[0m said Tom with a grim smile, for he could appreciate a joke.  ,\n",
       "\u001b[2;32m│   \u001b[0m\u001b[32m\"It looks like it,\"\u001b[0m agreed Tom grimly.,\n",
       "\u001b[2;32m│   \u001b[0m\u001b[32m\"Can't you see?\"\u001b[0m asked the fellow sullenly, and then Tom did notice that the man still had on his tramp make-up.  ,\n",
       "\u001b[2;32m│   \u001b[0m\u001b[32m\"What do you want?\"\u001b[0m asked Tom.  ,\n",
       "\u001b[2;32m│   \u001b[0m\u001b[32m\"That's pretty good evidence that she isn't murdered,\"\u001b[0m said Tom with a grim smile.  ,\n",
       "\u001b[2;32m│   \u001b[0m\u001b[32m\"That wasn't a cannon; it was only my little rifle,\"\u001b[0m said Tom, and then he told again, for the benefit of the housekeeper, the story of what had happened.  ,\n",
       "\u001b[2;32m│   \u001b[0m\u001b[32m\"There's not much likelihood of that, though,\"\u001b[0m said Tom to the old engineer.,\n",
       "\u001b[2;32m│   \u001b[0m\u001b[32m\"No, you must not think it was your fault, Tom,\"\u001b[0m said his father.,\n",
       "\u001b[2;32m│   \u001b[0m\u001b[32m\"What is it, Tom?\"\u001b[0m asked the inventor.  ,\n",
       "\u001b[2;32m│   \u001b[0m\u001b[32m\"He ain't one of us, youse can make up your mind to dat,\"\u001b[0m said one \u001b[32m\"hobo\"\u001b[0m whom Tom interviewed.,\n",
       "\u001b[2;32m│   \u001b[0m\u001b[32m\"Why, Rad, what are you doing?\"\u001b[0m cried Tom.  ,\n",
       "\u001b[2;32m│   \u001b[0m\u001b[32m\"What seems to be the trouble, and how did you come to own this sawmill?\"\u001b[0m asked Tom.  ,\n",
       "\u001b[2;32m│   \u001b[0m\u001b[32m\"I counted on Boomerang helpin' me,\"\u001b[0m he said to Tom.,\n",
       "\u001b[2;32m│   \u001b[0m\u001b[32m\"You certainly seem to have,\"\u001b[0m agreed Tom,\n",
       "\u001b[2;32m│   \u001b[0m\u001b[32m\"You ought to have an assistant, Rad,\"\u001b[0m said Tom, after he had watched the work for a while.,\n",
       "\u001b[2;32m│   \u001b[0m\u001b[32m\"What's that?\"\u001b[0m cried Tom, struck by the words of the colored man.,\n",
       "\u001b[2;32m│   \u001b[0m\u001b[32m\"I may not be able to ride through the woods,\"\u001b[0m mused Tom, \"but I'll take my machine as close as I can, and walk the rest of the way.,\n",
       "\u001b[2;32m│   \u001b[0m\u001b[32m\"I don't fancy starting in there at night,\"\u001b[0m said Tom to himself.,\n",
       "\u001b[2;32m│   \u001b[0m\u001b[32m\"Near the lake, eh?\"\u001b[0m mused Tom as he started off, after thanking the old fellow.,\n",
       "\u001b[2;32m│   \u001b[0m\u001b[32m\"He's hungry right enough,\"\u001b[0m mused Tom.,\n",
       "\u001b[2;32m│   \u001b[0m\u001b[32m\"You've missed it!\"\u001b[0m said Tom grimly as the machine started, and quickly the cottage and the bulldog were left behind.,\n",
       "\u001b[2;32m│   \u001b[0m\u001b[32m\"But how does it happen that you are trusting yourself in a car like this?\"\u001b[0m asked Tom.,\n",
       "\u001b[2;32m│   \u001b[0m\u001b[32m\"I hardly think he is there,\"\u001b[0m said Tom.  ,\n",
       "\u001b[2;32m│   \u001b[0m\u001b[32m\"It's Happy Harry!\"\u001b[0m said Tom.,\n",
       "\u001b[2;32m│   \u001b[0m\u001b[32m\"Well,\"\u001b[0m remarked Mr. Swift to Tom, a few nights after the recovery of the model, \"your motor-cycle certainly did us good service.\n",
       "\u001b[1m]\u001b[0m\n"
      ]
     },
     "metadata": {},
     "output_type": "display_data"
    }
   ],
   "source": [
    "candidates = []\n",
    "\n",
    "\n",
    "for idx, s in enumerate(doc.sents):\n",
    "    qualifies = False\n",
    "\n",
    "    if s.text.startswith('\"'):\n",
    "        # TODO the Span class has a .root property pointing to the root token\n",
    "\n",
    "        # TODO if any(target_element in tup for tup in list_of_tuples):\n",
    "        for ne in s.ents:\n",
    "            if \"Tom\" in ne.text:\n",
    "                # print(f\"[{s.start}-{s.end}] {s}\", soft_wrap=True)\n",
    "                qualifies = True\n",
    "                continue\n",
    "\n",
    "    if qualifies:\n",
    "        # Now search for a speech verb which is the root of the dependency parse\n",
    "        for token in doc[s.start : s.end]:\n",
    "            # pprint(token, expand_all=True)\n",
    "\n",
    "            if (\n",
    "                token.pos_ == \"VERB\"\n",
    "                and token.tag_ == \"VBD\"  # should be past tense\n",
    "                and token.dep_ == \"ROOT\"  # must be root\n",
    "                and token.text in speech_verbs\n",
    "            ):\n",
    "                # sentence qualifies; add it and move on to the next sent\n",
    "                candidates.append(s)\n",
    "                continue\n",
    "\n",
    "print(len(candidates))\n",
    "pprint(candidates)"
   ]
  },
  {
   "cell_type": "markdown",
   "id": "4b898262-d328-4a74-ba3b-8351fcf43317",
   "metadata": {},
   "source": [
    "99 candidates! Not a bad list, but it's clear as we restrict our list more tightly, that number is likely to go way down.\n",
    "\n",
    "So then, let's finally return candidate sentences which have that adverb modifying the root speech verb which we've mentioned a few times already."
   ]
  },
  {
   "cell_type": "code",
   "execution_count": 34,
   "id": "4d5c6b2a-53ae-4b47-855b-90dc2a95dfe9",
   "metadata": {},
   "outputs": [
    {
     "data": {
      "text/html": [
       "<pre style=\"white-space:pre;overflow-x:auto;line-height:normal;font-family:Menlo,'DejaVu Sans Mono',consolas,'Courier New',monospace\">--------<span style=\"color: #008080; text-decoration-color: #008080; font-weight: bold\">-542</span> is a candidate---------\n",
       "</pre>\n"
      ],
      "text/plain": [
       "--------\u001b[1;36m-542\u001b[0m is a candidate---------\n"
      ]
     },
     "metadata": {},
     "output_type": "display_data"
    },
    {
     "data": {
      "text/html": [
       "<pre style=\"white-space:pre;overflow-x:auto;line-height:normal;font-family:Menlo,'DejaVu Sans Mono',consolas,'Courier New',monospace\">Tom earnestly\n",
       "</pre>\n"
      ],
      "text/plain": [
       "Tom earnestly\n"
      ]
     },
     "metadata": {},
     "output_type": "display_data"
    },
    {
     "data": {
      "text/html": [
       "<pre style=\"white-space:pre;overflow-x:auto;line-height:normal;font-family:Menlo,'DejaVu Sans Mono',consolas,'Courier New',monospace\"><span style=\"color: #008000; text-decoration-color: #008000\">\"Father,\"</span> said Tom earnestly, <span style=\"color: #008000; text-decoration-color: #008000\">\"may I buy that machine off him?\"</span>  \n",
       "</pre>\n"
      ],
      "text/plain": [
       "\u001b[32m\"Father,\"\u001b[0m said Tom earnestly, \u001b[32m\"may I buy that machine off him?\"\u001b[0m  \n"
      ]
     },
     "metadata": {},
     "output_type": "display_data"
    },
    {
     "data": {
      "text/html": [
       "<pre style=\"white-space:pre;overflow-x:auto;line-height:normal;font-family:Menlo,'DejaVu Sans Mono',consolas,'Courier New',monospace\">--------<span style=\"color: #008080; text-decoration-color: #008080; font-weight: bold\">-566</span> is a candidate---------\n",
       "</pre>\n"
      ],
      "text/plain": [
       "--------\u001b[1;36m-566\u001b[0m is a candidate---------\n"
      ]
     },
     "metadata": {},
     "output_type": "display_data"
    },
    {
     "data": {
      "text/html": [
       "<pre style=\"white-space:pre;overflow-x:auto;line-height:normal;font-family:Menlo,'DejaVu Sans Mono',consolas,'Courier New',monospace\">Tom quickly\n",
       "</pre>\n"
      ],
      "text/plain": [
       "Tom quickly\n"
      ]
     },
     "metadata": {},
     "output_type": "display_data"
    },
    {
     "data": {
      "text/html": [
       "<pre style=\"white-space:pre;overflow-x:auto;line-height:normal;font-family:Menlo,'DejaVu Sans Mono',consolas,'Courier New',monospace\"><span style=\"color: #008000; text-decoration-color: #008000\">\"Mr. Damon,\"</span> said Tom quickly, <span style=\"color: #008000; text-decoration-color: #008000\">\"will you sell me that motor-cycle?\"</span>  \n",
       "</pre>\n"
      ],
      "text/plain": [
       "\u001b[32m\"Mr. Damon,\"\u001b[0m said Tom quickly, \u001b[32m\"will you sell me that motor-cycle?\"\u001b[0m  \n"
      ]
     },
     "metadata": {},
     "output_type": "display_data"
    },
    {
     "data": {
      "text/html": [
       "<pre style=\"white-space:pre;overflow-x:auto;line-height:normal;font-family:Menlo,'DejaVu Sans Mono',consolas,'Courier New',monospace\">--------<span style=\"color: #008080; text-decoration-color: #008080; font-weight: bold\">-576</span> is a candidate---------\n",
       "</pre>\n"
      ],
      "text/plain": [
       "--------\u001b[1;36m-576\u001b[0m is a candidate---------\n"
      ]
     },
     "metadata": {},
     "output_type": "display_data"
    },
    {
     "data": {
      "text/html": [
       "<pre style=\"white-space:pre;overflow-x:auto;line-height:normal;font-family:Menlo,'DejaVu Sans Mono',consolas,'Courier New',monospace\">Tom quickly\n",
       "</pre>\n"
      ],
      "text/plain": [
       "Tom quickly\n"
      ]
     },
     "metadata": {},
     "output_type": "display_data"
    },
    {
     "data": {
      "text/html": [
       "<pre style=\"white-space:pre;overflow-x:auto;line-height:normal;font-family:Menlo,'DejaVu Sans Mono',consolas,'Courier New',monospace\"><span style=\"color: #008000; text-decoration-color: #008000\">\"I'll give you fifty dollars,\"</span> said Tom quickly, and Mr. Damon exclaimed:  \n",
       "</pre>\n"
      ],
      "text/plain": [
       "\u001b[32m\"I'll give you fifty dollars,\"\u001b[0m said Tom quickly, and Mr. Damon exclaimed:  \n"
      ]
     },
     "metadata": {},
     "output_type": "display_data"
    },
    {
     "data": {
      "text/html": [
       "<pre style=\"white-space:pre;overflow-x:auto;line-height:normal;font-family:Menlo,'DejaVu Sans Mono',consolas,'Courier New',monospace\">--------<span style=\"color: #008080; text-decoration-color: #008080; font-weight: bold\">-658</span> is a candidate---------\n",
       "</pre>\n"
      ],
      "text/plain": [
       "--------\u001b[1;36m-658\u001b[0m is a candidate---------\n"
      ]
     },
     "metadata": {},
     "output_type": "display_data"
    },
    {
     "data": {
      "text/html": [
       "<pre style=\"white-space:pre;overflow-x:auto;line-height:normal;font-family:Menlo,'DejaVu Sans Mono',consolas,'Courier New',monospace\">Tom eagerly\n",
       "</pre>\n"
      ],
      "text/plain": [
       "Tom eagerly\n"
      ]
     },
     "metadata": {},
     "output_type": "display_data"
    },
    {
     "data": {
      "text/html": [
       "<pre style=\"white-space:pre;overflow-x:auto;line-height:normal;font-family:Menlo,'DejaVu Sans Mono',consolas,'Courier New',monospace\"><span style=\"color: #008000; text-decoration-color: #008000\">\"The man lost this from his pocket, dad,\"</span> said Tom eagerly.\n",
       "</pre>\n"
      ],
      "text/plain": [
       "\u001b[32m\"The man lost this from his pocket, dad,\"\u001b[0m said Tom eagerly.\n"
      ]
     },
     "metadata": {},
     "output_type": "display_data"
    },
    {
     "data": {
      "text/html": [
       "<pre style=\"white-space:pre;overflow-x:auto;line-height:normal;font-family:Menlo,'DejaVu Sans Mono',consolas,'Courier New',monospace\">--------<span style=\"color: #008080; text-decoration-color: #008080; font-weight: bold\">-1049</span> is a candidate---------\n",
       "</pre>\n"
      ],
      "text/plain": [
       "--------\u001b[1;36m-1049\u001b[0m is a candidate---------\n"
      ]
     },
     "metadata": {},
     "output_type": "display_data"
    },
    {
     "data": {
      "text/html": [
       "<pre style=\"white-space:pre;overflow-x:auto;line-height:normal;font-family:Menlo,'DejaVu Sans Mono',consolas,'Courier New',monospace\">Tom There\n",
       "</pre>\n"
      ],
      "text/plain": [
       "Tom There\n"
      ]
     },
     "metadata": {},
     "output_type": "display_data"
    },
    {
     "data": {
      "text/html": [
       "<pre style=\"white-space:pre;overflow-x:auto;line-height:normal;font-family:Menlo,'DejaVu Sans Mono',consolas,'Courier New',monospace\"><span style=\"color: #008000; text-decoration-color: #008000\">\"There,\"</span> said Tom at length, as he tightened the nut.\n",
       "</pre>\n"
      ],
      "text/plain": [
       "\u001b[32m\"There,\"\u001b[0m said Tom at length, as he tightened the nut.\n"
      ]
     },
     "metadata": {},
     "output_type": "display_data"
    },
    {
     "data": {
      "text/html": [
       "<pre style=\"white-space:pre;overflow-x:auto;line-height:normal;font-family:Menlo,'DejaVu Sans Mono',consolas,'Courier New',monospace\">--------<span style=\"color: #008080; text-decoration-color: #008080; font-weight: bold\">-1233</span> is a candidate---------\n",
       "</pre>\n"
      ],
      "text/plain": [
       "--------\u001b[1;36m-1233\u001b[0m is a candidate---------\n"
      ]
     },
     "metadata": {},
     "output_type": "display_data"
    },
    {
     "data": {
      "text/html": [
       "<pre style=\"white-space:pre;overflow-x:auto;line-height:normal;font-family:Menlo,'DejaVu Sans Mono',consolas,'Courier New',monospace\">Tom eagerly\n",
       "</pre>\n"
      ],
      "text/plain": [
       "Tom eagerly\n"
      ]
     },
     "metadata": {},
     "output_type": "display_data"
    },
    {
     "data": {
      "text/html": [
       "<pre style=\"white-space:pre;overflow-x:auto;line-height:normal;font-family:Menlo,'DejaVu Sans Mono',consolas,'Courier New',monospace\"><span style=\"color: #008000; text-decoration-color: #008000\">\"Why, he's one of the three men I saw in Mansburg in the restaurant,\"</span> said Tom eagerly.\n",
       "</pre>\n"
      ],
      "text/plain": [
       "\u001b[32m\"Why, he's one of the three men I saw in Mansburg in the restaurant,\"\u001b[0m said Tom eagerly.\n"
      ]
     },
     "metadata": {},
     "output_type": "display_data"
    },
    {
     "data": {
      "text/html": [
       "<pre style=\"white-space:pre;overflow-x:auto;line-height:normal;font-family:Menlo,'DejaVu Sans Mono',consolas,'Courier New',monospace\">--------<span style=\"color: #008080; text-decoration-color: #008080; font-weight: bold\">-1964</span> is a candidate---------\n",
       "</pre>\n"
      ],
      "text/plain": [
       "--------\u001b[1;36m-1964\u001b[0m is a candidate---------\n"
      ]
     },
     "metadata": {},
     "output_type": "display_data"
    },
    {
     "data": {
      "text/html": [
       "<pre style=\"white-space:pre;overflow-x:auto;line-height:normal;font-family:Menlo,'DejaVu Sans Mono',consolas,'Courier New',monospace\">Tom quickly\n",
       "</pre>\n"
      ],
      "text/plain": [
       "Tom quickly\n"
      ]
     },
     "metadata": {},
     "output_type": "display_data"
    },
    {
     "data": {
      "text/html": [
       "<pre style=\"white-space:pre;overflow-x:auto;line-height:normal;font-family:Menlo,'DejaVu Sans Mono',consolas,'Courier New',monospace\"><span style=\"color: #008000; text-decoration-color: #008000\">\"I'll give you a look at me without waiting for the lantern,\"</span> said Tom quickly, and he struck a match, holding it \n",
       "so that the gleam fell upon his face.  \n",
       "</pre>\n"
      ],
      "text/plain": [
       "\u001b[32m\"I'll give you a look at me without waiting for the lantern,\"\u001b[0m said Tom quickly, and he struck a match, holding it \n",
       "so that the gleam fell upon his face.  \n"
      ]
     },
     "metadata": {},
     "output_type": "display_data"
    },
    {
     "data": {
      "text/html": [
       "<pre style=\"white-space:pre;overflow-x:auto;line-height:normal;font-family:Menlo,'DejaVu Sans Mono',consolas,'Courier New',monospace\">--------<span style=\"color: #008080; text-decoration-color: #008080; font-weight: bold\">-1975</span> is a candidate---------\n",
       "</pre>\n"
      ],
      "text/plain": [
       "--------\u001b[1;36m-1975\u001b[0m is a candidate---------\n"
      ]
     },
     "metadata": {},
     "output_type": "display_data"
    },
    {
     "data": {
      "text/html": [
       "<pre style=\"white-space:pre;overflow-x:auto;line-height:normal;font-family:Menlo,'DejaVu Sans Mono',consolas,'Courier New',monospace\">Tom far\n",
       "</pre>\n"
      ],
      "text/plain": [
       "Tom far\n"
      ]
     },
     "metadata": {},
     "output_type": "display_data"
    },
    {
     "data": {
      "text/html": [
       "<pre style=\"white-space:pre;overflow-x:auto;line-height:normal;font-family:Menlo,'DejaVu Sans Mono',consolas,'Courier New',monospace\"><span style=\"color: #008000; text-decoration-color: #008000\">\"As far as that?\"</span> cried Tom.\n",
       "</pre>\n"
      ],
      "text/plain": [
       "\u001b[32m\"As far as that?\"\u001b[0m cried Tom.\n"
      ]
     },
     "metadata": {},
     "output_type": "display_data"
    },
    {
     "data": {
      "text/html": [
       "<pre style=\"white-space:pre;overflow-x:auto;line-height:normal;font-family:Menlo,'DejaVu Sans Mono',consolas,'Courier New',monospace\">--------<span style=\"color: #008080; text-decoration-color: #008080; font-weight: bold\">-2278</span> is a candidate---------\n",
       "</pre>\n"
      ],
      "text/plain": [
       "--------\u001b[1;36m-2278\u001b[0m is a candidate---------\n"
      ]
     },
     "metadata": {},
     "output_type": "display_data"
    },
    {
     "data": {
      "text/html": [
       "<pre style=\"white-space:pre;overflow-x:auto;line-height:normal;font-family:Menlo,'DejaVu Sans Mono',consolas,'Courier New',monospace\">Tom likely\n",
       "</pre>\n"
      ],
      "text/plain": [
       "Tom likely\n"
      ]
     },
     "metadata": {},
     "output_type": "display_data"
    },
    {
     "data": {
      "text/html": [
       "<pre style=\"white-space:pre;overflow-x:auto;line-height:normal;font-family:Menlo,'DejaVu Sans Mono',consolas,'Courier New',monospace\"><span style=\"color: #008000; text-decoration-color: #008000\">\"Very likely not,\"</span> agreed Tom, \"but I will keep my eyes open, just the same.\n",
       "</pre>\n"
      ],
      "text/plain": [
       "\u001b[32m\"Very likely not,\"\u001b[0m agreed Tom, \"but I will keep my eyes open, just the same.\n"
      ]
     },
     "metadata": {},
     "output_type": "display_data"
    },
    {
     "data": {
      "text/html": [
       "<pre style=\"white-space:pre;overflow-x:auto;line-height:normal;font-family:Menlo,'DejaVu Sans Mono',consolas,'Courier New',monospace\">--------<span style=\"color: #008080; text-decoration-color: #008080; font-weight: bold\">-3100</span> is a candidate---------\n",
       "</pre>\n"
      ],
      "text/plain": [
       "--------\u001b[1;36m-3100\u001b[0m is a candidate---------\n"
      ]
     },
     "metadata": {},
     "output_type": "display_data"
    },
    {
     "data": {
      "text/html": [
       "<pre style=\"white-space:pre;overflow-x:auto;line-height:normal;font-family:Menlo,'DejaVu Sans Mono',consolas,'Courier New',monospace\">Tom grimly\n",
       "</pre>\n"
      ],
      "text/plain": [
       "Tom grimly\n"
      ]
     },
     "metadata": {},
     "output_type": "display_data"
    },
    {
     "data": {
      "text/html": [
       "<pre style=\"white-space:pre;overflow-x:auto;line-height:normal;font-family:Menlo,'DejaVu Sans Mono',consolas,'Courier New',monospace\"><span style=\"color: #008000; text-decoration-color: #008000\">\"You've missed it!\"</span> said Tom grimly as the machine started, and quickly the cottage and the bulldog were left \n",
       "behind.\n",
       "</pre>\n"
      ],
      "text/plain": [
       "\u001b[32m\"You've missed it!\"\u001b[0m said Tom grimly as the machine started, and quickly the cottage and the bulldog were left \n",
       "behind.\n"
      ]
     },
     "metadata": {},
     "output_type": "display_data"
    }
   ],
   "source": [
    "for i, s in enumerate(doc.sents):\n",
    "    if s.text.startswith('\"'):\n",
    "        root_token = s.root\n",
    "\n",
    "        if (\n",
    "            root_token.pos_ == \"VERB\"\n",
    "            and root_token.tag_ == \"VBD\"\n",
    "            and root_token.text in speech_verbs\n",
    "        ):\n",
    "            subj, adv = None, None\n",
    "            for k, child in enumerate(root_token.children):\n",
    "                # Does the root have a subj and is that subj Tom?\n",
    "                if (\n",
    "                    child.dep_ == \"nsubj\"\n",
    "                    and child.pos_ == \"PROPN\"\n",
    "                    and child.text == \"Tom\"\n",
    "                ):\n",
    "                    # tag_ is NNP\n",
    "                    subj = child\n",
    "\n",
    "                # Furthermore, Does the root have a child adverbial?\n",
    "                if child.dep_ == \"advmod\":\n",
    "                    adv = child\n",
    "\n",
    "            if subj and adv:\n",
    "                print(f\"---------{i} is a candidate---------\")\n",
    "                print(subj, adv)\n",
    "                print(s)"
   ]
  },
  {
   "cell_type": "markdown",
   "id": "32f9f7aa-a5d6-4b40-acab-d1b8e3d8e2cb",
   "metadata": {},
   "source": [
    "I find it hard to believe that there's only 10 instances in the whole book. Maybe we should note the above findings regarding `compound` and check those. Noticeably, a sentence which should qualify from our Great List of 99 above is missing from our list of candidates:\n",
    "\n",
    "> \"Oh, it's just a knack,\" replied Tom modestly.\n",
    "\n",
    "Why?\n",
    "\n",
    "Let's parse out this exact sentence from scratch and maybe we will find a clue leading us to the villian of the story!"
   ]
  },
  {
   "cell_type": "code",
   "execution_count": 35,
   "id": "7d7d216a-a715-4606-a4ed-5f6027304c0f",
   "metadata": {},
   "outputs": [
    {
     "data": {
      "text/html": [
       "<pre style=\"white-space:pre;overflow-x:auto;line-height:normal;font-family:Menlo,'DejaVu Sans Mono',consolas,'Courier New',monospace\"><span style=\"color: #008000; text-decoration-color: #008000\">\"Oh, it's just a knack,\"</span> replied Tom modestly.\n",
       "</pre>\n"
      ],
      "text/plain": [
       "\u001b[32m\"Oh, it's just a knack,\"\u001b[0m replied Tom modestly.\n"
      ]
     },
     "metadata": {},
     "output_type": "display_data"
    },
    {
     "data": {
      "text/html": [
       "<pre style=\"white-space:pre;overflow-x:auto;line-height:normal;font-family:Menlo,'DejaVu Sans Mono',consolas,'Courier New',monospace\"></pre>\n"
      ],
      "text/plain": []
     },
     "metadata": {},
     "output_type": "display_data"
    },
    {
     "data": {
      "text/html": [
       "<span class=\"tex2jax_ignore\"><svg xmlns=\"http://www.w3.org/2000/svg\" xmlns:xlink=\"http://www.w3.org/1999/xlink\" xml:lang=\"en\" id=\"348e1a3ca6d142a7beaddab694ed2606-0\" class=\"displacy\" width=\"1800\" height=\"574.5\" direction=\"ltr\" style=\"max-width: none; height: 574.5px; color: #000000; background: #ffffff; font-family: Arial; direction: ltr\">\n",
       "<text class=\"displacy-token\" fill=\"currentColor\" text-anchor=\"middle\" y=\"484.5\">\n",
       "    <tspan class=\"displacy-word\" fill=\"currentColor\" x=\"50\">&quot;</tspan>\n",
       "    <tspan class=\"displacy-tag\" dy=\"2em\" fill=\"currentColor\" x=\"50\">PUNCT</tspan>\n",
       "</text>\n",
       "\n",
       "<text class=\"displacy-token\" fill=\"currentColor\" text-anchor=\"middle\" y=\"484.5\">\n",
       "    <tspan class=\"displacy-word\" fill=\"currentColor\" x=\"225\">Oh,</tspan>\n",
       "    <tspan class=\"displacy-tag\" dy=\"2em\" fill=\"currentColor\" x=\"225\">INTJ</tspan>\n",
       "</text>\n",
       "\n",
       "<text class=\"displacy-token\" fill=\"currentColor\" text-anchor=\"middle\" y=\"484.5\">\n",
       "    <tspan class=\"displacy-word\" fill=\"currentColor\" x=\"400\">it</tspan>\n",
       "    <tspan class=\"displacy-tag\" dy=\"2em\" fill=\"currentColor\" x=\"400\">PRON</tspan>\n",
       "</text>\n",
       "\n",
       "<text class=\"displacy-token\" fill=\"currentColor\" text-anchor=\"middle\" y=\"484.5\">\n",
       "    <tspan class=\"displacy-word\" fill=\"currentColor\" x=\"575\">'s</tspan>\n",
       "    <tspan class=\"displacy-tag\" dy=\"2em\" fill=\"currentColor\" x=\"575\">AUX</tspan>\n",
       "</text>\n",
       "\n",
       "<text class=\"displacy-token\" fill=\"currentColor\" text-anchor=\"middle\" y=\"484.5\">\n",
       "    <tspan class=\"displacy-word\" fill=\"currentColor\" x=\"750\">just</tspan>\n",
       "    <tspan class=\"displacy-tag\" dy=\"2em\" fill=\"currentColor\" x=\"750\">ADV</tspan>\n",
       "</text>\n",
       "\n",
       "<text class=\"displacy-token\" fill=\"currentColor\" text-anchor=\"middle\" y=\"484.5\">\n",
       "    <tspan class=\"displacy-word\" fill=\"currentColor\" x=\"925\">a</tspan>\n",
       "    <tspan class=\"displacy-tag\" dy=\"2em\" fill=\"currentColor\" x=\"925\">DET</tspan>\n",
       "</text>\n",
       "\n",
       "<text class=\"displacy-token\" fill=\"currentColor\" text-anchor=\"middle\" y=\"484.5\">\n",
       "    <tspan class=\"displacy-word\" fill=\"currentColor\" x=\"1100\">knack,&quot;</tspan>\n",
       "    <tspan class=\"displacy-tag\" dy=\"2em\" fill=\"currentColor\" x=\"1100\">NOUN</tspan>\n",
       "</text>\n",
       "\n",
       "<text class=\"displacy-token\" fill=\"currentColor\" text-anchor=\"middle\" y=\"484.5\">\n",
       "    <tspan class=\"displacy-word\" fill=\"currentColor\" x=\"1275\">replied</tspan>\n",
       "    <tspan class=\"displacy-tag\" dy=\"2em\" fill=\"currentColor\" x=\"1275\">VERB</tspan>\n",
       "</text>\n",
       "\n",
       "<text class=\"displacy-token\" fill=\"currentColor\" text-anchor=\"middle\" y=\"484.5\">\n",
       "    <tspan class=\"displacy-word\" fill=\"currentColor\" x=\"1450\">Tom</tspan>\n",
       "    <tspan class=\"displacy-tag\" dy=\"2em\" fill=\"currentColor\" x=\"1450\">PROPN</tspan>\n",
       "</text>\n",
       "\n",
       "<text class=\"displacy-token\" fill=\"currentColor\" text-anchor=\"middle\" y=\"484.5\">\n",
       "    <tspan class=\"displacy-word\" fill=\"currentColor\" x=\"1625\">modestly.</tspan>\n",
       "    <tspan class=\"displacy-tag\" dy=\"2em\" fill=\"currentColor\" x=\"1625\">ADV</tspan>\n",
       "</text>\n",
       "\n",
       "<g class=\"displacy-arrow\">\n",
       "    <path class=\"displacy-arc\" id=\"arrow-348e1a3ca6d142a7beaddab694ed2606-0-0\" stroke-width=\"2px\" d=\"M70,439.5 C70,2.0 1275.0,2.0 1275.0,439.5\" fill=\"none\" stroke=\"currentColor\"/>\n",
       "    <text dy=\"1.25em\" style=\"font-size: 0.8em; letter-spacing: 1px\">\n",
       "        <textPath xlink:href=\"#arrow-348e1a3ca6d142a7beaddab694ed2606-0-0\" class=\"displacy-label\" startOffset=\"50%\" side=\"left\" fill=\"currentColor\" text-anchor=\"middle\">punct</textPath>\n",
       "    </text>\n",
       "    <path class=\"displacy-arrowhead\" d=\"M70,441.5 L62,429.5 78,429.5\" fill=\"currentColor\"/>\n",
       "</g>\n",
       "\n",
       "<g class=\"displacy-arrow\">\n",
       "    <path class=\"displacy-arc\" id=\"arrow-348e1a3ca6d142a7beaddab694ed2606-0-1\" stroke-width=\"2px\" d=\"M245,439.5 C245,264.5 560.0,264.5 560.0,439.5\" fill=\"none\" stroke=\"currentColor\"/>\n",
       "    <text dy=\"1.25em\" style=\"font-size: 0.8em; letter-spacing: 1px\">\n",
       "        <textPath xlink:href=\"#arrow-348e1a3ca6d142a7beaddab694ed2606-0-1\" class=\"displacy-label\" startOffset=\"50%\" side=\"left\" fill=\"currentColor\" text-anchor=\"middle\">intj</textPath>\n",
       "    </text>\n",
       "    <path class=\"displacy-arrowhead\" d=\"M245,441.5 L237,429.5 253,429.5\" fill=\"currentColor\"/>\n",
       "</g>\n",
       "\n",
       "<g class=\"displacy-arrow\">\n",
       "    <path class=\"displacy-arc\" id=\"arrow-348e1a3ca6d142a7beaddab694ed2606-0-2\" stroke-width=\"2px\" d=\"M420,439.5 C420,352.0 555.0,352.0 555.0,439.5\" fill=\"none\" stroke=\"currentColor\"/>\n",
       "    <text dy=\"1.25em\" style=\"font-size: 0.8em; letter-spacing: 1px\">\n",
       "        <textPath xlink:href=\"#arrow-348e1a3ca6d142a7beaddab694ed2606-0-2\" class=\"displacy-label\" startOffset=\"50%\" side=\"left\" fill=\"currentColor\" text-anchor=\"middle\">nsubj</textPath>\n",
       "    </text>\n",
       "    <path class=\"displacy-arrowhead\" d=\"M420,441.5 L412,429.5 428,429.5\" fill=\"currentColor\"/>\n",
       "</g>\n",
       "\n",
       "<g class=\"displacy-arrow\">\n",
       "    <path class=\"displacy-arc\" id=\"arrow-348e1a3ca6d142a7beaddab694ed2606-0-3\" stroke-width=\"2px\" d=\"M595,439.5 C595,89.5 1270.0,89.5 1270.0,439.5\" fill=\"none\" stroke=\"currentColor\"/>\n",
       "    <text dy=\"1.25em\" style=\"font-size: 0.8em; letter-spacing: 1px\">\n",
       "        <textPath xlink:href=\"#arrow-348e1a3ca6d142a7beaddab694ed2606-0-3\" class=\"displacy-label\" startOffset=\"50%\" side=\"left\" fill=\"currentColor\" text-anchor=\"middle\">ccomp</textPath>\n",
       "    </text>\n",
       "    <path class=\"displacy-arrowhead\" d=\"M595,441.5 L587,429.5 603,429.5\" fill=\"currentColor\"/>\n",
       "</g>\n",
       "\n",
       "<g class=\"displacy-arrow\">\n",
       "    <path class=\"displacy-arc\" id=\"arrow-348e1a3ca6d142a7beaddab694ed2606-0-4\" stroke-width=\"2px\" d=\"M770,439.5 C770,264.5 1085.0,264.5 1085.0,439.5\" fill=\"none\" stroke=\"currentColor\"/>\n",
       "    <text dy=\"1.25em\" style=\"font-size: 0.8em; letter-spacing: 1px\">\n",
       "        <textPath xlink:href=\"#arrow-348e1a3ca6d142a7beaddab694ed2606-0-4\" class=\"displacy-label\" startOffset=\"50%\" side=\"left\" fill=\"currentColor\" text-anchor=\"middle\">advmod</textPath>\n",
       "    </text>\n",
       "    <path class=\"displacy-arrowhead\" d=\"M770,441.5 L762,429.5 778,429.5\" fill=\"currentColor\"/>\n",
       "</g>\n",
       "\n",
       "<g class=\"displacy-arrow\">\n",
       "    <path class=\"displacy-arc\" id=\"arrow-348e1a3ca6d142a7beaddab694ed2606-0-5\" stroke-width=\"2px\" d=\"M945,439.5 C945,352.0 1080.0,352.0 1080.0,439.5\" fill=\"none\" stroke=\"currentColor\"/>\n",
       "    <text dy=\"1.25em\" style=\"font-size: 0.8em; letter-spacing: 1px\">\n",
       "        <textPath xlink:href=\"#arrow-348e1a3ca6d142a7beaddab694ed2606-0-5\" class=\"displacy-label\" startOffset=\"50%\" side=\"left\" fill=\"currentColor\" text-anchor=\"middle\">det</textPath>\n",
       "    </text>\n",
       "    <path class=\"displacy-arrowhead\" d=\"M945,441.5 L937,429.5 953,429.5\" fill=\"currentColor\"/>\n",
       "</g>\n",
       "\n",
       "<g class=\"displacy-arrow\">\n",
       "    <path class=\"displacy-arc\" id=\"arrow-348e1a3ca6d142a7beaddab694ed2606-0-6\" stroke-width=\"2px\" d=\"M595,439.5 C595,177.0 1090.0,177.0 1090.0,439.5\" fill=\"none\" stroke=\"currentColor\"/>\n",
       "    <text dy=\"1.25em\" style=\"font-size: 0.8em; letter-spacing: 1px\">\n",
       "        <textPath xlink:href=\"#arrow-348e1a3ca6d142a7beaddab694ed2606-0-6\" class=\"displacy-label\" startOffset=\"50%\" side=\"left\" fill=\"currentColor\" text-anchor=\"middle\">attr</textPath>\n",
       "    </text>\n",
       "    <path class=\"displacy-arrowhead\" d=\"M1090.0,441.5 L1098.0,429.5 1082.0,429.5\" fill=\"currentColor\"/>\n",
       "</g>\n",
       "\n",
       "<g class=\"displacy-arrow\">\n",
       "    <path class=\"displacy-arc\" id=\"arrow-348e1a3ca6d142a7beaddab694ed2606-0-7\" stroke-width=\"2px\" d=\"M1295,439.5 C1295,352.0 1430.0,352.0 1430.0,439.5\" fill=\"none\" stroke=\"currentColor\"/>\n",
       "    <text dy=\"1.25em\" style=\"font-size: 0.8em; letter-spacing: 1px\">\n",
       "        <textPath xlink:href=\"#arrow-348e1a3ca6d142a7beaddab694ed2606-0-7\" class=\"displacy-label\" startOffset=\"50%\" side=\"left\" fill=\"currentColor\" text-anchor=\"middle\">npadvmod</textPath>\n",
       "    </text>\n",
       "    <path class=\"displacy-arrowhead\" d=\"M1430.0,441.5 L1438.0,429.5 1422.0,429.5\" fill=\"currentColor\"/>\n",
       "</g>\n",
       "\n",
       "<g class=\"displacy-arrow\">\n",
       "    <path class=\"displacy-arc\" id=\"arrow-348e1a3ca6d142a7beaddab694ed2606-0-8\" stroke-width=\"2px\" d=\"M1295,439.5 C1295,264.5 1610.0,264.5 1610.0,439.5\" fill=\"none\" stroke=\"currentColor\"/>\n",
       "    <text dy=\"1.25em\" style=\"font-size: 0.8em; letter-spacing: 1px\">\n",
       "        <textPath xlink:href=\"#arrow-348e1a3ca6d142a7beaddab694ed2606-0-8\" class=\"displacy-label\" startOffset=\"50%\" side=\"left\" fill=\"currentColor\" text-anchor=\"middle\">advmod</textPath>\n",
       "    </text>\n",
       "    <path class=\"displacy-arrowhead\" d=\"M1610.0,441.5 L1618.0,429.5 1602.0,429.5\" fill=\"currentColor\"/>\n",
       "</g>\n",
       "</svg></span>"
      ],
      "text/plain": [
       "\u001b[1m<\u001b[0m\u001b[1;95mIPython.core.display.HTML\u001b[0m\u001b[39m object\u001b[0m\u001b[1m>\u001b[0m"
      ]
     },
     "metadata": {},
     "output_type": "display_data"
    }
   ],
   "source": [
    "doc2: Doc = nlp('\"Oh, it\\'s just a knack,\" replied Tom modestly.')\n",
    "\n",
    "# raw text\n",
    "print(doc2)\n",
    "displacy.render(doc2, style=\"dep\")"
   ]
  },
  {
   "cell_type": "markdown",
   "id": "4fa8afcd-db4c-48f1-837e-edf27415f421",
   "metadata": {},
   "source": [
    "Oh, it thinks Tom is npadvmod, a \"noun phrase as adverbial modifier\"...ummmm...what are the POS tags, though?"
   ]
  },
  {
   "cell_type": "code",
   "execution_count": 37,
   "id": "39da0d40-b9c6-42bb-8ec8-bc7d5b60ef13",
   "metadata": {},
   "outputs": [
    {
     "data": {
      "text/html": [
       "<pre style=\"white-space:pre;overflow-x:auto;line-height:normal;font-family:Menlo,'DejaVu Sans Mono',consolas,'Courier New',monospace\"><span style=\"font-weight: bold\">{</span>\n",
       "    <span style=\"color: #008000; text-decoration-color: #008000\">'text'</span>: <span style=\"color: #008000; text-decoration-color: #008000\">'\"Oh, it\\'s just a knack,\" replied Tom modestly.'</span>,\n",
       "    <span style=\"color: #008000; text-decoration-color: #008000\">'ents'</span>: <span style=\"font-weight: bold\">[{</span><span style=\"color: #008000; text-decoration-color: #008000\">'start'</span>: <span style=\"color: #008080; text-decoration-color: #008080; font-weight: bold\">33</span>, <span style=\"color: #008000; text-decoration-color: #008000\">'end'</span>: <span style=\"color: #008080; text-decoration-color: #008080; font-weight: bold\">36</span>, <span style=\"color: #008000; text-decoration-color: #008000\">'label'</span>: <span style=\"color: #008000; text-decoration-color: #008000\">'PERSON'</span><span style=\"font-weight: bold\">}]</span>,\n",
       "    <span style=\"color: #008000; text-decoration-color: #008000\">'sents'</span>: <span style=\"font-weight: bold\">[{</span><span style=\"color: #008000; text-decoration-color: #008000\">'start'</span>: <span style=\"color: #008080; text-decoration-color: #008080; font-weight: bold\">0</span>, <span style=\"color: #008000; text-decoration-color: #008000\">'end'</span>: <span style=\"color: #008080; text-decoration-color: #008080; font-weight: bold\">46</span><span style=\"font-weight: bold\">}]</span>,\n",
       "    <span style=\"color: #008000; text-decoration-color: #008000\">'tokens'</span>: <span style=\"font-weight: bold\">[</span>\n",
       "        <span style=\"font-weight: bold\">{</span>\n",
       "            <span style=\"color: #008000; text-decoration-color: #008000\">'id'</span>: <span style=\"color: #008080; text-decoration-color: #008080; font-weight: bold\">0</span>,\n",
       "            <span style=\"color: #008000; text-decoration-color: #008000\">'start'</span>: <span style=\"color: #008080; text-decoration-color: #008080; font-weight: bold\">0</span>,\n",
       "            <span style=\"color: #008000; text-decoration-color: #008000\">'end'</span>: <span style=\"color: #008080; text-decoration-color: #008080; font-weight: bold\">1</span>,\n",
       "            <span style=\"color: #008000; text-decoration-color: #008000\">'tag'</span>: <span style=\"color: #008000; text-decoration-color: #008000\">'``'</span>,\n",
       "            <span style=\"color: #008000; text-decoration-color: #008000\">'pos'</span>: <span style=\"color: #008000; text-decoration-color: #008000\">'PUNCT'</span>,\n",
       "            <span style=\"color: #008000; text-decoration-color: #008000\">'morph'</span>: <span style=\"color: #008000; text-decoration-color: #008000\">'PunctSide=Ini|PunctType=Quot'</span>,\n",
       "            <span style=\"color: #008000; text-decoration-color: #008000\">'lemma'</span>: <span style=\"color: #008000; text-decoration-color: #008000\">'\"'</span>,\n",
       "            <span style=\"color: #008000; text-decoration-color: #008000\">'dep'</span>: <span style=\"color: #008000; text-decoration-color: #008000\">'punct'</span>,\n",
       "            <span style=\"color: #008000; text-decoration-color: #008000\">'head'</span>: <span style=\"color: #008080; text-decoration-color: #008080; font-weight: bold\">10</span>\n",
       "        <span style=\"font-weight: bold\">}</span>,\n",
       "        <span style=\"font-weight: bold\">{</span>\n",
       "            <span style=\"color: #008000; text-decoration-color: #008000\">'id'</span>: <span style=\"color: #008080; text-decoration-color: #008080; font-weight: bold\">1</span>,\n",
       "            <span style=\"color: #008000; text-decoration-color: #008000\">'start'</span>: <span style=\"color: #008080; text-decoration-color: #008080; font-weight: bold\">1</span>,\n",
       "            <span style=\"color: #008000; text-decoration-color: #008000\">'end'</span>: <span style=\"color: #008080; text-decoration-color: #008080; font-weight: bold\">3</span>,\n",
       "            <span style=\"color: #008000; text-decoration-color: #008000\">'tag'</span>: <span style=\"color: #008000; text-decoration-color: #008000\">'UH'</span>,\n",
       "            <span style=\"color: #008000; text-decoration-color: #008000\">'pos'</span>: <span style=\"color: #008000; text-decoration-color: #008000\">'INTJ'</span>,\n",
       "            <span style=\"color: #008000; text-decoration-color: #008000\">'morph'</span>: <span style=\"color: #008000; text-decoration-color: #008000\">''</span>,\n",
       "            <span style=\"color: #008000; text-decoration-color: #008000\">'lemma'</span>: <span style=\"color: #008000; text-decoration-color: #008000\">'oh'</span>,\n",
       "            <span style=\"color: #008000; text-decoration-color: #008000\">'dep'</span>: <span style=\"color: #008000; text-decoration-color: #008000\">'intj'</span>,\n",
       "            <span style=\"color: #008000; text-decoration-color: #008000\">'head'</span>: <span style=\"color: #008080; text-decoration-color: #008080; font-weight: bold\">4</span>\n",
       "        <span style=\"font-weight: bold\">}</span>,\n",
       "        <span style=\"font-weight: bold\">{</span>\n",
       "            <span style=\"color: #008000; text-decoration-color: #008000\">'id'</span>: <span style=\"color: #008080; text-decoration-color: #008080; font-weight: bold\">2</span>,\n",
       "            <span style=\"color: #008000; text-decoration-color: #008000\">'start'</span>: <span style=\"color: #008080; text-decoration-color: #008080; font-weight: bold\">3</span>,\n",
       "            <span style=\"color: #008000; text-decoration-color: #008000\">'end'</span>: <span style=\"color: #008080; text-decoration-color: #008080; font-weight: bold\">4</span>,\n",
       "            <span style=\"color: #008000; text-decoration-color: #008000\">'tag'</span>: <span style=\"color: #008000; text-decoration-color: #008000\">','</span>,\n",
       "            <span style=\"color: #008000; text-decoration-color: #008000\">'pos'</span>: <span style=\"color: #008000; text-decoration-color: #008000\">'PUNCT'</span>,\n",
       "            <span style=\"color: #008000; text-decoration-color: #008000\">'morph'</span>: <span style=\"color: #008000; text-decoration-color: #008000\">'PunctType=Comm'</span>,\n",
       "            <span style=\"color: #008000; text-decoration-color: #008000\">'lemma'</span>: <span style=\"color: #008000; text-decoration-color: #008000\">','</span>,\n",
       "            <span style=\"color: #008000; text-decoration-color: #008000\">'dep'</span>: <span style=\"color: #008000; text-decoration-color: #008000\">'punct'</span>,\n",
       "            <span style=\"color: #008000; text-decoration-color: #008000\">'head'</span>: <span style=\"color: #008080; text-decoration-color: #008080; font-weight: bold\">4</span>\n",
       "        <span style=\"font-weight: bold\">}</span>,\n",
       "        <span style=\"font-weight: bold\">{</span>\n",
       "            <span style=\"color: #008000; text-decoration-color: #008000\">'id'</span>: <span style=\"color: #008080; text-decoration-color: #008080; font-weight: bold\">3</span>,\n",
       "            <span style=\"color: #008000; text-decoration-color: #008000\">'start'</span>: <span style=\"color: #008080; text-decoration-color: #008080; font-weight: bold\">5</span>,\n",
       "            <span style=\"color: #008000; text-decoration-color: #008000\">'end'</span>: <span style=\"color: #008080; text-decoration-color: #008080; font-weight: bold\">7</span>,\n",
       "            <span style=\"color: #008000; text-decoration-color: #008000\">'tag'</span>: <span style=\"color: #008000; text-decoration-color: #008000\">'PRP'</span>,\n",
       "            <span style=\"color: #008000; text-decoration-color: #008000\">'pos'</span>: <span style=\"color: #008000; text-decoration-color: #008000\">'PRON'</span>,\n",
       "            <span style=\"color: #008000; text-decoration-color: #008000\">'morph'</span>: <span style=\"color: #008000; text-decoration-color: #008000\">'Case=Nom|Gender=Neut|Number=Sing|Person=3|PronType=Prs'</span>,\n",
       "            <span style=\"color: #008000; text-decoration-color: #008000\">'lemma'</span>: <span style=\"color: #008000; text-decoration-color: #008000\">'it'</span>,\n",
       "            <span style=\"color: #008000; text-decoration-color: #008000\">'dep'</span>: <span style=\"color: #008000; text-decoration-color: #008000\">'nsubj'</span>,\n",
       "            <span style=\"color: #008000; text-decoration-color: #008000\">'head'</span>: <span style=\"color: #008080; text-decoration-color: #008080; font-weight: bold\">4</span>\n",
       "        <span style=\"font-weight: bold\">}</span>,\n",
       "        <span style=\"font-weight: bold\">{</span>\n",
       "            <span style=\"color: #008000; text-decoration-color: #008000\">'id'</span>: <span style=\"color: #008080; text-decoration-color: #008080; font-weight: bold\">4</span>,\n",
       "            <span style=\"color: #008000; text-decoration-color: #008000\">'start'</span>: <span style=\"color: #008080; text-decoration-color: #008080; font-weight: bold\">7</span>,\n",
       "            <span style=\"color: #008000; text-decoration-color: #008000\">'end'</span>: <span style=\"color: #008080; text-decoration-color: #008080; font-weight: bold\">9</span>,\n",
       "            <span style=\"color: #008000; text-decoration-color: #008000\">'tag'</span>: <span style=\"color: #008000; text-decoration-color: #008000\">'VBZ'</span>,\n",
       "            <span style=\"color: #008000; text-decoration-color: #008000\">'pos'</span>: <span style=\"color: #008000; text-decoration-color: #008000\">'AUX'</span>,\n",
       "            <span style=\"color: #008000; text-decoration-color: #008000\">'morph'</span>: <span style=\"color: #008000; text-decoration-color: #008000\">'Mood=Ind|Number=Sing|Person=3|Tense=Pres|VerbForm=Fin'</span>,\n",
       "            <span style=\"color: #008000; text-decoration-color: #008000\">'lemma'</span>: <span style=\"color: #008000; text-decoration-color: #008000\">'be'</span>,\n",
       "            <span style=\"color: #008000; text-decoration-color: #008000\">'dep'</span>: <span style=\"color: #008000; text-decoration-color: #008000\">'ccomp'</span>,\n",
       "            <span style=\"color: #008000; text-decoration-color: #008000\">'head'</span>: <span style=\"color: #008080; text-decoration-color: #008080; font-weight: bold\">10</span>\n",
       "        <span style=\"font-weight: bold\">}</span>,\n",
       "        <span style=\"font-weight: bold\">{</span>\n",
       "            <span style=\"color: #008000; text-decoration-color: #008000\">'id'</span>: <span style=\"color: #008080; text-decoration-color: #008080; font-weight: bold\">5</span>,\n",
       "            <span style=\"color: #008000; text-decoration-color: #008000\">'start'</span>: <span style=\"color: #008080; text-decoration-color: #008080; font-weight: bold\">10</span>,\n",
       "            <span style=\"color: #008000; text-decoration-color: #008000\">'end'</span>: <span style=\"color: #008080; text-decoration-color: #008080; font-weight: bold\">14</span>,\n",
       "            <span style=\"color: #008000; text-decoration-color: #008000\">'tag'</span>: <span style=\"color: #008000; text-decoration-color: #008000\">'RB'</span>,\n",
       "            <span style=\"color: #008000; text-decoration-color: #008000\">'pos'</span>: <span style=\"color: #008000; text-decoration-color: #008000\">'ADV'</span>,\n",
       "            <span style=\"color: #008000; text-decoration-color: #008000\">'morph'</span>: <span style=\"color: #008000; text-decoration-color: #008000\">''</span>,\n",
       "            <span style=\"color: #008000; text-decoration-color: #008000\">'lemma'</span>: <span style=\"color: #008000; text-decoration-color: #008000\">'just'</span>,\n",
       "            <span style=\"color: #008000; text-decoration-color: #008000\">'dep'</span>: <span style=\"color: #008000; text-decoration-color: #008000\">'advmod'</span>,\n",
       "            <span style=\"color: #008000; text-decoration-color: #008000\">'head'</span>: <span style=\"color: #008080; text-decoration-color: #008080; font-weight: bold\">7</span>\n",
       "        <span style=\"font-weight: bold\">}</span>,\n",
       "        <span style=\"font-weight: bold\">{</span>\n",
       "            <span style=\"color: #008000; text-decoration-color: #008000\">'id'</span>: <span style=\"color: #008080; text-decoration-color: #008080; font-weight: bold\">6</span>,\n",
       "            <span style=\"color: #008000; text-decoration-color: #008000\">'start'</span>: <span style=\"color: #008080; text-decoration-color: #008080; font-weight: bold\">15</span>,\n",
       "            <span style=\"color: #008000; text-decoration-color: #008000\">'end'</span>: <span style=\"color: #008080; text-decoration-color: #008080; font-weight: bold\">16</span>,\n",
       "            <span style=\"color: #008000; text-decoration-color: #008000\">'tag'</span>: <span style=\"color: #008000; text-decoration-color: #008000\">'DT'</span>,\n",
       "            <span style=\"color: #008000; text-decoration-color: #008000\">'pos'</span>: <span style=\"color: #008000; text-decoration-color: #008000\">'DET'</span>,\n",
       "            <span style=\"color: #008000; text-decoration-color: #008000\">'morph'</span>: <span style=\"color: #008000; text-decoration-color: #008000\">'Definite=Ind|PronType=Art'</span>,\n",
       "            <span style=\"color: #008000; text-decoration-color: #008000\">'lemma'</span>: <span style=\"color: #008000; text-decoration-color: #008000\">'a'</span>,\n",
       "            <span style=\"color: #008000; text-decoration-color: #008000\">'dep'</span>: <span style=\"color: #008000; text-decoration-color: #008000\">'det'</span>,\n",
       "            <span style=\"color: #008000; text-decoration-color: #008000\">'head'</span>: <span style=\"color: #008080; text-decoration-color: #008080; font-weight: bold\">7</span>\n",
       "        <span style=\"font-weight: bold\">}</span>,\n",
       "        <span style=\"font-weight: bold\">{</span>\n",
       "            <span style=\"color: #008000; text-decoration-color: #008000\">'id'</span>: <span style=\"color: #008080; text-decoration-color: #008080; font-weight: bold\">7</span>,\n",
       "            <span style=\"color: #008000; text-decoration-color: #008000\">'start'</span>: <span style=\"color: #008080; text-decoration-color: #008080; font-weight: bold\">17</span>,\n",
       "            <span style=\"color: #008000; text-decoration-color: #008000\">'end'</span>: <span style=\"color: #008080; text-decoration-color: #008080; font-weight: bold\">22</span>,\n",
       "            <span style=\"color: #008000; text-decoration-color: #008000\">'tag'</span>: <span style=\"color: #008000; text-decoration-color: #008000\">'NN'</span>,\n",
       "            <span style=\"color: #008000; text-decoration-color: #008000\">'pos'</span>: <span style=\"color: #008000; text-decoration-color: #008000\">'NOUN'</span>,\n",
       "            <span style=\"color: #008000; text-decoration-color: #008000\">'morph'</span>: <span style=\"color: #008000; text-decoration-color: #008000\">'Number=Sing'</span>,\n",
       "            <span style=\"color: #008000; text-decoration-color: #008000\">'lemma'</span>: <span style=\"color: #008000; text-decoration-color: #008000\">'knack'</span>,\n",
       "            <span style=\"color: #008000; text-decoration-color: #008000\">'dep'</span>: <span style=\"color: #008000; text-decoration-color: #008000\">'attr'</span>,\n",
       "            <span style=\"color: #008000; text-decoration-color: #008000\">'head'</span>: <span style=\"color: #008080; text-decoration-color: #008080; font-weight: bold\">4</span>\n",
       "        <span style=\"font-weight: bold\">}</span>,\n",
       "        <span style=\"font-weight: bold\">{</span>\n",
       "            <span style=\"color: #008000; text-decoration-color: #008000\">'id'</span>: <span style=\"color: #008080; text-decoration-color: #008080; font-weight: bold\">8</span>,\n",
       "            <span style=\"color: #008000; text-decoration-color: #008000\">'start'</span>: <span style=\"color: #008080; text-decoration-color: #008080; font-weight: bold\">22</span>,\n",
       "            <span style=\"color: #008000; text-decoration-color: #008000\">'end'</span>: <span style=\"color: #008080; text-decoration-color: #008080; font-weight: bold\">23</span>,\n",
       "            <span style=\"color: #008000; text-decoration-color: #008000\">'tag'</span>: <span style=\"color: #008000; text-decoration-color: #008000\">','</span>,\n",
       "            <span style=\"color: #008000; text-decoration-color: #008000\">'pos'</span>: <span style=\"color: #008000; text-decoration-color: #008000\">'PUNCT'</span>,\n",
       "            <span style=\"color: #008000; text-decoration-color: #008000\">'morph'</span>: <span style=\"color: #008000; text-decoration-color: #008000\">'PunctType=Comm'</span>,\n",
       "            <span style=\"color: #008000; text-decoration-color: #008000\">'lemma'</span>: <span style=\"color: #008000; text-decoration-color: #008000\">','</span>,\n",
       "            <span style=\"color: #008000; text-decoration-color: #008000\">'dep'</span>: <span style=\"color: #008000; text-decoration-color: #008000\">'punct'</span>,\n",
       "            <span style=\"color: #008000; text-decoration-color: #008000\">'head'</span>: <span style=\"color: #008080; text-decoration-color: #008080; font-weight: bold\">10</span>\n",
       "        <span style=\"font-weight: bold\">}</span>,\n",
       "        <span style=\"font-weight: bold\">{</span>\n",
       "            <span style=\"color: #008000; text-decoration-color: #008000\">'id'</span>: <span style=\"color: #008080; text-decoration-color: #008080; font-weight: bold\">9</span>,\n",
       "            <span style=\"color: #008000; text-decoration-color: #008000\">'start'</span>: <span style=\"color: #008080; text-decoration-color: #008080; font-weight: bold\">23</span>,\n",
       "            <span style=\"color: #008000; text-decoration-color: #008000\">'end'</span>: <span style=\"color: #008080; text-decoration-color: #008080; font-weight: bold\">24</span>,\n",
       "            <span style=\"color: #008000; text-decoration-color: #008000\">'tag'</span>: <span style=\"color: #008000; text-decoration-color: #008000\">\"''\"</span>,\n",
       "            <span style=\"color: #008000; text-decoration-color: #008000\">'pos'</span>: <span style=\"color: #008000; text-decoration-color: #008000\">'PUNCT'</span>,\n",
       "            <span style=\"color: #008000; text-decoration-color: #008000\">'morph'</span>: <span style=\"color: #008000; text-decoration-color: #008000\">'PunctSide=Fin|PunctType=Quot'</span>,\n",
       "            <span style=\"color: #008000; text-decoration-color: #008000\">'lemma'</span>: <span style=\"color: #008000; text-decoration-color: #008000\">'\"'</span>,\n",
       "            <span style=\"color: #008000; text-decoration-color: #008000\">'dep'</span>: <span style=\"color: #008000; text-decoration-color: #008000\">'punct'</span>,\n",
       "            <span style=\"color: #008000; text-decoration-color: #008000\">'head'</span>: <span style=\"color: #008080; text-decoration-color: #008080; font-weight: bold\">10</span>\n",
       "        <span style=\"font-weight: bold\">}</span>,\n",
       "        <span style=\"font-weight: bold\">{</span>\n",
       "            <span style=\"color: #008000; text-decoration-color: #008000\">'id'</span>: <span style=\"color: #008080; text-decoration-color: #008080; font-weight: bold\">10</span>,\n",
       "            <span style=\"color: #008000; text-decoration-color: #008000\">'start'</span>: <span style=\"color: #008080; text-decoration-color: #008080; font-weight: bold\">25</span>,\n",
       "            <span style=\"color: #008000; text-decoration-color: #008000\">'end'</span>: <span style=\"color: #008080; text-decoration-color: #008080; font-weight: bold\">32</span>,\n",
       "            <span style=\"color: #008000; text-decoration-color: #008000\">'tag'</span>: <span style=\"color: #008000; text-decoration-color: #008000\">'VBD'</span>,\n",
       "            <span style=\"color: #008000; text-decoration-color: #008000\">'pos'</span>: <span style=\"color: #008000; text-decoration-color: #008000\">'VERB'</span>,\n",
       "            <span style=\"color: #008000; text-decoration-color: #008000\">'morph'</span>: <span style=\"color: #008000; text-decoration-color: #008000\">'Tense=Past|VerbForm=Fin'</span>,\n",
       "            <span style=\"color: #008000; text-decoration-color: #008000\">'lemma'</span>: <span style=\"color: #008000; text-decoration-color: #008000\">'reply'</span>,\n",
       "            <span style=\"color: #008000; text-decoration-color: #008000\">'dep'</span>: <span style=\"color: #008000; text-decoration-color: #008000\">'ROOT'</span>,\n",
       "            <span style=\"color: #008000; text-decoration-color: #008000\">'head'</span>: <span style=\"color: #008080; text-decoration-color: #008080; font-weight: bold\">10</span>\n",
       "        <span style=\"font-weight: bold\">}</span>,\n",
       "        <span style=\"font-weight: bold\">{</span>\n",
       "            <span style=\"color: #008000; text-decoration-color: #008000\">'id'</span>: <span style=\"color: #008080; text-decoration-color: #008080; font-weight: bold\">11</span>,\n",
       "            <span style=\"color: #008000; text-decoration-color: #008000\">'start'</span>: <span style=\"color: #008080; text-decoration-color: #008080; font-weight: bold\">33</span>,\n",
       "            <span style=\"color: #008000; text-decoration-color: #008000\">'end'</span>: <span style=\"color: #008080; text-decoration-color: #008080; font-weight: bold\">36</span>,\n",
       "            <span style=\"color: #008000; text-decoration-color: #008000\">'tag'</span>: <span style=\"color: #008000; text-decoration-color: #008000\">'NNP'</span>,\n",
       "            <span style=\"color: #008000; text-decoration-color: #008000\">'pos'</span>: <span style=\"color: #008000; text-decoration-color: #008000\">'PROPN'</span>,\n",
       "            <span style=\"color: #008000; text-decoration-color: #008000\">'morph'</span>: <span style=\"color: #008000; text-decoration-color: #008000\">'Number=Sing'</span>,\n",
       "            <span style=\"color: #008000; text-decoration-color: #008000\">'lemma'</span>: <span style=\"color: #008000; text-decoration-color: #008000\">'Tom'</span>,\n",
       "            <span style=\"color: #008000; text-decoration-color: #008000\">'dep'</span>: <span style=\"color: #008000; text-decoration-color: #008000\">'npadvmod'</span>,\n",
       "            <span style=\"color: #008000; text-decoration-color: #008000\">'head'</span>: <span style=\"color: #008080; text-decoration-color: #008080; font-weight: bold\">10</span>\n",
       "        <span style=\"font-weight: bold\">}</span>,\n",
       "        <span style=\"font-weight: bold\">{</span>\n",
       "            <span style=\"color: #008000; text-decoration-color: #008000\">'id'</span>: <span style=\"color: #008080; text-decoration-color: #008080; font-weight: bold\">12</span>,\n",
       "            <span style=\"color: #008000; text-decoration-color: #008000\">'start'</span>: <span style=\"color: #008080; text-decoration-color: #008080; font-weight: bold\">37</span>,\n",
       "            <span style=\"color: #008000; text-decoration-color: #008000\">'end'</span>: <span style=\"color: #008080; text-decoration-color: #008080; font-weight: bold\">45</span>,\n",
       "            <span style=\"color: #008000; text-decoration-color: #008000\">'tag'</span>: <span style=\"color: #008000; text-decoration-color: #008000\">'RB'</span>,\n",
       "            <span style=\"color: #008000; text-decoration-color: #008000\">'pos'</span>: <span style=\"color: #008000; text-decoration-color: #008000\">'ADV'</span>,\n",
       "            <span style=\"color: #008000; text-decoration-color: #008000\">'morph'</span>: <span style=\"color: #008000; text-decoration-color: #008000\">''</span>,\n",
       "            <span style=\"color: #008000; text-decoration-color: #008000\">'lemma'</span>: <span style=\"color: #008000; text-decoration-color: #008000\">'modestly'</span>,\n",
       "            <span style=\"color: #008000; text-decoration-color: #008000\">'dep'</span>: <span style=\"color: #008000; text-decoration-color: #008000\">'advmod'</span>,\n",
       "            <span style=\"color: #008000; text-decoration-color: #008000\">'head'</span>: <span style=\"color: #008080; text-decoration-color: #008080; font-weight: bold\">10</span>\n",
       "        <span style=\"font-weight: bold\">}</span>,\n",
       "        <span style=\"font-weight: bold\">{</span>\n",
       "            <span style=\"color: #008000; text-decoration-color: #008000\">'id'</span>: <span style=\"color: #008080; text-decoration-color: #008080; font-weight: bold\">13</span>,\n",
       "            <span style=\"color: #008000; text-decoration-color: #008000\">'start'</span>: <span style=\"color: #008080; text-decoration-color: #008080; font-weight: bold\">45</span>,\n",
       "            <span style=\"color: #008000; text-decoration-color: #008000\">'end'</span>: <span style=\"color: #008080; text-decoration-color: #008080; font-weight: bold\">46</span>,\n",
       "            <span style=\"color: #008000; text-decoration-color: #008000\">'tag'</span>: <span style=\"color: #008000; text-decoration-color: #008000\">'.'</span>,\n",
       "            <span style=\"color: #008000; text-decoration-color: #008000\">'pos'</span>: <span style=\"color: #008000; text-decoration-color: #008000\">'PUNCT'</span>,\n",
       "            <span style=\"color: #008000; text-decoration-color: #008000\">'morph'</span>: <span style=\"color: #008000; text-decoration-color: #008000\">'PunctType=Peri'</span>,\n",
       "            <span style=\"color: #008000; text-decoration-color: #008000\">'lemma'</span>: <span style=\"color: #008000; text-decoration-color: #008000\">'.'</span>,\n",
       "            <span style=\"color: #008000; text-decoration-color: #008000\">'dep'</span>: <span style=\"color: #008000; text-decoration-color: #008000\">'punct'</span>,\n",
       "            <span style=\"color: #008000; text-decoration-color: #008000\">'head'</span>: <span style=\"color: #008080; text-decoration-color: #008080; font-weight: bold\">10</span>\n",
       "        <span style=\"font-weight: bold\">}</span>\n",
       "    <span style=\"font-weight: bold\">]</span>\n",
       "<span style=\"font-weight: bold\">}</span>\n",
       "</pre>\n"
      ],
      "text/plain": [
       "\u001b[1m{\u001b[0m\n",
       "    \u001b[32m'text'\u001b[0m: \u001b[32m'\"Oh, it\\'s just a knack,\" replied Tom modestly.'\u001b[0m,\n",
       "    \u001b[32m'ents'\u001b[0m: \u001b[1m[\u001b[0m\u001b[1m{\u001b[0m\u001b[32m'start'\u001b[0m: \u001b[1;36m33\u001b[0m, \u001b[32m'end'\u001b[0m: \u001b[1;36m36\u001b[0m, \u001b[32m'label'\u001b[0m: \u001b[32m'PERSON'\u001b[0m\u001b[1m}\u001b[0m\u001b[1m]\u001b[0m,\n",
       "    \u001b[32m'sents'\u001b[0m: \u001b[1m[\u001b[0m\u001b[1m{\u001b[0m\u001b[32m'start'\u001b[0m: \u001b[1;36m0\u001b[0m, \u001b[32m'end'\u001b[0m: \u001b[1;36m46\u001b[0m\u001b[1m}\u001b[0m\u001b[1m]\u001b[0m,\n",
       "    \u001b[32m'tokens'\u001b[0m: \u001b[1m[\u001b[0m\n",
       "        \u001b[1m{\u001b[0m\n",
       "            \u001b[32m'id'\u001b[0m: \u001b[1;36m0\u001b[0m,\n",
       "            \u001b[32m'start'\u001b[0m: \u001b[1;36m0\u001b[0m,\n",
       "            \u001b[32m'end'\u001b[0m: \u001b[1;36m1\u001b[0m,\n",
       "            \u001b[32m'tag'\u001b[0m: \u001b[32m'``'\u001b[0m,\n",
       "            \u001b[32m'pos'\u001b[0m: \u001b[32m'PUNCT'\u001b[0m,\n",
       "            \u001b[32m'morph'\u001b[0m: \u001b[32m'\u001b[0m\u001b[32mPunctSide\u001b[0m\u001b[32m=\u001b[0m\u001b[32mIni\u001b[0m\u001b[32m|\u001b[0m\u001b[32mPunctType\u001b[0m\u001b[32m=\u001b[0m\u001b[32mQuot\u001b[0m\u001b[32m'\u001b[0m,\n",
       "            \u001b[32m'lemma'\u001b[0m: \u001b[32m'\"'\u001b[0m,\n",
       "            \u001b[32m'dep'\u001b[0m: \u001b[32m'punct'\u001b[0m,\n",
       "            \u001b[32m'head'\u001b[0m: \u001b[1;36m10\u001b[0m\n",
       "        \u001b[1m}\u001b[0m,\n",
       "        \u001b[1m{\u001b[0m\n",
       "            \u001b[32m'id'\u001b[0m: \u001b[1;36m1\u001b[0m,\n",
       "            \u001b[32m'start'\u001b[0m: \u001b[1;36m1\u001b[0m,\n",
       "            \u001b[32m'end'\u001b[0m: \u001b[1;36m3\u001b[0m,\n",
       "            \u001b[32m'tag'\u001b[0m: \u001b[32m'UH'\u001b[0m,\n",
       "            \u001b[32m'pos'\u001b[0m: \u001b[32m'INTJ'\u001b[0m,\n",
       "            \u001b[32m'morph'\u001b[0m: \u001b[32m''\u001b[0m,\n",
       "            \u001b[32m'lemma'\u001b[0m: \u001b[32m'oh'\u001b[0m,\n",
       "            \u001b[32m'dep'\u001b[0m: \u001b[32m'intj'\u001b[0m,\n",
       "            \u001b[32m'head'\u001b[0m: \u001b[1;36m4\u001b[0m\n",
       "        \u001b[1m}\u001b[0m,\n",
       "        \u001b[1m{\u001b[0m\n",
       "            \u001b[32m'id'\u001b[0m: \u001b[1;36m2\u001b[0m,\n",
       "            \u001b[32m'start'\u001b[0m: \u001b[1;36m3\u001b[0m,\n",
       "            \u001b[32m'end'\u001b[0m: \u001b[1;36m4\u001b[0m,\n",
       "            \u001b[32m'tag'\u001b[0m: \u001b[32m','\u001b[0m,\n",
       "            \u001b[32m'pos'\u001b[0m: \u001b[32m'PUNCT'\u001b[0m,\n",
       "            \u001b[32m'morph'\u001b[0m: \u001b[32m'\u001b[0m\u001b[32mPunctType\u001b[0m\u001b[32m=\u001b[0m\u001b[32mComm\u001b[0m\u001b[32m'\u001b[0m,\n",
       "            \u001b[32m'lemma'\u001b[0m: \u001b[32m','\u001b[0m,\n",
       "            \u001b[32m'dep'\u001b[0m: \u001b[32m'punct'\u001b[0m,\n",
       "            \u001b[32m'head'\u001b[0m: \u001b[1;36m4\u001b[0m\n",
       "        \u001b[1m}\u001b[0m,\n",
       "        \u001b[1m{\u001b[0m\n",
       "            \u001b[32m'id'\u001b[0m: \u001b[1;36m3\u001b[0m,\n",
       "            \u001b[32m'start'\u001b[0m: \u001b[1;36m5\u001b[0m,\n",
       "            \u001b[32m'end'\u001b[0m: \u001b[1;36m7\u001b[0m,\n",
       "            \u001b[32m'tag'\u001b[0m: \u001b[32m'PRP'\u001b[0m,\n",
       "            \u001b[32m'pos'\u001b[0m: \u001b[32m'PRON'\u001b[0m,\n",
       "            \u001b[32m'morph'\u001b[0m: \u001b[32m'\u001b[0m\u001b[32mCase\u001b[0m\u001b[32m=\u001b[0m\u001b[32mNom\u001b[0m\u001b[32m|\u001b[0m\u001b[32mGender\u001b[0m\u001b[32m=\u001b[0m\u001b[32mNeut\u001b[0m\u001b[32m|\u001b[0m\u001b[32mNumber\u001b[0m\u001b[32m=\u001b[0m\u001b[32mSing\u001b[0m\u001b[32m|\u001b[0m\u001b[32mPerson\u001b[0m\u001b[32m=\u001b[0m\u001b[32m3\u001b[0m\u001b[32m|\u001b[0m\u001b[32mPronType\u001b[0m\u001b[32m=\u001b[0m\u001b[32mPrs\u001b[0m\u001b[32m'\u001b[0m,\n",
       "            \u001b[32m'lemma'\u001b[0m: \u001b[32m'it'\u001b[0m,\n",
       "            \u001b[32m'dep'\u001b[0m: \u001b[32m'nsubj'\u001b[0m,\n",
       "            \u001b[32m'head'\u001b[0m: \u001b[1;36m4\u001b[0m\n",
       "        \u001b[1m}\u001b[0m,\n",
       "        \u001b[1m{\u001b[0m\n",
       "            \u001b[32m'id'\u001b[0m: \u001b[1;36m4\u001b[0m,\n",
       "            \u001b[32m'start'\u001b[0m: \u001b[1;36m7\u001b[0m,\n",
       "            \u001b[32m'end'\u001b[0m: \u001b[1;36m9\u001b[0m,\n",
       "            \u001b[32m'tag'\u001b[0m: \u001b[32m'VBZ'\u001b[0m,\n",
       "            \u001b[32m'pos'\u001b[0m: \u001b[32m'AUX'\u001b[0m,\n",
       "            \u001b[32m'morph'\u001b[0m: \u001b[32m'\u001b[0m\u001b[32mMood\u001b[0m\u001b[32m=\u001b[0m\u001b[32mInd\u001b[0m\u001b[32m|\u001b[0m\u001b[32mNumber\u001b[0m\u001b[32m=\u001b[0m\u001b[32mSing\u001b[0m\u001b[32m|\u001b[0m\u001b[32mPerson\u001b[0m\u001b[32m=\u001b[0m\u001b[32m3\u001b[0m\u001b[32m|\u001b[0m\u001b[32mTense\u001b[0m\u001b[32m=\u001b[0m\u001b[32mPres\u001b[0m\u001b[32m|\u001b[0m\u001b[32mVerbForm\u001b[0m\u001b[32m=\u001b[0m\u001b[32mFin\u001b[0m\u001b[32m'\u001b[0m,\n",
       "            \u001b[32m'lemma'\u001b[0m: \u001b[32m'be'\u001b[0m,\n",
       "            \u001b[32m'dep'\u001b[0m: \u001b[32m'ccomp'\u001b[0m,\n",
       "            \u001b[32m'head'\u001b[0m: \u001b[1;36m10\u001b[0m\n",
       "        \u001b[1m}\u001b[0m,\n",
       "        \u001b[1m{\u001b[0m\n",
       "            \u001b[32m'id'\u001b[0m: \u001b[1;36m5\u001b[0m,\n",
       "            \u001b[32m'start'\u001b[0m: \u001b[1;36m10\u001b[0m,\n",
       "            \u001b[32m'end'\u001b[0m: \u001b[1;36m14\u001b[0m,\n",
       "            \u001b[32m'tag'\u001b[0m: \u001b[32m'RB'\u001b[0m,\n",
       "            \u001b[32m'pos'\u001b[0m: \u001b[32m'ADV'\u001b[0m,\n",
       "            \u001b[32m'morph'\u001b[0m: \u001b[32m''\u001b[0m,\n",
       "            \u001b[32m'lemma'\u001b[0m: \u001b[32m'just'\u001b[0m,\n",
       "            \u001b[32m'dep'\u001b[0m: \u001b[32m'advmod'\u001b[0m,\n",
       "            \u001b[32m'head'\u001b[0m: \u001b[1;36m7\u001b[0m\n",
       "        \u001b[1m}\u001b[0m,\n",
       "        \u001b[1m{\u001b[0m\n",
       "            \u001b[32m'id'\u001b[0m: \u001b[1;36m6\u001b[0m,\n",
       "            \u001b[32m'start'\u001b[0m: \u001b[1;36m15\u001b[0m,\n",
       "            \u001b[32m'end'\u001b[0m: \u001b[1;36m16\u001b[0m,\n",
       "            \u001b[32m'tag'\u001b[0m: \u001b[32m'DT'\u001b[0m,\n",
       "            \u001b[32m'pos'\u001b[0m: \u001b[32m'DET'\u001b[0m,\n",
       "            \u001b[32m'morph'\u001b[0m: \u001b[32m'\u001b[0m\u001b[32mDefinite\u001b[0m\u001b[32m=\u001b[0m\u001b[32mInd\u001b[0m\u001b[32m|\u001b[0m\u001b[32mPronType\u001b[0m\u001b[32m=\u001b[0m\u001b[32mArt\u001b[0m\u001b[32m'\u001b[0m,\n",
       "            \u001b[32m'lemma'\u001b[0m: \u001b[32m'a'\u001b[0m,\n",
       "            \u001b[32m'dep'\u001b[0m: \u001b[32m'det'\u001b[0m,\n",
       "            \u001b[32m'head'\u001b[0m: \u001b[1;36m7\u001b[0m\n",
       "        \u001b[1m}\u001b[0m,\n",
       "        \u001b[1m{\u001b[0m\n",
       "            \u001b[32m'id'\u001b[0m: \u001b[1;36m7\u001b[0m,\n",
       "            \u001b[32m'start'\u001b[0m: \u001b[1;36m17\u001b[0m,\n",
       "            \u001b[32m'end'\u001b[0m: \u001b[1;36m22\u001b[0m,\n",
       "            \u001b[32m'tag'\u001b[0m: \u001b[32m'NN'\u001b[0m,\n",
       "            \u001b[32m'pos'\u001b[0m: \u001b[32m'NOUN'\u001b[0m,\n",
       "            \u001b[32m'morph'\u001b[0m: \u001b[32m'\u001b[0m\u001b[32mNumber\u001b[0m\u001b[32m=\u001b[0m\u001b[32mSing\u001b[0m\u001b[32m'\u001b[0m,\n",
       "            \u001b[32m'lemma'\u001b[0m: \u001b[32m'knack'\u001b[0m,\n",
       "            \u001b[32m'dep'\u001b[0m: \u001b[32m'attr'\u001b[0m,\n",
       "            \u001b[32m'head'\u001b[0m: \u001b[1;36m4\u001b[0m\n",
       "        \u001b[1m}\u001b[0m,\n",
       "        \u001b[1m{\u001b[0m\n",
       "            \u001b[32m'id'\u001b[0m: \u001b[1;36m8\u001b[0m,\n",
       "            \u001b[32m'start'\u001b[0m: \u001b[1;36m22\u001b[0m,\n",
       "            \u001b[32m'end'\u001b[0m: \u001b[1;36m23\u001b[0m,\n",
       "            \u001b[32m'tag'\u001b[0m: \u001b[32m','\u001b[0m,\n",
       "            \u001b[32m'pos'\u001b[0m: \u001b[32m'PUNCT'\u001b[0m,\n",
       "            \u001b[32m'morph'\u001b[0m: \u001b[32m'\u001b[0m\u001b[32mPunctType\u001b[0m\u001b[32m=\u001b[0m\u001b[32mComm\u001b[0m\u001b[32m'\u001b[0m,\n",
       "            \u001b[32m'lemma'\u001b[0m: \u001b[32m','\u001b[0m,\n",
       "            \u001b[32m'dep'\u001b[0m: \u001b[32m'punct'\u001b[0m,\n",
       "            \u001b[32m'head'\u001b[0m: \u001b[1;36m10\u001b[0m\n",
       "        \u001b[1m}\u001b[0m,\n",
       "        \u001b[1m{\u001b[0m\n",
       "            \u001b[32m'id'\u001b[0m: \u001b[1;36m9\u001b[0m,\n",
       "            \u001b[32m'start'\u001b[0m: \u001b[1;36m23\u001b[0m,\n",
       "            \u001b[32m'end'\u001b[0m: \u001b[1;36m24\u001b[0m,\n",
       "            \u001b[32m'tag'\u001b[0m: \u001b[32m\"''\"\u001b[0m,\n",
       "            \u001b[32m'pos'\u001b[0m: \u001b[32m'PUNCT'\u001b[0m,\n",
       "            \u001b[32m'morph'\u001b[0m: \u001b[32m'\u001b[0m\u001b[32mPunctSide\u001b[0m\u001b[32m=\u001b[0m\u001b[32mFin\u001b[0m\u001b[32m|\u001b[0m\u001b[32mPunctType\u001b[0m\u001b[32m=\u001b[0m\u001b[32mQuot\u001b[0m\u001b[32m'\u001b[0m,\n",
       "            \u001b[32m'lemma'\u001b[0m: \u001b[32m'\"'\u001b[0m,\n",
       "            \u001b[32m'dep'\u001b[0m: \u001b[32m'punct'\u001b[0m,\n",
       "            \u001b[32m'head'\u001b[0m: \u001b[1;36m10\u001b[0m\n",
       "        \u001b[1m}\u001b[0m,\n",
       "        \u001b[1m{\u001b[0m\n",
       "            \u001b[32m'id'\u001b[0m: \u001b[1;36m10\u001b[0m,\n",
       "            \u001b[32m'start'\u001b[0m: \u001b[1;36m25\u001b[0m,\n",
       "            \u001b[32m'end'\u001b[0m: \u001b[1;36m32\u001b[0m,\n",
       "            \u001b[32m'tag'\u001b[0m: \u001b[32m'VBD'\u001b[0m,\n",
       "            \u001b[32m'pos'\u001b[0m: \u001b[32m'VERB'\u001b[0m,\n",
       "            \u001b[32m'morph'\u001b[0m: \u001b[32m'\u001b[0m\u001b[32mTense\u001b[0m\u001b[32m=\u001b[0m\u001b[32mPast\u001b[0m\u001b[32m|\u001b[0m\u001b[32mVerbForm\u001b[0m\u001b[32m=\u001b[0m\u001b[32mFin\u001b[0m\u001b[32m'\u001b[0m,\n",
       "            \u001b[32m'lemma'\u001b[0m: \u001b[32m'reply'\u001b[0m,\n",
       "            \u001b[32m'dep'\u001b[0m: \u001b[32m'ROOT'\u001b[0m,\n",
       "            \u001b[32m'head'\u001b[0m: \u001b[1;36m10\u001b[0m\n",
       "        \u001b[1m}\u001b[0m,\n",
       "        \u001b[1m{\u001b[0m\n",
       "            \u001b[32m'id'\u001b[0m: \u001b[1;36m11\u001b[0m,\n",
       "            \u001b[32m'start'\u001b[0m: \u001b[1;36m33\u001b[0m,\n",
       "            \u001b[32m'end'\u001b[0m: \u001b[1;36m36\u001b[0m,\n",
       "            \u001b[32m'tag'\u001b[0m: \u001b[32m'NNP'\u001b[0m,\n",
       "            \u001b[32m'pos'\u001b[0m: \u001b[32m'PROPN'\u001b[0m,\n",
       "            \u001b[32m'morph'\u001b[0m: \u001b[32m'\u001b[0m\u001b[32mNumber\u001b[0m\u001b[32m=\u001b[0m\u001b[32mSing\u001b[0m\u001b[32m'\u001b[0m,\n",
       "            \u001b[32m'lemma'\u001b[0m: \u001b[32m'Tom'\u001b[0m,\n",
       "            \u001b[32m'dep'\u001b[0m: \u001b[32m'npadvmod'\u001b[0m,\n",
       "            \u001b[32m'head'\u001b[0m: \u001b[1;36m10\u001b[0m\n",
       "        \u001b[1m}\u001b[0m,\n",
       "        \u001b[1m{\u001b[0m\n",
       "            \u001b[32m'id'\u001b[0m: \u001b[1;36m12\u001b[0m,\n",
       "            \u001b[32m'start'\u001b[0m: \u001b[1;36m37\u001b[0m,\n",
       "            \u001b[32m'end'\u001b[0m: \u001b[1;36m45\u001b[0m,\n",
       "            \u001b[32m'tag'\u001b[0m: \u001b[32m'RB'\u001b[0m,\n",
       "            \u001b[32m'pos'\u001b[0m: \u001b[32m'ADV'\u001b[0m,\n",
       "            \u001b[32m'morph'\u001b[0m: \u001b[32m''\u001b[0m,\n",
       "            \u001b[32m'lemma'\u001b[0m: \u001b[32m'modestly'\u001b[0m,\n",
       "            \u001b[32m'dep'\u001b[0m: \u001b[32m'advmod'\u001b[0m,\n",
       "            \u001b[32m'head'\u001b[0m: \u001b[1;36m10\u001b[0m\n",
       "        \u001b[1m}\u001b[0m,\n",
       "        \u001b[1m{\u001b[0m\n",
       "            \u001b[32m'id'\u001b[0m: \u001b[1;36m13\u001b[0m,\n",
       "            \u001b[32m'start'\u001b[0m: \u001b[1;36m45\u001b[0m,\n",
       "            \u001b[32m'end'\u001b[0m: \u001b[1;36m46\u001b[0m,\n",
       "            \u001b[32m'tag'\u001b[0m: \u001b[32m'.'\u001b[0m,\n",
       "            \u001b[32m'pos'\u001b[0m: \u001b[32m'PUNCT'\u001b[0m,\n",
       "            \u001b[32m'morph'\u001b[0m: \u001b[32m'\u001b[0m\u001b[32mPunctType\u001b[0m\u001b[32m=\u001b[0m\u001b[32mPeri\u001b[0m\u001b[32m'\u001b[0m,\n",
       "            \u001b[32m'lemma'\u001b[0m: \u001b[32m'.'\u001b[0m,\n",
       "            \u001b[32m'dep'\u001b[0m: \u001b[32m'punct'\u001b[0m,\n",
       "            \u001b[32m'head'\u001b[0m: \u001b[1;36m10\u001b[0m\n",
       "        \u001b[1m}\u001b[0m\n",
       "    \u001b[1m]\u001b[0m\n",
       "\u001b[1m}\u001b[0m\n"
      ]
     },
     "metadata": {},
     "output_type": "display_data"
    },
    {
     "data": {
      "text/html": [
       "<pre style=\"white-space:pre;overflow-x:auto;line-height:normal;font-family:Menlo,'DejaVu Sans Mono',consolas,'Courier New',monospace\">\" PUNCT `` punct replied\n",
       "</pre>\n"
      ],
      "text/plain": [
       "\" PUNCT `` punct replied\n"
      ]
     },
     "metadata": {},
     "output_type": "display_data"
    },
    {
     "data": {
      "text/html": [
       "<pre style=\"white-space:pre;overflow-x:auto;line-height:normal;font-family:Menlo,'DejaVu Sans Mono',consolas,'Courier New',monospace\">Oh INTJ UH intj 's\n",
       "</pre>\n"
      ],
      "text/plain": [
       "Oh INTJ UH intj 's\n"
      ]
     },
     "metadata": {},
     "output_type": "display_data"
    },
    {
     "data": {
      "text/html": [
       "<pre style=\"white-space:pre;overflow-x:auto;line-height:normal;font-family:Menlo,'DejaVu Sans Mono',consolas,'Courier New',monospace\">, PUNCT , punct 's\n",
       "</pre>\n"
      ],
      "text/plain": [
       ", PUNCT , punct 's\n"
      ]
     },
     "metadata": {},
     "output_type": "display_data"
    },
    {
     "data": {
      "text/html": [
       "<pre style=\"white-space:pre;overflow-x:auto;line-height:normal;font-family:Menlo,'DejaVu Sans Mono',consolas,'Courier New',monospace\">it PRON PRP nsubj 's\n",
       "</pre>\n"
      ],
      "text/plain": [
       "it PRON PRP nsubj 's\n"
      ]
     },
     "metadata": {},
     "output_type": "display_data"
    },
    {
     "data": {
      "text/html": [
       "<pre style=\"white-space:pre;overflow-x:auto;line-height:normal;font-family:Menlo,'DejaVu Sans Mono',consolas,'Courier New',monospace\">'s AUX VBZ ccomp replied\n",
       "</pre>\n"
      ],
      "text/plain": [
       "'s AUX VBZ ccomp replied\n"
      ]
     },
     "metadata": {},
     "output_type": "display_data"
    },
    {
     "data": {
      "text/html": [
       "<pre style=\"white-space:pre;overflow-x:auto;line-height:normal;font-family:Menlo,'DejaVu Sans Mono',consolas,'Courier New',monospace\">just ADV RB advmod knack\n",
       "</pre>\n"
      ],
      "text/plain": [
       "just ADV RB advmod knack\n"
      ]
     },
     "metadata": {},
     "output_type": "display_data"
    },
    {
     "data": {
      "text/html": [
       "<pre style=\"white-space:pre;overflow-x:auto;line-height:normal;font-family:Menlo,'DejaVu Sans Mono',consolas,'Courier New',monospace\">a DET DT det knack\n",
       "</pre>\n"
      ],
      "text/plain": [
       "a DET DT det knack\n"
      ]
     },
     "metadata": {},
     "output_type": "display_data"
    },
    {
     "data": {
      "text/html": [
       "<pre style=\"white-space:pre;overflow-x:auto;line-height:normal;font-family:Menlo,'DejaVu Sans Mono',consolas,'Courier New',monospace\">knack NOUN NN attr 's\n",
       "</pre>\n"
      ],
      "text/plain": [
       "knack NOUN NN attr 's\n"
      ]
     },
     "metadata": {},
     "output_type": "display_data"
    },
    {
     "data": {
      "text/html": [
       "<pre style=\"white-space:pre;overflow-x:auto;line-height:normal;font-family:Menlo,'DejaVu Sans Mono',consolas,'Courier New',monospace\">, PUNCT , punct replied\n",
       "</pre>\n"
      ],
      "text/plain": [
       ", PUNCT , punct replied\n"
      ]
     },
     "metadata": {},
     "output_type": "display_data"
    },
    {
     "data": {
      "text/html": [
       "<pre style=\"white-space:pre;overflow-x:auto;line-height:normal;font-family:Menlo,'DejaVu Sans Mono',consolas,'Courier New',monospace\">\" PUNCT <span style=\"color: #008000; text-decoration-color: #008000\">''</span> punct replied\n",
       "</pre>\n"
      ],
      "text/plain": [
       "\" PUNCT \u001b[32m''\u001b[0m punct replied\n"
      ]
     },
     "metadata": {},
     "output_type": "display_data"
    },
    {
     "data": {
      "text/html": [
       "<pre style=\"white-space:pre;overflow-x:auto;line-height:normal;font-family:Menlo,'DejaVu Sans Mono',consolas,'Courier New',monospace\">replied VERB VBD ROOT replied\n",
       "</pre>\n"
      ],
      "text/plain": [
       "replied VERB VBD ROOT replied\n"
      ]
     },
     "metadata": {},
     "output_type": "display_data"
    },
    {
     "data": {
      "text/html": [
       "<pre style=\"white-space:pre;overflow-x:auto;line-height:normal;font-family:Menlo,'DejaVu Sans Mono',consolas,'Courier New',monospace\">Tom PROPN NNP npadvmod replied\n",
       "</pre>\n"
      ],
      "text/plain": [
       "Tom PROPN NNP npadvmod replied\n"
      ]
     },
     "metadata": {},
     "output_type": "display_data"
    },
    {
     "data": {
      "text/html": [
       "<pre style=\"white-space:pre;overflow-x:auto;line-height:normal;font-family:Menlo,'DejaVu Sans Mono',consolas,'Courier New',monospace\">modestly ADV RB advmod replied\n",
       "</pre>\n"
      ],
      "text/plain": [
       "modestly ADV RB advmod replied\n"
      ]
     },
     "metadata": {},
     "output_type": "display_data"
    },
    {
     "data": {
      "text/html": [
       "<pre style=\"white-space:pre;overflow-x:auto;line-height:normal;font-family:Menlo,'DejaVu Sans Mono',consolas,'Courier New',monospace\">. PUNCT . punct replied\n",
       "</pre>\n"
      ],
      "text/plain": [
       ". PUNCT . punct replied\n"
      ]
     },
     "metadata": {},
     "output_type": "display_data"
    }
   ],
   "source": [
    "print(doc2.to_json())\n",
    "\n",
    "for token in doc2:\n",
    "    print(\n",
    "        token.text,\n",
    "        token.pos_,\n",
    "        token.tag_,\n",
    "        token.dep_,\n",
    "        token.head,\n",
    "    )"
   ]
  },
  {
   "cell_type": "markdown",
   "id": "a95768d9-6d1c-4f4f-acc4-87be9d946f6d",
   "metadata": {},
   "source": [
    "The POS looks right for the verb, for \"Tom\" and \"modestly\":\n",
    "\n",
    "- replied VERB VBD ROOT replied\n",
    "- Tom PROPN NNP npadvmod replied\n",
    "- modestly ADV RB advmod replied\n",
    "\n",
    "Maybe I should rely less on the dependency parse? Perhaps some complicated code relying on a combination of dependencies and POS and/or tags? But, shouldn't code be elegantly simple and not headache-inducing? "
   ]
  },
  {
   "cell_type": "markdown",
   "id": "b8b8d3b2-7d0b-47d1-ae21-0b856ddbf80e",
   "metadata": {},
   "source": [
    "## A Premature Ending or, \"Evaluating the Model\"\n",
    "\n",
    "So far, we've found no puns in the first book even from visual inspection. I'm reluctant to continue farther since it's clear that SpaCy's dependency parse is lacking. The Github issues are filled with tickets mentioning this. These reports state that no matter which size of the model (`en_core_web_sm`, `en_core_web_md` or `en_core_web_lg`), the deficencies remain.\n",
    "\n",
    "I can only imagine Tom Swift dusting himself off and staying in his lab or taking to the skys to experiment ceaselessly, so in that spirit, let's discuss my thoughts on future directions for this project."
   ]
  },
  {
   "cell_type": "markdown",
   "id": "0f28b5d1-400f-4143-9499-2d8a85aed14f",
   "metadata": {},
   "source": [
    "### Future Follow-ons"
   ]
  },
  {
   "cell_type": "markdown",
   "id": "fd0f4174-8dab-429c-9098-e307eb368169",
   "metadata": {},
   "source": [
    "#### Evolution over time\n",
    "\n",
    "Garis ghost-wrote the Tom Swift series until 1935, producing 35 novellas. I'd like to expand this exploration to analyze his output of Tom Swifties over that long timespan. \n",
    "\n",
    "- Does the frequency of Tom Swifty usage change over that 25 year span?\n",
    "- Did the grammatical shape of these puns change over time?\n",
    "\n",
    "So far, I wonder if he started this trend with later books? One might try by repeating the above process with some of the other Gutenberg IDs listed near the start of this exploration."
   ]
  },
  {
   "cell_type": "markdown",
   "id": "3998e981-0dbf-4bb4-ae77-e9347652273c",
   "metadata": {},
   "source": [
    "#### Candidates where someone else is the speaker\n",
    "\n",
    "> Traditionally Tom is the speaker, but this is by no means necessary for the pun to classify as a Tom Swifty. Sometimes the pun lies in the name, in which case it will usually not be Tom speaking"
   ]
  },
  {
   "cell_type": "markdown",
   "id": "205f095c-087f-4de6-8077-b7e9bddf45c9",
   "metadata": {},
   "source": [
    "#### NLP to explain the puns (when found!)\n",
    "\n",
    "Litovkin states that most adverbs inTom Swifties have either paronyms or homonyms (56). A paronym describes \"words which are linked by a similarity of form\" (Oxford Concise Dictionary of Linguistics, p288)\n",
    "\n",
    "She also says that,\n",
    "\n",
    "> either explicitly used in the statement of it or only implicitly implied. (56)\n",
    "\n",
    "\n",
    "\n",
    "\n",
    "<!-- #### Finding Paronyms -->\n",
    "<!-- A paronym is <???> -->\n",
    "\n",
    "<!-- #### Finding Homonyms -->\n",
    "<!-- A homonym is <???> -->\n",
    "\n",
    "<!-- #### Finding Homophones -->\n",
    "<!-- A homophone is <???> -->"
   ]
  },
  {
   "cell_type": "markdown",
   "id": "3aeec0aa-7587-4a6c-96ae-364bbb0f7da8",
   "metadata": {
    "editable": true,
    "slideshow": {
     "slide_type": ""
    },
    "tags": []
   },
   "source": [
    "---\n",
    "\n",
    "## Notes\n",
    "\n",
    "1. Litkovina mistakenly attributes Stratemeyer as the ghostwriter."
   ]
  }
 ],
 "metadata": {
  "kernelspec": {
   "display_name": "Python 3 (ipykernel)",
   "language": "python",
   "name": "python3"
  },
  "language_info": {
   "codemirror_mode": {
    "name": "ipython",
    "version": 3
   },
   "file_extension": ".py",
   "mimetype": "text/x-python",
   "name": "python",
   "nbconvert_exporter": "python",
   "pygments_lexer": "ipython3",
   "version": "3.11.9"
  }
 },
 "nbformat": 4,
 "nbformat_minor": 5
}
